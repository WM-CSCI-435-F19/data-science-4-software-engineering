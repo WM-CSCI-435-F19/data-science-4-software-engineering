{
 "cells": [
  {
   "cell_type": "code",
   "execution_count": null,
   "metadata": {},
   "outputs": [
    {
     "name": "stdout",
     "output_type": "stream",
     "text": [
      "Collecting codemetrics\n",
      "  Downloading codemetrics-0.9.6.tar.gz (55 kB)\n",
      "\u001b[K     |████████████████████████████████| 55 kB 1.0 MB/s eta 0:00:011\n",
      "\u001b[?25hRequirement already satisfied: numpy in /usr/local/lib/python3.6/dist-packages (from codemetrics) (1.17.1)\n",
      "Requirement already satisfied: click>=6.0 in /usr/local/lib/python3.6/dist-packages (from codemetrics) (7.1.1)\n",
      "Requirement already satisfied: pandas in /usr/local/lib/python3.6/dist-packages (from codemetrics) (1.0.3)\n",
      "Requirement already satisfied: tqdm in /usr/local/lib/python3.6/dist-packages (from codemetrics) (4.45.0)\n",
      "Requirement already satisfied: python-dateutil in /usr/local/lib/python3.6/dist-packages (from codemetrics) (2.8.0)\n",
      "Requirement already satisfied: scikit-learn in /usr/local/lib/python3.6/dist-packages (from codemetrics) (0.22.2.post1)\n",
      "Requirement already satisfied: lizard in /usr/local/lib/python3.6/dist-packages (from codemetrics) (1.17.3)\n",
      "Requirement already satisfied: pytz>=2017.2 in /usr/local/lib/python3.6/dist-packages (from pandas->codemetrics) (2019.3)\n",
      "Requirement already satisfied: six>=1.5 in /usr/lib/python3/dist-packages (from python-dateutil->codemetrics) (1.11.0)\n",
      "Requirement already satisfied: scipy>=0.17.0 in /usr/local/lib/python3.6/dist-packages (from scikit-learn->codemetrics) (1.4.1)\n",
      "Requirement already satisfied: joblib>=0.11 in /usr/local/lib/python3.6/dist-packages (from scikit-learn->codemetrics) (0.14.1)\n",
      "Building wheels for collected packages: codemetrics\n",
      "  Building wheel for codemetrics (setup.py) ... \u001b[?25ldone\n",
      "\u001b[?25h  Created wheel for codemetrics: filename=codemetrics-0.9.6-py2.py3-none-any.whl size=28080 sha256=e23664c753faeed783a7a3234b9605980ba10d8e13196b32c2ee38265bc032cb\n",
      "  Stored in directory: /root/.cache/pip/wheels/e5/5e/e6/beec95ac46274bf5a3f5e83553d6bb40b9a752c6585deff9f4\n",
      "Successfully built codemetrics\n",
      "Installing collected packages: codemetrics\n",
      "Successfully installed codemetrics-0.9.6\n",
      "\u001b[33mWARNING: You are using pip version 20.0.2; however, version 20.1.1 is available.\n",
      "You should consider upgrading via the '/usr/bin/python3 -m pip install --upgrade pip' command.\u001b[0m\n"
     ]
    }
   ],
   "source": [
    "!pip install codemetrics"
   ]
  },
  {
   "cell_type": "code",
   "execution_count": null,
   "metadata": {},
   "outputs": [],
   "source": [
    "import json\n",
    "\n",
    "import pandas as pd\n",
    "from pathlib import Path\n",
    "pd.set_option('max_colwidth',300)\n",
    "from pprint import pprint\n",
    "import re"
   ]
  },
  {
   "cell_type": "code",
   "execution_count": null,
   "metadata": {},
   "outputs": [],
   "source": [
    "java_files = sorted(Path('test_data/java/').glob('**/*.gz'))"
   ]
  },
  {
   "cell_type": "code",
   "execution_count": null,
   "metadata": {},
   "outputs": [],
   "source": [
    "columns_long_list = ['repo', 'path', 'url', 'code', \n",
    "                     'code_tokens', 'docstring', 'docstring_tokens', \n",
    "                     'language', 'partition']\n",
    "\n",
    "columns_short_list = ['code_tokens', 'docstring_tokens', \n",
    "                      'language', 'partition']\n",
    "\n",
    "def jsonl_list_to_dataframe(file_list, columns=columns_long_list):\n",
    "    \"\"\"Load a list of jsonl.gz files into a pandas DataFrame.\"\"\"\n",
    "    return pd.concat([pd.read_json(f, \n",
    "                                   orient='records', \n",
    "                                   compression='gzip',\n",
    "                                   lines=True)[columns] \n",
    "                      for f in file_list], sort=False)"
   ]
  },
  {
   "cell_type": "code",
   "execution_count": null,
   "metadata": {},
   "outputs": [],
   "source": [
    "java_df = jsonl_list_to_dataframe(java_files)"
   ]
  },
  {
   "cell_type": "code",
   "execution_count": null,
   "metadata": {},
   "outputs": [],
   "source": [
    "java_test = java_df.sample(10)"
   ]
  },
  {
   "cell_type": "code",
   "execution_count": null,
   "metadata": {},
   "outputs": [
    {
     "data": {
      "text/html": [
       "<div>\n",
       "<style scoped>\n",
       "    .dataframe tbody tr th:only-of-type {\n",
       "        vertical-align: middle;\n",
       "    }\n",
       "\n",
       "    .dataframe tbody tr th {\n",
       "        vertical-align: top;\n",
       "    }\n",
       "\n",
       "    .dataframe thead th {\n",
       "        text-align: right;\n",
       "    }\n",
       "</style>\n",
       "<table border=\"1\" class=\"dataframe\">\n",
       "  <thead>\n",
       "    <tr style=\"text-align: right;\">\n",
       "      <th></th>\n",
       "      <th>repo</th>\n",
       "      <th>path</th>\n",
       "      <th>url</th>\n",
       "      <th>code</th>\n",
       "      <th>code_tokens</th>\n",
       "      <th>docstring</th>\n",
       "      <th>docstring_tokens</th>\n",
       "      <th>language</th>\n",
       "      <th>partition</th>\n",
       "    </tr>\n",
       "  </thead>\n",
       "  <tbody>\n",
       "    <tr>\n",
       "      <th>2134</th>\n",
       "      <td>aws/aws-sdk-java</td>\n",
       "      <td>aws-java-sdk-code-generator/src/main/java/com/amazonaws/codegen/ExamplesCustomizer.java</td>\n",
       "      <td>https://github.com/aws/aws-sdk-java/blob/aa38502458969b2d13a1c3665a56aba600e4dbd0/aws-java-sdk-code-generator/src/main/java/com/amazonaws/codegen/ExamplesCustomizer.java#L61-L71</td>\n",
       "      <td>public ServiceExamples applyCustomizationsToExamples(ServiceExamples serviceExamples) {\\n        if (customizationConfig == null) return serviceExamples;\\n\\n        serviceExamples.getOperationExamples().entrySet()\\n                .forEach(e -&gt; {\\n                    String operationName = e.ge...</td>\n",
       "      <td>[public, ServiceExamples, applyCustomizationsToExamples, (, ServiceExamples, serviceExamples, ), {, if, (, customizationConfig, ==, null, ), return, serviceExamples, ;, serviceExamples, ., getOperationExamples, (, ), ., entrySet, (, ), ., forEach, (, e, -&gt;, {, String, operationName, =, e, ., get...</td>\n",
       "      <td>Apply the configured {@link CustomizationConfig} to the given service\\nexamples.\\n\\n@param serviceExamples The service examples.\\n\\n@return The customized service examples.</td>\n",
       "      <td>[Apply, the, configured, {, @link, CustomizationConfig, }, to, the, given, service, examples, .]</td>\n",
       "      <td>java</td>\n",
       "      <td>train</td>\n",
       "    </tr>\n",
       "    <tr>\n",
       "      <th>26920</th>\n",
       "      <td>aws/aws-sdk-java</td>\n",
       "      <td>aws-java-sdk-dms/src/main/java/com/amazonaws/services/databasemigrationservice/model/CreateEventSubscriptionRequest.java</td>\n",
       "      <td>https://github.com/aws/aws-sdk-java/blob/aa38502458969b2d13a1c3665a56aba600e4dbd0/aws-java-sdk-dms/src/main/java/com/amazonaws/services/databasemigrationservice/model/CreateEventSubscriptionRequest.java#L378-L385</td>\n",
       "      <td>public void setSourceIds(java.util.Collection&lt;String&gt; sourceIds) {\\n        if (sourceIds == null) {\\n            this.sourceIds = null;\\n            return;\\n        }\\n\\n        this.sourceIds = new java.util.ArrayList&lt;String&gt;(sourceIds);\\n    }</td>\n",
       "      <td>[public, void, setSourceIds, (, java, ., util, ., Collection, &lt;, String, &gt;, sourceIds, ), {, if, (, sourceIds, ==, null, ), {, this, ., sourceIds, =, null, ;, return, ;, }, this, ., sourceIds, =, new, java, ., util, ., ArrayList, &lt;, String, &gt;, (, sourceIds, ), ;, }]</td>\n",
       "      <td>&lt;p&gt;\\nThe list of identifiers of the event sources for which events will be returned. If not specified, then all\\nsources are included in the response. An identifier must begin with a letter and must contain only ASCII letters,\\ndigits, and hyphens; it cannot end with a hyphen or contain two cons...</td>\n",
       "      <td>[&lt;p, &gt;, The, list, of, identifiers, of, the, event, sources, for, which, events, will, be, returned, ., If, not, specified, then, all, sources, are, included, in, the, response, ., An, identifier, must, begin, with, a, letter, and, must, contain, only, ASCII, letters, digits, and, hyphens, ;, it...</td>\n",
       "      <td>java</td>\n",
       "      <td>train</td>\n",
       "    </tr>\n",
       "    <tr>\n",
       "      <th>3814</th>\n",
       "      <td>overturetool/overture</td>\n",
       "      <td>core/interpreter/src/main/java/org/overture/interpreter/runtime/Breakpoint.java</td>\n",
       "      <td>https://github.com/overturetool/overture/blob/83175dc6c24fa171cde4fcf61ecb648eba3bdbc1/core/interpreter/src/main/java/org/overture/interpreter/runtime/Breakpoint.java#L180-L217</td>\n",
       "      <td>public void check(ILexLocation execl, Context ctxt)\\n\\t{\\n\\t\\t// skips if breakpoint is disabled\\n\\t\\t// if(!enabled){\\n\\t\\t// return;\\n\\t\\t// }\\n\\n\\t\\tlocation.hit();\\n\\t\\thits++;\\n\\n\\t\\tThreadState state = ctxt.threadState;\\n\\n\\t\\tif (Settings.dialect != Dialect.VDM_SL)\\n\\t\\t{\\n\\t\\t\\tstate.res...</td>\n",
       "      <td>[public, void, check, (, ILexLocation, execl, ,, Context, ctxt, ), {, // skips if breakpoint is disabled, // if(!enabled){, // return;, // }, location, ., hit, (, ), ;, hits, ++, ;, ThreadState, state, =, ctxt, ., threadState, ;, if, (, Settings, ., dialect, !=, Dialect, ., VDM_SL, ), {, state, ...</td>\n",
       "      <td>Check whether to stop. The implementation in Breakpoint is used to check for the \"step\" and \"next\" commands,\\nusing the stepline, nextctxt and outctxt fields. If the current line is different to the last step line, and the\\ncurrent context is not \"above\" the next context or the current context e...</td>\n",
       "      <td>[Check, whether, to, stop, ., The, implementation, in, Breakpoint, is, used, to, check, for, the, step, and, next, commands, using, the, stepline, nextctxt, and, outctxt, fields, ., If, the, current, line, is, different, to, the, last, step, line, and, the, current, context, is, not, above, the,...</td>\n",
       "      <td>java</td>\n",
       "      <td>train</td>\n",
       "    </tr>\n",
       "    <tr>\n",
       "      <th>15992</th>\n",
       "      <td>hexagonframework/spring-data-ebean</td>\n",
       "      <td>src/main/java/org/springframework/data/ebean/repository/query/StringQuery.java</td>\n",
       "      <td>https://github.com/hexagonframework/spring-data-ebean/blob/dd11b97654982403b50dd1d5369cadad71fce410/src/main/java/org/springframework/data/ebean/repository/query/StringQuery.java#L114-L123</td>\n",
       "      <td>public ParameterBinding getBindingFor(int position) {\\r\\n\\r\\n        for (ParameterBinding binding : bindings) {\\r\\n            if (binding.hasPosition(position)) {\\r\\n                return binding;\\r\\n            }\\r\\n        }\\r\\n\\r\\n        throw new IllegalArgumentException(String.format(\"N...</td>\n",
       "      <td>[public, ParameterBinding, getBindingFor, (, int, position, ), {, for, (, ParameterBinding, binding, :, bindings, ), {, if, (, binding, ., hasPosition, (, position, ), ), {, return, binding, ;, }, }, throw, new, IllegalArgumentException, (, String, ., format, (, \"No parameter binding found for p...</td>\n",
       "      <td>Returns the {@link ParameterBinding} for the given position.\\n\\n@param position\\n@return</td>\n",
       "      <td>[Returns, the, {, @link, ParameterBinding, }, for, the, given, position, .]</td>\n",
       "      <td>java</td>\n",
       "      <td>train</td>\n",
       "    </tr>\n",
       "    <tr>\n",
       "      <th>29309</th>\n",
       "      <td>mgormley/pacaya</td>\n",
       "      <td>src/main/java/edu/jhu/pacaya/parse/cky/CkyPcfgParser.java</td>\n",
       "      <td>https://github.com/mgormley/pacaya/blob/786294cbac7cc65dbc32210c10acc32ed0c69233/src/main/java/edu/jhu/pacaya/parse/cky/CkyPcfgParser.java#L185-L208</td>\n",
       "      <td>private static final void processCellLeftChild(final CnfGrammar grammar, final Chart chart, final int start,\\n            final int end, final ChartCell cell, final Scorer scorer) {\\n        // Apply binary rules.\\n        for (int mid = start + 1; mid &lt;= end - 1; mid++) {\\n            ChartCell...</td>\n",
       "      <td>[private, static, final, void, processCellLeftChild, (, final, CnfGrammar, grammar, ,, final, Chart, chart, ,, final, int, start, ,, final, int, end, ,, final, ChartCell, cell, ,, final, Scorer, scorer, ), {, // Apply binary rules., for, (, int, mid, =, start, +, 1, ;, mid, &lt;=, end, -, 1, ;, mid...</td>\n",
       "      <td>Process a cell (binary rules only) using the left-child to constrain the set of rules we consider.\\n\\nThis follows the description in (Dunlop et al., 2010).</td>\n",
       "      <td>[Process, a, cell, (, binary, rules, only, ), using, the, left, -, child, to, constrain, the, set, of, rules, we, consider, .]</td>\n",
       "      <td>java</td>\n",
       "      <td>train</td>\n",
       "    </tr>\n",
       "  </tbody>\n",
       "</table>\n",
       "</div>"
      ],
      "text/plain": [
       "                                     repo  \\\n",
       "2134                     aws/aws-sdk-java   \n",
       "26920                    aws/aws-sdk-java   \n",
       "3814                overturetool/overture   \n",
       "15992  hexagonframework/spring-data-ebean   \n",
       "29309                     mgormley/pacaya   \n",
       "\n",
       "                                                                                                                           path  \\\n",
       "2134                                    aws-java-sdk-code-generator/src/main/java/com/amazonaws/codegen/ExamplesCustomizer.java   \n",
       "26920  aws-java-sdk-dms/src/main/java/com/amazonaws/services/databasemigrationservice/model/CreateEventSubscriptionRequest.java   \n",
       "3814                                            core/interpreter/src/main/java/org/overture/interpreter/runtime/Breakpoint.java   \n",
       "15992                                            src/main/java/org/springframework/data/ebean/repository/query/StringQuery.java   \n",
       "29309                                                                 src/main/java/edu/jhu/pacaya/parse/cky/CkyPcfgParser.java   \n",
       "\n",
       "                                                                                                                                                                                                                        url  \\\n",
       "2134                                      https://github.com/aws/aws-sdk-java/blob/aa38502458969b2d13a1c3665a56aba600e4dbd0/aws-java-sdk-code-generator/src/main/java/com/amazonaws/codegen/ExamplesCustomizer.java#L61-L71   \n",
       "26920  https://github.com/aws/aws-sdk-java/blob/aa38502458969b2d13a1c3665a56aba600e4dbd0/aws-java-sdk-dms/src/main/java/com/amazonaws/services/databasemigrationservice/model/CreateEventSubscriptionRequest.java#L378-L385   \n",
       "3814                                       https://github.com/overturetool/overture/blob/83175dc6c24fa171cde4fcf61ecb648eba3bdbc1/core/interpreter/src/main/java/org/overture/interpreter/runtime/Breakpoint.java#L180-L217   \n",
       "15992                          https://github.com/hexagonframework/spring-data-ebean/blob/dd11b97654982403b50dd1d5369cadad71fce410/src/main/java/org/springframework/data/ebean/repository/query/StringQuery.java#L114-L123   \n",
       "29309                                                                  https://github.com/mgormley/pacaya/blob/786294cbac7cc65dbc32210c10acc32ed0c69233/src/main/java/edu/jhu/pacaya/parse/cky/CkyPcfgParser.java#L185-L208   \n",
       "\n",
       "                                                                                                                                                                                                                                                                                                              code  \\\n",
       "2134   public ServiceExamples applyCustomizationsToExamples(ServiceExamples serviceExamples) {\\n        if (customizationConfig == null) return serviceExamples;\\n\\n        serviceExamples.getOperationExamples().entrySet()\\n                .forEach(e -> {\\n                    String operationName = e.ge...   \n",
       "26920                                                      public void setSourceIds(java.util.Collection<String> sourceIds) {\\n        if (sourceIds == null) {\\n            this.sourceIds = null;\\n            return;\\n        }\\n\\n        this.sourceIds = new java.util.ArrayList<String>(sourceIds);\\n    }   \n",
       "3814   public void check(ILexLocation execl, Context ctxt)\\n\\t{\\n\\t\\t// skips if breakpoint is disabled\\n\\t\\t// if(!enabled){\\n\\t\\t// return;\\n\\t\\t// }\\n\\n\\t\\tlocation.hit();\\n\\t\\thits++;\\n\\n\\t\\tThreadState state = ctxt.threadState;\\n\\n\\t\\tif (Settings.dialect != Dialect.VDM_SL)\\n\\t\\t{\\n\\t\\t\\tstate.res...   \n",
       "15992  public ParameterBinding getBindingFor(int position) {\\r\\n\\r\\n        for (ParameterBinding binding : bindings) {\\r\\n            if (binding.hasPosition(position)) {\\r\\n                return binding;\\r\\n            }\\r\\n        }\\r\\n\\r\\n        throw new IllegalArgumentException(String.format(\"N...   \n",
       "29309  private static final void processCellLeftChild(final CnfGrammar grammar, final Chart chart, final int start,\\n            final int end, final ChartCell cell, final Scorer scorer) {\\n        // Apply binary rules.\\n        for (int mid = start + 1; mid <= end - 1; mid++) {\\n            ChartCell...   \n",
       "\n",
       "                                                                                                                                                                                                                                                                                                       code_tokens  \\\n",
       "2134   [public, ServiceExamples, applyCustomizationsToExamples, (, ServiceExamples, serviceExamples, ), {, if, (, customizationConfig, ==, null, ), return, serviceExamples, ;, serviceExamples, ., getOperationExamples, (, ), ., entrySet, (, ), ., forEach, (, e, ->, {, String, operationName, =, e, ., get...   \n",
       "26920                                   [public, void, setSourceIds, (, java, ., util, ., Collection, <, String, >, sourceIds, ), {, if, (, sourceIds, ==, null, ), {, this, ., sourceIds, =, null, ;, return, ;, }, this, ., sourceIds, =, new, java, ., util, ., ArrayList, <, String, >, (, sourceIds, ), ;, }]   \n",
       "3814   [public, void, check, (, ILexLocation, execl, ,, Context, ctxt, ), {, // skips if breakpoint is disabled, // if(!enabled){, // return;, // }, location, ., hit, (, ), ;, hits, ++, ;, ThreadState, state, =, ctxt, ., threadState, ;, if, (, Settings, ., dialect, !=, Dialect, ., VDM_SL, ), {, state, ...   \n",
       "15992  [public, ParameterBinding, getBindingFor, (, int, position, ), {, for, (, ParameterBinding, binding, :, bindings, ), {, if, (, binding, ., hasPosition, (, position, ), ), {, return, binding, ;, }, }, throw, new, IllegalArgumentException, (, String, ., format, (, \"No parameter binding found for p...   \n",
       "29309  [private, static, final, void, processCellLeftChild, (, final, CnfGrammar, grammar, ,, final, Chart, chart, ,, final, int, start, ,, final, int, end, ,, final, ChartCell, cell, ,, final, Scorer, scorer, ), {, // Apply binary rules., for, (, int, mid, =, start, +, 1, ;, mid, <=, end, -, 1, ;, mid...   \n",
       "\n",
       "                                                                                                                                                                                                                                                                                                         docstring  \\\n",
       "2134                                                                                                                                  Apply the configured {@link CustomizationConfig} to the given service\\nexamples.\\n\\n@param serviceExamples The service examples.\\n\\n@return The customized service examples.   \n",
       "26920  <p>\\nThe list of identifiers of the event sources for which events will be returned. If not specified, then all\\nsources are included in the response. An identifier must begin with a letter and must contain only ASCII letters,\\ndigits, and hyphens; it cannot end with a hyphen or contain two cons...   \n",
       "3814   Check whether to stop. The implementation in Breakpoint is used to check for the \"step\" and \"next\" commands,\\nusing the stepline, nextctxt and outctxt fields. If the current line is different to the last step line, and the\\ncurrent context is not \"above\" the next context or the current context e...   \n",
       "15992                                                                                                                                                                                                                     Returns the {@link ParameterBinding} for the given position.\\n\\n@param position\\n@return   \n",
       "29309                                                                                                                                                 Process a cell (binary rules only) using the left-child to constrain the set of rules we consider.\\n\\nThis follows the description in (Dunlop et al., 2010).   \n",
       "\n",
       "                                                                                                                                                                                                                                                                                                  docstring_tokens  \\\n",
       "2134                                                                                                                                                                                                              [Apply, the, configured, {, @link, CustomizationConfig, }, to, the, given, service, examples, .]   \n",
       "26920  [<p, >, The, list, of, identifiers, of, the, event, sources, for, which, events, will, be, returned, ., If, not, specified, then, all, sources, are, included, in, the, response, ., An, identifier, must, begin, with, a, letter, and, must, contain, only, ASCII, letters, digits, and, hyphens, ;, it...   \n",
       "3814   [Check, whether, to, stop, ., The, implementation, in, Breakpoint, is, used, to, check, for, the, step, and, next, commands, using, the, stepline, nextctxt, and, outctxt, fields, ., If, the, current, line, is, different, to, the, last, step, line, and, the, current, context, is, not, above, the,...   \n",
       "15992                                                                                                                                                                                                                                  [Returns, the, {, @link, ParameterBinding, }, for, the, given, position, .]   \n",
       "29309                                                                                                                                                                               [Process, a, cell, (, binary, rules, only, ), using, the, left, -, child, to, constrain, the, set, of, rules, we, consider, .]   \n",
       "\n",
       "      language partition  \n",
       "2134      java     train  \n",
       "26920     java     train  \n",
       "3814      java     train  \n",
       "15992     java     train  \n",
       "29309     java     train  "
      ]
     },
     "execution_count": null,
     "metadata": {},
     "output_type": "execute_result"
    }
   ],
   "source": [
    "java_test.head()"
   ]
  },
  {
   "cell_type": "code",
   "execution_count": null,
   "metadata": {},
   "outputs": [
    {
     "data": {
      "text/plain": [
       "'public void setSourceIds(java.util.Collection<String> sourceIds) {\\n        if (sourceIds == null) {\\n            this.sourceIds = null;\\n            return;\\n        }\\n\\n        this.sourceIds = new java.util.ArrayList<String>(sourceIds);\\n    }'"
      ]
     },
     "execution_count": null,
     "metadata": {},
     "output_type": "execute_result"
    }
   ],
   "source": [
    "java_test['code'][26920]"
   ]
  },
  {
   "cell_type": "code",
   "execution_count": null,
   "metadata": {},
   "outputs": [],
   "source": [
    "import codemetrics as cm"
   ]
  },
  {
   "cell_type": "code",
   "execution_count": null,
   "metadata": {},
   "outputs": [
    {
     "name": "stdout",
     "output_type": "stream",
     "text": [
      "Requirement already satisfied: radon in /usr/local/lib/python3.6/dist-packages (4.1.0)\n",
      "Requirement already satisfied: flake8-polyfill in /usr/local/lib/python3.6/dist-packages (from radon) (1.0.2)\n",
      "Requirement already satisfied: colorama==0.4.1 in /usr/local/lib/python3.6/dist-packages (from radon) (0.4.1)\n",
      "Requirement already satisfied: future in /usr/local/lib/python3.6/dist-packages (from radon) (0.18.2)\n",
      "Requirement already satisfied: mando<0.7,>=0.6 in /usr/local/lib/python3.6/dist-packages (from radon) (0.6.4)\n",
      "Requirement already satisfied: flake8 in /usr/local/lib/python3.6/dist-packages (from flake8-polyfill->radon) (3.8.3)\n",
      "Requirement already satisfied: six in /usr/lib/python3/dist-packages (from mando<0.7,>=0.6->radon) (1.11.0)\n",
      "Requirement already satisfied: mccabe<0.7.0,>=0.6.0 in /usr/local/lib/python3.6/dist-packages (from flake8->flake8-polyfill->radon) (0.6.1)\n",
      "Requirement already satisfied: pycodestyle<2.7.0,>=2.6.0a1 in /usr/local/lib/python3.6/dist-packages (from flake8->flake8-polyfill->radon) (2.6.0)\n",
      "Requirement already satisfied: importlib-metadata; python_version < \"3.8\" in /usr/local/lib/python3.6/dist-packages (from flake8->flake8-polyfill->radon) (1.6.1)\n",
      "Requirement already satisfied: pyflakes<2.3.0,>=2.2.0 in /usr/local/lib/python3.6/dist-packages (from flake8->flake8-polyfill->radon) (2.2.0)\n",
      "Requirement already satisfied: zipp>=0.5 in /usr/local/lib/python3.6/dist-packages (from importlib-metadata; python_version < \"3.8\"->flake8->flake8-polyfill->radon) (3.1.0)\n",
      "\u001b[33mWARNING: You are using pip version 20.0.2; however, version 20.1.1 is available.\n",
      "You should consider upgrading via the '/usr/bin/python3 -m pip install --upgrade pip' command.\u001b[0m\n"
     ]
    }
   ],
   "source": [
    "!pip install radon"
   ]
  },
  {
   "cell_type": "code",
   "execution_count": null,
   "metadata": {},
   "outputs": [
    {
     "name": "stdout",
     "output_type": "stream",
     "text": [
      "Collecting metrics\n",
      "  Downloading metrics-0.3.3.tar.gz (18 kB)\n",
      "Collecting Pygments==2.2.0\n",
      "  Downloading Pygments-2.2.0-py2.py3-none-any.whl (841 kB)\n",
      "\u001b[K     |████████████████████████████████| 841 kB 5.5 MB/s eta 0:00:01\n",
      "\u001b[?25hCollecting pathspec==0.5.5\n",
      "  Downloading pathspec-0.5.5.tar.gz (21 kB)\n",
      "Collecting pathlib2>=2.3.0\n",
      "  Downloading pathlib2-2.3.5-py2.py3-none-any.whl (18 kB)\n",
      "Requirement already satisfied: six in /usr/lib/python3/dist-packages (from pathlib2>=2.3.0->metrics) (1.11.0)\n",
      "Building wheels for collected packages: metrics, pathspec\n",
      "  Building wheel for metrics (setup.py) ... \u001b[?25ldone\n",
      "\u001b[?25h  Created wheel for metrics: filename=metrics-0.3.3-py2.py3-none-any.whl size=21630 sha256=7b91941ad67cd8e10cbd124398fe4e61566ec018adeea43ea1d918f8f407a707\n",
      "  Stored in directory: /root/.cache/pip/wheels/4b/ae/0a/4580500bf20b0bba431c3f5eb11aabf0d8d46ded2c493b45d5\n",
      "  Building wheel for pathspec (setup.py) ... \u001b[?25ldone\n",
      "\u001b[?25h  Created wheel for pathspec: filename=pathspec-0.5.5-py3-none-any.whl size=22215 sha256=b6353b3f760c4415b6f0feb8abf54c52b1739609d8edde1d3c3d978e68bcea3d\n",
      "  Stored in directory: /root/.cache/pip/wheels/0c/01/e5/cb28cf959e8a5cb9969cd05a90fb3443602dcd000c288e65f0\n",
      "Successfully built metrics pathspec\n",
      "Installing collected packages: Pygments, pathspec, pathlib2, metrics\n",
      "  Attempting uninstall: Pygments\n",
      "    Found existing installation: Pygments 2.4.2\n",
      "    Uninstalling Pygments-2.4.2:\n",
      "      Successfully uninstalled Pygments-2.4.2\n",
      "Successfully installed Pygments-2.2.0 metrics-0.3.3 pathlib2-2.3.5 pathspec-0.5.5\n",
      "\u001b[33mWARNING: You are using pip version 20.0.2; however, version 20.1.1 is available.\n",
      "You should consider upgrading via the '/usr/bin/python3 -m pip install --upgrade pip' command.\u001b[0m\n",
      "Note: you may need to restart the kernel to use updated packages.\n"
     ]
    }
   ],
   "source": [
    "!pip install metrics"
   ]
  },
  {
   "cell_type": "code",
   "execution_count": null,
   "metadata": {},
   "outputs": [],
   "source": [
    "from radon.raw import analyze"
   ]
  },
  {
   "cell_type": "code",
   "execution_count": null,
   "metadata": {},
   "outputs": [
    {
     "data": {
      "text/plain": [
       "Module(loc=9, lloc=5, sloc=8, comments=0, multi=0, blank=1, single_comments=0)"
      ]
     },
     "execution_count": null,
     "metadata": {},
     "output_type": "execute_result"
    }
   ],
   "source": [
    "analyze(\"\"\"//test function\\npublic void setSourceIds(java.util.Collection<String> sourceIds) {\\n if (sourceIds == null) {\\n this.sourceIds = null;\\n return;\\n }\\n\\n this.sourceIds = new java.util.ArrayList<String>(sourceIds);\\n }\"\"\")"
   ]
  },
  {
   "cell_type": "code",
   "execution_count": null,
   "metadata": {},
   "outputs": [],
   "source": [
    "import metrics"
   ]
  },
  {
   "cell_type": "code",
   "execution_count": null,
   "metadata": {},
   "outputs": [
    {
     "data": {
      "text/plain": [
       "['METRICS_FILENAME',\n",
       " '__builtins__',\n",
       " '__cached__',\n",
       " '__doc__',\n",
       " '__file__',\n",
       " '__loader__',\n",
       " '__name__',\n",
       " '__package__',\n",
       " '__path__',\n",
       " '__spec__',\n",
       " '__version__',\n",
       " 'unicode_literals']"
      ]
     },
     "execution_count": null,
     "metadata": {},
     "output_type": "execute_result"
    }
   ],
   "source": [
    "dir(metrics)"
   ]
  },
  {
   "cell_type": "code",
   "execution_count": null,
   "metadata": {},
   "outputs": [],
   "source": [
    "from metrics import sloc"
   ]
  },
  {
   "cell_type": "code",
   "execution_count": null,
   "metadata": {},
   "outputs": [],
   "source": [
    "import metrics"
   ]
  },
  {
   "cell_type": "code",
   "execution_count": null,
   "metadata": {},
   "outputs": [
    {
     "name": "stdout",
     "output_type": "stream",
     "text": [
      "Help on module metrics.sloc in metrics:\n",
      "\n",
      "NAME\n",
      "    metrics.sloc\n",
      "\n",
      "DESCRIPTION\n",
      "    Source Lines of Code (SLOC)\n",
      "    This type of metric counts the lines but excludes empty lines and comments.\n",
      "    In literature this is also referred as physical lines of code.\n",
      "\n",
      "CLASSES\n",
      "    metrics.metricbase.MetricBase(builtins.object)\n",
      "        SLOCMetric\n",
      "    \n",
      "    class SLOCMetric(metrics.metricbase.MetricBase)\n",
      "     |  Compute the SLOC Metric for the whole source file.\n",
      "     |  \n",
      "     |  Method resolution order:\n",
      "     |      SLOCMetric\n",
      "     |      metrics.metricbase.MetricBase\n",
      "     |      builtins.object\n",
      "     |  \n",
      "     |  Methods defined here:\n",
      "     |  \n",
      "     |  __init__(self, context)\n",
      "     |      Initialize self.  See help(type(self)) for accurate signature.\n",
      "     |  \n",
      "     |  display_header(self)\n",
      "     |      Display header for SLOC metric\n",
      "     |  \n",
      "     |  display_metrics(self, metrics)\n",
      "     |      Display Source Lines of Code metric (SLOC)\n",
      "     |  \n",
      "     |  display_separator(self)\n",
      "     |      Display separator for SLOC metric\n",
      "     |  \n",
      "     |  get_metrics(self)\n",
      "     |      Calculate ratio_comment_to_code and return with the other values\n",
      "     |  \n",
      "     |  process_token(self, tok)\n",
      "     |      count comments and non-empty lines that contain code\n",
      "     |  \n",
      "     |  reset(self)\n",
      "     |      Reset metric counter.\n",
      "     |  \n",
      "     |  ----------------------------------------------------------------------\n",
      "     |  Data descriptors defined here:\n",
      "     |  \n",
      "     |  metrics\n",
      "     |      Calculate ratio_comment_to_code and return with the other values\n",
      "     |  \n",
      "     |  ----------------------------------------------------------------------\n",
      "     |  Methods inherited from metrics.metricbase.MetricBase:\n",
      "     |  \n",
      "     |  process_file(self, language, key, token_list)\n",
      "     |      Initiate processing for each token.\n",
      "     |      \n",
      "     |      Override this if you want tt control the processing of the tokens yourself.\n",
      "     |  \n",
      "     |  ----------------------------------------------------------------------\n",
      "     |  Data descriptors inherited from metrics.metricbase.MetricBase:\n",
      "     |  \n",
      "     |  __dict__\n",
      "     |      dictionary for instance variables (if defined)\n",
      "     |  \n",
      "     |  __weakref__\n",
      "     |      list of weak references to the object (if defined)\n",
      "\n",
      "DATA\n",
      "    print_function = _Feature((2, 6, 0, 'alpha', 2), (3, 0, 0, 'alpha', 0)...\n",
      "    token_types = ['Keyword', 'Name', 'Punctuation', 'Operator', 'Literal'...\n",
      "    unicode_literals = _Feature((2, 6, 0, 'alpha', 2), (3, 0, 0, 'alpha', ...\n",
      "\n",
      "FILE\n",
      "    /usr/local/lib/python3.6/dist-packages/metrics/sloc.py\n",
      "\n",
      "\n"
     ]
    }
   ],
   "source": [
    "help(sloc)"
   ]
  }
 ],
 "metadata": {
  "kernelspec": {
   "display_name": "Python 3",
   "language": "python",
   "name": "python3"
  }
 },
 "nbformat": 4,
 "nbformat_minor": 2
}
