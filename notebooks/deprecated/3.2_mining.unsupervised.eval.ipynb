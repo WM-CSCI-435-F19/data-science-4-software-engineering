{
 "cells": [
  {
   "cell_type": "code",
   "execution_count": null,
   "metadata": {},
   "outputs": [],
   "source": [
    "# default_exp mining.unsupervised.eval"
   ]
  },
  {
   "cell_type": "markdown",
   "metadata": {},
   "source": [
    "# Evaluating Neural Unsupervised Approaches for SE Traceability\n",
    "\n",
    "> This module is dedicated to evaluate word2vec/doc2vec or any neural unsupervised approaches on traceability datasets. Consider to Copy the entire notebook for a new and separeted empirical evaluation. \n",
    ">\n",
    "> Author: @danaderp April 2020"
   ]
  },
  {
   "cell_type": "code",
   "execution_count": null,
   "metadata": {},
   "outputs": [],
   "source": [
    "#TODO\n",
    "# http://www.ashukumar27.io/similarity_functions/\n",
    "# https://www.kdnuggets.com/2017/08/comparing-distance-measurements-python-scipy.html\n",
    "# https://towardsdatascience.com/importance-of-distance-metrics-in-machine-learning-modelling-e51395ffe60d\n",
    "# https://www.kdnuggets.com/2019/01/comparison-text-distance-metrics.html"
   ]
  },
  {
   "cell_type": "code",
   "execution_count": null,
   "metadata": {},
   "outputs": [
    {
     "name": "stderr",
     "output_type": "stream",
     "text": [
      "unable to import 'smart_open.gcs', disabling that module\n"
     ]
    }
   ],
   "source": [
    "# export\n",
    "# Imports\n",
    "import numpy as np\n",
    "import gensim\n",
    "import pandas as pd\n",
    "from itertools import product \n",
    "from random import sample \n",
    "import functools \n",
    "import os"
   ]
  },
  {
   "cell_type": "code",
   "execution_count": null,
   "metadata": {},
   "outputs": [],
   "source": [
    "from datetime import datetime\n",
    "import seaborn as sns"
   ]
  },
  {
   "cell_type": "code",
   "execution_count": null,
   "metadata": {},
   "outputs": [],
   "source": [
    "#export\n",
    "import logging\n",
    "logging.basicConfig(format='%(asctime)s : %(levelname)s : %(message)s', level=logging.INFO)"
   ]
  },
  {
   "cell_type": "code",
   "execution_count": null,
   "metadata": {},
   "outputs": [],
   "source": [
    "from sklearn.metrics import precision_recall_curve\n",
    "from sklearn.metrics import plot_precision_recall_curve\n",
    "from sklearn.metrics import auc\n",
    "import matplotlib.pyplot as plt\n",
    "from prg import prg\n",
    "from pandas.plotting import scatter_matrix\n",
    "from pandas.plotting import lag_plot\n",
    "import math as m\n",
    "import random as r\n",
    "import collections\n",
    "from sklearn.metrics.pairwise import cosine_similarity"
   ]
  },
  {
   "cell_type": "code",
   "execution_count": null,
   "metadata": {},
   "outputs": [],
   "source": [
    "from gensim.models import WordEmbeddingSimilarityIndex\n",
    "from gensim.similarities import SparseTermSimilarityMatrix\n",
    "from gensim import corpora"
   ]
  },
  {
   "cell_type": "code",
   "execution_count": null,
   "metadata": {},
   "outputs": [],
   "source": [
    "#https://docs.scipy.org/doc/scipy/reference/generated/scipy.spatial.distance.cosine.html\n",
    "from scipy.spatial import distance\n",
    "from scipy.stats import pearsonr"
   ]
  },
  {
   "cell_type": "code",
   "execution_count": null,
   "metadata": {},
   "outputs": [],
   "source": [
    "from sklearn.metrics import average_precision_score\n",
    "from sklearn.metrics import roc_curve\n",
    "from sklearn.metrics import roc_auc_score\n",
    "from sklearn.metrics import confusion_matrix"
   ]
  },
  {
   "cell_type": "code",
   "execution_count": null,
   "metadata": {},
   "outputs": [],
   "source": [
    "#hide\n",
    "#!pip install pyemd\n",
    "!pip install pyprg\n",
    "!pip install seaborn"
   ]
  },
  {
   "cell_type": "markdown",
   "metadata": {},
   "source": [
    "# Artifacts Similarity with BasicSequenceVectorization\n",
    "\n",
    "We test diferent similarities based on [blog](https://www.kdnuggets.com/2017/08/comparing-distance-measurements-python-scipy.html) and [blog2](https://www.kdnuggets.com/2019/01/comparison-text-distance-metrics.html)"
   ]
  },
  {
   "cell_type": "code",
   "execution_count": null,
   "metadata": {},
   "outputs": [],
   "source": [
    "from enum import Enum, unique, auto"
   ]
  },
  {
   "cell_type": "code",
   "execution_count": null,
   "metadata": {},
   "outputs": [],
   "source": [
    "@unique\n",
    "class VectorizationType(Enum):\n",
    "    word2vec = auto()\n",
    "    doc2vec = auto()\n",
    "    vsm2vec = auto()"
   ]
  },
  {
   "cell_type": "code",
   "execution_count": null,
   "metadata": {},
   "outputs": [],
   "source": [
    "@unique\n",
    "class LinkType(Enum):\n",
    "    req2tc = auto()\n",
    "    req2src = auto()"
   ]
  },
  {
   "cell_type": "code",
   "execution_count": null,
   "metadata": {},
   "outputs": [],
   "source": [
    "@unique\n",
    "class DistanceMetric(Enum):\n",
    "    WMD = auto()\n",
    "    COS = auto()\n",
    "    SCM = auto()\n",
    "    EUC = auto()\n",
    "    MAN = auto()"
   ]
  },
  {
   "cell_type": "code",
   "execution_count": null,
   "metadata": {},
   "outputs": [],
   "source": [
    "@unique\n",
    "class SimilarityMetric(Enum):\n",
    "    WMD_sim = auto()\n",
    "    COS_sim = auto()\n",
    "    SCM_sim = auto()\n",
    "    EUC_sim = auto()\n",
    "    MAN_sim = auto()\n",
    "    Pearson = auto()"
   ]
  },
  {
   "cell_type": "code",
   "execution_count": null,
   "metadata": {},
   "outputs": [],
   "source": [
    "'''\n",
    "return: returns default paramaters\n",
    "'''\n",
    "def default_params():\n",
    "    return {\n",
    "        \"vectorizationType\": VectorizationType.word2vec,\n",
    "        \"linkType\": LinkType.req2tc,\n",
    "        \"system\": 'libest',\n",
    "        \"path_to_trained_model\": 'test_data/models/word2vec_libest.model',\n",
    "        \"source_path\": '/tf/main/benchmarking/traceability/testbeds/nltk/[libest-pre-req].csv',\n",
    "        \"target_path\": '/tf/main/benchmarking/traceability/testbeds/nltk/[libest-pre-tc].csv',\n",
    "        \"system_path\": '/tf/main/benchmarking/traceability/testbeds/nltk/[libest-pre-all].csv',\n",
    "        \"saving_path\": 'test_data/',\n",
    "        \"names\": ['Source','Target','Linked?']\n",
    "    }"
   ]
  },
  {
   "cell_type": "markdown",
   "metadata": {},
   "source": [
    "### Defining BasicSequenceVectorization"
   ]
  },
  {
   "cell_type": "code",
   "execution_count": null,
   "metadata": {},
   "outputs": [
    {
     "data": {
      "text/plain": [
       "{'vectorizationType': <VectorizationType.word2vec: 1>,\n",
       " 'linkType': <LinkType.req2tc: 1>,\n",
       " 'system': 'libest',\n",
       " 'path_to_trained_model': 'test_data/models/word2vec_libest.model',\n",
       " 'source_path': '/tf/main/benchmarking/traceability/testbeds/nltk/[libest-pre-req].csv',\n",
       " 'target_path': '/tf/main/benchmarking/traceability/testbeds/nltk/[libest-pre-tc].csv',\n",
       " 'system_path': '/tf/main/benchmarking/traceability/testbeds/nltk/[libest-pre-all].csv',\n",
       " 'saving_path': 'test_data/',\n",
       " 'names': ['Source', 'Target', 'Linked?']}"
      ]
     },
     "execution_count": null,
     "metadata": {},
     "output_type": "execute_result"
    }
   ],
   "source": [
    "parameters = default_params()\n",
    "parameters"
   ]
  },
  {
   "cell_type": "code",
   "execution_count": null,
   "metadata": {},
   "outputs": [],
   "source": [
    "#tst\n",
    "print(list(VectorizationType), list(DistanceMetric), list(SimilarityMetric), list(LinkType))"
   ]
  },
  {
   "cell_type": "code",
   "execution_count": null,
   "metadata": {},
   "outputs": [],
   "source": [
    "#export\n",
    "class BasicSequenceVectorization():\n",
    "    '''Implementation of the class sequence-vanilla-vectorization other classes can inheritance this one'''\n",
    "    def __init__(self, params):\n",
    "                \n",
    "        self.df_source = pd.read_csv(params['source_path'], names=['ids', 'text'], header=None, sep=' ')\n",
    "        self.df_target = pd.read_csv(params['target_path'], names=['ids', 'text'], header=None, sep=' ')\n",
    "        self.df_all_system = pd.read_csv(params['system_path'], names=['ids', 'text'], \n",
    "                                         header=0, index_col=0, sep=',')\n",
    "        self.params = params\n",
    "        self.df_nonground_link = None\n",
    "        self.df_ground_link = None\n",
    "        \n",
    "        self.documents = [doc.split() for doc in self.df_all_system['text'].values] #Preparing Corpus\n",
    "        self.dictionary = corpora.Dictionary( self.documents ) #Preparing Dictionary\n",
    "        \n",
    "        \n",
    "        #This can be extended for future metrics <---------------------\n",
    "        self.dict_labels = {\n",
    "            DistanceMetric.COS:[DistanceMetric.COS, SimilarityMetric.COS_sim],\n",
    "            SimilarityMetric.Pearson:[SimilarityMetric.Pearson],\n",
    "            DistanceMetric.EUC:[DistanceMetric.EUC, SimilarityMetric.EUC_sim],\n",
    "            DistanceMetric.WMD:[DistanceMetric.WMD, SimilarityMetric.WMD_sim],\n",
    "            DistanceMetric.SCM:[DistanceMetric.SCM, SimilarityMetric.SCM_sim],\n",
    "            DistanceMetric.MAN:[DistanceMetric.MAN, SimilarityMetric.MAN_sim]\n",
    "        }\n",
    "\n",
    "    '''\n",
    "    Method to compute ground truth\n",
    "    \n",
    "    :param param1: file path to ground truth file\n",
    "    :returns: ground links in a single list\n",
    "    '''\n",
    "    def ground_truth_processing(self, path_to_ground_truth):\n",
    "        'Optional class when corpus has ground truth'\n",
    "        ground_truth = open(path_to_ground_truth,'r')\n",
    "        #Organizing The Ground Truth under the given format\n",
    "        ground_links = [ [(line.strip().split()[0], elem) for elem in line.strip().split()[1:]] for line in ground_truth]\n",
    "        ground_links = functools.reduce(lambda a,b : a+b,ground_links) #reducing into one list\n",
    "        assert len(ground_links) ==  len(set(ground_links)) #To Verify Redundancies in the file\n",
    "        return ground_links\n",
    "    \n",
    "    def samplingLinks(self, sampling = False, samples = 10):\n",
    "        source = [os.path.basename(elem) for elem in self.df_source['ids'].values ] \n",
    "        target = [os.path.basename(elem) for elem in self.df_target['ids'].values ]\n",
    "\n",
    "        if sampling:\n",
    "            links = sample( list( product( source , target ) ), samples)\n",
    "        else:\n",
    "            links = list( product( source , target ))\n",
    "\n",
    "        return links\n",
    "    \n",
    "    '''\n",
    "    Computes cosine between vectors\n",
    "    \n",
    "    :param vector_v: first vector\n",
    "    :param vector_w: second vector\n",
    "    :returns: list of cos and inverse\n",
    "    '''\n",
    "    \n",
    "    def cos_scipy(self, vector_v, vector_w):\n",
    "        cos =  distance.cosine( vector_v, vector_w )\n",
    "        return [cos, 1.-cos]\n",
    "    \n",
    "    \n",
    "    '''\n",
    "    Computes euclidean distance between vectors\n",
    "    \n",
    "    :param vector_v: first vector\n",
    "    :param vector_w: second vector\n",
    "    :returns: list of distance and inverse\n",
    "    '''\n",
    "    def euclidean_scipy(self, vector_v, vector_w):\n",
    "        dst = distance.euclidean(vector_v,vector_w)\n",
    "        return [dst, 1./(1.+dst)] #Computing the inverse for similarity\n",
    "    \n",
    "    \n",
    "    '''\n",
    "    Computes manhattan distance between vectors\n",
    "    \n",
    "    :param vector_v: first vector\n",
    "    :param vector_w: second vector\n",
    "    :returns: list of distance and inverse\n",
    "    '''\n",
    "    def manhattan_scipy(self, vector_v, vector_w):\n",
    "        dst = distance.cityblock(vector_v,vector_w)\n",
    "        n = len(vector_v)\n",
    "        return [dst, 1./(1.+dst)] #Computing the inverse for similarity\n",
    "    \n",
    "    \n",
    "    def pearson_abs_scipy(self, vector_v, vector_w):\n",
    "        '''We are not sure that pearson correlation works well on doc2vec inference vectors'''\n",
    "        corr, _ = pearsonr(x, y)\n",
    "        return [abs(corr)] #Absolute value of the correlation\n",
    "    \n",
    "\n",
    "    def computeDistanceMetric(self, links, metric_list):\n",
    "        '''Metric List Iteration''' \n",
    "        \n",
    "        metric_labels = [ self.dict_labels[metric] for metric in metric_list] #tracking of the labels\n",
    "        distSim = [[link[0], link[1], self.distance( metric_list, link )] for link in links] #Return the link with metrics\n",
    "        distSim = [[elem[0], elem[1]] + elem[2] for elem in distSim] #Return the link with metrics\n",
    "        \n",
    "        return distSim, functools.reduce(lambda a,b : a+b, metric_labels)\n",
    "    \n",
    "    def ComputeDistanceArtifacts(self, metric_list, sampling = False , samples = 10):\n",
    "        '''Acticates Distance and Similarity Computations\n",
    "        @metric_list if [] then Computes All metrics\n",
    "        @sampling is False by the default\n",
    "        @samples is the number of samples (or links) to be generated'''\n",
    "        links_ = self.samplingLinks( sampling, samples )\n",
    "        \n",
    "        docs, metric_labels = self.computeDistanceMetric( metric_list=metric_list, links=links_) #checkpoints\n",
    "        self.df_nonground_link = pd.DataFrame(docs, columns =[self.params['names'][0], self.params['names'][1]]+ metric_labels) #Transforming into a Pandas\n",
    "        logging.info(\"Non-groundtruth links computed\")\n",
    "        pass \n",
    "    \n",
    "    \n",
    "    def SaveLinks(self, grtruth=False, sep=' ', mode='a'):\n",
    "        timestamp = datetime.timestamp(datetime.now())\n",
    "        path_to_link = self.params['saving_path'] + '['+ self.params['system'] + '-' + str(self.params['vectorizationType']) + '-' + str(self.params['linkType']) + '-' + str(grtruth) + '-{}].csv'.format(timestamp)\n",
    "        \n",
    "        if grtruth:\n",
    "            self.df_ground_link.to_csv(path_to_link, header=True, index=True, sep=sep, mode=mode)\n",
    "        else:\n",
    "            self.df_nonground_link.to_csv(path_to_link, header=True, index=True, sep=sep, mode=mode)\n",
    "        \n",
    "        logging.info('Saving in...' + path_to_link)\n",
    "        pass\n",
    "    \n",
    "    def findDistInDF(self, g_tuple):\n",
    "        dist = self.df_ground_link[self.df_ground_link[self.params['names'][0]].str.contains( g_tuple[0][:g_tuple[0].find('.')] + '-' ) \n",
    "                     & self.df_ground_link[self.params['names'][1]].str.contains(g_tuple[1][:g_tuple[1].find('.')]) ]        \n",
    "        return dist.index.values\n",
    "        \n",
    "    def MatchWithGroundTruth(self, path_to_ground_truth ):\n",
    "        self.df_ground_link = self.df_nonground_link.copy()\n",
    "        \n",
    "        matchGT = [ self.findDistInDF( g ) for g in self.ground_truth_processing(path_to_ground_truth)]\n",
    "        matchGT = functools.reduce(lambda a,b : np.concatenate([a,b]), matchGT)\n",
    "        \n",
    "        self.df_ground_link[self.params['names'][2]] = 0\n",
    "        new_column = pd.Series(np.full([len(matchGT)], 1 ), name=self.params['names'][2], index = matchGT)\n",
    "        self.df_ground_link.update(new_column)\n",
    "        logging.info(\"Groundtruth links computed\")\n",
    "        \n",
    "        pass"
   ]
  },
  {
   "cell_type": "markdown",
   "metadata": {},
   "source": [
    "### Testing BasicSequenceVectorization"
   ]
  },
  {
   "cell_type": "code",
   "execution_count": null,
   "metadata": {},
   "outputs": [],
   "source": [
    "general2vec =  BasicSequenceVectorization(params = parameters)"
   ]
  },
  {
   "cell_type": "markdown",
   "metadata": {},
   "source": [
    "# Artifacts Similarity with Word2Vec"
   ]
  },
  {
   "cell_type": "code",
   "execution_count": null,
   "metadata": {},
   "outputs": [],
   "source": [
    "#export\n",
    "class Word2VecSeqVect(BasicSequenceVectorization):       \n",
    "    \n",
    "    def __init__(self, params):\n",
    "        super().__init__(params)\n",
    "        self.new_model = gensim.models.Word2Vec.load( params['path_to_trained_model'] )\n",
    "        self.new_model.init_sims(replace=True)  # Normalizes the vectors in the word2vec class.\n",
    "        #Computes cosine similarities between word embeddings and retrieves the closest \n",
    "        #word embeddings by cosine similarity for a given word embedding.\n",
    "        self.similarity_index = WordEmbeddingSimilarityIndex(self.new_model.wv)\n",
    "        #Build a term similarity matrix and compute the Soft Cosine Measure.\n",
    "        self.similarity_matrix = SparseTermSimilarityMatrix(self.similarity_index, self.dictionary)\n",
    "        \n",
    "        self.dict_distance_dispatcher = {\n",
    "            DistanceMetric.COS: self.cos_scipy,\n",
    "            SimilarityMetric.Pearson: self.pearson_abs_scipy,\n",
    "            DistanceMetric.WMD: self.wmd_gensim,\n",
    "            DistanceMetric.SCM: self.scm_gensim\n",
    "        }\n",
    "    \n",
    "    def wmd_gensim(self, sentence_a, sentence_b ):\n",
    "        wmd = self.new_model.wv.wmdistance(sentence_a, sentence_b)\n",
    "        return [wmd, self.wmd_similarity(wmd)]\n",
    "    \n",
    "    def wmd_similarity(self, dist):\n",
    "        return 1./( 1.+float( dist ) ) #Associated Similarity\n",
    "    \n",
    "    def scm_gensim(self, sentence_a, sentence_b ):\n",
    "        '''Compute SoftCosine Similarity of Gensim'''\n",
    "        #Convert the sentences into bag-of-words vectors.\n",
    "        sentence_1 = self.dictionary.doc2bow(sentence_a)\n",
    "        sentence_2 = self.dictionary.doc2bow(sentence_b)\n",
    "        \n",
    "        #Return the inner product(s) between real vectors / corpora vec1 and vec2 expressed in a non-orthogonal normalized basis,\n",
    "        #where the dot product between the basis vectors is given by the sparse term similarity matrix.\n",
    "        scm_similarity = self.similarity_matrix.inner_product(sentence_1, sentence_2, normalized=True)\n",
    "        return [1-scm_similarity, scm_similarity]\n",
    "    \n",
    "    def distance(self, metric_list,link):\n",
    "        '''Iterate on the metrics'''\n",
    "        #Computation of sentences can be moved directly to wmd_gensim method if we cannot generalize it for \n",
    "        #the remaining metrics\n",
    "        sentence_a = self.df_source[self.df_source['ids'].str.contains(link[0])]['text'].values[0].split()\n",
    "        sentence_b = self.df_target[self.df_target['ids'].str.contains(link[1])]['text'].values[0].split()\n",
    "        \n",
    "        dist = [ self.dict_distance_dispatcher[metric](sentence_a,sentence_b) for metric in metric_list]\n",
    "        logging.info(\"Computed distances or similarities \"+ str(link) + str(dist))    \n",
    "        return functools.reduce(lambda a,b : a+b, dist) #Always return a list\n"
   ]
  },
  {
   "cell_type": "code",
   "execution_count": null,
   "metadata": {},
   "outputs": [],
   "source": [
    "#export\n",
    "def LoadLinks(timestamp, params, grtruth=False, sep=' ' ):\n",
    "    '''Returns a pandas from a saved link computation at a give timestamp\n",
    "    @timestamp is the version of the model for a given system'''\n",
    "    \n",
    "    path= params['saving_path'] + '['+ params['system'] + '-' + str(params['vectorizationType']) + '-' + str(params['linkType']) + '-' + str(grtruth) + '-{}].csv'.format(timestamp)\n",
    "    \n",
    "    logging.info(\"Loading computed links from... \"+ path)\n",
    "\n",
    "    return pd.read_csv(path, header=0, index_col=0, sep=sep)"
   ]
  },
  {
   "cell_type": "markdown",
   "metadata": {},
   "source": [
    "### Testing Word2Vec SequenceVectorization"
   ]
  },
  {
   "cell_type": "code",
   "execution_count": null,
   "metadata": {},
   "outputs": [
    {
     "data": {
      "text/plain": [
       "(1, 3, 4, 4, 5, 1, 8, 9, 7)"
      ]
     },
     "execution_count": null,
     "metadata": {},
     "output_type": "execute_result"
    }
   ],
   "source": [
    "#hide\n",
    "#tst\n",
    "metric_list = ['a','b']\n",
    "A = [[1,3,4],[4,5],[1,8,9,7]]\n",
    "B = ((1,3,4),(4,5),(1,8,9,7))\n",
    "functools.reduce(lambda a,b : a+b, B)\n",
    "dist_sim_T = [([12,13],['metric1','metric2']),([12,13],['metric1','metric2'])]\n",
    "dist_sim_T\n",
    "separated_merged_list_a = functools.reduce(lambda a,b : a[1]+b[1], dist_sim_T)\n",
    "separated_merged_list_a"
   ]
  },
  {
   "cell_type": "code",
   "execution_count": null,
   "metadata": {},
   "outputs": [
    {
     "name": "stderr",
     "output_type": "stream",
     "text": [
      "2020-06-10 20:24:45,908 : INFO : adding document #0 to Dictionary(0 unique tokens: [])\n",
      "2020-06-10 20:24:45,965 : INFO : built Dictionary(6957 unique tokens: ['\");', '\"../../', '(\"\\\\', '();', ')))']...) from 87 documents (total 88944 corpus positions)\n",
      "2020-06-10 20:24:45,966 : INFO : loading Word2Vec object from test_data/models/word2vec_libest.model\n",
      "2020-06-10 20:24:46,013 : INFO : loading wv recursively from test_data/models/word2vec_libest.model.wv.* with mmap=None\n",
      "2020-06-10 20:24:46,014 : INFO : setting ignored attribute vectors_norm to None\n",
      "2020-06-10 20:24:46,015 : INFO : loading vocabulary recursively from test_data/models/word2vec_libest.model.vocabulary.* with mmap=None\n",
      "2020-06-10 20:24:46,016 : INFO : loading trainables recursively from test_data/models/word2vec_libest.model.trainables.* with mmap=None\n",
      "2020-06-10 20:24:46,017 : INFO : setting ignored attribute cum_table to None\n",
      "2020-06-10 20:24:46,018 : INFO : loaded test_data/models/word2vec_libest.model\n",
      "2020-06-10 20:24:46,036 : INFO : precomputing L2-norms of word weight vectors\n",
      "2020-06-10 20:24:46,039 : INFO : constructing a sparse term similarity matrix using <gensim.models.keyedvectors.WordEmbeddingSimilarityIndex object at 0x7f33c39aab70>\n",
      "2020-06-10 20:24:46,040 : INFO : iterating over columns in dictionary order\n",
      "2020-06-10 20:24:46,046 : INFO : PROGRESS: at 0.01% columns (1 / 6957, 0.014374% density, 0.014374% projected density)\n",
      "2020-06-10 20:24:49,789 : INFO : PROGRESS: at 14.39% columns (1001 / 6957, 0.315672% density, 2.108413% projected density)\n",
      "2020-06-10 20:24:52,637 : INFO : PROGRESS: at 28.76% columns (2001 / 6957, 0.524049% density, 1.786393% projected density)\n",
      "2020-06-10 20:24:54,388 : INFO : PROGRESS: at 43.14% columns (3001 / 6957, 0.644822% density, 1.475896% projected density)\n",
      "2020-06-10 20:24:56,027 : INFO : PROGRESS: at 57.51% columns (4001 / 6957, 0.754211% density, 1.300814% projected density)\n",
      "2020-06-10 20:24:57,097 : INFO : PROGRESS: at 71.88% columns (5001 / 6957, 0.806662% density, 1.116543% projected density)\n",
      "2020-06-10 20:24:58,425 : INFO : PROGRESS: at 86.26% columns (6001 / 6957, 0.890005% density, 1.029499% projected density)\n",
      "2020-06-10 20:24:59,706 : INFO : constructed a sparse term similarity matrix with 0.969786% density\n"
     ]
    }
   ],
   "source": [
    "#[step 1]Creating the Vectorization Class\n",
    "word2vec = Word2VecSeqVect( params = parameters )"
   ]
  },
  {
   "cell_type": "code",
   "execution_count": null,
   "metadata": {},
   "outputs": [
    {
     "data": {
      "text/plain": [
       "'test_data/LibEST_semeru_format/requirements/RQ17-pre.txt'"
      ]
     },
     "execution_count": null,
     "metadata": {},
     "output_type": "execute_result"
    }
   ],
   "source": [
    "word2vec.df_source['ids'][0]"
   ]
  },
  {
   "cell_type": "code",
   "execution_count": null,
   "metadata": {},
   "outputs": [
    {
     "data": {
      "text/plain": [
       "['requir',\n",
       " 'http',\n",
       " 'uri',\n",
       " 'control',\n",
       " 'est',\n",
       " 'server',\n",
       " 'must',\n",
       " 'support',\n",
       " 'use',\n",
       " 'path',\n",
       " 'prefix',\n",
       " 'well',\n",
       " 'known',\n",
       " 'defin',\n",
       " 'rfc',\n",
       " 'regist',\n",
       " 'name',\n",
       " 'est',\n",
       " 'thus',\n",
       " 'valid',\n",
       " 'est',\n",
       " 'server',\n",
       " 'uri',\n",
       " 'path',\n",
       " 'begin',\n",
       " 'https',\n",
       " 'www',\n",
       " 'exampl',\n",
       " 'com',\n",
       " 'well',\n",
       " 'known',\n",
       " 'est',\n",
       " 'est',\n",
       " 'oper',\n",
       " 'indic',\n",
       " 'path',\n",
       " 'suffix',\n",
       " 'indic',\n",
       " 'intend',\n",
       " 'oper',\n",
       " 'oper',\n",
       " 'correspond',\n",
       " 'uri',\n",
       " 'oper',\n",
       " 'oper',\n",
       " 'path',\n",
       " 'detail',\n",
       " 'distribut',\n",
       " 'cacert',\n",
       " 'section',\n",
       " 'certif',\n",
       " 'must',\n",
       " 'enrol',\n",
       " 'simpleenrol',\n",
       " 'section',\n",
       " 'client',\n",
       " 'must',\n",
       " 'enrol',\n",
       " 'simplereenrol',\n",
       " 'section',\n",
       " 'client',\n",
       " 'must',\n",
       " 'full',\n",
       " 'cmc',\n",
       " 'option',\n",
       " 'fullcmc',\n",
       " 'section',\n",
       " 'server',\n",
       " 'side',\n",
       " 'key',\n",
       " 'serverkeygen',\n",
       " 'section',\n",
       " 'generat',\n",
       " 'option',\n",
       " 'csr',\n",
       " 'attribut',\n",
       " 'csrattr',\n",
       " 'section',\n",
       " 'option',\n",
       " 'figur',\n",
       " 'oper',\n",
       " 'path',\n",
       " 'figur',\n",
       " 'append',\n",
       " 'path',\n",
       " 'prefix',\n",
       " 'form',\n",
       " 'uri',\n",
       " 'use',\n",
       " 'http',\n",
       " 'get',\n",
       " 'post',\n",
       " 'perform',\n",
       " 'desir',\n",
       " 'est',\n",
       " 'oper',\n",
       " 'exampl',\n",
       " 'valid',\n",
       " 'uri',\n",
       " 'absolut',\n",
       " 'path',\n",
       " 'cacert',\n",
       " 'oper',\n",
       " '\"/.',\n",
       " 'well',\n",
       " 'known',\n",
       " 'est',\n",
       " 'cacert',\n",
       " 'retriev',\n",
       " 'certif',\n",
       " 'est',\n",
       " 'client',\n",
       " 'would',\n",
       " 'use',\n",
       " 'follow',\n",
       " 'http',\n",
       " 'request',\n",
       " 'line',\n",
       " 'get',\n",
       " 'well',\n",
       " 'known',\n",
       " 'est',\n",
       " 'cacert',\n",
       " 'http',\n",
       " 'likewis',\n",
       " 'request',\n",
       " 'new',\n",
       " 'certif',\n",
       " 'exampl',\n",
       " 'scheme',\n",
       " 'est',\n",
       " 'client',\n",
       " 'would',\n",
       " 'use',\n",
       " 'follow',\n",
       " 'request',\n",
       " 'line',\n",
       " 'post',\n",
       " 'well',\n",
       " 'known',\n",
       " 'est',\n",
       " 'simpleenrol',\n",
       " 'http',\n",
       " 'use',\n",
       " 'distinct',\n",
       " 'oper',\n",
       " 'path',\n",
       " 'simplifi',\n",
       " 'implement',\n",
       " 'server',\n",
       " 'perform',\n",
       " 'client',\n",
       " 'authent',\n",
       " 'distribut',\n",
       " 'cacert',\n",
       " 'respons',\n",
       " 'est',\n",
       " 'server',\n",
       " 'may',\n",
       " 'provid',\n",
       " 'servic',\n",
       " 'multipl',\n",
       " 'cas',\n",
       " 'indic',\n",
       " 'option',\n",
       " 'addit',\n",
       " 'path',\n",
       " 'segment',\n",
       " 'regist',\n",
       " 'applic',\n",
       " 'name',\n",
       " 'oper',\n",
       " 'path',\n",
       " 'avoid',\n",
       " 'conflict',\n",
       " 'label',\n",
       " 'must',\n",
       " 'defin',\n",
       " 'oper',\n",
       " 'path',\n",
       " 'segment',\n",
       " 'est',\n",
       " 'server',\n",
       " 'must',\n",
       " 'provid',\n",
       " 'servic',\n",
       " 'regardless',\n",
       " 'whether',\n",
       " 'addit',\n",
       " 'path',\n",
       " 'segment',\n",
       " 'present',\n",
       " 'follow',\n",
       " 'three',\n",
       " 'exampl',\n",
       " 'valid',\n",
       " 'uri',\n",
       " 'https',\n",
       " '://',\n",
       " 'www',\n",
       " 'exampl',\n",
       " 'com',\n",
       " 'well',\n",
       " 'known',\n",
       " 'est',\n",
       " 'cacert',\n",
       " 'https',\n",
       " '://',\n",
       " 'www',\n",
       " 'exampl',\n",
       " 'com',\n",
       " 'well',\n",
       " 'known',\n",
       " 'est',\n",
       " 'arbitrari',\n",
       " 'label1',\n",
       " 'cacert',\n",
       " 'https',\n",
       " '://',\n",
       " 'www',\n",
       " 'exampl',\n",
       " 'com',\n",
       " 'well',\n",
       " 'known',\n",
       " 'est',\n",
       " 'arbitrari',\n",
       " 'label2',\n",
       " 'cacert',\n",
       " 'specif',\n",
       " 'distinct',\n",
       " 'enrol',\n",
       " 'renew',\n",
       " 'rekey',\n",
       " 'explicit',\n",
       " 'indic',\n",
       " 'http',\n",
       " 'uri',\n",
       " 'request',\n",
       " 'fullcmc',\n",
       " 'oper',\n",
       " 'cmc',\n",
       " 'rfc5272',\n",
       " 'use',\n",
       " 'messag',\n",
       " 'certif',\n",
       " 'renew',\n",
       " 'certif',\n",
       " 'rekey',\n",
       " 'est',\n",
       " 'server',\n",
       " 'provid',\n",
       " 'addit',\n",
       " 'servic',\n",
       " 'use',\n",
       " 'uri']"
      ]
     },
     "execution_count": null,
     "metadata": {},
     "output_type": "execute_result"
    }
   ],
   "source": [
    "idss = word2vec.df_source['ids'][0] #Selecting an ID\n",
    "idss = word2vec.df_source['ids'] == idss #Search for an specific ID\n",
    "list(word2vec.df_source[idss]['text'])[0].split() #Retrieving text and splitting"
   ]
  },
  {
   "cell_type": "code",
   "execution_count": null,
   "metadata": {},
   "outputs": [
    {
     "data": {
      "text/html": [
       "<div>\n",
       "<style scoped>\n",
       "    .dataframe tbody tr th:only-of-type {\n",
       "        vertical-align: middle;\n",
       "    }\n",
       "\n",
       "    .dataframe tbody tr th {\n",
       "        vertical-align: top;\n",
       "    }\n",
       "\n",
       "    .dataframe thead th {\n",
       "        text-align: right;\n",
       "    }\n",
       "</style>\n",
       "<table border=\"1\" class=\"dataframe\">\n",
       "  <thead>\n",
       "    <tr style=\"text-align: right;\">\n",
       "      <th></th>\n",
       "      <th>ids</th>\n",
       "      <th>text</th>\n",
       "    </tr>\n",
       "  </thead>\n",
       "  <tbody>\n",
       "    <tr>\n",
       "      <th>0</th>\n",
       "      <td>test_data/LibEST_semeru_format/requirements/RQ...</td>\n",
       "      <td>requir http uri control est server must suppor...</td>\n",
       "    </tr>\n",
       "    <tr>\n",
       "      <th>1</th>\n",
       "      <td>test_data/LibEST_semeru_format/requirements/RQ...</td>\n",
       "      <td>requir server side key generat respons request...</td>\n",
       "    </tr>\n",
       "    <tr>\n",
       "      <th>2</th>\n",
       "      <td>test_data/LibEST_semeru_format/requirements/RQ...</td>\n",
       "      <td>requir http base client authent est server may...</td>\n",
       "    </tr>\n",
       "    <tr>\n",
       "      <th>3</th>\n",
       "      <td>test_data/LibEST_semeru_format/requirements/RQ...</td>\n",
       "      <td>requir csr attribut request est client request...</td>\n",
       "    </tr>\n",
       "    <tr>\n",
       "      <th>4</th>\n",
       "      <td>test_data/LibEST_semeru_format/requirements/RQ...</td>\n",
       "      <td>requir server side key generat est client may ...</td>\n",
       "    </tr>\n",
       "  </tbody>\n",
       "</table>\n",
       "</div>"
      ],
      "text/plain": [
       "                                                 ids  \\\n",
       "0  test_data/LibEST_semeru_format/requirements/RQ...   \n",
       "1  test_data/LibEST_semeru_format/requirements/RQ...   \n",
       "2  test_data/LibEST_semeru_format/requirements/RQ...   \n",
       "3  test_data/LibEST_semeru_format/requirements/RQ...   \n",
       "4  test_data/LibEST_semeru_format/requirements/RQ...   \n",
       "\n",
       "                                                text  \n",
       "0  requir http uri control est server must suppor...  \n",
       "1  requir server side key generat respons request...  \n",
       "2  requir http base client authent est server may...  \n",
       "3  requir csr attribut request est client request...  \n",
       "4  requir server side key generat est client may ...  "
      ]
     },
     "execution_count": null,
     "metadata": {},
     "output_type": "execute_result"
    }
   ],
   "source": [
    "word2vec.df_source.head()"
   ]
  },
  {
   "cell_type": "code",
   "execution_count": null,
   "metadata": {},
   "outputs": [
    {
     "data": {
      "text/html": [
       "<div>\n",
       "<style scoped>\n",
       "    .dataframe tbody tr th:only-of-type {\n",
       "        vertical-align: middle;\n",
       "    }\n",
       "\n",
       "    .dataframe tbody tr th {\n",
       "        vertical-align: top;\n",
       "    }\n",
       "\n",
       "    .dataframe thead th {\n",
       "        text-align: right;\n",
       "    }\n",
       "</style>\n",
       "<table border=\"1\" class=\"dataframe\">\n",
       "  <thead>\n",
       "    <tr style=\"text-align: right;\">\n",
       "      <th></th>\n",
       "      <th>ids</th>\n",
       "      <th>text</th>\n",
       "    </tr>\n",
       "  </thead>\n",
       "  <tbody>\n",
       "    <tr>\n",
       "      <th>0</th>\n",
       "      <td>test_data/LibEST_semeru_format/test/us903.c</td>\n",
       "      <td>unit test user stori server simpl enrol august...</td>\n",
       "    </tr>\n",
       "    <tr>\n",
       "      <th>1</th>\n",
       "      <td>test_data/LibEST_semeru_format/test/us3496.c</td>\n",
       "      <td>unit test uri path segment extens support marc...</td>\n",
       "    </tr>\n",
       "    <tr>\n",
       "      <th>2</th>\n",
       "      <td>test_data/LibEST_semeru_format/test/us899.c</td>\n",
       "      <td>unit test user stori client simpl enrol septem...</td>\n",
       "    </tr>\n",
       "    <tr>\n",
       "      <th>3</th>\n",
       "      <td>test_data/LibEST_semeru_format/test/us4020.c</td>\n",
       "      <td>unit test user stori unit test client proxi mo...</td>\n",
       "    </tr>\n",
       "    <tr>\n",
       "      <th>4</th>\n",
       "      <td>test_data/LibEST_semeru_format/test/us897.c</td>\n",
       "      <td>unit test user stori client cacert june copyri...</td>\n",
       "    </tr>\n",
       "  </tbody>\n",
       "</table>\n",
       "</div>"
      ],
      "text/plain": [
       "                                            ids  \\\n",
       "0   test_data/LibEST_semeru_format/test/us903.c   \n",
       "1  test_data/LibEST_semeru_format/test/us3496.c   \n",
       "2   test_data/LibEST_semeru_format/test/us899.c   \n",
       "3  test_data/LibEST_semeru_format/test/us4020.c   \n",
       "4   test_data/LibEST_semeru_format/test/us897.c   \n",
       "\n",
       "                                                text  \n",
       "0  unit test user stori server simpl enrol august...  \n",
       "1  unit test uri path segment extens support marc...  \n",
       "2  unit test user stori client simpl enrol septem...  \n",
       "3  unit test user stori unit test client proxi mo...  \n",
       "4  unit test user stori client cacert june copyri...  "
      ]
     },
     "execution_count": null,
     "metadata": {},
     "output_type": "execute_result"
    }
   ],
   "source": [
    "word2vec.df_target.head()"
   ]
  },
  {
   "cell_type": "code",
   "execution_count": null,
   "metadata": {},
   "outputs": [
    {
     "data": {
      "text/plain": [
       "[('RQ15-pre.txt', 'us2174.c'), ('RQ13-pre.txt', 'us899.c')]"
      ]
     },
     "execution_count": null,
     "metadata": {},
     "output_type": "execute_result"
    }
   ],
   "source": [
    "links = word2vec.samplingLinks(sampling=True, samples = 2)\n",
    "links"
   ]
  },
  {
   "cell_type": "code",
   "execution_count": null,
   "metadata": {},
   "outputs": [
    {
     "name": "stdout",
     "output_type": "stream",
     "text": [
      "2 (52, 2) (21, 2)\n"
     ]
    }
   ],
   "source": [
    "print( len(links), word2vec.df_source.shape, word2vec.df_target.shape )"
   ]
  },
  {
   "cell_type": "code",
   "execution_count": null,
   "metadata": {},
   "outputs": [
    {
     "name": "stderr",
     "output_type": "stream",
     "text": [
      "2020-06-10 17:56:41,219 : INFO : adding document #0 to Dictionary(0 unique tokens: [])\n",
      "2020-06-10 17:56:41,224 : INFO : built Dictionary(1142 unique tokens: ['addit', 'also', 'associ', 'authent', 'avail']...) from 2 documents (total 2543 corpus positions)\n",
      "2020-06-10 17:56:49,231 : INFO : Computed distances or similarities ('RQ15-pre.txt', 'us2174.c')[[0.3589300961999218, 0.7358730245186085], [0.5082340836524963, 0.49176592]]\n",
      "2020-06-10 17:56:49,235 : INFO : adding document #0 to Dictionary(0 unique tokens: [])\n",
      "2020-06-10 17:56:49,240 : INFO : built Dictionary(778 unique tokens: ['1ar', '802', 'also', 'anchor', 'aspect']...) from 2 documents (total 3979 corpus positions)\n",
      "2020-06-10 17:57:00,823 : INFO : Computed distances or similarities ('RQ13-pre.txt', 'us899.c')[[0.34410217762685374, 0.7439910571126367], [0.46100157499313354, 0.5389984]]\n"
     ]
    },
    {
     "data": {
      "text/plain": [
       "([['RQ15-pre.txt',\n",
       "   'us2174.c',\n",
       "   0.3589300961999218,\n",
       "   0.7358730245186085,\n",
       "   0.5082340836524963,\n",
       "   0.49176592],\n",
       "  ['RQ13-pre.txt',\n",
       "   'us899.c',\n",
       "   0.34410217762685374,\n",
       "   0.7439910571126367,\n",
       "   0.46100157499313354,\n",
       "   0.5389984]],\n",
       " [<DistanceMetric.WMD: 1>,\n",
       "  <SimilarityMetric.WMD_sim: 1>,\n",
       "  <DistanceMetric.SCM: 3>,\n",
       "  <SimilarityMetric.SCM_sim: 3>])"
      ]
     },
     "execution_count": null,
     "metadata": {},
     "output_type": "execute_result"
    }
   ],
   "source": [
    "#[optional] computeDistanceMetric Testing [WARNING!] Time Consuming!!\n",
    "computeDistanceMetric = word2vec.computeDistanceMetric(links, metric_list = [DistanceMetric.WMD,DistanceMetric.SCM])\n",
    "computeDistanceMetric"
   ]
  },
  {
   "cell_type": "code",
   "execution_count": null,
   "metadata": {},
   "outputs": [
    {
     "name": "stderr",
     "output_type": "stream",
     "text": [
      "2020-06-10 18:00:03,762 : INFO : adding document #0 to Dictionary(0 unique tokens: [])\n",
      "2020-06-10 18:00:03,766 : INFO : built Dictionary(431 unique tokens: ['authent', 'certif', 'cipher', 'client', 'est']...) from 2 documents (total 2691 corpus positions)\n",
      "2020-06-10 18:00:04,002 : INFO : Computed distances or similarities ('RQ7-pre.txt', 'us900.c')[[0.6801433900455611, 0.5951872952777457], [0.9215486720204353, 0.07845133]]\n",
      "2020-06-10 18:00:04,008 : INFO : adding document #0 to Dictionary(0 unique tokens: [])\n",
      "2020-06-10 18:00:04,014 : INFO : built Dictionary(881 unique tokens: ['0ue', '1958a6m9o', '1o9q', '4mgv', '4o38fup0en']...) from 2 documents (total 1763 corpus positions)\n",
      "2020-06-10 18:00:28,826 : INFO : Computed distances or similarities ('RQ58-pre.txt', 'us3612.c')[[0.41518281434799253, 0.7066224871171313], [0.7362554371356964, 0.26374456]]\n",
      "2020-06-10 18:00:28,830 : INFO : adding document #0 to Dictionary(0 unique tokens: [])\n",
      "2020-06-10 18:00:28,832 : INFO : built Dictionary(516 unique tokens: ['attribut', 'client', 'csr', 'csrattr', 'desir']...) from 2 documents (total 2484 corpus positions)\n",
      "2020-06-10 18:00:29,179 : INFO : Computed distances or similarities ('RQ48-pre.txt', 'us893.c')[[0.3546829269802515, 0.7381801158660191], [0.35215479135513306, 0.6478452]]\n",
      "2020-06-10 18:00:29,182 : INFO : adding document #0 to Dictionary(0 unique tokens: [])\n",
      "2020-06-10 18:00:29,185 : INFO : built Dictionary(1021 unique tokens: ['0ue', '1958a6m9o', '1o9q', '4mgv', '4o38fup0en']...) from 2 documents (total 2261 corpus positions)\n",
      "2020-06-10 18:01:13,204 : INFO : Computed distances or similarities ('RQ58-pre.txt', 'us1060.c')[[0.258274125233245, 0.7947393814639803], [0.6313361823558807, 0.36866382]]\n",
      "2020-06-10 18:01:13,208 : INFO : adding document #0 to Dictionary(0 unique tokens: [])\n",
      "2020-06-10 18:01:13,210 : INFO : built Dictionary(332 unique tokens: ['anchor', 'attack', 'authent', 'author', 'base']...) from 2 documents (total 1560 corpus positions)\n",
      "2020-06-10 18:01:13,764 : INFO : Computed distances or similarities ('RQ23-pre.txt', 'us1005.c')[[0.3593920026324387, 0.7356229829685018], [0.3696892261505127, 0.6303108]]\n",
      "2020-06-10 18:01:13,768 : INFO : adding document #0 to Dictionary(0 unique tokens: [])\n",
      "2020-06-10 18:01:13,770 : INFO : built Dictionary(340 unique tokens: ['altern', 'appropri', 'assum', 'authent', 'author']...) from 2 documents (total 2766 corpus positions)\n",
      "2020-06-10 18:01:14,496 : INFO : Computed distances or similarities ('RQ22-pre.txt', 'us897.c')[[0.5354484277792805, 0.6512755374313028], [0.7098967432975769, 0.29010326]]\n",
      "2020-06-10 18:01:14,499 : INFO : adding document #0 to Dictionary(0 unique tokens: [])\n",
      "2020-06-10 18:01:14,501 : INFO : built Dictionary(430 unique tokens: ['authent', 'base', 'cmc', 'connect', 'correspond']...) from 2 documents (total 2210 corpus positions)\n",
      "2020-06-10 18:01:15,102 : INFO : Computed distances or similarities ('RQ24-pre.txt', 'us1159.c')[[0.4415026194082886, 0.6937205569633182], [0.6941792964935303, 0.3058207]]\n",
      "2020-06-10 18:01:15,105 : INFO : adding document #0 to Dictionary(0 unique tokens: [])\n",
      "2020-06-10 18:01:15,108 : INFO : built Dictionary(808 unique tokens: ['addit', 'adopt', 'alloc', 'anoth', 'architectur']...) from 2 documents (total 2102 corpus positions)\n",
      "2020-06-10 18:01:23,119 : INFO : Computed distances or similarities ('RQ1-pre.txt', 'us903.c')[[0.3181990130877423, 0.7586107940238898], [0.4975162744522095, 0.5024837]]\n",
      "2020-06-10 18:01:23,122 : INFO : adding document #0 to Dictionary(0 unique tokens: [])\n",
      "2020-06-10 18:01:23,124 : INFO : built Dictionary(328 unique tokens: ['alt', 'altern', 'authent', 'cannot', 'certif']...) from 2 documents (total 2172 corpus positions)\n",
      "2020-06-10 18:01:23,619 : INFO : Computed distances or similarities ('RQ9-pre.txt', 'us4020.c')[[0.5474926491820299, 0.6462066236815908], [0.7443248927593231, 0.2556751]]\n",
      "2020-06-10 18:01:23,622 : INFO : adding document #0 to Dictionary(0 unique tokens: [])\n",
      "2020-06-10 18:01:23,624 : INFO : built Dictionary(320 unique tokens: ['attribut', 'client', 'csr', 'csrattr', 'desir']...) from 2 documents (total 2119 corpus positions)\n",
      "2020-06-10 18:01:23,843 : INFO : Computed distances or similarities ('RQ48-pre.txt', 'us4020.c')[[0.4607951037672738, 0.6845587019158813], [0.6203703880310059, 0.3796296]]\n",
      "2020-06-10 18:01:23,846 : INFO : adding document #0 to Dictionary(0 unique tokens: [])\n",
      "2020-06-10 18:01:23,848 : INFO : built Dictionary(335 unique tokens: ['accept', 'access', 'act', 'addit', 'alway']...) from 2 documents (total 1554 corpus positions)\n",
      "2020-06-10 18:01:24,486 : INFO : Computed distances or similarities ('RQ29-pre.txt', 'us1005.c')[[0.3649178652229935, 0.7326448173030727], [0.4944213032722473, 0.5055787]]\n",
      "2020-06-10 18:01:24,489 : INFO : adding document #0 to Dictionary(0 unique tokens: [])\n",
      "2020-06-10 18:01:24,493 : INFO : built Dictionary(1139 unique tokens: ['assum', 'authent', 'author', 'base', 'bootstrap']...) from 2 documents (total 2555 corpus positions)\n",
      "2020-06-10 18:01:32,992 : INFO : Computed distances or similarities ('RQ21-pre.txt', 'us2174.c')[[0.35480827724978287, 0.7381118175849706], [0.5164375603199005, 0.48356244]]\n",
      "2020-06-10 18:01:32,996 : INFO : adding document #0 to Dictionary(0 unique tokens: [])\n",
      "2020-06-10 18:01:32,999 : INFO : built Dictionary(730 unique tokens: [')\",', '106', '2005', '2006', '2008']...) from 2 documents (total 2965 corpus positions)\n",
      "2020-06-10 18:01:44,337 : INFO : Computed distances or similarities ('RQ52-pre.txt', 'us893.c')[[0.3046339229445275, 0.7664985421680773], [0.6191536784172058, 0.38084632]]\n",
      "2020-06-10 18:01:44,341 : INFO : adding document #0 to Dictionary(0 unique tokens: [])\n",
      "2020-06-10 18:01:44,344 : INFO : built Dictionary(1182 unique tokens: ['abil', 'abl', 'along', 'also', 'applic']...) from 2 documents (total 3103 corpus positions)\n",
      "2020-06-10 18:02:03,093 : INFO : Computed distances or similarities ('RQ14-pre.txt', 'us1883.c')[[0.25903026798963485, 0.7942620804476423], [0.46089285612106323, 0.53910714]]\n",
      "2020-06-10 18:02:03,096 : INFO : adding document #0 to Dictionary(0 unique tokens: [])\n",
      "2020-06-10 18:02:03,098 : INFO : built Dictionary(336 unique tokens: ['accept', 'access', 'also', 'altern', 'assur']...) from 2 documents (total 1204 corpus positions)\n",
      "2020-06-10 18:02:03,854 : INFO : Computed distances or similarities ('RQ20-pre.txt', 'us3612.c')[[0.5137335682833226, 0.660618236229027], [0.6977764964103699, 0.3022235]]\n",
      "2020-06-10 18:02:03,857 : INFO : adding document #0 to Dictionary(0 unique tokens: [])\n",
      "2020-06-10 18:02:03,861 : INFO : built Dictionary(1141 unique tokens: ['applic', 'attribut', 'cacert', 'certif', 'client']...) from 2 documents (total 2574 corpus positions)\n",
      "2020-06-10 18:02:11,611 : INFO : Computed distances or similarities ('RQ19-pre.txt', 'us2174.c')[[0.2953128685110991, 0.7720142556365187], [0.6641262173652649, 0.33587378]]\n",
      "2020-06-10 18:02:11,615 : INFO : adding document #0 to Dictionary(0 unique tokens: [])\n",
      "2020-06-10 18:02:11,617 : INFO : built Dictionary(425 unique tokens: ['access', 'afford', 'cmc', 'defin', 'discuss']...) from 2 documents (total 1752 corpus positions)\n",
      "2020-06-10 18:02:11,944 : INFO : Computed distances or similarities ('RQ11-pre.txt', 'us3496.c')[[0.5332993557765647, 0.6521883650655639], [0.7682800889015198, 0.23171991]]\n",
      "2020-06-10 18:02:11,947 : INFO : adding document #0 to Dictionary(0 unique tokens: [])\n",
      "2020-06-10 18:02:11,949 : INFO : built Dictionary(392 unique tokens: ['1ar', '802', 'also', 'anchor', 'aspect']...) from 2 documents (total 1541 corpus positions)\n",
      "2020-06-10 18:02:13,813 : INFO : Computed distances or similarities ('RQ13-pre.txt', 'us3612.c')[[0.463546750469561, 0.6832716479191131], [0.6986926794052124, 0.30130732]]\n",
      "2020-06-10 18:02:13,816 : INFO : adding document #0 to Dictionary(0 unique tokens: [])\n",
      "2020-06-10 18:02:13,818 : INFO : built Dictionary(378 unique tokens: ['addit', 'anchor', 'assum', 'authent', 'author']...) from 2 documents (total 1031 corpus positions)\n",
      "2020-06-10 18:02:15,671 : INFO : Computed distances or similarities ('RQ2-pre.txt', 'us896.c')[[0.46068852597224424, 0.6846086501120375], [0.7359299957752228, 0.26407]]\n",
      "2020-06-10 18:02:15,675 : INFO : adding document #0 to Dictionary(0 unique tokens: [])\n"
     ]
    },
    {
     "name": "stderr",
     "output_type": "stream",
     "text": [
      "2020-06-10 18:02:15,677 : INFO : built Dictionary(444 unique tokens: ['addit', 'algorithm', 'appli', 'archiv', 'associ']...) from 2 documents (total 2306 corpus positions)\n",
      "2020-06-10 18:02:16,886 : INFO : Computed distances or similarities ('RQ42-pre.txt', 'us1159.c')[[0.4569413668285707, 0.6863694193657032], [0.6258775889873505, 0.3741224]]\n",
      "2020-06-10 18:02:16,889 : INFO : adding document #0 to Dictionary(0 unique tokens: [])\n",
      "2020-06-10 18:02:16,891 : INFO : built Dictionary(398 unique tokens: ['certif', 'client', 'cmc', 'est', 'full']...) from 2 documents (total 2671 corpus positions)\n",
      "2020-06-10 18:02:17,118 : INFO : Computed distances or similarities ('RQ39-pre.txt', 'us898.c')[[0.5108613213361184, 0.6618741150350304], [0.7524681985378265, 0.2475318]]\n",
      "2020-06-10 18:02:17,121 : INFO : adding document #0 to Dictionary(0 unique tokens: [])\n",
      "2020-06-10 18:02:17,123 : INFO : built Dictionary(317 unique tokens: ['authent', 'author', 'base', 'cacert', 'certif']...) from 2 documents (total 1527 corpus positions)\n",
      "2020-06-10 18:02:17,525 : INFO : Computed distances or similarities ('RQ33-pre.txt', 'us1005.c')[[0.3770867646405106, 0.7261706565461404], [0.504503607749939, 0.4954964]]\n",
      "2020-06-10 18:02:17,528 : INFO : adding document #0 to Dictionary(0 unique tokens: [])\n",
      "2020-06-10 18:02:17,531 : INFO : built Dictionary(536 unique tokens: ['accept', 'appli', 'authent', 'author', 'bootstrap']...) from 2 documents (total 2886 corpus positions)\n",
      "2020-06-10 18:02:18,369 : INFO : Computed distances or similarities ('RQ26-pre.txt', 'us894.c')[[0.4381209423894444, 0.6953518097987611], [0.4532995820045471, 0.5467004]]\n",
      "2020-06-10 18:02:18,372 : INFO : adding document #0 to Dictionary(0 unique tokens: [])\n",
      "2020-06-10 18:02:18,374 : INFO : built Dictionary(326 unique tokens: ['assum', 'authent', 'author', 'base', 'bootstrap']...) from 2 documents (total 1555 corpus positions)\n",
      "2020-06-10 18:02:18,923 : INFO : Computed distances or similarities ('RQ21-pre.txt', 'us1005.c')[[0.3724879658282856, 0.7286038383560675], [0.4680246114730835, 0.5319754]]\n",
      "2020-06-10 18:02:18,927 : INFO : adding document #0 to Dictionary(0 unique tokens: [])\n",
      "2020-06-10 18:02:18,929 : INFO : built Dictionary(523 unique tokens: ['10045', '132', '840', 'access', 'addit']...) from 2 documents (total 2793 corpus positions)\n",
      "2020-06-10 18:02:24,100 : INFO : Computed distances or similarities ('RQ49-pre.txt', 'us895.c')[[0.5070282071814195, 0.6635575865366783], [0.8734091371297836, 0.12659086]]\n",
      "2020-06-10 18:02:24,103 : INFO : adding document #0 to Dictionary(0 unique tokens: [])\n",
      "2020-06-10 18:02:24,105 : INFO : built Dictionary(305 unique tokens: ['access', 'afford', 'cmc', 'defin', 'discuss']...) from 2 documents (total 2644 corpus positions)\n",
      "2020-06-10 18:02:24,266 : INFO : Computed distances or similarities ('RQ11-pre.txt', 'us897.c')[[0.5210653598089056, 0.6574339449329331], [0.7487468123435974, 0.2512532]]\n",
      "2020-06-10 18:02:24,269 : INFO : adding document #0 to Dictionary(0 unique tokens: [])\n",
      "2020-06-10 18:02:24,272 : INFO : built Dictionary(991 unique tokens: ['0ze', '1zi', '2qd', '2w8yt', '3w0tn2ufuxdw']...) from 2 documents (total 2230 corpus positions)\n",
      "2020-06-10 18:04:41,137 : INFO : Computed distances or similarities ('RQ55-pre.txt', 'us1060.c')[[0.2831435427891824, 0.7793360342415703], [0.6849900186061859, 0.31500998]]\n",
      "2020-06-10 18:04:41,141 : INFO : adding document #0 to Dictionary(0 unique tokens: [])\n",
      "2020-06-10 18:04:41,144 : INFO : built Dictionary(807 unique tokens: ['abil', 'abl', 'along', 'also', 'applic']...) from 2 documents (total 2041 corpus positions)\n",
      "2020-06-10 18:04:49,011 : INFO : Computed distances or similarities ('RQ14-pre.txt', 'us748.c')[[0.30003364183775855, 0.7692108633330259], [0.49237436056137085, 0.50762564]]\n",
      "2020-06-10 18:04:49,014 : INFO : adding document #0 to Dictionary(0 unique tokens: [])\n",
      "2020-06-10 18:04:49,017 : INFO : built Dictionary(482 unique tokens: ['alreadi', 'authent', 'author', 'certif', 'client']...) from 2 documents (total 2284 corpus positions)\n",
      "2020-06-10 18:04:49,803 : INFO : Computed distances or similarities ('RQ6-pre.txt', 'us901.c')[[0.48142671361994605, 0.6750249545294388], [0.4795643091201782, 0.5204357]]\n",
      "2020-06-10 18:04:49,806 : INFO : adding document #0 to Dictionary(0 unique tokens: [])\n",
      "2020-06-10 18:04:49,808 : INFO : built Dictionary(440 unique tokens: ['alreadi', 'authent', 'author', 'certif', 'client']...) from 2 documents (total 2720 corpus positions)\n",
      "2020-06-10 18:04:50,228 : INFO : Computed distances or similarities ('RQ6-pre.txt', 'us900.c')[[0.6896005386373664, 0.5918558719249005], [0.9274988099932671, 0.07250119]]\n",
      "2020-06-10 18:04:50,232 : INFO : adding document #0 to Dictionary(0 unique tokens: [])\n",
      "2020-06-10 18:04:50,238 : INFO : built Dictionary(1180 unique tokens: ['addit', 'anon', 'appropri', 'aris', 'associ']...) from 2 documents (total 3143 corpus positions)\n",
      "2020-06-10 18:05:07,109 : INFO : Computed distances or similarities ('RQ18-pre.txt', 'us1883.c')[[0.35240055801869813, 0.7394259001674961], [0.3651725649833679, 0.63482744]]\n",
      "2020-06-10 18:05:07,113 : INFO : adding document #0 to Dictionary(0 unique tokens: [])\n",
      "2020-06-10 18:05:07,117 : INFO : built Dictionary(310 unique tokens: ['accord', 'authent', 'author', 'basi', 'certif']...) from 2 documents (total 2647 corpus positions)\n",
      "2020-06-10 18:05:07,359 : INFO : Computed distances or similarities ('RQ28-pre.txt', 'us897.c')[[0.509866261201573, 0.662310315619733], [0.7144509851932526, 0.285549]]\n",
      "2020-06-10 18:05:07,362 : INFO : adding document #0 to Dictionary(0 unique tokens: [])\n",
      "2020-06-10 18:05:07,366 : INFO : built Dictionary(497 unique tokens: ['1ar', '802', 'also', 'anchor', 'aspect']...) from 2 documents (total 2598 corpus positions)\n",
      "2020-06-10 18:05:10,105 : INFO : Computed distances or similarities ('RQ13-pre.txt', 'us1159.c')[[0.4604208091737038, 0.6847341490332456], [0.6968074142932892, 0.3031926]]\n",
      "2020-06-10 18:05:10,109 : INFO : adding document #0 to Dictionary(0 unique tokens: [])\n",
      "2020-06-10 18:05:10,111 : INFO : built Dictionary(505 unique tokens: ['\"/.', '://', 'absolut', 'addit', 'append']...) from 2 documents (total 1844 corpus positions)\n",
      "2020-06-10 18:05:13,104 : INFO : Computed distances or similarities ('RQ17-pre.txt', 'us1060.c')[[0.2915975055609772, 0.7742350040895069], [0.5092029869556427, 0.490797]]\n",
      "2020-06-10 18:05:13,107 : INFO : adding document #0 to Dictionary(0 unique tokens: [])\n",
      "2020-06-10 18:05:13,109 : INFO : built Dictionary(512 unique tokens: ['1ar', '802', 'also', 'anchor', 'aspect']...) from 2 documents (total 2163 corpus positions)\n",
      "2020-06-10 18:05:16,275 : INFO : Computed distances or similarities ('RQ13-pre.txt', 'us3496.c')[[0.5100485210681746, 0.66223037607601], [0.7405184209346771, 0.25948158]]\n",
      "2020-06-10 18:05:16,279 : INFO : adding document #0 to Dictionary(0 unique tokens: [])\n",
      "2020-06-10 18:05:16,281 : INFO : built Dictionary(477 unique tokens: ['\"/.', '://', 'absolut', 'addit', 'append']...) from 2 documents (total 1968 corpus positions)\n",
      "2020-06-10 18:05:18,284 : INFO : Computed distances or similarities ('RQ17-pre.txt', 'us3496.c')[[0.4712928799865381, 0.679674328342532], [0.6568416059017181, 0.3431584]]\n",
      "2020-06-10 18:05:18,287 : INFO : adding document #0 to Dictionary(0 unique tokens: [])\n",
      "2020-06-10 18:05:18,290 : INFO : built Dictionary(796 unique tokens: ['addit', 'allow', 'anchor', 'assum', 'authent']...) from 2 documents (total 2021 corpus positions)\n",
      "2020-06-10 18:05:24,427 : INFO : Computed distances or similarities ('RQ4-pre.txt', 'us748.c')[[0.355424194336453, 0.7377764128591119], [0.5211487114429474, 0.4788513]]\n",
      "2020-06-10 18:05:24,429 : INFO : adding document #0 to Dictionary(0 unique tokens: [])\n",
      "2020-06-10 18:05:24,431 : INFO : built Dictionary(337 unique tokens: ['assum', 'authent', 'author', 'base', 'bootstrap']...) from 2 documents (total 935 corpus positions)\n",
      "2020-06-10 18:05:25,349 : INFO : Computed distances or similarities ('RQ21-pre.txt', 'us896.c')[[0.5110871248457789, 0.6617752104148592], [0.7491227984428406, 0.2508772]]\n",
      "2020-06-10 18:05:25,352 : INFO : adding document #0 to Dictionary(0 unique tokens: [])\n",
      "2020-06-10 18:05:25,354 : INFO : built Dictionary(309 unique tokens: ['accord', 'certif', 'check', 'client', 'cmc']...) from 2 documents (total 2647 corpus positions)\n"
     ]
    },
    {
     "name": "stderr",
     "output_type": "stream",
     "text": [
      "2020-06-10 18:05:25,611 : INFO : Computed distances or similarities ('RQ27-pre.txt', 'us897.c')[[0.5015991374187515, 0.6659566958189651], [0.6960231959819794, 0.3039768]]\n",
      "2020-06-10 18:05:25,615 : INFO : adding document #0 to Dictionary(0 unique tokens: [])\n",
      "2020-06-10 18:05:25,619 : INFO : built Dictionary(1146 unique tokens: ['applic', 'base', 'binari', 'bodi', 'cmc']...) from 2 documents (total 2979 corpus positions)\n",
      "2020-06-10 18:05:29,518 : INFO : Computed distances or similarities ('RQ40-pre.txt', 'us1883.c')[[0.3118055184341965, 0.762308121095286], [0.5388751924037933, 0.4611248]]\n",
      "2020-06-10 18:05:29,521 : INFO : adding document #0 to Dictionary(0 unique tokens: [])\n",
      "2020-06-10 18:05:29,523 : INFO : built Dictionary(638 unique tokens: ['applic', 'attribut', 'cacert', 'certif', 'client']...) from 2 documents (total 1155 corpus positions)\n",
      "2020-06-10 18:05:31,941 : INFO : Computed distances or similarities ('RQ19-pre.txt', 'us1864.c')[[0.3231855315912456, 0.7557519154531663], [0.6546406745910645, 0.34535933]]\n",
      "2020-06-10 18:05:31,945 : INFO : adding document #0 to Dictionary(0 unique tokens: [])\n",
      "2020-06-10 18:05:31,948 : INFO : built Dictionary(758 unique tokens: ['access', 'afford', 'cmc', 'defin', 'discuss']...) from 2 documents (total 1915 corpus positions)\n",
      "2020-06-10 18:05:32,942 : INFO : Computed distances or similarities ('RQ11-pre.txt', 'us748.c')[[0.33966989504503525, 0.746452543047094], [0.5129848122596741, 0.4870152]]\n",
      "2020-06-10 18:05:32,946 : INFO : adding document #0 to Dictionary(0 unique tokens: [])\n",
      "2020-06-10 18:05:32,947 : INFO : built Dictionary(359 unique tokens: ['\"/.', '://', 'absolut', 'addit', 'append']...) from 2 documents (total 1346 corpus positions)\n",
      "2020-06-10 18:05:34,072 : INFO : Computed distances or similarities ('RQ17-pre.txt', 'us3612.c')[[0.4365134915865513, 0.6961299047011068], [0.6251089572906494, 0.37489104]]\n",
      "2020-06-10 18:05:34,075 : INFO : adding document #0 to Dictionary(0 unique tokens: [])\n",
      "2020-06-10 18:05:34,078 : INFO : built Dictionary(765 unique tokens: ['authent', 'author', 'base', 'cacert', 'certif']...) from 2 documents (total 1947 corpus positions)\n",
      "2020-06-10 18:05:36,890 : INFO : Computed distances or similarities ('RQ33-pre.txt', 'us748.c')[[0.37531067827894454, 0.7271084386921172], [0.5340489447116852, 0.46595106]]\n",
      "2020-06-10 18:05:36,893 : INFO : adding document #0 to Dictionary(0 unique tokens: [])\n",
      "2020-06-10 18:05:36,896 : INFO : built Dictionary(466 unique tokens: ['accept', 'administr', 'advis', 'alreadi', 'also']...) from 2 documents (total 2890 corpus positions)\n",
      "2020-06-10 18:05:38,948 : INFO : Computed distances or similarities ('RQ38-pre.txt', 'us898.c')[[0.44906541075343936, 0.6900999724229505], [0.6620709896087646, 0.337929]]\n",
      "2020-06-10 18:05:38,952 : INFO : adding document #0 to Dictionary(0 unique tokens: [])\n",
      "2020-06-10 18:05:38,954 : INFO : built Dictionary(714 unique tokens: ['accept', 'agent', 'also', 'applic', 'appropri']...) from 2 documents (total 2490 corpus positions)\n",
      "2020-06-10 18:05:42,966 : INFO : Computed distances or similarities ('RQ56-pre.txt', 'us3512.c')[[0.34414110521506486, 0.7439695104332058], [0.5034926235675812, 0.49650738]]\n",
      "2020-06-10 18:05:42,969 : INFO : adding document #0 to Dictionary(0 unique tokens: [])\n",
      "2020-06-10 18:05:42,971 : INFO : built Dictionary(321 unique tokens: ['applic', 'base', 'binari', 'bodi', 'cert']...) from 2 documents (total 1549 corpus positions)\n",
      "2020-06-10 18:05:43,371 : INFO : Computed distances or similarities ('RQ41-pre.txt', 'us1005.c')[[0.3617474328009615, 0.73435056744929], [0.5055970847606659, 0.49440292]]\n",
      "2020-06-10 18:05:43,374 : INFO : adding document #0 to Dictionary(0 unique tokens: [])\n",
      "2020-06-10 18:05:43,379 : INFO : built Dictionary(698 unique tokens: ['abl', 'absent', 'altern', 'applic', 'associ']...) from 2 documents (total 1346 corpus positions)\n",
      "2020-06-10 18:05:52,463 : INFO : Computed distances or similarities ('RQ25-pre.txt', 'us1864.c')[[0.32952136099049883, 0.7521503823413532], [0.5028792023658752, 0.4971208]]\n",
      "2020-06-10 18:05:52,466 : INFO : adding document #0 to Dictionary(0 unique tokens: [])\n",
      "2020-06-10 18:05:52,469 : INFO : built Dictionary(539 unique tokens: [')\",', '106', '2005', '2006', '2008']...) from 2 documents (total 2600 corpus positions)\n",
      "2020-06-10 18:05:59,146 : INFO : Computed distances or similarities ('RQ52-pre.txt', 'us4020.c')[[0.4275867759450069, 0.7004828125688114], [0.8093147575855255, 0.19068524]]\n",
      "2020-06-10 18:05:59,149 : INFO : adding document #0 to Dictionary(0 unique tokens: [])\n",
      "2020-06-10 18:05:59,151 : INFO : built Dictionary(379 unique tokens: ['\"/.', '://', 'absolut', 'addit', 'append']...) from 2 documents (total 2354 corpus positions)\n",
      "2020-06-10 18:06:00,892 : INFO : Computed distances or similarities ('RQ17-pre.txt', 'us4020.c')[[0.4537427084148276, 0.6878796324904066], [0.6963986158370972, 0.30360138]]\n",
      "2020-06-10 18:06:00,894 : INFO : Non-groundtruth links computed\n"
     ]
    },
    {
     "data": {
      "text/html": [
       "<div>\n",
       "<style scoped>\n",
       "    .dataframe tbody tr th:only-of-type {\n",
       "        vertical-align: middle;\n",
       "    }\n",
       "\n",
       "    .dataframe tbody tr th {\n",
       "        vertical-align: top;\n",
       "    }\n",
       "\n",
       "    .dataframe thead th {\n",
       "        text-align: right;\n",
       "    }\n",
       "</style>\n",
       "<table border=\"1\" class=\"dataframe\">\n",
       "  <thead>\n",
       "    <tr style=\"text-align: right;\">\n",
       "      <th></th>\n",
       "      <th>Source</th>\n",
       "      <th>Target</th>\n",
       "      <th>DistanceMetric.WMD</th>\n",
       "      <th>SimilarityMetric.WMD_sim</th>\n",
       "      <th>DistanceMetric.SCM</th>\n",
       "      <th>SimilarityMetric.SCM_sim</th>\n",
       "    </tr>\n",
       "  </thead>\n",
       "  <tbody>\n",
       "    <tr>\n",
       "      <th>0</th>\n",
       "      <td>RQ7-pre.txt</td>\n",
       "      <td>us900.c</td>\n",
       "      <td>0.680143</td>\n",
       "      <td>0.595187</td>\n",
       "      <td>0.921549</td>\n",
       "      <td>0.078451</td>\n",
       "    </tr>\n",
       "    <tr>\n",
       "      <th>1</th>\n",
       "      <td>RQ58-pre.txt</td>\n",
       "      <td>us3612.c</td>\n",
       "      <td>0.415183</td>\n",
       "      <td>0.706622</td>\n",
       "      <td>0.736255</td>\n",
       "      <td>0.263745</td>\n",
       "    </tr>\n",
       "    <tr>\n",
       "      <th>2</th>\n",
       "      <td>RQ48-pre.txt</td>\n",
       "      <td>us893.c</td>\n",
       "      <td>0.354683</td>\n",
       "      <td>0.738180</td>\n",
       "      <td>0.352155</td>\n",
       "      <td>0.647845</td>\n",
       "    </tr>\n",
       "    <tr>\n",
       "      <th>3</th>\n",
       "      <td>RQ58-pre.txt</td>\n",
       "      <td>us1060.c</td>\n",
       "      <td>0.258274</td>\n",
       "      <td>0.794739</td>\n",
       "      <td>0.631336</td>\n",
       "      <td>0.368664</td>\n",
       "    </tr>\n",
       "    <tr>\n",
       "      <th>4</th>\n",
       "      <td>RQ23-pre.txt</td>\n",
       "      <td>us1005.c</td>\n",
       "      <td>0.359392</td>\n",
       "      <td>0.735623</td>\n",
       "      <td>0.369689</td>\n",
       "      <td>0.630311</td>\n",
       "    </tr>\n",
       "  </tbody>\n",
       "</table>\n",
       "</div>"
      ],
      "text/plain": [
       "         Source    Target  DistanceMetric.WMD  SimilarityMetric.WMD_sim  \\\n",
       "0   RQ7-pre.txt   us900.c            0.680143                  0.595187   \n",
       "1  RQ58-pre.txt  us3612.c            0.415183                  0.706622   \n",
       "2  RQ48-pre.txt   us893.c            0.354683                  0.738180   \n",
       "3  RQ58-pre.txt  us1060.c            0.258274                  0.794739   \n",
       "4  RQ23-pre.txt  us1005.c            0.359392                  0.735623   \n",
       "\n",
       "   DistanceMetric.SCM  SimilarityMetric.SCM_sim  \n",
       "0            0.921549                  0.078451  \n",
       "1            0.736255                  0.263745  \n",
       "2            0.352155                  0.647845  \n",
       "3            0.631336                  0.368664  \n",
       "4            0.369689                  0.630311  "
      ]
     },
     "execution_count": null,
     "metadata": {},
     "output_type": "execute_result"
    }
   ],
   "source": [
    "#[step 2]NonGroundTruth Computation\n",
    "word2vec.ComputeDistanceArtifacts( sampling=True, samples = 50, metric_list = [DistanceMetric.WMD,DistanceMetric.SCM] )\n",
    "word2vec.df_nonground_link.head()"
   ]
  },
  {
   "cell_type": "code",
   "execution_count": null,
   "metadata": {},
   "outputs": [
    {
     "name": "stderr",
     "output_type": "stream",
     "text": [
      "2020-06-10 18:08:20,555 : INFO : Saving in...test_data/[libest-VectorizationType.word2vec-LinkType.req2tc-False-1591812500.551167].csv\n"
     ]
    }
   ],
   "source": [
    "#[step 3]Saving Non-GroundTruth Links\n",
    "word2vec.SaveLinks()"
   ]
  },
  {
   "cell_type": "code",
   "execution_count": null,
   "metadata": {},
   "outputs": [
    {
     "name": "stderr",
     "output_type": "stream",
     "text": [
      "2020-06-10 18:08:48,927 : INFO : Loading computed links from... test_data/[libest-VectorizationType.word2vec-LinkType.req2tc-False-1591812500.551167].csv\n"
     ]
    },
    {
     "data": {
      "text/html": [
       "<div>\n",
       "<style scoped>\n",
       "    .dataframe tbody tr th:only-of-type {\n",
       "        vertical-align: middle;\n",
       "    }\n",
       "\n",
       "    .dataframe tbody tr th {\n",
       "        vertical-align: top;\n",
       "    }\n",
       "\n",
       "    .dataframe thead th {\n",
       "        text-align: right;\n",
       "    }\n",
       "</style>\n",
       "<table border=\"1\" class=\"dataframe\">\n",
       "  <thead>\n",
       "    <tr style=\"text-align: right;\">\n",
       "      <th></th>\n",
       "      <th>Source</th>\n",
       "      <th>Target</th>\n",
       "      <th>DistanceMetric.WMD</th>\n",
       "      <th>SimilarityMetric.WMD_sim</th>\n",
       "      <th>DistanceMetric.SCM</th>\n",
       "      <th>SimilarityMetric.SCM_sim</th>\n",
       "    </tr>\n",
       "  </thead>\n",
       "  <tbody>\n",
       "    <tr>\n",
       "      <th>0</th>\n",
       "      <td>RQ7-pre.txt</td>\n",
       "      <td>us900.c</td>\n",
       "      <td>0.680143</td>\n",
       "      <td>0.595187</td>\n",
       "      <td>0.921549</td>\n",
       "      <td>0.078451</td>\n",
       "    </tr>\n",
       "    <tr>\n",
       "      <th>1</th>\n",
       "      <td>RQ58-pre.txt</td>\n",
       "      <td>us3612.c</td>\n",
       "      <td>0.415183</td>\n",
       "      <td>0.706622</td>\n",
       "      <td>0.736255</td>\n",
       "      <td>0.263745</td>\n",
       "    </tr>\n",
       "    <tr>\n",
       "      <th>2</th>\n",
       "      <td>RQ48-pre.txt</td>\n",
       "      <td>us893.c</td>\n",
       "      <td>0.354683</td>\n",
       "      <td>0.738180</td>\n",
       "      <td>0.352155</td>\n",
       "      <td>0.647845</td>\n",
       "    </tr>\n",
       "    <tr>\n",
       "      <th>3</th>\n",
       "      <td>RQ58-pre.txt</td>\n",
       "      <td>us1060.c</td>\n",
       "      <td>0.258274</td>\n",
       "      <td>0.794739</td>\n",
       "      <td>0.631336</td>\n",
       "      <td>0.368664</td>\n",
       "    </tr>\n",
       "    <tr>\n",
       "      <th>4</th>\n",
       "      <td>RQ23-pre.txt</td>\n",
       "      <td>us1005.c</td>\n",
       "      <td>0.359392</td>\n",
       "      <td>0.735623</td>\n",
       "      <td>0.369689</td>\n",
       "      <td>0.630311</td>\n",
       "    </tr>\n",
       "  </tbody>\n",
       "</table>\n",
       "</div>"
      ],
      "text/plain": [
       "         Source    Target  DistanceMetric.WMD  SimilarityMetric.WMD_sim  \\\n",
       "0   RQ7-pre.txt   us900.c            0.680143                  0.595187   \n",
       "1  RQ58-pre.txt  us3612.c            0.415183                  0.706622   \n",
       "2  RQ48-pre.txt   us893.c            0.354683                  0.738180   \n",
       "3  RQ58-pre.txt  us1060.c            0.258274                  0.794739   \n",
       "4  RQ23-pre.txt  us1005.c            0.359392                  0.735623   \n",
       "\n",
       "   DistanceMetric.SCM  SimilarityMetric.SCM_sim  \n",
       "0            0.921549                  0.078451  \n",
       "1            0.736255                  0.263745  \n",
       "2            0.352155                  0.647845  \n",
       "3            0.631336                  0.368664  \n",
       "4            0.369689                  0.630311  "
      ]
     },
     "execution_count": null,
     "metadata": {},
     "output_type": "execute_result"
    }
   ],
   "source": [
    "#Loading Non-GroundTruth Links (change the timestamp with the assigned in the previous step)\n",
    "df_nonglinks = LoadLinks(timestamp=1591812500.551167, params=parameters)\n",
    "df_nonglinks.head()"
   ]
  },
  {
   "cell_type": "code",
   "execution_count": null,
   "metadata": {},
   "outputs": [
    {
     "name": "stderr",
     "output_type": "stream",
     "text": [
      "2020-06-10 18:08:54,535 : INFO : Groundtruth links computed\n"
     ]
    },
    {
     "data": {
      "text/html": [
       "<div>\n",
       "<style scoped>\n",
       "    .dataframe tbody tr th:only-of-type {\n",
       "        vertical-align: middle;\n",
       "    }\n",
       "\n",
       "    .dataframe tbody tr th {\n",
       "        vertical-align: top;\n",
       "    }\n",
       "\n",
       "    .dataframe thead th {\n",
       "        text-align: right;\n",
       "    }\n",
       "</style>\n",
       "<table border=\"1\" class=\"dataframe\">\n",
       "  <thead>\n",
       "    <tr style=\"text-align: right;\">\n",
       "      <th></th>\n",
       "      <th>Source</th>\n",
       "      <th>Target</th>\n",
       "      <th>DistanceMetric.WMD</th>\n",
       "      <th>SimilarityMetric.WMD_sim</th>\n",
       "      <th>DistanceMetric.SCM</th>\n",
       "      <th>SimilarityMetric.SCM_sim</th>\n",
       "      <th>Linked?</th>\n",
       "    </tr>\n",
       "  </thead>\n",
       "  <tbody>\n",
       "    <tr>\n",
       "      <th>0</th>\n",
       "      <td>RQ7-pre.txt</td>\n",
       "      <td>us900.c</td>\n",
       "      <td>0.680143</td>\n",
       "      <td>0.595187</td>\n",
       "      <td>0.921549</td>\n",
       "      <td>0.078451</td>\n",
       "      <td>0.0</td>\n",
       "    </tr>\n",
       "    <tr>\n",
       "      <th>1</th>\n",
       "      <td>RQ58-pre.txt</td>\n",
       "      <td>us3612.c</td>\n",
       "      <td>0.415183</td>\n",
       "      <td>0.706622</td>\n",
       "      <td>0.736255</td>\n",
       "      <td>0.263745</td>\n",
       "      <td>0.0</td>\n",
       "    </tr>\n",
       "    <tr>\n",
       "      <th>2</th>\n",
       "      <td>RQ48-pre.txt</td>\n",
       "      <td>us893.c</td>\n",
       "      <td>0.354683</td>\n",
       "      <td>0.738180</td>\n",
       "      <td>0.352155</td>\n",
       "      <td>0.647845</td>\n",
       "      <td>1.0</td>\n",
       "    </tr>\n",
       "    <tr>\n",
       "      <th>3</th>\n",
       "      <td>RQ58-pre.txt</td>\n",
       "      <td>us1060.c</td>\n",
       "      <td>0.258274</td>\n",
       "      <td>0.794739</td>\n",
       "      <td>0.631336</td>\n",
       "      <td>0.368664</td>\n",
       "      <td>0.0</td>\n",
       "    </tr>\n",
       "    <tr>\n",
       "      <th>4</th>\n",
       "      <td>RQ23-pre.txt</td>\n",
       "      <td>us1005.c</td>\n",
       "      <td>0.359392</td>\n",
       "      <td>0.735623</td>\n",
       "      <td>0.369689</td>\n",
       "      <td>0.630311</td>\n",
       "      <td>1.0</td>\n",
       "    </tr>\n",
       "    <tr>\n",
       "      <th>5</th>\n",
       "      <td>RQ22-pre.txt</td>\n",
       "      <td>us897.c</td>\n",
       "      <td>0.535448</td>\n",
       "      <td>0.651276</td>\n",
       "      <td>0.709897</td>\n",
       "      <td>0.290103</td>\n",
       "      <td>1.0</td>\n",
       "    </tr>\n",
       "    <tr>\n",
       "      <th>6</th>\n",
       "      <td>RQ24-pre.txt</td>\n",
       "      <td>us1159.c</td>\n",
       "      <td>0.441503</td>\n",
       "      <td>0.693721</td>\n",
       "      <td>0.694179</td>\n",
       "      <td>0.305821</td>\n",
       "      <td>1.0</td>\n",
       "    </tr>\n",
       "    <tr>\n",
       "      <th>7</th>\n",
       "      <td>RQ1-pre.txt</td>\n",
       "      <td>us903.c</td>\n",
       "      <td>0.318199</td>\n",
       "      <td>0.758611</td>\n",
       "      <td>0.497516</td>\n",
       "      <td>0.502484</td>\n",
       "      <td>0.0</td>\n",
       "    </tr>\n",
       "    <tr>\n",
       "      <th>8</th>\n",
       "      <td>RQ9-pre.txt</td>\n",
       "      <td>us4020.c</td>\n",
       "      <td>0.547493</td>\n",
       "      <td>0.646207</td>\n",
       "      <td>0.744325</td>\n",
       "      <td>0.255675</td>\n",
       "      <td>0.0</td>\n",
       "    </tr>\n",
       "    <tr>\n",
       "      <th>9</th>\n",
       "      <td>RQ48-pre.txt</td>\n",
       "      <td>us4020.c</td>\n",
       "      <td>0.460795</td>\n",
       "      <td>0.684559</td>\n",
       "      <td>0.620370</td>\n",
       "      <td>0.379630</td>\n",
       "      <td>0.0</td>\n",
       "    </tr>\n",
       "    <tr>\n",
       "      <th>10</th>\n",
       "      <td>RQ29-pre.txt</td>\n",
       "      <td>us1005.c</td>\n",
       "      <td>0.364918</td>\n",
       "      <td>0.732645</td>\n",
       "      <td>0.494421</td>\n",
       "      <td>0.505579</td>\n",
       "      <td>1.0</td>\n",
       "    </tr>\n",
       "    <tr>\n",
       "      <th>11</th>\n",
       "      <td>RQ21-pre.txt</td>\n",
       "      <td>us2174.c</td>\n",
       "      <td>0.354808</td>\n",
       "      <td>0.738112</td>\n",
       "      <td>0.516438</td>\n",
       "      <td>0.483562</td>\n",
       "      <td>0.0</td>\n",
       "    </tr>\n",
       "    <tr>\n",
       "      <th>12</th>\n",
       "      <td>RQ52-pre.txt</td>\n",
       "      <td>us893.c</td>\n",
       "      <td>0.304634</td>\n",
       "      <td>0.766499</td>\n",
       "      <td>0.619154</td>\n",
       "      <td>0.380846</td>\n",
       "      <td>0.0</td>\n",
       "    </tr>\n",
       "    <tr>\n",
       "      <th>13</th>\n",
       "      <td>RQ14-pre.txt</td>\n",
       "      <td>us1883.c</td>\n",
       "      <td>0.259030</td>\n",
       "      <td>0.794262</td>\n",
       "      <td>0.460893</td>\n",
       "      <td>0.539107</td>\n",
       "      <td>0.0</td>\n",
       "    </tr>\n",
       "    <tr>\n",
       "      <th>14</th>\n",
       "      <td>RQ20-pre.txt</td>\n",
       "      <td>us3612.c</td>\n",
       "      <td>0.513734</td>\n",
       "      <td>0.660618</td>\n",
       "      <td>0.697776</td>\n",
       "      <td>0.302224</td>\n",
       "      <td>1.0</td>\n",
       "    </tr>\n",
       "    <tr>\n",
       "      <th>15</th>\n",
       "      <td>RQ19-pre.txt</td>\n",
       "      <td>us2174.c</td>\n",
       "      <td>0.295313</td>\n",
       "      <td>0.772014</td>\n",
       "      <td>0.664126</td>\n",
       "      <td>0.335874</td>\n",
       "      <td>0.0</td>\n",
       "    </tr>\n",
       "    <tr>\n",
       "      <th>16</th>\n",
       "      <td>RQ11-pre.txt</td>\n",
       "      <td>us3496.c</td>\n",
       "      <td>0.533299</td>\n",
       "      <td>0.652188</td>\n",
       "      <td>0.768280</td>\n",
       "      <td>0.231720</td>\n",
       "      <td>0.0</td>\n",
       "    </tr>\n",
       "    <tr>\n",
       "      <th>17</th>\n",
       "      <td>RQ13-pre.txt</td>\n",
       "      <td>us3612.c</td>\n",
       "      <td>0.463547</td>\n",
       "      <td>0.683272</td>\n",
       "      <td>0.698693</td>\n",
       "      <td>0.301307</td>\n",
       "      <td>0.0</td>\n",
       "    </tr>\n",
       "    <tr>\n",
       "      <th>18</th>\n",
       "      <td>RQ2-pre.txt</td>\n",
       "      <td>us896.c</td>\n",
       "      <td>0.460689</td>\n",
       "      <td>0.684609</td>\n",
       "      <td>0.735930</td>\n",
       "      <td>0.264070</td>\n",
       "      <td>0.0</td>\n",
       "    </tr>\n",
       "    <tr>\n",
       "      <th>19</th>\n",
       "      <td>RQ42-pre.txt</td>\n",
       "      <td>us1159.c</td>\n",
       "      <td>0.456941</td>\n",
       "      <td>0.686369</td>\n",
       "      <td>0.625878</td>\n",
       "      <td>0.374122</td>\n",
       "      <td>0.0</td>\n",
       "    </tr>\n",
       "    <tr>\n",
       "      <th>20</th>\n",
       "      <td>RQ39-pre.txt</td>\n",
       "      <td>us898.c</td>\n",
       "      <td>0.510861</td>\n",
       "      <td>0.661874</td>\n",
       "      <td>0.752468</td>\n",
       "      <td>0.247532</td>\n",
       "      <td>0.0</td>\n",
       "    </tr>\n",
       "    <tr>\n",
       "      <th>21</th>\n",
       "      <td>RQ33-pre.txt</td>\n",
       "      <td>us1005.c</td>\n",
       "      <td>0.377087</td>\n",
       "      <td>0.726171</td>\n",
       "      <td>0.504504</td>\n",
       "      <td>0.495496</td>\n",
       "      <td>1.0</td>\n",
       "    </tr>\n",
       "    <tr>\n",
       "      <th>22</th>\n",
       "      <td>RQ26-pre.txt</td>\n",
       "      <td>us894.c</td>\n",
       "      <td>0.438121</td>\n",
       "      <td>0.695352</td>\n",
       "      <td>0.453300</td>\n",
       "      <td>0.546700</td>\n",
       "      <td>1.0</td>\n",
       "    </tr>\n",
       "    <tr>\n",
       "      <th>23</th>\n",
       "      <td>RQ21-pre.txt</td>\n",
       "      <td>us1005.c</td>\n",
       "      <td>0.372488</td>\n",
       "      <td>0.728604</td>\n",
       "      <td>0.468025</td>\n",
       "      <td>0.531975</td>\n",
       "      <td>0.0</td>\n",
       "    </tr>\n",
       "    <tr>\n",
       "      <th>24</th>\n",
       "      <td>RQ49-pre.txt</td>\n",
       "      <td>us895.c</td>\n",
       "      <td>0.507028</td>\n",
       "      <td>0.663558</td>\n",
       "      <td>0.873409</td>\n",
       "      <td>0.126591</td>\n",
       "      <td>0.0</td>\n",
       "    </tr>\n",
       "    <tr>\n",
       "      <th>25</th>\n",
       "      <td>RQ11-pre.txt</td>\n",
       "      <td>us897.c</td>\n",
       "      <td>0.521065</td>\n",
       "      <td>0.657434</td>\n",
       "      <td>0.748747</td>\n",
       "      <td>0.251253</td>\n",
       "      <td>0.0</td>\n",
       "    </tr>\n",
       "    <tr>\n",
       "      <th>26</th>\n",
       "      <td>RQ55-pre.txt</td>\n",
       "      <td>us1060.c</td>\n",
       "      <td>0.283144</td>\n",
       "      <td>0.779336</td>\n",
       "      <td>0.684990</td>\n",
       "      <td>0.315010</td>\n",
       "      <td>0.0</td>\n",
       "    </tr>\n",
       "    <tr>\n",
       "      <th>27</th>\n",
       "      <td>RQ14-pre.txt</td>\n",
       "      <td>us748.c</td>\n",
       "      <td>0.300034</td>\n",
       "      <td>0.769211</td>\n",
       "      <td>0.492374</td>\n",
       "      <td>0.507626</td>\n",
       "      <td>0.0</td>\n",
       "    </tr>\n",
       "    <tr>\n",
       "      <th>28</th>\n",
       "      <td>RQ6-pre.txt</td>\n",
       "      <td>us901.c</td>\n",
       "      <td>0.481427</td>\n",
       "      <td>0.675025</td>\n",
       "      <td>0.479564</td>\n",
       "      <td>0.520436</td>\n",
       "      <td>0.0</td>\n",
       "    </tr>\n",
       "    <tr>\n",
       "      <th>29</th>\n",
       "      <td>RQ6-pre.txt</td>\n",
       "      <td>us900.c</td>\n",
       "      <td>0.689601</td>\n",
       "      <td>0.591856</td>\n",
       "      <td>0.927499</td>\n",
       "      <td>0.072501</td>\n",
       "      <td>1.0</td>\n",
       "    </tr>\n",
       "    <tr>\n",
       "      <th>30</th>\n",
       "      <td>RQ18-pre.txt</td>\n",
       "      <td>us1883.c</td>\n",
       "      <td>0.352401</td>\n",
       "      <td>0.739426</td>\n",
       "      <td>0.365173</td>\n",
       "      <td>0.634827</td>\n",
       "      <td>0.0</td>\n",
       "    </tr>\n",
       "    <tr>\n",
       "      <th>31</th>\n",
       "      <td>RQ28-pre.txt</td>\n",
       "      <td>us897.c</td>\n",
       "      <td>0.509866</td>\n",
       "      <td>0.662310</td>\n",
       "      <td>0.714451</td>\n",
       "      <td>0.285549</td>\n",
       "      <td>0.0</td>\n",
       "    </tr>\n",
       "    <tr>\n",
       "      <th>32</th>\n",
       "      <td>RQ13-pre.txt</td>\n",
       "      <td>us1159.c</td>\n",
       "      <td>0.460421</td>\n",
       "      <td>0.684734</td>\n",
       "      <td>0.696807</td>\n",
       "      <td>0.303193</td>\n",
       "      <td>1.0</td>\n",
       "    </tr>\n",
       "    <tr>\n",
       "      <th>33</th>\n",
       "      <td>RQ17-pre.txt</td>\n",
       "      <td>us1060.c</td>\n",
       "      <td>0.291598</td>\n",
       "      <td>0.774235</td>\n",
       "      <td>0.509203</td>\n",
       "      <td>0.490797</td>\n",
       "      <td>0.0</td>\n",
       "    </tr>\n",
       "    <tr>\n",
       "      <th>34</th>\n",
       "      <td>RQ13-pre.txt</td>\n",
       "      <td>us3496.c</td>\n",
       "      <td>0.510049</td>\n",
       "      <td>0.662230</td>\n",
       "      <td>0.740518</td>\n",
       "      <td>0.259482</td>\n",
       "      <td>0.0</td>\n",
       "    </tr>\n",
       "    <tr>\n",
       "      <th>35</th>\n",
       "      <td>RQ17-pre.txt</td>\n",
       "      <td>us3496.c</td>\n",
       "      <td>0.471293</td>\n",
       "      <td>0.679674</td>\n",
       "      <td>0.656842</td>\n",
       "      <td>0.343158</td>\n",
       "      <td>0.0</td>\n",
       "    </tr>\n",
       "    <tr>\n",
       "      <th>36</th>\n",
       "      <td>RQ4-pre.txt</td>\n",
       "      <td>us748.c</td>\n",
       "      <td>0.355424</td>\n",
       "      <td>0.737776</td>\n",
       "      <td>0.521149</td>\n",
       "      <td>0.478851</td>\n",
       "      <td>0.0</td>\n",
       "    </tr>\n",
       "    <tr>\n",
       "      <th>37</th>\n",
       "      <td>RQ21-pre.txt</td>\n",
       "      <td>us896.c</td>\n",
       "      <td>0.511087</td>\n",
       "      <td>0.661775</td>\n",
       "      <td>0.749123</td>\n",
       "      <td>0.250877</td>\n",
       "      <td>0.0</td>\n",
       "    </tr>\n",
       "    <tr>\n",
       "      <th>38</th>\n",
       "      <td>RQ27-pre.txt</td>\n",
       "      <td>us897.c</td>\n",
       "      <td>0.501599</td>\n",
       "      <td>0.665957</td>\n",
       "      <td>0.696023</td>\n",
       "      <td>0.303977</td>\n",
       "      <td>0.0</td>\n",
       "    </tr>\n",
       "    <tr>\n",
       "      <th>39</th>\n",
       "      <td>RQ40-pre.txt</td>\n",
       "      <td>us1883.c</td>\n",
       "      <td>0.311806</td>\n",
       "      <td>0.762308</td>\n",
       "      <td>0.538875</td>\n",
       "      <td>0.461125</td>\n",
       "      <td>0.0</td>\n",
       "    </tr>\n",
       "    <tr>\n",
       "      <th>40</th>\n",
       "      <td>RQ19-pre.txt</td>\n",
       "      <td>us1864.c</td>\n",
       "      <td>0.323186</td>\n",
       "      <td>0.755752</td>\n",
       "      <td>0.654641</td>\n",
       "      <td>0.345359</td>\n",
       "      <td>0.0</td>\n",
       "    </tr>\n",
       "    <tr>\n",
       "      <th>41</th>\n",
       "      <td>RQ11-pre.txt</td>\n",
       "      <td>us748.c</td>\n",
       "      <td>0.339670</td>\n",
       "      <td>0.746453</td>\n",
       "      <td>0.512985</td>\n",
       "      <td>0.487015</td>\n",
       "      <td>1.0</td>\n",
       "    </tr>\n",
       "    <tr>\n",
       "      <th>42</th>\n",
       "      <td>RQ17-pre.txt</td>\n",
       "      <td>us3612.c</td>\n",
       "      <td>0.436513</td>\n",
       "      <td>0.696130</td>\n",
       "      <td>0.625109</td>\n",
       "      <td>0.374891</td>\n",
       "      <td>0.0</td>\n",
       "    </tr>\n",
       "    <tr>\n",
       "      <th>43</th>\n",
       "      <td>RQ33-pre.txt</td>\n",
       "      <td>us748.c</td>\n",
       "      <td>0.375311</td>\n",
       "      <td>0.727108</td>\n",
       "      <td>0.534049</td>\n",
       "      <td>0.465951</td>\n",
       "      <td>1.0</td>\n",
       "    </tr>\n",
       "    <tr>\n",
       "      <th>44</th>\n",
       "      <td>RQ38-pre.txt</td>\n",
       "      <td>us898.c</td>\n",
       "      <td>0.449065</td>\n",
       "      <td>0.690100</td>\n",
       "      <td>0.662071</td>\n",
       "      <td>0.337929</td>\n",
       "      <td>1.0</td>\n",
       "    </tr>\n",
       "    <tr>\n",
       "      <th>45</th>\n",
       "      <td>RQ56-pre.txt</td>\n",
       "      <td>us3512.c</td>\n",
       "      <td>0.344141</td>\n",
       "      <td>0.743970</td>\n",
       "      <td>0.503493</td>\n",
       "      <td>0.496507</td>\n",
       "      <td>1.0</td>\n",
       "    </tr>\n",
       "    <tr>\n",
       "      <th>46</th>\n",
       "      <td>RQ41-pre.txt</td>\n",
       "      <td>us1005.c</td>\n",
       "      <td>0.361747</td>\n",
       "      <td>0.734351</td>\n",
       "      <td>0.505597</td>\n",
       "      <td>0.494403</td>\n",
       "      <td>1.0</td>\n",
       "    </tr>\n",
       "    <tr>\n",
       "      <th>47</th>\n",
       "      <td>RQ25-pre.txt</td>\n",
       "      <td>us1864.c</td>\n",
       "      <td>0.329521</td>\n",
       "      <td>0.752150</td>\n",
       "      <td>0.502879</td>\n",
       "      <td>0.497121</td>\n",
       "      <td>0.0</td>\n",
       "    </tr>\n",
       "    <tr>\n",
       "      <th>48</th>\n",
       "      <td>RQ52-pre.txt</td>\n",
       "      <td>us4020.c</td>\n",
       "      <td>0.427587</td>\n",
       "      <td>0.700483</td>\n",
       "      <td>0.809315</td>\n",
       "      <td>0.190685</td>\n",
       "      <td>0.0</td>\n",
       "    </tr>\n",
       "    <tr>\n",
       "      <th>49</th>\n",
       "      <td>RQ17-pre.txt</td>\n",
       "      <td>us4020.c</td>\n",
       "      <td>0.453743</td>\n",
       "      <td>0.687880</td>\n",
       "      <td>0.696399</td>\n",
       "      <td>0.303601</td>\n",
       "      <td>0.0</td>\n",
       "    </tr>\n",
       "  </tbody>\n",
       "</table>\n",
       "</div>"
      ],
      "text/plain": [
       "          Source    Target  DistanceMetric.WMD  SimilarityMetric.WMD_sim  \\\n",
       "0    RQ7-pre.txt   us900.c            0.680143                  0.595187   \n",
       "1   RQ58-pre.txt  us3612.c            0.415183                  0.706622   \n",
       "2   RQ48-pre.txt   us893.c            0.354683                  0.738180   \n",
       "3   RQ58-pre.txt  us1060.c            0.258274                  0.794739   \n",
       "4   RQ23-pre.txt  us1005.c            0.359392                  0.735623   \n",
       "5   RQ22-pre.txt   us897.c            0.535448                  0.651276   \n",
       "6   RQ24-pre.txt  us1159.c            0.441503                  0.693721   \n",
       "7    RQ1-pre.txt   us903.c            0.318199                  0.758611   \n",
       "8    RQ9-pre.txt  us4020.c            0.547493                  0.646207   \n",
       "9   RQ48-pre.txt  us4020.c            0.460795                  0.684559   \n",
       "10  RQ29-pre.txt  us1005.c            0.364918                  0.732645   \n",
       "11  RQ21-pre.txt  us2174.c            0.354808                  0.738112   \n",
       "12  RQ52-pre.txt   us893.c            0.304634                  0.766499   \n",
       "13  RQ14-pre.txt  us1883.c            0.259030                  0.794262   \n",
       "14  RQ20-pre.txt  us3612.c            0.513734                  0.660618   \n",
       "15  RQ19-pre.txt  us2174.c            0.295313                  0.772014   \n",
       "16  RQ11-pre.txt  us3496.c            0.533299                  0.652188   \n",
       "17  RQ13-pre.txt  us3612.c            0.463547                  0.683272   \n",
       "18   RQ2-pre.txt   us896.c            0.460689                  0.684609   \n",
       "19  RQ42-pre.txt  us1159.c            0.456941                  0.686369   \n",
       "20  RQ39-pre.txt   us898.c            0.510861                  0.661874   \n",
       "21  RQ33-pre.txt  us1005.c            0.377087                  0.726171   \n",
       "22  RQ26-pre.txt   us894.c            0.438121                  0.695352   \n",
       "23  RQ21-pre.txt  us1005.c            0.372488                  0.728604   \n",
       "24  RQ49-pre.txt   us895.c            0.507028                  0.663558   \n",
       "25  RQ11-pre.txt   us897.c            0.521065                  0.657434   \n",
       "26  RQ55-pre.txt  us1060.c            0.283144                  0.779336   \n",
       "27  RQ14-pre.txt   us748.c            0.300034                  0.769211   \n",
       "28   RQ6-pre.txt   us901.c            0.481427                  0.675025   \n",
       "29   RQ6-pre.txt   us900.c            0.689601                  0.591856   \n",
       "30  RQ18-pre.txt  us1883.c            0.352401                  0.739426   \n",
       "31  RQ28-pre.txt   us897.c            0.509866                  0.662310   \n",
       "32  RQ13-pre.txt  us1159.c            0.460421                  0.684734   \n",
       "33  RQ17-pre.txt  us1060.c            0.291598                  0.774235   \n",
       "34  RQ13-pre.txt  us3496.c            0.510049                  0.662230   \n",
       "35  RQ17-pre.txt  us3496.c            0.471293                  0.679674   \n",
       "36   RQ4-pre.txt   us748.c            0.355424                  0.737776   \n",
       "37  RQ21-pre.txt   us896.c            0.511087                  0.661775   \n",
       "38  RQ27-pre.txt   us897.c            0.501599                  0.665957   \n",
       "39  RQ40-pre.txt  us1883.c            0.311806                  0.762308   \n",
       "40  RQ19-pre.txt  us1864.c            0.323186                  0.755752   \n",
       "41  RQ11-pre.txt   us748.c            0.339670                  0.746453   \n",
       "42  RQ17-pre.txt  us3612.c            0.436513                  0.696130   \n",
       "43  RQ33-pre.txt   us748.c            0.375311                  0.727108   \n",
       "44  RQ38-pre.txt   us898.c            0.449065                  0.690100   \n",
       "45  RQ56-pre.txt  us3512.c            0.344141                  0.743970   \n",
       "46  RQ41-pre.txt  us1005.c            0.361747                  0.734351   \n",
       "47  RQ25-pre.txt  us1864.c            0.329521                  0.752150   \n",
       "48  RQ52-pre.txt  us4020.c            0.427587                  0.700483   \n",
       "49  RQ17-pre.txt  us4020.c            0.453743                  0.687880   \n",
       "\n",
       "    DistanceMetric.SCM  SimilarityMetric.SCM_sim  Linked?  \n",
       "0             0.921549                  0.078451      0.0  \n",
       "1             0.736255                  0.263745      0.0  \n",
       "2             0.352155                  0.647845      1.0  \n",
       "3             0.631336                  0.368664      0.0  \n",
       "4             0.369689                  0.630311      1.0  \n",
       "5             0.709897                  0.290103      1.0  \n",
       "6             0.694179                  0.305821      1.0  \n",
       "7             0.497516                  0.502484      0.0  \n",
       "8             0.744325                  0.255675      0.0  \n",
       "9             0.620370                  0.379630      0.0  \n",
       "10            0.494421                  0.505579      1.0  \n",
       "11            0.516438                  0.483562      0.0  \n",
       "12            0.619154                  0.380846      0.0  \n",
       "13            0.460893                  0.539107      0.0  \n",
       "14            0.697776                  0.302224      1.0  \n",
       "15            0.664126                  0.335874      0.0  \n",
       "16            0.768280                  0.231720      0.0  \n",
       "17            0.698693                  0.301307      0.0  \n",
       "18            0.735930                  0.264070      0.0  \n",
       "19            0.625878                  0.374122      0.0  \n",
       "20            0.752468                  0.247532      0.0  \n",
       "21            0.504504                  0.495496      1.0  \n",
       "22            0.453300                  0.546700      1.0  \n",
       "23            0.468025                  0.531975      0.0  \n",
       "24            0.873409                  0.126591      0.0  \n",
       "25            0.748747                  0.251253      0.0  \n",
       "26            0.684990                  0.315010      0.0  \n",
       "27            0.492374                  0.507626      0.0  \n",
       "28            0.479564                  0.520436      0.0  \n",
       "29            0.927499                  0.072501      1.0  \n",
       "30            0.365173                  0.634827      0.0  \n",
       "31            0.714451                  0.285549      0.0  \n",
       "32            0.696807                  0.303193      1.0  \n",
       "33            0.509203                  0.490797      0.0  \n",
       "34            0.740518                  0.259482      0.0  \n",
       "35            0.656842                  0.343158      0.0  \n",
       "36            0.521149                  0.478851      0.0  \n",
       "37            0.749123                  0.250877      0.0  \n",
       "38            0.696023                  0.303977      0.0  \n",
       "39            0.538875                  0.461125      0.0  \n",
       "40            0.654641                  0.345359      0.0  \n",
       "41            0.512985                  0.487015      1.0  \n",
       "42            0.625109                  0.374891      0.0  \n",
       "43            0.534049                  0.465951      1.0  \n",
       "44            0.662071                  0.337929      1.0  \n",
       "45            0.503493                  0.496507      1.0  \n",
       "46            0.505597                  0.494403      1.0  \n",
       "47            0.502879                  0.497121      0.0  \n",
       "48            0.809315                  0.190685      0.0  \n",
       "49            0.696399                  0.303601      0.0  "
      ]
     },
     "execution_count": null,
     "metadata": {},
     "output_type": "execute_result"
    }
   ],
   "source": [
    "#[step 4]GroundTruthMatching Testing\n",
    "path_to_ground_truth = '/tf/main/benchmarking/traceability/testbeds/groundtruth/english/[libest-ground-req-to-tc].txt'\n",
    "word2vec.MatchWithGroundTruth(path_to_ground_truth)\n",
    "word2vec.df_ground_link"
   ]
  },
  {
   "cell_type": "code",
   "execution_count": null,
   "metadata": {},
   "outputs": [
    {
     "data": {
      "text/plain": [
       "('RQ33.txt', 'us894.c')"
      ]
     },
     "execution_count": null,
     "metadata": {},
     "output_type": "execute_result"
    }
   ],
   "source": [
    "#[optional]GroundTruth Direct Processing\n",
    "ground_links = word2vec.ground_truth_processing(path_to_ground_truth)\n",
    "ground_links[141] # A tuple"
   ]
  },
  {
   "cell_type": "code",
   "execution_count": null,
   "metadata": {},
   "outputs": [
    {
     "data": {
      "text/plain": [
       "'RQ33-'"
      ]
     },
     "execution_count": null,
     "metadata": {},
     "output_type": "execute_result"
    }
   ],
   "source": [
    "#Inspecting Source\n",
    "ground_links[141][0][:ground_links[141][0].find('.')] + '-'"
   ]
  },
  {
   "cell_type": "code",
   "execution_count": null,
   "metadata": {},
   "outputs": [
    {
     "data": {
      "text/plain": [
       "'us894'"
      ]
     },
     "execution_count": null,
     "metadata": {},
     "output_type": "execute_result"
    }
   ],
   "source": [
    "#Inspecting Target\n",
    "ground_links[141][1][:ground_links[141][1].find('.')]"
   ]
  },
  {
   "cell_type": "code",
   "execution_count": null,
   "metadata": {},
   "outputs": [
    {
     "name": "stderr",
     "output_type": "stream",
     "text": [
      "2020-06-09 19:12:16,394 : INFO : Saving in...test_data/[libest-VectorizationType.word2vec-LinkType.req2tc-True-1591729936.391725].csv\n"
     ]
    }
   ],
   "source": [
    "#[step 5]Saving GroundTruth Links\n",
    "word2vec.SaveLinks(grtruth = True)"
   ]
  },
  {
   "cell_type": "code",
   "execution_count": null,
   "metadata": {},
   "outputs": [
    {
     "name": "stderr",
     "output_type": "stream",
     "text": [
      "2020-06-09 19:12:26,547 : INFO : Loading computed links from... test_data/[libest-VectorizationType.word2vec-LinkType.req2tc-True-1591729936.391725].csv\n"
     ]
    },
    {
     "data": {
      "text/html": [
       "<div>\n",
       "<style scoped>\n",
       "    .dataframe tbody tr th:only-of-type {\n",
       "        vertical-align: middle;\n",
       "    }\n",
       "\n",
       "    .dataframe tbody tr th {\n",
       "        vertical-align: top;\n",
       "    }\n",
       "\n",
       "    .dataframe thead th {\n",
       "        text-align: right;\n",
       "    }\n",
       "</style>\n",
       "<table border=\"1\" class=\"dataframe\">\n",
       "  <thead>\n",
       "    <tr style=\"text-align: right;\">\n",
       "      <th></th>\n",
       "      <th>Source</th>\n",
       "      <th>Target</th>\n",
       "      <th>DistanceMetric.WMD</th>\n",
       "      <th>SimilarityMetric.WMD_sim</th>\n",
       "      <th>Linked?</th>\n",
       "    </tr>\n",
       "  </thead>\n",
       "  <tbody>\n",
       "    <tr>\n",
       "      <th>0</th>\n",
       "      <td>RQ11-pre.txt</td>\n",
       "      <td>us4020.c</td>\n",
       "      <td>0.498776</td>\n",
       "      <td>0.667211</td>\n",
       "      <td>1</td>\n",
       "    </tr>\n",
       "    <tr>\n",
       "      <th>1</th>\n",
       "      <td>RQ51-pre.txt</td>\n",
       "      <td>us4020.c</td>\n",
       "      <td>0.418114</td>\n",
       "      <td>0.705162</td>\n",
       "      <td>1</td>\n",
       "    </tr>\n",
       "  </tbody>\n",
       "</table>\n",
       "</div>"
      ],
      "text/plain": [
       "         Source    Target  DistanceMetric.WMD  SimilarityMetric.WMD_sim  \\\n",
       "0  RQ11-pre.txt  us4020.c            0.498776                  0.667211   \n",
       "1  RQ51-pre.txt  us4020.c            0.418114                  0.705162   \n",
       "\n",
       "   Linked?  \n",
       "0        1  \n",
       "1        1  "
      ]
     },
     "execution_count": null,
     "metadata": {},
     "output_type": "execute_result"
    }
   ],
   "source": [
    "#Loading Non-GroundTruth Links (change the timestamp with the assigned in the previous step)\n",
    "df_glinks = LoadLinks(timestamp=1591729936.391725, params=parameters,grtruth = True)\n",
    "df_glinks.head()"
   ]
  },
  {
   "cell_type": "markdown",
   "metadata": {},
   "source": [
    "# Approach Evaluation and Interpretation (word2vec)\n",
    "Classification/evaluation metrics for highly imbalanced data [(see Forum)](https://stats.stackexchange.com/questions/222558/classification-evaluation-metrics-for-highly-imbalanced-data)."
   ]
  },
  {
   "cell_type": "code",
   "execution_count": null,
   "metadata": {},
   "outputs": [],
   "source": [
    "#export\n",
    "class VectorEvaluation():\n",
    "    '''Approaches Common Evaluations and Interpretations (statistical analysis)'''\n",
    "    def __init__(self, sequenceVectorization):\n",
    "        self.seqVect = sequenceVectorization"
   ]
  },
  {
   "cell_type": "code",
   "execution_count": null,
   "metadata": {},
   "outputs": [],
   "source": [
    "#export\n",
    "class SupervisedVectorEvaluation(VectorEvaluation):\n",
    "    def __init__(self, sequenceVectorization, similarity):\n",
    "        super().__init__(sequenceVectorization)\n",
    "        self.y_test = sequenceVectorization.df_ground_link['Linked?'].values\n",
    "        self.y_score = sequenceVectorization.df_ground_link[similarity].values\n",
    "        self.label = str(sequenceVectorization.params['vectorizationType'])+'-'+str(similarity)\n",
    "        pass\n",
    "    \n",
    "    def Compute_precision_recall_gain(self):\n",
    "        '''One might choose PRG if there is little interest in identifying false negatives '''\n",
    "        prg_curve = prg.create_prg_curve(self.y_test, self.y_score)\n",
    "        auprg = prg.calc_auprg(prg_curve)\n",
    "        prg.plot_prg(prg_curve)\n",
    "        logging.info('auprg:  %.3f' %  auprg)\n",
    "        logging.info(\"compute_precision_recall_gain Complete\")\n",
    "        pass\n",
    "    \n",
    "    def Compute_avg_precision(self):\n",
    "        '''Generated precision-recall curve'''\n",
    "        %matplotlib inline\n",
    "        # calculate the no skill line as the proportion of the positive class\n",
    "        no_skill = len(self.y_test[self.y_test==1]) / len(self.y_test)\n",
    "        plt.plot([0, 1], [no_skill, no_skill], linestyle='--', label='No Skill') #reference curve\n",
    "        precision, recall, _ = precision_recall_curve(self.y_test, self.y_score) #compute precision-recall curve\n",
    "        plt.plot(recall, precision, marker='.', label = self.label) #plot model curve\n",
    "        plt.xlabel('Recall')\n",
    "        plt.ylabel('Precision')\n",
    "        plt.legend() #show the legend\n",
    "        plt.show() #show the plot\n",
    "\n",
    "        average_precision = average_precision_score(self.y_test, self.y_score)\n",
    "        auc_score = auc(recall, precision)\n",
    "        logging.info('Average precision-recall score: {0:0.2f}'.format(average_precision))\n",
    "        logging.info('Precision-Recall AUC: %.3f' % auc_score)\n",
    "        #logging.info(\"compute_precision_recall_gain Complete\")\n",
    "        pass\n",
    "    \n",
    "    def Compute_roc_curve(self):\n",
    "        %matplotlib inline\n",
    "        plt.plot([0, 1], [0, 1], linestyle='--', label='No Skill') #reference curve\n",
    "        fpr, tpr, _ = roc_curve(self.y_test, self.y_score) #compute roc curve\n",
    "        plt.plot(fpr, tpr, marker='.', label=self.label) #plot model curve\n",
    "        plt.xlabel('False Positive Rate')\n",
    "        plt.ylabel('True Positive Rate')\n",
    "        plt.legend() #show the legend\n",
    "        plt.show() #show the plot\n",
    "\n",
    "        roc_auc = roc_auc_score(self.y_test, self.y_score)\n",
    "        logging.info('ROC AUC %.3f' % roc_auc)\n",
    "\n",
    "        pass"
   ]
  },
  {
   "cell_type": "code",
   "execution_count": null,
   "metadata": {},
   "outputs": [],
   "source": [
    "supevisedEval = SupervisedVectorEvaluation(word2vec, similarity=SimilarityMetric.SCM_sim)"
   ]
  },
  {
   "cell_type": "code",
   "execution_count": null,
   "metadata": {},
   "outputs": [
    {
     "data": {
      "text/plain": [
       "array([0., 0., 1., 0., 1., 1., 1., 0., 0., 0., 1., 0., 0., 0., 1., 0., 0.,\n",
       "       0., 0., 0., 0., 1., 1., 0., 0., 0., 0., 0., 0., 1., 0., 0., 1., 0.,\n",
       "       0., 0., 0., 0., 0., 0., 0., 1., 0., 1., 1., 1., 1., 0., 0., 0.])"
      ]
     },
     "execution_count": null,
     "metadata": {},
     "output_type": "execute_result"
    }
   ],
   "source": [
    "supevisedEval.y_test"
   ]
  },
  {
   "cell_type": "code",
   "execution_count": null,
   "metadata": {},
   "outputs": [
    {
     "data": {
      "text/plain": [
       "array([0.07845133, 0.26374456, 0.64784521, 0.36866382, 0.63031077,\n",
       "       0.29010326, 0.3058207 , 0.50248373, 0.25567511, 0.37962961,\n",
       "       0.5055787 , 0.48356244, 0.38084632, 0.53910714, 0.3022235 ,\n",
       "       0.33587378, 0.23171991, 0.30130732, 0.26407   , 0.37412241,\n",
       "       0.2475318 , 0.49549639, 0.54670042, 0.53197539, 0.12659086,\n",
       "       0.25125319, 0.31500998, 0.50762564, 0.52043569, 0.07250119,\n",
       "       0.63482744, 0.28554901, 0.30319259, 0.49079701, 0.25948158,\n",
       "       0.34315839, 0.47885129, 0.2508772 , 0.3039768 , 0.46112481,\n",
       "       0.34535933, 0.48701519, 0.37489104, 0.46595106, 0.33792901,\n",
       "       0.49650738, 0.49440292, 0.4971208 , 0.19068524, 0.30360138])"
      ]
     },
     "execution_count": null,
     "metadata": {},
     "output_type": "execute_result"
    }
   ],
   "source": [
    "supevisedEval.y_score"
   ]
  },
  {
   "cell_type": "markdown",
   "metadata": {},
   "source": [
    "## Confusion Matrix"
   ]
  },
  {
   "cell_type": "code",
   "execution_count": null,
   "metadata": {},
   "outputs": [],
   "source": [
    "y_score_threshold = [0 if elem<=0.8 else 1 for elem in supevisedEval.y_score] #Hardcoded 0.7 Threshold"
   ]
  },
  {
   "cell_type": "code",
   "execution_count": null,
   "metadata": {},
   "outputs": [],
   "source": [
    "#TODO a Variation threshold analysis\n",
    "tn, fp, fn, tp = confusion_matrix(supevisedEval.y_test, y_score_threshold).ravel()"
   ]
  },
  {
   "cell_type": "code",
   "execution_count": null,
   "metadata": {},
   "outputs": [
    {
     "data": {
      "text/plain": [
       "(35, 0, 15, 0)"
      ]
     },
     "execution_count": null,
     "metadata": {},
     "output_type": "execute_result"
    }
   ],
   "source": [
    "(tn, fp, fn, tp)"
   ]
  },
  {
   "cell_type": "markdown",
   "metadata": {},
   "source": [
    "## Precision-Racall-Gain\n",
    "Based on the library here: [link](https://github.com/meeliskull/prg/tree/master/Python_package). \n",
    "The area under traditional PR curves can easily favour models with lower expected F1 score than others, and so the use of Precision-Recall-Gain curves will result in better model selection [(Flach & Kull, 2015)](http://people.cs.bris.ac.uk/~flach//PRGcurves/).\n",
    "One might choose PRG if there is little interest in identifying false negatives [(from Blog)](https://medium.com/@alexabate/i-did-something-boring-so-you-dont-have-to-9140ca46c84d)."
   ]
  },
  {
   "cell_type": "code",
   "execution_count": null,
   "metadata": {},
   "outputs": [
    {
     "data": {
      "image/png": "[encoded data removed]",
      "text/plain": [
       "<Figure size 432x360 with 1 Axes>"
      ]
     },
     "metadata": {
      "needs_background": "light"
     },
     "output_type": "display_data"
    },
    {
     "name": "stderr",
     "output_type": "stream",
     "text": [
      "2020-06-10 18:10:32,860 : INFO : auprg:  0.388\n",
      "2020-06-10 18:10:32,861 : INFO : compute_precision_recall_gain Complete\n"
     ]
    }
   ],
   "source": [
    "supevisedEval.Compute_precision_recall_gain()"
   ]
  },
  {
   "cell_type": "markdown",
   "metadata": {},
   "source": [
    "## Compute the average precision score¶\n",
    "Precision is a metric that quantifies the number of correct positive predictions made.\n",
    "\n",
    "Recall is a metric that quantifies the number of correct positive predictions made out of all positive predictions that could have been made."
   ]
  },
  {
   "cell_type": "code",
   "execution_count": null,
   "metadata": {},
   "outputs": [
    {
     "data": {
      "image/png": "[encoded data removed]",
      "text/plain": [
       "<Figure size 432x288 with 1 Axes>"
      ]
     },
     "metadata": {
      "needs_background": "light"
     },
     "output_type": "display_data"
    },
    {
     "name": "stderr",
     "output_type": "stream",
     "text": [
      "2020-06-10 18:10:36,207 : INFO : Average precision-recall score: 0.49\n",
      "2020-06-10 18:10:36,208 : INFO : Precision-Recall AUC: 0.467\n"
     ]
    }
   ],
   "source": [
    "supevisedEval.Compute_avg_precision()"
   ]
  },
  {
   "cell_type": "markdown",
   "metadata": {},
   "source": [
    "## Compute ROC Curve\n",
    "An ROC curve (or receiver operating characteristic curve) is a plot that summarizes the performance of a binary classification model on the positive class [(see Blog)](https://machinelearningmastery.com/roc-curves-and-precision-recall-curves-for-imbalanced-classification/).\n",
    "\n",
    "Use ROC when both classes detection is equally important — When we want to give equal weight to both classes prediction ability we should look at the ROC curve [link](https://towardsdatascience.com/what-metrics-should-we-use-on-imbalanced-data-set-precision-recall-roc-e2e79252aeba)."
   ]
  },
  {
   "cell_type": "code",
   "execution_count": null,
   "metadata": {},
   "outputs": [
    {
     "data": {
      "image/png": "[encoded data removed]",
      "text/plain": [
       "<Figure size 432x288 with 1 Axes>"
      ]
     },
     "metadata": {
      "needs_background": "light"
     },
     "output_type": "display_data"
    },
    {
     "name": "stderr",
     "output_type": "stream",
     "text": [
      "2020-06-10 18:10:58,501 : INFO : ROC AUC 0.646\n"
     ]
    }
   ],
   "source": [
    "supevisedEval.Compute_roc_curve()"
   ]
  },
  {
   "cell_type": "markdown",
   "metadata": {},
   "source": [
    "## Compute distribution of similarities word2vec"
   ]
  },
  {
   "cell_type": "code",
   "execution_count": null,
   "metadata": {},
   "outputs": [
    {
     "data": {
      "text/html": [
       "<div>\n",
       "<style scoped>\n",
       "    .dataframe tbody tr th:only-of-type {\n",
       "        vertical-align: middle;\n",
       "    }\n",
       "\n",
       "    .dataframe tbody tr th {\n",
       "        vertical-align: top;\n",
       "    }\n",
       "\n",
       "    .dataframe thead th {\n",
       "        text-align: right;\n",
       "    }\n",
       "</style>\n",
       "<table border=\"1\" class=\"dataframe\">\n",
       "  <thead>\n",
       "    <tr style=\"text-align: right;\">\n",
       "      <th></th>\n",
       "      <th>DistanceMetric.WMD</th>\n",
       "      <th>SimilarityMetric.WMD_sim</th>\n",
       "      <th>DistanceMetric.SCM</th>\n",
       "      <th>SimilarityMetric.SCM_sim</th>\n",
       "      <th>Linked?</th>\n",
       "    </tr>\n",
       "  </thead>\n",
       "  <tbody>\n",
       "    <tr>\n",
       "      <th>count</th>\n",
       "      <td>50.000000</td>\n",
       "      <td>50.000000</td>\n",
       "      <td>50.000000</td>\n",
       "      <td>50.000000</td>\n",
       "      <td>50.00000</td>\n",
       "    </tr>\n",
       "    <tr>\n",
       "      <th>mean</th>\n",
       "      <td>0.419498</td>\n",
       "      <td>0.707771</td>\n",
       "      <td>0.622769</td>\n",
       "      <td>0.377231</td>\n",
       "      <td>0.30000</td>\n",
       "    </tr>\n",
       "    <tr>\n",
       "      <th>std</th>\n",
       "      <td>0.099211</td>\n",
       "      <td>0.048308</td>\n",
       "      <td>0.137919</td>\n",
       "      <td>0.137919</td>\n",
       "      <td>0.46291</td>\n",
       "    </tr>\n",
       "    <tr>\n",
       "      <th>min</th>\n",
       "      <td>0.258274</td>\n",
       "      <td>0.591856</td>\n",
       "      <td>0.352155</td>\n",
       "      <td>0.072501</td>\n",
       "      <td>0.00000</td>\n",
       "    </tr>\n",
       "    <tr>\n",
       "      <th>25%</th>\n",
       "      <td>0.346206</td>\n",
       "      <td>0.668224</td>\n",
       "      <td>0.504777</td>\n",
       "      <td>0.286688</td>\n",
       "      <td>0.00000</td>\n",
       "    </tr>\n",
       "    <tr>\n",
       "      <th>50%</th>\n",
       "      <td>0.432050</td>\n",
       "      <td>0.698306</td>\n",
       "      <td>0.642988</td>\n",
       "      <td>0.357012</td>\n",
       "      <td>0.00000</td>\n",
       "    </tr>\n",
       "    <tr>\n",
       "      <th>75%</th>\n",
       "      <td>0.496556</td>\n",
       "      <td>0.742834</td>\n",
       "      <td>0.713312</td>\n",
       "      <td>0.495223</td>\n",
       "      <td>1.00000</td>\n",
       "    </tr>\n",
       "    <tr>\n",
       "      <th>max</th>\n",
       "      <td>0.689601</td>\n",
       "      <td>0.794739</td>\n",
       "      <td>0.927499</td>\n",
       "      <td>0.647845</td>\n",
       "      <td>1.00000</td>\n",
       "    </tr>\n",
       "  </tbody>\n",
       "</table>\n",
       "</div>"
      ],
      "text/plain": [
       "       DistanceMetric.WMD  SimilarityMetric.WMD_sim  DistanceMetric.SCM  \\\n",
       "count           50.000000                 50.000000           50.000000   \n",
       "mean             0.419498                  0.707771            0.622769   \n",
       "std              0.099211                  0.048308            0.137919   \n",
       "min              0.258274                  0.591856            0.352155   \n",
       "25%              0.346206                  0.668224            0.504777   \n",
       "50%              0.432050                  0.698306            0.642988   \n",
       "75%              0.496556                  0.742834            0.713312   \n",
       "max              0.689601                  0.794739            0.927499   \n",
       "\n",
       "       SimilarityMetric.SCM_sim   Linked?  \n",
       "count                 50.000000  50.00000  \n",
       "mean                   0.377231   0.30000  \n",
       "std                    0.137919   0.46291  \n",
       "min                    0.072501   0.00000  \n",
       "25%                    0.286688   0.00000  \n",
       "50%                    0.357012   0.00000  \n",
       "75%                    0.495223   1.00000  \n",
       "max                    0.647845   1.00000  "
      ]
     },
     "execution_count": null,
     "metadata": {},
     "output_type": "execute_result"
    }
   ],
   "source": [
    "#Basic Statistics\n",
    "filter_metrics = word2vec.df_ground_link\n",
    "filter_metrics.describe()"
   ]
  },
  {
   "cell_type": "code",
   "execution_count": null,
   "metadata": {},
   "outputs": [
    {
     "data": {
      "text/plain": [
       "array([[<matplotlib.axes._subplots.AxesSubplot object at 0x7f33ce5a46d8>,\n",
       "        <matplotlib.axes._subplots.AxesSubplot object at 0x7f33cea7e630>,\n",
       "        <matplotlib.axes._subplots.AxesSubplot object at 0x7f33ceccc748>,\n",
       "        <matplotlib.axes._subplots.AxesSubplot object at 0x7f33ce55d630>,\n",
       "        <matplotlib.axes._subplots.AxesSubplot object at 0x7f33ca57b390>],\n",
       "       [<matplotlib.axes._subplots.AxesSubplot object at 0x7f33ce733d30>,\n",
       "        <matplotlib.axes._subplots.AxesSubplot object at 0x7f33ce6c7d30>,\n",
       "        <matplotlib.axes._subplots.AxesSubplot object at 0x7f33ce6bc6d8>,\n",
       "        <matplotlib.axes._subplots.AxesSubplot object at 0x7f33ce6bc438>,\n",
       "        <matplotlib.axes._subplots.AxesSubplot object at 0x7f33ce24d208>],\n",
       "       [<matplotlib.axes._subplots.AxesSubplot object at 0x7f33ceaf9e10>,\n",
       "        <matplotlib.axes._subplots.AxesSubplot object at 0x7f33ca7644a8>,\n",
       "        <matplotlib.axes._subplots.AxesSubplot object at 0x7f33ce77a358>,\n",
       "        <matplotlib.axes._subplots.AxesSubplot object at 0x7f33ca6ee908>,\n",
       "        <matplotlib.axes._subplots.AxesSubplot object at 0x7f33ce64feb8>],\n",
       "       [<matplotlib.axes._subplots.AxesSubplot object at 0x7f33ce3064a8>,\n",
       "        <matplotlib.axes._subplots.AxesSubplot object at 0x7f33ce461a58>,\n",
       "        <matplotlib.axes._subplots.AxesSubplot object at 0x7f33c9199048>,\n",
       "        <matplotlib.axes._subplots.AxesSubplot object at 0x7f33cec02d68>,\n",
       "        <matplotlib.axes._subplots.AxesSubplot object at 0x7f33ce89dba8>],\n",
       "       [<matplotlib.axes._subplots.AxesSubplot object at 0x7f33ce34b198>,\n",
       "        <matplotlib.axes._subplots.AxesSubplot object at 0x7f33ce434f98>,\n",
       "        <matplotlib.axes._subplots.AxesSubplot object at 0x7f33ce283cf8>,\n",
       "        <matplotlib.axes._subplots.AxesSubplot object at 0x7f33ce3df2e8>,\n",
       "        <matplotlib.axes._subplots.AxesSubplot object at 0x7f33c9372d30>]],\n",
       "      dtype=object)"
      ]
     },
     "execution_count": null,
     "metadata": {},
     "output_type": "execute_result"
    },
    {
     "data": {
      "image/png": "[encoded data removed]",
      "text/plain": [
       "<Figure size 432x432 with 25 Axes>"
      ]
     },
     "metadata": {
      "needs_background": "light"
     },
     "output_type": "display_data"
    }
   ],
   "source": [
    "scatter_matrix(filter_metrics, alpha=0.2, figsize=(6, 6), diagonal='kde')"
   ]
  },
  {
   "cell_type": "markdown",
   "metadata": {},
   "source": [
    "Lag plots are used to check if a data set or time series is random. Random data should not exhibit any structure in the lag plot. Non-random structure implies that the underlying data are not random. The lag argument may be passed, and when lag=1 the plot is essentially data[:-1] vs. data[1:]."
   ]
  },
  {
   "cell_type": "code",
   "execution_count": null,
   "metadata": {},
   "outputs": [
    {
     "data": {
      "text/plain": [
       "<matplotlib.axes._subplots.AxesSubplot at 0x7f33c9bafda0>"
      ]
     },
     "execution_count": null,
     "metadata": {},
     "output_type": "execute_result"
    },
    {
     "data": {
      "image/png": "[encoded data removed]",
      "text/plain": [
       "<Figure size 432x288 with 1 Axes>"
      ]
     },
     "metadata": {
      "needs_background": "light"
     },
     "output_type": "display_data"
    }
   ],
   "source": [
    "lag_plot(filter_metrics[[SimilarityMetric.WMD_sim]])"
   ]
  },
  {
   "cell_type": "code",
   "execution_count": null,
   "metadata": {},
   "outputs": [
    {
     "data": {
      "text/plain": [
       "<matplotlib.axes._subplots.AxesSubplot at 0x7f33cea39978>"
      ]
     },
     "execution_count": null,
     "metadata": {},
     "output_type": "execute_result"
    },
    {
     "data": {
      "image/png": "[encoded data removed]",
      "text/plain": [
       "<Figure size 432x288 with 1 Axes>"
      ]
     },
     "metadata": {
      "needs_background": "light"
     },
     "output_type": "display_data"
    }
   ],
   "source": [
    "lag_plot(filter_metrics[DistanceMetric.WMD])"
   ]
  },
  {
   "cell_type": "code",
   "execution_count": null,
   "metadata": {},
   "outputs": [],
   "source": [
    "# calculate model precision-recall curve\n",
    "sim = np.array(filter_metrics[SimilarityMetric.WMD_sim])"
   ]
  },
  {
   "cell_type": "code",
   "execution_count": null,
   "metadata": {},
   "outputs": [
    {
     "data": {
      "text/plain": [
       "array([[<matplotlib.axes._subplots.AxesSubplot object at 0x7f33c9cdc240>,\n",
       "        <matplotlib.axes._subplots.AxesSubplot object at 0x7f33c9da6518>],\n",
       "       [<matplotlib.axes._subplots.AxesSubplot object at 0x7f33c9d72a90>,\n",
       "        <matplotlib.axes._subplots.AxesSubplot object at 0x7f33ca5a6080>]],\n",
       "      dtype=object)"
      ]
     },
     "execution_count": null,
     "metadata": {},
     "output_type": "execute_result"
    },
    {
     "data": {
      "image/png": "[encoded data removed]",
      "text/plain": [
       "<Figure size 720x360 with 4 Axes>"
      ]
     },
     "metadata": {
      "needs_background": "light"
     },
     "output_type": "display_data"
    }
   ],
   "source": [
    "filter_metrics.hist(column=[SimilarityMetric.WMD_sim,DistanceMetric.WMD,SimilarityMetric.SCM_sim,\n",
    "                            DistanceMetric.SCM],color='k',bins=50,figsize=[10,5],alpha=0.5)"
   ]
  },
  {
   "cell_type": "code",
   "execution_count": null,
   "metadata": {},
   "outputs": [
    {
     "name": "stdout",
     "output_type": "stream",
     "text": [
      "SimilarityMetric.WMD_sim    0.048308\n",
      "DistanceMetric.WMD          0.099211\n",
      "SimilarityMetric.SCM_sim    0.137919\n",
      "DistanceMetric.SCM          0.137919\n",
      "dtype: float64\n"
     ]
    },
    {
     "data": {
      "text/plain": [
       "<matplotlib.axes._subplots.AxesSubplot at 0x7f33ca56cd68>"
      ]
     },
     "execution_count": null,
     "metadata": {},
     "output_type": "execute_result"
    },
    {
     "data": {
      "image/png": "[encoded data removed]",
      "text/plain": [
       "<Figure size 432x288 with 1 Axes>"
      ]
     },
     "metadata": {
      "needs_background": "light"
     },
     "output_type": "display_data"
    }
   ],
   "source": [
    "errors = filter_metrics[[SimilarityMetric.WMD_sim,DistanceMetric.WMD,SimilarityMetric.SCM_sim,\n",
    "                            DistanceMetric.SCM]].std()\n",
    "print(errors)\n",
    "filter_metrics[[SimilarityMetric.WMD_sim,DistanceMetric.WMD,SimilarityMetric.SCM_sim,\n",
    "                            DistanceMetric.SCM]].plot.kde()"
   ]
  },
  {
   "cell_type": "code",
   "execution_count": null,
   "metadata": {},
   "outputs": [
    {
     "data": {
      "text/plain": [
       "<matplotlib.axes._subplots.AxesSubplot at 0x7f33c7063940>"
      ]
     },
     "execution_count": null,
     "metadata": {},
     "output_type": "execute_result"
    },
    {
     "data": {
      "image/png": "[encoded data removed]",
      "text/plain": [
       "<Figure size 432x288 with 1 Axes>"
      ]
     },
     "metadata": {
      "needs_background": "light"
     },
     "output_type": "display_data"
    }
   ],
   "source": [
    "filter_metrics[SimilarityMetric.WMD_sim].plot.kde()\n",
    "filter_metrics[SimilarityMetric.WMD_sim].plot.hist(density=True) # Histogram will now be normalized"
   ]
  },
  {
   "cell_type": "code",
   "execution_count": null,
   "metadata": {},
   "outputs": [
    {
     "data": {
      "text/plain": [
       "<matplotlib.axes._subplots.AxesSubplot at 0x7f33c9ea1828>"
      ]
     },
     "execution_count": null,
     "metadata": {},
     "output_type": "execute_result"
    },
    {
     "data": {
      "image/png": "[encoded data removed]",
      "text/plain": [
       "<Figure size 432x288 with 1 Axes>"
      ]
     },
     "metadata": {
      "needs_background": "light"
     },
     "output_type": "display_data"
    }
   ],
   "source": [
    "filter_metrics[SimilarityMetric.SCM_sim].plot.kde()\n",
    "filter_metrics[SimilarityMetric.SCM_sim].plot.hist(density=True) # Histogram will now be normalized"
   ]
  },
  {
   "cell_type": "code",
   "execution_count": null,
   "metadata": {},
   "outputs": [
    {
     "data": {
      "text/plain": [
       "<matplotlib.axes._subplots.AxesSubplot at 0x7f33c6a06978>"
      ]
     },
     "execution_count": null,
     "metadata": {},
     "output_type": "execute_result"
    },
    {
     "data": {
      "image/png": "[encoded data removed]",
      "text/plain": [
       "<Figure size 432x288 with 1 Axes>"
      ]
     },
     "metadata": {
      "needs_background": "light"
     },
     "output_type": "display_data"
    }
   ],
   "source": [
    "filter_metrics[DistanceMetric.WMD].plot.kde()\n",
    "filter_metrics[DistanceMetric.WMD].plot.hist(density=True)"
   ]
  },
  {
   "cell_type": "code",
   "execution_count": null,
   "metadata": {},
   "outputs": [
    {
     "data": {
      "text/plain": [
       "<matplotlib.axes._subplots.AxesSubplot at 0x7f33c9429198>"
      ]
     },
     "execution_count": null,
     "metadata": {},
     "output_type": "execute_result"
    },
    {
     "data": {
      "image/png": "[encoded data removed]",
      "text/plain": [
       "<Figure size 432x288 with 1 Axes>"
      ]
     },
     "metadata": {
      "needs_background": "light"
     },
     "output_type": "display_data"
    }
   ],
   "source": [
    "filter_metrics[DistanceMetric.SCM].plot.kde()\n",
    "filter_metrics[DistanceMetric.SCM].plot.hist(density=True)"
   ]
  },
  {
   "cell_type": "code",
   "execution_count": null,
   "metadata": {},
   "outputs": [
    {
     "data": {
      "text/plain": [
       "array([<matplotlib.axes._subplots.AxesSubplot object at 0x7f33c70c9d30>,\n",
       "       <matplotlib.axes._subplots.AxesSubplot object at 0x7f33c6bc5ef0>],\n",
       "      dtype=object)"
      ]
     },
     "execution_count": null,
     "metadata": {},
     "output_type": "execute_result"
    },
    {
     "data": {
      "image/png": "[encoded data removed]",
      "text/plain": [
       "<Figure size 720x360 with 2 Axes>"
      ]
     },
     "metadata": {
      "needs_background": "light"
     },
     "output_type": "display_data"
    }
   ],
   "source": [
    "filter_metrics.hist(by='Linked?',column=SimilarityMetric.WMD_sim ,figsize=[10, 5],bins=80)"
   ]
  },
  {
   "cell_type": "code",
   "execution_count": null,
   "metadata": {},
   "outputs": [
    {
     "data": {
      "text/plain": [
       "array([<matplotlib.axes._subplots.AxesSubplot object at 0x7f33ca0c6080>,\n",
       "       <matplotlib.axes._subplots.AxesSubplot object at 0x7f33ca007d30>],\n",
       "      dtype=object)"
      ]
     },
     "execution_count": null,
     "metadata": {},
     "output_type": "execute_result"
    },
    {
     "data": {
      "image/png": "[encoded data removed]",
      "text/plain": [
       "<Figure size 720x360 with 2 Axes>"
      ]
     },
     "metadata": {
      "needs_background": "light"
     },
     "output_type": "display_data"
    }
   ],
   "source": [
    "filter_metrics.hist(by='Linked?',column=SimilarityMetric.SCM_sim ,figsize=[10, 5],bins=80)"
   ]
  },
  {
   "cell_type": "code",
   "execution_count": null,
   "metadata": {},
   "outputs": [
    {
     "data": {
      "text/plain": [
       "array([<matplotlib.axes._subplots.AxesSubplot object at 0x7f33ca4218d0>,\n",
       "       <matplotlib.axes._subplots.AxesSubplot object at 0x7f33ca366518>],\n",
       "      dtype=object)"
      ]
     },
     "execution_count": null,
     "metadata": {},
     "output_type": "execute_result"
    },
    {
     "data": {
      "image/png": "[encoded data removed]",
      "text/plain": [
       "<Figure size 720x360 with 2 Axes>"
      ]
     },
     "metadata": {
      "needs_background": "light"
     },
     "output_type": "display_data"
    }
   ],
   "source": [
    "filter_metrics.hist(by='Linked?',column=DistanceMetric.WMD,figsize=[10, 5],bins=80)"
   ]
  },
  {
   "cell_type": "code",
   "execution_count": null,
   "metadata": {},
   "outputs": [
    {
     "data": {
      "text/plain": [
       "array([<matplotlib.axes._subplots.AxesSubplot object at 0x7f33ca19d908>,\n",
       "       <matplotlib.axes._subplots.AxesSubplot object at 0x7f33c9ae66a0>],\n",
       "      dtype=object)"
      ]
     },
     "execution_count": null,
     "metadata": {},
     "output_type": "execute_result"
    },
    {
     "data": {
      "image/png": "[encoded data removed]",
      "text/plain": [
       "<Figure size 720x360 with 2 Axes>"
      ]
     },
     "metadata": {
      "needs_background": "light"
     },
     "output_type": "display_data"
    }
   ],
   "source": [
    "filter_metrics.hist(by='Linked?',column=DistanceMetric.SCM,figsize=[10, 5],bins=80)"
   ]
  },
  {
   "cell_type": "code",
   "execution_count": null,
   "metadata": {},
   "outputs": [
    {
     "data": {
      "image/png": "[encoded data removed]",
      "text/plain": [
       "<Figure size 720x360 with 4 Axes>"
      ]
     },
     "metadata": {
      "needs_background": "light"
     },
     "output_type": "display_data"
    }
   ],
   "source": [
    "boxplot = filter_metrics.boxplot(by='Linked?',column=[SimilarityMetric.WMD_sim,DistanceMetric.WMD,SimilarityMetric.SCM_sim,\n",
    "                            DistanceMetric.SCM],figsize=[10, 5])"
   ]
  },
  {
   "cell_type": "markdown",
   "metadata": {},
   "source": [
    "# Artifacts Similarity with Doc2Vec"
   ]
  },
  {
   "cell_type": "markdown",
   "metadata": {},
   "source": [
    "Try to reproduce the same empirical evaluation like here: [link](https://arxiv.org/pdf/1507.07998.pdf). Pay attention to:\n",
    "- Accuracy vs. Dimensionality (we can replace accuracy for false positive rate or true positive rate)\n",
    "- Visualize paragraph vectors using t-sne\n",
    "- Computing Cosine Distance and Similarity. More about similarity [link](https://www.kdnuggets.com/2017/08/comparing-distance-measurements-python-scipy.html)"
   ]
  },
  {
   "cell_type": "code",
   "execution_count": null,
   "metadata": {},
   "outputs": [],
   "source": [
    "def doc2vec_params():\n",
    "    return {\n",
    "        \"vectorizationType\": VectorizationType.doc2vec,\n",
    "        \"linkType\": LinkType.req2tc,\n",
    "        \"system\": 'libest',\n",
    "        \"path_to_trained_model\": 'test_data/models/doc2vec_libest.model',\n",
    "        \"source_path\": '/tf/main/benchmarking/traceability/testbeds/nltk/[libest-pre-req].csv',\n",
    "        \"target_path\": '/tf/main/benchmarking/traceability/testbeds/nltk/[libest-pre-tc].csv',\n",
    "        \"system_path\": '/tf/main/benchmarking/traceability/testbeds/nltk/[libest-pre-all].csv',\n",
    "        \"saving_path\": 'test_data/',\n",
    "        \"names\": ['Source','Target','Linked?']\n",
    "    }"
   ]
  },
  {
   "cell_type": "code",
   "execution_count": null,
   "metadata": {},
   "outputs": [
    {
     "data": {
      "text/plain": [
       "{'vectorizationType': <VectorizationType.doc2vec: 2>,\n",
       " 'linkType': <LinkType.req2tc: 1>,\n",
       " 'system': 'libest',\n",
       " 'path_to_trained_model': 'test_data/models/doc2vec_libest.model',\n",
       " 'source_path': '/tf/main/benchmarking/traceability/testbeds/nltk/[libest-pre-req].csv',\n",
       " 'target_path': '/tf/main/benchmarking/traceability/testbeds/nltk/[libest-pre-tc].csv',\n",
       " 'system_path': '/tf/main/benchmarking/traceability/testbeds/nltk/[libest-pre-all].csv',\n",
       " 'saving_path': 'test_data/',\n",
       " 'names': ['Source', 'Target', 'Linked?']}"
      ]
     },
     "execution_count": null,
     "metadata": {},
     "output_type": "execute_result"
    }
   ],
   "source": [
    "doc2vec_params = doc2vec_params()\n",
    "doc2vec_params"
   ]
  },
  {
   "cell_type": "code",
   "execution_count": null,
   "metadata": {},
   "outputs": [],
   "source": [
    "#Export\n",
    "class Doc2VecSeqVect(BasicSequenceVectorization):\n",
    "    \n",
    "    def __init__(self, params):\n",
    "        super().__init__(params)\n",
    "        self.new_model = gensim.models.Doc2Vec.load( params['path_to_trained_model'] )\n",
    "        self.new_model.init_sims(replace=True)  # Normalizes the vectors in the word2vec class.\n",
    "        self.df_inferred_src = None\n",
    "        self.df_inferred_trg = None\n",
    "        \n",
    "        self.dict_distance_dispatcher = {\n",
    "            DistanceMetric.COS: self.cos_scipy,\n",
    "            SimilarityMetric.Pearson: self.pearson_abs_scipy,\n",
    "            DistanceMetric.EUC: self.euclidean_scipy,\n",
    "            DistanceMetric.MAN: self.manhattan_scipy\n",
    "        }\n",
    "    \n",
    "    def distance(self, metric_list, link):\n",
    "        '''Iterate on the metrics'''\n",
    "        ν_inferredSource = list(self.df_inferred_src[self.df_inferred_src['ids'].str.contains(link[0])]['inf-doc2vec'])\n",
    "        w_inferredTarget = list(self.df_inferred_trg[self.df_inferred_trg['ids'].str.contains(link[1])]['inf-doc2vec'])\n",
    "        \n",
    "        dist = [ self.dict_distance_dispatcher[metric](ν_inferredSource,w_inferredTarget) for metric in metric_list]\n",
    "        logging.info(\"Computed distances or similarities \"+ str(link) + str(dist))    \n",
    "        return functools.reduce(lambda a,b : a+b, dist) #Always return a list\n",
    "    \n",
    "    def computeDistanceMetric(self, links, metric_list):\n",
    "        '''It is computed the cosine similarity'''\n",
    "        \n",
    "        metric_labels = [ self.dict_labels[metric] for metric in metric_list] #tracking of the labels\n",
    "        distSim = [[link[0], link[1], self.distance( metric_list, link )] for link in links] #Return the link with metrics\n",
    "        distSim = [[elem[0], elem[1]] + elem[2] for elem in distSim] #Return the link with metrics\n",
    "        \n",
    "        return distSim, functools.reduce(lambda a,b : a+b, metric_labels)\n",
    "\n",
    "    \n",
    "    def InferDoc2Vec(self, steps=200):\n",
    "        '''Activate Inference on Target and Source Corpus'''\n",
    "        self.df_inferred_src = self.df_source.copy()\n",
    "        self.df_inferred_trg = self.df_target.copy()\n",
    "        \n",
    "        self.df_inferred_src['inf-doc2vec'] =  [self.new_model.infer_vector(artifact.split(),steps=steps) for artifact in self.df_inferred_src['text'].values]\n",
    "        self.df_inferred_trg['inf-doc2vec'] =  [self.new_model.infer_vector(artifact.split(),steps=steps) for artifact in self.df_inferred_trg['text'].values]\n",
    "        \n",
    "        logging.info(\"Infer Doc2Vec on Source and Target Complete\")\n",
    "    "
   ]
  },
  {
   "cell_type": "markdown",
   "metadata": {},
   "source": [
    "### Testing Doc2Vec SequenceVectorization"
   ]
  },
  {
   "cell_type": "code",
   "execution_count": null,
   "metadata": {},
   "outputs": [
    {
     "name": "stderr",
     "output_type": "stream",
     "text": [
      "2020-06-10 20:49:50,739 : INFO : adding document #0 to Dictionary(0 unique tokens: [])\n",
      "2020-06-10 20:49:50,797 : INFO : built Dictionary(6957 unique tokens: ['\");', '\"../../', '(\"\\\\', '();', ')))']...) from 87 documents (total 88944 corpus positions)\n",
      "2020-06-10 20:49:50,799 : INFO : loading Doc2Vec object from test_data/models/doc2vec_libest.model\n",
      "2020-06-10 20:49:50,818 : INFO : loading vocabulary recursively from test_data/models/doc2vec_libest.model.vocabulary.* with mmap=None\n",
      "2020-06-10 20:49:50,819 : INFO : loading trainables recursively from test_data/models/doc2vec_libest.model.trainables.* with mmap=None\n",
      "2020-06-10 20:49:50,820 : INFO : loading wv recursively from test_data/models/doc2vec_libest.model.wv.* with mmap=None\n",
      "2020-06-10 20:49:50,821 : INFO : loading docvecs recursively from test_data/models/doc2vec_libest.model.docvecs.* with mmap=None\n",
      "2020-06-10 20:49:50,823 : INFO : loaded test_data/models/doc2vec_libest.model\n",
      "2020-06-10 20:49:50,838 : INFO : precomputing L2-norms of doc weight vectors\n"
     ]
    }
   ],
   "source": [
    "doc2vec = Doc2VecSeqVect(params = doc2vec_params)"
   ]
  },
  {
   "cell_type": "code",
   "execution_count": null,
   "metadata": {},
   "outputs": [
    {
     "name": "stderr",
     "output_type": "stream",
     "text": [
      "2020-06-10 20:50:02,224 : INFO : Infer Doc2Vec on Source and Target Complete\n"
     ]
    }
   ],
   "source": [
    "#[step1]Apply Doc2Vec Inference\n",
    "doc2vec.InferDoc2Vec(steps=200)"
   ]
  },
  {
   "cell_type": "code",
   "execution_count": null,
   "metadata": {},
   "outputs": [
    {
     "data": {
      "text/html": [
       "<div>\n",
       "<style scoped>\n",
       "    .dataframe tbody tr th:only-of-type {\n",
       "        vertical-align: middle;\n",
       "    }\n",
       "\n",
       "    .dataframe tbody tr th {\n",
       "        vertical-align: top;\n",
       "    }\n",
       "\n",
       "    .dataframe thead th {\n",
       "        text-align: right;\n",
       "    }\n",
       "</style>\n",
       "<table border=\"1\" class=\"dataframe\">\n",
       "  <thead>\n",
       "    <tr style=\"text-align: right;\">\n",
       "      <th></th>\n",
       "      <th>ids</th>\n",
       "      <th>text</th>\n",
       "      <th>inf-doc2vec</th>\n",
       "    </tr>\n",
       "  </thead>\n",
       "  <tbody>\n",
       "    <tr>\n",
       "      <th>0</th>\n",
       "      <td>test_data/LibEST_semeru_format/requirements/RQ...</td>\n",
       "      <td>requir http uri control est server must suppor...</td>\n",
       "      <td>[-2.831539, -2.4195707, -6.47853, 3.0078099, -...</td>\n",
       "    </tr>\n",
       "    <tr>\n",
       "      <th>1</th>\n",
       "      <td>test_data/LibEST_semeru_format/requirements/RQ...</td>\n",
       "      <td>requir server side key generat respons request...</td>\n",
       "      <td>[-3.5905514, -2.1303558, -6.4233136, 1.1223232...</td>\n",
       "    </tr>\n",
       "  </tbody>\n",
       "</table>\n",
       "</div>"
      ],
      "text/plain": [
       "                                                 ids  \\\n",
       "0  test_data/LibEST_semeru_format/requirements/RQ...   \n",
       "1  test_data/LibEST_semeru_format/requirements/RQ...   \n",
       "\n",
       "                                                text  \\\n",
       "0  requir http uri control est server must suppor...   \n",
       "1  requir server side key generat respons request...   \n",
       "\n",
       "                                         inf-doc2vec  \n",
       "0  [-2.831539, -2.4195707, -6.47853, 3.0078099, -...  \n",
       "1  [-3.5905514, -2.1303558, -6.4233136, 1.1223232...  "
      ]
     },
     "execution_count": null,
     "metadata": {},
     "output_type": "execute_result"
    }
   ],
   "source": [
    "doc2vec.df_inferred_src.head(2)"
   ]
  },
  {
   "cell_type": "code",
   "execution_count": null,
   "metadata": {},
   "outputs": [
    {
     "data": {
      "text/html": [
       "<div>\n",
       "<style scoped>\n",
       "    .dataframe tbody tr th:only-of-type {\n",
       "        vertical-align: middle;\n",
       "    }\n",
       "\n",
       "    .dataframe tbody tr th {\n",
       "        vertical-align: top;\n",
       "    }\n",
       "\n",
       "    .dataframe thead th {\n",
       "        text-align: right;\n",
       "    }\n",
       "</style>\n",
       "<table border=\"1\" class=\"dataframe\">\n",
       "  <thead>\n",
       "    <tr style=\"text-align: right;\">\n",
       "      <th></th>\n",
       "      <th>ids</th>\n",
       "      <th>text</th>\n",
       "      <th>inf-doc2vec</th>\n",
       "    </tr>\n",
       "  </thead>\n",
       "  <tbody>\n",
       "    <tr>\n",
       "      <th>0</th>\n",
       "      <td>test_data/LibEST_semeru_format/test/us903.c</td>\n",
       "      <td>unit test user stori server simpl enrol august...</td>\n",
       "      <td>[-1.1435399, -0.6798092, -3.854059, -6.446299,...</td>\n",
       "    </tr>\n",
       "    <tr>\n",
       "      <th>1</th>\n",
       "      <td>test_data/LibEST_semeru_format/test/us3496.c</td>\n",
       "      <td>unit test uri path segment extens support marc...</td>\n",
       "      <td>[-7.902068, -3.1715784, -2.0337794, 0.39057884...</td>\n",
       "    </tr>\n",
       "  </tbody>\n",
       "</table>\n",
       "</div>"
      ],
      "text/plain": [
       "                                            ids  \\\n",
       "0   test_data/LibEST_semeru_format/test/us903.c   \n",
       "1  test_data/LibEST_semeru_format/test/us3496.c   \n",
       "\n",
       "                                                text  \\\n",
       "0  unit test user stori server simpl enrol august...   \n",
       "1  unit test uri path segment extens support marc...   \n",
       "\n",
       "                                         inf-doc2vec  \n",
       "0  [-1.1435399, -0.6798092, -3.854059, -6.446299,...  \n",
       "1  [-7.902068, -3.1715784, -2.0337794, 0.39057884...  "
      ]
     },
     "execution_count": null,
     "metadata": {},
     "output_type": "execute_result"
    }
   ],
   "source": [
    "#test_inferDoc2Vec_trg = inferDoc2Vec(df_target)\n",
    "#test_inferDoc2Vec_trg.head()\n",
    "doc2vec.df_inferred_trg.head(2)"
   ]
  },
  {
   "cell_type": "code",
   "execution_count": null,
   "metadata": {},
   "outputs": [
    {
     "name": "stderr",
     "output_type": "stream",
     "text": [
      "2020-06-10 20:52:14,408 : INFO : Computed distances or similarities ('RQ34-pre.txt', 'us901.c')[[34.769779205322266, 0.027956560599938167]]\n",
      "2020-06-10 20:52:14,413 : INFO : Computed distances or similarities ('RQ25-pre.txt', 'us2174.c')[[44.54707336425781, 0.021955307468442764]]\n",
      "2020-06-10 20:52:14,418 : INFO : Computed distances or similarities ('RQ26-pre.txt', 'us4020.c')[[27.537466049194336, 0.035041653602886434]]\n",
      "2020-06-10 20:52:14,422 : INFO : Computed distances or similarities ('RQ6-pre.txt', 'us3612.c')[[27.061159133911133, 0.03563644663528984]]\n",
      "2020-06-10 20:52:14,427 : INFO : Computed distances or similarities ('RQ32-pre.txt', 'us894.c')[[34.56857681274414, 0.028114703752827756]]\n",
      "2020-06-10 20:52:14,429 : INFO : Computed distances or similarities ('RQ6-pre.txt', 'us1864.c')[[33.20020294189453, 0.029239592574903144]]\n",
      "2020-06-10 20:52:14,432 : INFO : Computed distances or similarities ('RQ26-pre.txt', 'us3496.c')[[34.45558166503906, 0.028204303893455764]]\n",
      "2020-06-10 20:52:14,435 : INFO : Computed distances or similarities ('RQ4-pre.txt', 'us1159.c')[[33.715126037597656, 0.028805887062514655]]\n",
      "2020-06-10 20:52:14,438 : INFO : Computed distances or similarities ('RQ2-pre.txt', 'us1159.c')[[28.30545425415039, 0.03412334070400478]]\n",
      "2020-06-10 20:52:14,441 : INFO : Computed distances or similarities ('RQ34-pre.txt', 'us1864.c')[[38.04230880737305, 0.025613239343344172]]\n",
      "2020-06-10 20:52:14,444 : INFO : Computed distances or similarities ('RQ8-pre.txt', 'us894.c')[[35.507835388183594, 0.027391380216523813]]\n",
      "2020-06-10 20:52:14,447 : INFO : Computed distances or similarities ('RQ48-pre.txt', 'us3512.c')[[32.32408142089844, 0.030008329032975917]]\n",
      "2020-06-10 20:52:14,449 : INFO : Computed distances or similarities ('RQ57-pre.txt', 'us1883.c')[[43.343345642089844, 0.022551297957338144]]\n",
      "2020-06-10 20:52:14,452 : INFO : Computed distances or similarities ('RQ6-pre.txt', 'us1159.c')[[28.271711349487305, 0.03416267631436298]]\n",
      "2020-06-10 20:52:14,455 : INFO : Computed distances or similarities ('RQ1-pre.txt', 'us898.c')[[25.60043716430664, 0.03759336712487694]]\n",
      "2020-06-10 20:52:14,459 : INFO : Computed distances or similarities ('RQ10-pre.txt', 'us1883.c')[[37.40055847167969, 0.026041287934327764]]\n",
      "2020-06-10 20:52:14,462 : INFO : Computed distances or similarities ('RQ33-pre.txt', 'us3612.c')[[27.141393661499023, 0.0355348428023352]]\n",
      "2020-06-10 20:52:14,465 : INFO : Computed distances or similarities ('RQ10-pre.txt', 'us903.c')[[34.68787384033203, 0.028020722233944556]]\n",
      "2020-06-10 20:52:14,468 : INFO : Computed distances or similarities ('RQ51-pre.txt', 'us1883.c')[[42.803688049316406, 0.022829127969182628]]\n",
      "2020-06-10 20:52:14,471 : INFO : Computed distances or similarities ('RQ14-pre.txt', 'us898.c')[[30.28278923034668, 0.03196645902117718]]\n",
      "2020-06-10 20:52:14,474 : INFO : Computed distances or similarities ('RQ31-pre.txt', 'us2174.c')[[41.577049255371094, 0.023486831931497695]]\n",
      "2020-06-10 20:52:14,476 : INFO : Computed distances or similarities ('RQ53-pre.txt', 'us2174.c')[[45.24073791503906, 0.021625952462898865]]\n",
      "2020-06-10 20:52:14,479 : INFO : Computed distances or similarities ('RQ33-pre.txt', 'us893.c')[[33.16522979736328, 0.02926952360429244]]\n",
      "2020-06-10 20:52:14,482 : INFO : Computed distances or similarities ('RQ5-pre.txt', 'us900.c')[[32.101776123046875, 0.030209859322435487]]\n",
      "2020-06-10 20:52:14,484 : INFO : Computed distances or similarities ('RQ1-pre.txt', 'us1060.c')[[22.75986099243164, 0.04208778832159563]]\n",
      "2020-06-10 20:52:14,487 : INFO : Computed distances or similarities ('RQ52-pre.txt', 'us903.c')[[44.9780158996582, 0.02174952486384768]]\n",
      "2020-06-10 20:52:14,490 : INFO : Computed distances or similarities ('RQ50-pre.txt', 'us895.c')[[37.087581634521484, 0.026255276840512994]]\n",
      "2020-06-10 20:52:14,493 : INFO : Computed distances or similarities ('RQ56-pre.txt', 'us900.c')[[28.082847595214844, 0.034384528431271474]]\n",
      "2020-06-10 20:52:14,495 : INFO : Computed distances or similarities ('RQ28-pre.txt', 'us903.c')[[37.405643463134766, 0.026037840010671637]]\n",
      "2020-06-10 20:52:14,498 : INFO : Computed distances or similarities ('RQ58-pre.txt', 'us748.c')[[39.91510772705078, 0.024440849738710475]]\n",
      "2020-06-10 20:52:14,501 : INFO : Computed distances or similarities ('RQ33-pre.txt', 'us896.c')[[22.242944717407227, 0.04302380839253448]]\n",
      "2020-06-10 20:52:14,503 : INFO : Computed distances or similarities ('RQ18-pre.txt', 'us1005.c')[[31.48000144958496, 0.030788175965822756]]\n",
      "2020-06-10 20:52:14,506 : INFO : Computed distances or similarities ('RQ45-pre.txt', 'us1159.c')[[25.26934814453125, 0.03806717983629068]]\n",
      "2020-06-10 20:52:14,509 : INFO : Computed distances or similarities ('RQ27-pre.txt', 'us899.c')[[16.33724594116211, 0.05767928789807376]]\n",
      "2020-06-10 20:52:14,511 : INFO : Computed distances or similarities ('RQ26-pre.txt', 'us1159.c')[[27.35042381286621, 0.03527284130215268]]\n",
      "2020-06-10 20:52:14,514 : INFO : Computed distances or similarities ('RQ11-pre.txt', 'us1883.c')[[38.00023651123047, 0.025640870144775688]]\n",
      "2020-06-10 20:52:14,517 : INFO : Computed distances or similarities ('RQ35-pre.txt', 'us3512.c')[[31.71693229675293, 0.030565212866832486]]\n",
      "2020-06-10 20:52:14,520 : INFO : Computed distances or similarities ('RQ22-pre.txt', 'us1005.c')[[28.485692977905273, 0.033914753190618145]]\n",
      "2020-06-10 20:52:14,522 : INFO : Computed distances or similarities ('RQ47-pre.txt', 'us899.c')[[19.71286964416504, 0.04827916252935561]]\n",
      "2020-06-10 20:52:14,525 : INFO : Computed distances or similarities ('RQ17-pre.txt', 'us748.c')[[41.910152435302734, 0.023304508216505124]]\n",
      "2020-06-10 20:52:14,528 : INFO : Computed distances or similarities ('RQ10-pre.txt', 'us900.c')[[31.978065490722656, 0.030323185581680605]]\n",
      "2020-06-10 20:52:14,531 : INFO : Computed distances or similarities ('RQ15-pre.txt', 'us900.c')[[32.0264778137207, 0.03027873591729344]]\n",
      "2020-06-10 20:52:14,533 : INFO : Computed distances or similarities ('RQ10-pre.txt', 'us894.c')[[36.71248245239258, 0.026516419364924555]]\n",
      "2020-06-10 20:52:14,536 : INFO : Computed distances or similarities ('RQ21-pre.txt', 'us901.c')[[32.63938903808594, 0.02972705594824618]]\n",
      "2020-06-10 20:52:14,539 : INFO : Computed distances or similarities ('RQ52-pre.txt', 'us901.c')[[42.45634841918945, 0.023011597531246323]]\n",
      "2020-06-10 20:52:14,542 : INFO : Computed distances or similarities ('RQ39-pre.txt', 'us1005.c')[[28.71190071105957, 0.033656547580874656]]\n",
      "2020-06-10 20:52:14,544 : INFO : Computed distances or similarities ('RQ24-pre.txt', 'us1864.c')[[35.597957611083984, 0.027323929128141893]]\n",
      "2020-06-10 20:52:14,547 : INFO : Computed distances or similarities ('RQ9-pre.txt', 'us899.c')[[16.162105560302734, 0.05826790870655618]]\n",
      "2020-06-10 20:52:14,550 : INFO : Computed distances or similarities ('RQ38-pre.txt', 'us897.c')[[26.504640579223633, 0.03635750109584696]]\n",
      "2020-06-10 20:52:14,553 : INFO : Computed distances or similarities ('RQ9-pre.txt', 'us3612.c')[[26.586496353149414, 0.03624961963993064]]\n",
      "2020-06-10 20:52:14,555 : INFO : Non-groundtruth links computed\n"
     ]
    },
    {
     "data": {
      "text/html": [
       "<div>\n",
       "<style scoped>\n",
       "    .dataframe tbody tr th:only-of-type {\n",
       "        vertical-align: middle;\n",
       "    }\n",
       "\n",
       "    .dataframe tbody tr th {\n",
       "        vertical-align: top;\n",
       "    }\n",
       "\n",
       "    .dataframe thead th {\n",
       "        text-align: right;\n",
       "    }\n",
       "</style>\n",
       "<table border=\"1\" class=\"dataframe\">\n",
       "  <thead>\n",
       "    <tr style=\"text-align: right;\">\n",
       "      <th></th>\n",
       "      <th>Source</th>\n",
       "      <th>Target</th>\n",
       "      <th>DistanceMetric.EUC</th>\n",
       "      <th>SimilarityMetric.EUC_sim</th>\n",
       "    </tr>\n",
       "  </thead>\n",
       "  <tbody>\n",
       "    <tr>\n",
       "      <th>0</th>\n",
       "      <td>RQ34-pre.txt</td>\n",
       "      <td>us901.c</td>\n",
       "      <td>34.769779</td>\n",
       "      <td>0.027957</td>\n",
       "    </tr>\n",
       "    <tr>\n",
       "      <th>1</th>\n",
       "      <td>RQ25-pre.txt</td>\n",
       "      <td>us2174.c</td>\n",
       "      <td>44.547073</td>\n",
       "      <td>0.021955</td>\n",
       "    </tr>\n",
       "    <tr>\n",
       "      <th>2</th>\n",
       "      <td>RQ26-pre.txt</td>\n",
       "      <td>us4020.c</td>\n",
       "      <td>27.537466</td>\n",
       "      <td>0.035042</td>\n",
       "    </tr>\n",
       "    <tr>\n",
       "      <th>3</th>\n",
       "      <td>RQ6-pre.txt</td>\n",
       "      <td>us3612.c</td>\n",
       "      <td>27.061159</td>\n",
       "      <td>0.035636</td>\n",
       "    </tr>\n",
       "    <tr>\n",
       "      <th>4</th>\n",
       "      <td>RQ32-pre.txt</td>\n",
       "      <td>us894.c</td>\n",
       "      <td>34.568577</td>\n",
       "      <td>0.028115</td>\n",
       "    </tr>\n",
       "  </tbody>\n",
       "</table>\n",
       "</div>"
      ],
      "text/plain": [
       "         Source    Target  DistanceMetric.EUC  SimilarityMetric.EUC_sim\n",
       "0  RQ34-pre.txt   us901.c           34.769779                  0.027957\n",
       "1  RQ25-pre.txt  us2174.c           44.547073                  0.021955\n",
       "2  RQ26-pre.txt  us4020.c           27.537466                  0.035042\n",
       "3   RQ6-pre.txt  us3612.c           27.061159                  0.035636\n",
       "4  RQ32-pre.txt   us894.c           34.568577                  0.028115"
      ]
     },
     "execution_count": null,
     "metadata": {},
     "output_type": "execute_result"
    }
   ],
   "source": [
    "#[step 2]NonGroundTruth Computation\n",
    "doc2vec.ComputeDistanceArtifacts( sampling=True, samples = 50, metric_list = [DistanceMetric.EUC] )\n",
    "doc2vec.df_nonground_link.head()"
   ]
  },
  {
   "cell_type": "code",
   "execution_count": null,
   "metadata": {},
   "outputs": [
    {
     "name": "stderr",
     "output_type": "stream",
     "text": [
      "2020-06-10 19:18:35,270 : INFO : Saving in...test_data/[libest-VectorizationType.doc2vec-LinkType.req2tc-False-1591816715.266613].csv\n"
     ]
    }
   ],
   "source": [
    "#[step 3]Saving Non-GroundTruth Links\n",
    "doc2vec.SaveLinks()"
   ]
  },
  {
   "cell_type": "code",
   "execution_count": null,
   "metadata": {},
   "outputs": [
    {
     "name": "stderr",
     "output_type": "stream",
     "text": [
      "2020-06-10 19:18:49,355 : INFO : Loading computed links from... test_data/[libest-VectorizationType.doc2vec-LinkType.req2tc-False-1591816715.266613].csv\n"
     ]
    },
    {
     "data": {
      "text/html": [
       "<div>\n",
       "<style scoped>\n",
       "    .dataframe tbody tr th:only-of-type {\n",
       "        vertical-align: middle;\n",
       "    }\n",
       "\n",
       "    .dataframe tbody tr th {\n",
       "        vertical-align: top;\n",
       "    }\n",
       "\n",
       "    .dataframe thead th {\n",
       "        text-align: right;\n",
       "    }\n",
       "</style>\n",
       "<table border=\"1\" class=\"dataframe\">\n",
       "  <thead>\n",
       "    <tr style=\"text-align: right;\">\n",
       "      <th></th>\n",
       "      <th>Source</th>\n",
       "      <th>Target</th>\n",
       "      <th>DistanceMetric.COS</th>\n",
       "      <th>SimilarityMetric.COS_sim</th>\n",
       "    </tr>\n",
       "  </thead>\n",
       "  <tbody>\n",
       "    <tr>\n",
       "      <th>0</th>\n",
       "      <td>RQ10-pre.txt</td>\n",
       "      <td>us1864.c</td>\n",
       "      <td>0.555511</td>\n",
       "      <td>0.444489</td>\n",
       "    </tr>\n",
       "    <tr>\n",
       "      <th>1</th>\n",
       "      <td>RQ26-pre.txt</td>\n",
       "      <td>us894.c</td>\n",
       "      <td>0.641956</td>\n",
       "      <td>0.358044</td>\n",
       "    </tr>\n",
       "    <tr>\n",
       "      <th>2</th>\n",
       "      <td>RQ45-pre.txt</td>\n",
       "      <td>us3612.c</td>\n",
       "      <td>0.605190</td>\n",
       "      <td>0.394810</td>\n",
       "    </tr>\n",
       "    <tr>\n",
       "      <th>3</th>\n",
       "      <td>RQ38-pre.txt</td>\n",
       "      <td>us4020.c</td>\n",
       "      <td>0.774346</td>\n",
       "      <td>0.225654</td>\n",
       "    </tr>\n",
       "    <tr>\n",
       "      <th>4</th>\n",
       "      <td>RQ42-pre.txt</td>\n",
       "      <td>us2174.c</td>\n",
       "      <td>0.702200</td>\n",
       "      <td>0.297800</td>\n",
       "    </tr>\n",
       "  </tbody>\n",
       "</table>\n",
       "</div>"
      ],
      "text/plain": [
       "         Source    Target  DistanceMetric.COS  SimilarityMetric.COS_sim\n",
       "0  RQ10-pre.txt  us1864.c            0.555511                  0.444489\n",
       "1  RQ26-pre.txt   us894.c            0.641956                  0.358044\n",
       "2  RQ45-pre.txt  us3612.c            0.605190                  0.394810\n",
       "3  RQ38-pre.txt  us4020.c            0.774346                  0.225654\n",
       "4  RQ42-pre.txt  us2174.c            0.702200                  0.297800"
      ]
     },
     "execution_count": null,
     "metadata": {},
     "output_type": "execute_result"
    }
   ],
   "source": [
    "#Loading Non-GroundTruth Links (change the timestamp with the assigned in the previous step)\n",
    "df_nonglinks_doc2vec = LoadLinks(timestamp=1591816715.266613, params=doc2vec_params)\n",
    "df_nonglinks_doc2vec.head()"
   ]
  },
  {
   "cell_type": "code",
   "execution_count": null,
   "metadata": {},
   "outputs": [
    {
     "name": "stderr",
     "output_type": "stream",
     "text": [
      "2020-06-10 20:59:11,604 : INFO : Groundtruth links computed\n"
     ]
    },
    {
     "data": {
      "text/html": [
       "<div>\n",
       "<style scoped>\n",
       "    .dataframe tbody tr th:only-of-type {\n",
       "        vertical-align: middle;\n",
       "    }\n",
       "\n",
       "    .dataframe tbody tr th {\n",
       "        vertical-align: top;\n",
       "    }\n",
       "\n",
       "    .dataframe thead th {\n",
       "        text-align: right;\n",
       "    }\n",
       "</style>\n",
       "<table border=\"1\" class=\"dataframe\">\n",
       "  <thead>\n",
       "    <tr style=\"text-align: right;\">\n",
       "      <th></th>\n",
       "      <th>Source</th>\n",
       "      <th>Target</th>\n",
       "      <th>DistanceMetric.EUC</th>\n",
       "      <th>SimilarityMetric.EUC_sim</th>\n",
       "      <th>Linked?</th>\n",
       "    </tr>\n",
       "  </thead>\n",
       "  <tbody>\n",
       "    <tr>\n",
       "      <th>0</th>\n",
       "      <td>RQ34-pre.txt</td>\n",
       "      <td>us901.c</td>\n",
       "      <td>34.769779</td>\n",
       "      <td>0.027957</td>\n",
       "      <td>1.0</td>\n",
       "    </tr>\n",
       "    <tr>\n",
       "      <th>1</th>\n",
       "      <td>RQ25-pre.txt</td>\n",
       "      <td>us2174.c</td>\n",
       "      <td>44.547073</td>\n",
       "      <td>0.021955</td>\n",
       "      <td>0.0</td>\n",
       "    </tr>\n",
       "    <tr>\n",
       "      <th>2</th>\n",
       "      <td>RQ26-pre.txt</td>\n",
       "      <td>us4020.c</td>\n",
       "      <td>27.537466</td>\n",
       "      <td>0.035042</td>\n",
       "      <td>1.0</td>\n",
       "    </tr>\n",
       "    <tr>\n",
       "      <th>3</th>\n",
       "      <td>RQ6-pre.txt</td>\n",
       "      <td>us3612.c</td>\n",
       "      <td>27.061159</td>\n",
       "      <td>0.035636</td>\n",
       "      <td>1.0</td>\n",
       "    </tr>\n",
       "    <tr>\n",
       "      <th>4</th>\n",
       "      <td>RQ32-pre.txt</td>\n",
       "      <td>us894.c</td>\n",
       "      <td>34.568577</td>\n",
       "      <td>0.028115</td>\n",
       "      <td>0.0</td>\n",
       "    </tr>\n",
       "    <tr>\n",
       "      <th>5</th>\n",
       "      <td>RQ6-pre.txt</td>\n",
       "      <td>us1864.c</td>\n",
       "      <td>33.200203</td>\n",
       "      <td>0.029240</td>\n",
       "      <td>0.0</td>\n",
       "    </tr>\n",
       "    <tr>\n",
       "      <th>6</th>\n",
       "      <td>RQ26-pre.txt</td>\n",
       "      <td>us3496.c</td>\n",
       "      <td>34.455582</td>\n",
       "      <td>0.028204</td>\n",
       "      <td>1.0</td>\n",
       "    </tr>\n",
       "    <tr>\n",
       "      <th>7</th>\n",
       "      <td>RQ4-pre.txt</td>\n",
       "      <td>us1159.c</td>\n",
       "      <td>33.715126</td>\n",
       "      <td>0.028806</td>\n",
       "      <td>0.0</td>\n",
       "    </tr>\n",
       "    <tr>\n",
       "      <th>8</th>\n",
       "      <td>RQ2-pre.txt</td>\n",
       "      <td>us1159.c</td>\n",
       "      <td>28.305454</td>\n",
       "      <td>0.034123</td>\n",
       "      <td>0.0</td>\n",
       "    </tr>\n",
       "    <tr>\n",
       "      <th>9</th>\n",
       "      <td>RQ34-pre.txt</td>\n",
       "      <td>us1864.c</td>\n",
       "      <td>38.042309</td>\n",
       "      <td>0.025613</td>\n",
       "      <td>1.0</td>\n",
       "    </tr>\n",
       "    <tr>\n",
       "      <th>10</th>\n",
       "      <td>RQ8-pre.txt</td>\n",
       "      <td>us894.c</td>\n",
       "      <td>35.507835</td>\n",
       "      <td>0.027391</td>\n",
       "      <td>0.0</td>\n",
       "    </tr>\n",
       "    <tr>\n",
       "      <th>11</th>\n",
       "      <td>RQ48-pre.txt</td>\n",
       "      <td>us3512.c</td>\n",
       "      <td>32.324081</td>\n",
       "      <td>0.030008</td>\n",
       "      <td>1.0</td>\n",
       "    </tr>\n",
       "    <tr>\n",
       "      <th>12</th>\n",
       "      <td>RQ57-pre.txt</td>\n",
       "      <td>us1883.c</td>\n",
       "      <td>43.343346</td>\n",
       "      <td>0.022551</td>\n",
       "      <td>1.0</td>\n",
       "    </tr>\n",
       "    <tr>\n",
       "      <th>13</th>\n",
       "      <td>RQ6-pre.txt</td>\n",
       "      <td>us1159.c</td>\n",
       "      <td>28.271711</td>\n",
       "      <td>0.034163</td>\n",
       "      <td>1.0</td>\n",
       "    </tr>\n",
       "    <tr>\n",
       "      <th>14</th>\n",
       "      <td>RQ1-pre.txt</td>\n",
       "      <td>us898.c</td>\n",
       "      <td>25.600437</td>\n",
       "      <td>0.037593</td>\n",
       "      <td>0.0</td>\n",
       "    </tr>\n",
       "    <tr>\n",
       "      <th>15</th>\n",
       "      <td>RQ10-pre.txt</td>\n",
       "      <td>us1883.c</td>\n",
       "      <td>37.400558</td>\n",
       "      <td>0.026041</td>\n",
       "      <td>0.0</td>\n",
       "    </tr>\n",
       "    <tr>\n",
       "      <th>16</th>\n",
       "      <td>RQ33-pre.txt</td>\n",
       "      <td>us3612.c</td>\n",
       "      <td>27.141394</td>\n",
       "      <td>0.035535</td>\n",
       "      <td>1.0</td>\n",
       "    </tr>\n",
       "    <tr>\n",
       "      <th>17</th>\n",
       "      <td>RQ10-pre.txt</td>\n",
       "      <td>us903.c</td>\n",
       "      <td>34.687874</td>\n",
       "      <td>0.028021</td>\n",
       "      <td>0.0</td>\n",
       "    </tr>\n",
       "    <tr>\n",
       "      <th>18</th>\n",
       "      <td>RQ51-pre.txt</td>\n",
       "      <td>us1883.c</td>\n",
       "      <td>42.803688</td>\n",
       "      <td>0.022829</td>\n",
       "      <td>1.0</td>\n",
       "    </tr>\n",
       "    <tr>\n",
       "      <th>19</th>\n",
       "      <td>RQ14-pre.txt</td>\n",
       "      <td>us898.c</td>\n",
       "      <td>30.282789</td>\n",
       "      <td>0.031966</td>\n",
       "      <td>0.0</td>\n",
       "    </tr>\n",
       "    <tr>\n",
       "      <th>20</th>\n",
       "      <td>RQ31-pre.txt</td>\n",
       "      <td>us2174.c</td>\n",
       "      <td>41.577049</td>\n",
       "      <td>0.023487</td>\n",
       "      <td>0.0</td>\n",
       "    </tr>\n",
       "    <tr>\n",
       "      <th>21</th>\n",
       "      <td>RQ53-pre.txt</td>\n",
       "      <td>us2174.c</td>\n",
       "      <td>45.240738</td>\n",
       "      <td>0.021626</td>\n",
       "      <td>0.0</td>\n",
       "    </tr>\n",
       "    <tr>\n",
       "      <th>22</th>\n",
       "      <td>RQ33-pre.txt</td>\n",
       "      <td>us893.c</td>\n",
       "      <td>33.165230</td>\n",
       "      <td>0.029270</td>\n",
       "      <td>1.0</td>\n",
       "    </tr>\n",
       "    <tr>\n",
       "      <th>23</th>\n",
       "      <td>RQ5-pre.txt</td>\n",
       "      <td>us900.c</td>\n",
       "      <td>32.101776</td>\n",
       "      <td>0.030210</td>\n",
       "      <td>0.0</td>\n",
       "    </tr>\n",
       "    <tr>\n",
       "      <th>24</th>\n",
       "      <td>RQ1-pre.txt</td>\n",
       "      <td>us1060.c</td>\n",
       "      <td>22.759861</td>\n",
       "      <td>0.042088</td>\n",
       "      <td>0.0</td>\n",
       "    </tr>\n",
       "    <tr>\n",
       "      <th>25</th>\n",
       "      <td>RQ52-pre.txt</td>\n",
       "      <td>us903.c</td>\n",
       "      <td>44.978016</td>\n",
       "      <td>0.021750</td>\n",
       "      <td>0.0</td>\n",
       "    </tr>\n",
       "    <tr>\n",
       "      <th>26</th>\n",
       "      <td>RQ50-pre.txt</td>\n",
       "      <td>us895.c</td>\n",
       "      <td>37.087582</td>\n",
       "      <td>0.026255</td>\n",
       "      <td>0.0</td>\n",
       "    </tr>\n",
       "    <tr>\n",
       "      <th>27</th>\n",
       "      <td>RQ56-pre.txt</td>\n",
       "      <td>us900.c</td>\n",
       "      <td>28.082848</td>\n",
       "      <td>0.034385</td>\n",
       "      <td>1.0</td>\n",
       "    </tr>\n",
       "    <tr>\n",
       "      <th>28</th>\n",
       "      <td>RQ28-pre.txt</td>\n",
       "      <td>us903.c</td>\n",
       "      <td>37.405643</td>\n",
       "      <td>0.026038</td>\n",
       "      <td>0.0</td>\n",
       "    </tr>\n",
       "    <tr>\n",
       "      <th>29</th>\n",
       "      <td>RQ58-pre.txt</td>\n",
       "      <td>us748.c</td>\n",
       "      <td>39.915108</td>\n",
       "      <td>0.024441</td>\n",
       "      <td>0.0</td>\n",
       "    </tr>\n",
       "    <tr>\n",
       "      <th>30</th>\n",
       "      <td>RQ33-pre.txt</td>\n",
       "      <td>us896.c</td>\n",
       "      <td>22.242945</td>\n",
       "      <td>0.043024</td>\n",
       "      <td>1.0</td>\n",
       "    </tr>\n",
       "    <tr>\n",
       "      <th>31</th>\n",
       "      <td>RQ18-pre.txt</td>\n",
       "      <td>us1005.c</td>\n",
       "      <td>31.480001</td>\n",
       "      <td>0.030788</td>\n",
       "      <td>0.0</td>\n",
       "    </tr>\n",
       "    <tr>\n",
       "      <th>32</th>\n",
       "      <td>RQ45-pre.txt</td>\n",
       "      <td>us1159.c</td>\n",
       "      <td>25.269348</td>\n",
       "      <td>0.038067</td>\n",
       "      <td>0.0</td>\n",
       "    </tr>\n",
       "    <tr>\n",
       "      <th>33</th>\n",
       "      <td>RQ27-pre.txt</td>\n",
       "      <td>us899.c</td>\n",
       "      <td>16.337246</td>\n",
       "      <td>0.057679</td>\n",
       "      <td>0.0</td>\n",
       "    </tr>\n",
       "    <tr>\n",
       "      <th>34</th>\n",
       "      <td>RQ26-pre.txt</td>\n",
       "      <td>us1159.c</td>\n",
       "      <td>27.350424</td>\n",
       "      <td>0.035273</td>\n",
       "      <td>1.0</td>\n",
       "    </tr>\n",
       "    <tr>\n",
       "      <th>35</th>\n",
       "      <td>RQ11-pre.txt</td>\n",
       "      <td>us1883.c</td>\n",
       "      <td>38.000237</td>\n",
       "      <td>0.025641</td>\n",
       "      <td>1.0</td>\n",
       "    </tr>\n",
       "    <tr>\n",
       "      <th>36</th>\n",
       "      <td>RQ35-pre.txt</td>\n",
       "      <td>us3512.c</td>\n",
       "      <td>31.716932</td>\n",
       "      <td>0.030565</td>\n",
       "      <td>1.0</td>\n",
       "    </tr>\n",
       "    <tr>\n",
       "      <th>37</th>\n",
       "      <td>RQ22-pre.txt</td>\n",
       "      <td>us1005.c</td>\n",
       "      <td>28.485693</td>\n",
       "      <td>0.033915</td>\n",
       "      <td>1.0</td>\n",
       "    </tr>\n",
       "    <tr>\n",
       "      <th>38</th>\n",
       "      <td>RQ47-pre.txt</td>\n",
       "      <td>us899.c</td>\n",
       "      <td>19.712870</td>\n",
       "      <td>0.048279</td>\n",
       "      <td>1.0</td>\n",
       "    </tr>\n",
       "    <tr>\n",
       "      <th>39</th>\n",
       "      <td>RQ17-pre.txt</td>\n",
       "      <td>us748.c</td>\n",
       "      <td>41.910152</td>\n",
       "      <td>0.023305</td>\n",
       "      <td>0.0</td>\n",
       "    </tr>\n",
       "    <tr>\n",
       "      <th>40</th>\n",
       "      <td>RQ10-pre.txt</td>\n",
       "      <td>us900.c</td>\n",
       "      <td>31.978065</td>\n",
       "      <td>0.030323</td>\n",
       "      <td>0.0</td>\n",
       "    </tr>\n",
       "    <tr>\n",
       "      <th>41</th>\n",
       "      <td>RQ15-pre.txt</td>\n",
       "      <td>us900.c</td>\n",
       "      <td>32.026478</td>\n",
       "      <td>0.030279</td>\n",
       "      <td>0.0</td>\n",
       "    </tr>\n",
       "    <tr>\n",
       "      <th>42</th>\n",
       "      <td>RQ10-pre.txt</td>\n",
       "      <td>us894.c</td>\n",
       "      <td>36.712482</td>\n",
       "      <td>0.026516</td>\n",
       "      <td>0.0</td>\n",
       "    </tr>\n",
       "    <tr>\n",
       "      <th>43</th>\n",
       "      <td>RQ21-pre.txt</td>\n",
       "      <td>us901.c</td>\n",
       "      <td>32.639389</td>\n",
       "      <td>0.029727</td>\n",
       "      <td>0.0</td>\n",
       "    </tr>\n",
       "    <tr>\n",
       "      <th>44</th>\n",
       "      <td>RQ52-pre.txt</td>\n",
       "      <td>us901.c</td>\n",
       "      <td>42.456348</td>\n",
       "      <td>0.023012</td>\n",
       "      <td>0.0</td>\n",
       "    </tr>\n",
       "    <tr>\n",
       "      <th>45</th>\n",
       "      <td>RQ39-pre.txt</td>\n",
       "      <td>us1005.c</td>\n",
       "      <td>28.711901</td>\n",
       "      <td>0.033657</td>\n",
       "      <td>0.0</td>\n",
       "    </tr>\n",
       "    <tr>\n",
       "      <th>46</th>\n",
       "      <td>RQ24-pre.txt</td>\n",
       "      <td>us1864.c</td>\n",
       "      <td>35.597958</td>\n",
       "      <td>0.027324</td>\n",
       "      <td>0.0</td>\n",
       "    </tr>\n",
       "    <tr>\n",
       "      <th>47</th>\n",
       "      <td>RQ9-pre.txt</td>\n",
       "      <td>us899.c</td>\n",
       "      <td>16.162106</td>\n",
       "      <td>0.058268</td>\n",
       "      <td>0.0</td>\n",
       "    </tr>\n",
       "    <tr>\n",
       "      <th>48</th>\n",
       "      <td>RQ38-pre.txt</td>\n",
       "      <td>us897.c</td>\n",
       "      <td>26.504641</td>\n",
       "      <td>0.036358</td>\n",
       "      <td>0.0</td>\n",
       "    </tr>\n",
       "    <tr>\n",
       "      <th>49</th>\n",
       "      <td>RQ9-pre.txt</td>\n",
       "      <td>us3612.c</td>\n",
       "      <td>26.586496</td>\n",
       "      <td>0.036250</td>\n",
       "      <td>0.0</td>\n",
       "    </tr>\n",
       "  </tbody>\n",
       "</table>\n",
       "</div>"
      ],
      "text/plain": [
       "          Source    Target  DistanceMetric.EUC  SimilarityMetric.EUC_sim  \\\n",
       "0   RQ34-pre.txt   us901.c           34.769779                  0.027957   \n",
       "1   RQ25-pre.txt  us2174.c           44.547073                  0.021955   \n",
       "2   RQ26-pre.txt  us4020.c           27.537466                  0.035042   \n",
       "3    RQ6-pre.txt  us3612.c           27.061159                  0.035636   \n",
       "4   RQ32-pre.txt   us894.c           34.568577                  0.028115   \n",
       "5    RQ6-pre.txt  us1864.c           33.200203                  0.029240   \n",
       "6   RQ26-pre.txt  us3496.c           34.455582                  0.028204   \n",
       "7    RQ4-pre.txt  us1159.c           33.715126                  0.028806   \n",
       "8    RQ2-pre.txt  us1159.c           28.305454                  0.034123   \n",
       "9   RQ34-pre.txt  us1864.c           38.042309                  0.025613   \n",
       "10   RQ8-pre.txt   us894.c           35.507835                  0.027391   \n",
       "11  RQ48-pre.txt  us3512.c           32.324081                  0.030008   \n",
       "12  RQ57-pre.txt  us1883.c           43.343346                  0.022551   \n",
       "13   RQ6-pre.txt  us1159.c           28.271711                  0.034163   \n",
       "14   RQ1-pre.txt   us898.c           25.600437                  0.037593   \n",
       "15  RQ10-pre.txt  us1883.c           37.400558                  0.026041   \n",
       "16  RQ33-pre.txt  us3612.c           27.141394                  0.035535   \n",
       "17  RQ10-pre.txt   us903.c           34.687874                  0.028021   \n",
       "18  RQ51-pre.txt  us1883.c           42.803688                  0.022829   \n",
       "19  RQ14-pre.txt   us898.c           30.282789                  0.031966   \n",
       "20  RQ31-pre.txt  us2174.c           41.577049                  0.023487   \n",
       "21  RQ53-pre.txt  us2174.c           45.240738                  0.021626   \n",
       "22  RQ33-pre.txt   us893.c           33.165230                  0.029270   \n",
       "23   RQ5-pre.txt   us900.c           32.101776                  0.030210   \n",
       "24   RQ1-pre.txt  us1060.c           22.759861                  0.042088   \n",
       "25  RQ52-pre.txt   us903.c           44.978016                  0.021750   \n",
       "26  RQ50-pre.txt   us895.c           37.087582                  0.026255   \n",
       "27  RQ56-pre.txt   us900.c           28.082848                  0.034385   \n",
       "28  RQ28-pre.txt   us903.c           37.405643                  0.026038   \n",
       "29  RQ58-pre.txt   us748.c           39.915108                  0.024441   \n",
       "30  RQ33-pre.txt   us896.c           22.242945                  0.043024   \n",
       "31  RQ18-pre.txt  us1005.c           31.480001                  0.030788   \n",
       "32  RQ45-pre.txt  us1159.c           25.269348                  0.038067   \n",
       "33  RQ27-pre.txt   us899.c           16.337246                  0.057679   \n",
       "34  RQ26-pre.txt  us1159.c           27.350424                  0.035273   \n",
       "35  RQ11-pre.txt  us1883.c           38.000237                  0.025641   \n",
       "36  RQ35-pre.txt  us3512.c           31.716932                  0.030565   \n",
       "37  RQ22-pre.txt  us1005.c           28.485693                  0.033915   \n",
       "38  RQ47-pre.txt   us899.c           19.712870                  0.048279   \n",
       "39  RQ17-pre.txt   us748.c           41.910152                  0.023305   \n",
       "40  RQ10-pre.txt   us900.c           31.978065                  0.030323   \n",
       "41  RQ15-pre.txt   us900.c           32.026478                  0.030279   \n",
       "42  RQ10-pre.txt   us894.c           36.712482                  0.026516   \n",
       "43  RQ21-pre.txt   us901.c           32.639389                  0.029727   \n",
       "44  RQ52-pre.txt   us901.c           42.456348                  0.023012   \n",
       "45  RQ39-pre.txt  us1005.c           28.711901                  0.033657   \n",
       "46  RQ24-pre.txt  us1864.c           35.597958                  0.027324   \n",
       "47   RQ9-pre.txt   us899.c           16.162106                  0.058268   \n",
       "48  RQ38-pre.txt   us897.c           26.504641                  0.036358   \n",
       "49   RQ9-pre.txt  us3612.c           26.586496                  0.036250   \n",
       "\n",
       "    Linked?  \n",
       "0       1.0  \n",
       "1       0.0  \n",
       "2       1.0  \n",
       "3       1.0  \n",
       "4       0.0  \n",
       "5       0.0  \n",
       "6       1.0  \n",
       "7       0.0  \n",
       "8       0.0  \n",
       "9       1.0  \n",
       "10      0.0  \n",
       "11      1.0  \n",
       "12      1.0  \n",
       "13      1.0  \n",
       "14      0.0  \n",
       "15      0.0  \n",
       "16      1.0  \n",
       "17      0.0  \n",
       "18      1.0  \n",
       "19      0.0  \n",
       "20      0.0  \n",
       "21      0.0  \n",
       "22      1.0  \n",
       "23      0.0  \n",
       "24      0.0  \n",
       "25      0.0  \n",
       "26      0.0  \n",
       "27      1.0  \n",
       "28      0.0  \n",
       "29      0.0  \n",
       "30      1.0  \n",
       "31      0.0  \n",
       "32      0.0  \n",
       "33      0.0  \n",
       "34      1.0  \n",
       "35      1.0  \n",
       "36      1.0  \n",
       "37      1.0  \n",
       "38      1.0  \n",
       "39      0.0  \n",
       "40      0.0  \n",
       "41      0.0  \n",
       "42      0.0  \n",
       "43      0.0  \n",
       "44      0.0  \n",
       "45      0.0  \n",
       "46      0.0  \n",
       "47      0.0  \n",
       "48      0.0  \n",
       "49      0.0  "
      ]
     },
     "execution_count": null,
     "metadata": {},
     "output_type": "execute_result"
    }
   ],
   "source": [
    "#[step 4]GroundTruthMatching Testing\n",
    "path_to_ground_truth = '/tf/main/benchmarking/traceability/testbeds/groundtruth/english/[libest-ground-req-to-tc].txt'\n",
    "doc2vec.MatchWithGroundTruth(path_to_ground_truth)\n",
    "doc2vec.df_ground_link"
   ]
  },
  {
   "cell_type": "code",
   "execution_count": null,
   "metadata": {},
   "outputs": [
    {
     "name": "stderr",
     "output_type": "stream",
     "text": [
      "2020-06-04 02:59:09,162 : INFO : Saving in...test_data/[libest-VectorizationType.doc2vec-LinkType.req2tc-True-1591239549.159112].csv\n"
     ]
    }
   ],
   "source": [
    "#[step 5]Saving GroundTruth Links\n",
    "doc2vec.SaveLinks(grtruth = True)"
   ]
  },
  {
   "cell_type": "code",
   "execution_count": null,
   "metadata": {},
   "outputs": [
    {
     "name": "stderr",
     "output_type": "stream",
     "text": [
      "2020-06-06 01:18:14,465 : INFO : Loading computed links from... test_data/[libest-VectorizationType.doc2vec-LinkType.req2tc-True-1591239549.159112].csv\n"
     ]
    },
    {
     "data": {
      "text/html": [
       "<div>\n",
       "<style scoped>\n",
       "    .dataframe tbody tr th:only-of-type {\n",
       "        vertical-align: middle;\n",
       "    }\n",
       "\n",
       "    .dataframe tbody tr th {\n",
       "        vertical-align: top;\n",
       "    }\n",
       "\n",
       "    .dataframe thead th {\n",
       "        text-align: right;\n",
       "    }\n",
       "</style>\n",
       "<table border=\"1\" class=\"dataframe\">\n",
       "  <thead>\n",
       "    <tr style=\"text-align: right;\">\n",
       "      <th></th>\n",
       "      <th>Source</th>\n",
       "      <th>Target</th>\n",
       "      <th>DistanceMetric.COS</th>\n",
       "      <th>SimilarityMetric.COS_sim</th>\n",
       "      <th>Linked?</th>\n",
       "    </tr>\n",
       "  </thead>\n",
       "  <tbody>\n",
       "    <tr>\n",
       "      <th>0</th>\n",
       "      <td>RQ18-pre.txt</td>\n",
       "      <td>us899.c</td>\n",
       "      <td>0.817672</td>\n",
       "      <td>0.182328</td>\n",
       "      <td>1.0</td>\n",
       "    </tr>\n",
       "    <tr>\n",
       "      <th>1</th>\n",
       "      <td>RQ32-pre.txt</td>\n",
       "      <td>us897.c</td>\n",
       "      <td>0.650205</td>\n",
       "      <td>0.349795</td>\n",
       "      <td>0.0</td>\n",
       "    </tr>\n",
       "  </tbody>\n",
       "</table>\n",
       "</div>"
      ],
      "text/plain": [
       "         Source   Target  DistanceMetric.COS  SimilarityMetric.COS_sim  \\\n",
       "0  RQ18-pre.txt  us899.c            0.817672                  0.182328   \n",
       "1  RQ32-pre.txt  us897.c            0.650205                  0.349795   \n",
       "\n",
       "   Linked?  \n",
       "0      1.0  \n",
       "1      0.0  "
      ]
     },
     "execution_count": null,
     "metadata": {},
     "output_type": "execute_result"
    }
   ],
   "source": [
    "#Loading Non-GroundTruth Links (change the timestamp with the assigned in the previous step)\n",
    "df_glinks_doc2vec = LoadLinks(timestamp=1591239549.159112, params=doc2vec_params, grtruth = True)\n",
    "df_glinks_doc2vec.head()"
   ]
  },
  {
   "cell_type": "markdown",
   "metadata": {},
   "source": [
    "# Approach Evaluation and Interpretation (doc2vec)"
   ]
  },
  {
   "cell_type": "code",
   "execution_count": null,
   "metadata": {},
   "outputs": [],
   "source": [
    "supervisedEvalDoc2vec = SupervisedVectorEvaluation(doc2vec, similarity=SimilarityMetric.EUC_sim)"
   ]
  },
  {
   "cell_type": "code",
   "execution_count": null,
   "metadata": {},
   "outputs": [
    {
     "data": {
      "text/plain": [
       "array([1., 0., 1., 1., 0., 0., 1., 0., 0., 1., 0., 1., 1., 1., 0., 0., 1.,\n",
       "       0., 1., 0., 0., 0., 1., 0., 0., 0., 0., 1., 0., 0., 1., 0., 0., 0.,\n",
       "       1., 1., 1., 1., 1., 0., 0., 0., 0., 0., 0., 0., 0., 0., 0., 0.])"
      ]
     },
     "execution_count": null,
     "metadata": {},
     "output_type": "execute_result"
    }
   ],
   "source": [
    "supervisedEvalDoc2vec.y_test"
   ]
  },
  {
   "cell_type": "code",
   "execution_count": null,
   "metadata": {},
   "outputs": [
    {
     "data": {
      "text/plain": [
       "array([0.02795656, 0.02195531, 0.03504165, 0.03563645, 0.0281147 ,\n",
       "       0.02923959, 0.0282043 , 0.02880589, 0.03412334, 0.02561324,\n",
       "       0.02739138, 0.03000833, 0.0225513 , 0.03416268, 0.03759337,\n",
       "       0.02604129, 0.03553484, 0.02802072, 0.02282913, 0.03196646,\n",
       "       0.02348683, 0.02162595, 0.02926952, 0.03020986, 0.04208779,\n",
       "       0.02174952, 0.02625528, 0.03438453, 0.02603784, 0.02444085,\n",
       "       0.04302381, 0.03078818, 0.03806718, 0.05767929, 0.03527284,\n",
       "       0.02564087, 0.03056521, 0.03391475, 0.04827916, 0.02330451,\n",
       "       0.03032319, 0.03027874, 0.02651642, 0.02972706, 0.0230116 ,\n",
       "       0.03365655, 0.02732393, 0.05826791, 0.0363575 , 0.03624962])"
      ]
     },
     "execution_count": null,
     "metadata": {},
     "output_type": "execute_result"
    }
   ],
   "source": [
    "supervisedEvalDoc2vec.y_score"
   ]
  },
  {
   "cell_type": "code",
   "execution_count": null,
   "metadata": {},
   "outputs": [
    {
     "data": {
      "image/png": "[encoded data removed]",
      "text/plain": [
       "<Figure size 432x288 with 1 Axes>"
      ]
     },
     "metadata": {
      "needs_background": "light"
     },
     "output_type": "display_data"
    },
    {
     "name": "stderr",
     "output_type": "stream",
     "text": [
      "2020-06-10 20:59:33,284 : INFO : Average precision-recall score: 0.43\n",
      "2020-06-10 20:59:33,289 : INFO : Precision-Recall AUC: 0.398\n"
     ]
    }
   ],
   "source": [
    "supervisedEvalDoc2vec.Compute_avg_precision()"
   ]
  },
  {
   "cell_type": "code",
   "execution_count": null,
   "metadata": {},
   "outputs": [
    {
     "data": {
      "image/png": "[encoded data removed]",
      "text/plain": [
       "<Figure size 432x288 with 1 Axes>"
      ]
     },
     "metadata": {
      "needs_background": "light"
     },
     "output_type": "display_data"
    },
    {
     "name": "stderr",
     "output_type": "stream",
     "text": [
      "2020-06-10 20:59:37,847 : INFO : ROC AUC 0.587\n"
     ]
    }
   ],
   "source": [
    "supervisedEvalDoc2vec.Compute_roc_curve()"
   ]
  },
  {
   "cell_type": "code",
   "execution_count": null,
   "metadata": {},
   "outputs": [
    {
     "name": "stderr",
     "output_type": "stream",
     "text": [
      "/usr/local/lib/python3.6/dist-packages/prg/prg.py:271: RuntimeWarning: invalid value encountered in double_scalars\n",
      "  return (a[0] - o[0]) * (b[1] - o[1]) - (a[1] - o[1]) * (b[0] - o[0])\n"
     ]
    },
    {
     "data": {
      "image/png": "[encoded data removed]",
      "text/plain": [
       "<Figure size 432x360 with 1 Axes>"
      ]
     },
     "metadata": {
      "needs_background": "light"
     },
     "output_type": "display_data"
    },
    {
     "name": "stderr",
     "output_type": "stream",
     "text": [
      "2020-06-10 20:59:43,655 : INFO : auprg:  0.316\n",
      "2020-06-10 20:59:43,656 : INFO : compute_precision_recall_gain Complete\n"
     ]
    }
   ],
   "source": [
    "supervisedEvalDoc2vec.Compute_precision_recall_gain()"
   ]
  },
  {
   "cell_type": "markdown",
   "metadata": {},
   "source": [
    "## Compute distribution of similarities doc2vec"
   ]
  },
  {
   "cell_type": "code",
   "execution_count": null,
   "metadata": {},
   "outputs": [
    {
     "data": {
      "text/html": [
       "<div>\n",
       "<style scoped>\n",
       "    .dataframe tbody tr th:only-of-type {\n",
       "        vertical-align: middle;\n",
       "    }\n",
       "\n",
       "    .dataframe tbody tr th {\n",
       "        vertical-align: top;\n",
       "    }\n",
       "\n",
       "    .dataframe thead th {\n",
       "        text-align: right;\n",
       "    }\n",
       "</style>\n",
       "<table border=\"1\" class=\"dataframe\">\n",
       "  <thead>\n",
       "    <tr style=\"text-align: right;\">\n",
       "      <th></th>\n",
       "      <th>DistanceMetric.EUC</th>\n",
       "      <th>SimilarityMetric.EUC_sim</th>\n",
       "      <th>Linked?</th>\n",
       "    </tr>\n",
       "  </thead>\n",
       "  <tbody>\n",
       "    <tr>\n",
       "      <th>count</th>\n",
       "      <td>50.000000</td>\n",
       "      <td>50.000000</td>\n",
       "      <td>50.000000</td>\n",
       "    </tr>\n",
       "    <tr>\n",
       "      <th>mean</th>\n",
       "      <td>32.555240</td>\n",
       "      <td>0.031372</td>\n",
       "      <td>0.360000</td>\n",
       "    </tr>\n",
       "    <tr>\n",
       "      <th>std</th>\n",
       "      <td>7.090463</td>\n",
       "      <td>0.007993</td>\n",
       "      <td>0.484873</td>\n",
       "    </tr>\n",
       "    <tr>\n",
       "      <th>min</th>\n",
       "      <td>16.162106</td>\n",
       "      <td>0.021626</td>\n",
       "      <td>0.000000</td>\n",
       "    </tr>\n",
       "    <tr>\n",
       "      <th>25%</th>\n",
       "      <td>27.673811</td>\n",
       "      <td>0.026095</td>\n",
       "      <td>0.000000</td>\n",
       "    </tr>\n",
       "    <tr>\n",
       "      <th>50%</th>\n",
       "      <td>32.481735</td>\n",
       "      <td>0.029868</td>\n",
       "      <td>0.000000</td>\n",
       "    </tr>\n",
       "    <tr>\n",
       "      <th>75%</th>\n",
       "      <td>37.322314</td>\n",
       "      <td>0.034877</td>\n",
       "      <td>1.000000</td>\n",
       "    </tr>\n",
       "    <tr>\n",
       "      <th>max</th>\n",
       "      <td>45.240738</td>\n",
       "      <td>0.058268</td>\n",
       "      <td>1.000000</td>\n",
       "    </tr>\n",
       "  </tbody>\n",
       "</table>\n",
       "</div>"
      ],
      "text/plain": [
       "       DistanceMetric.EUC  SimilarityMetric.EUC_sim    Linked?\n",
       "count           50.000000                 50.000000  50.000000\n",
       "mean            32.555240                  0.031372   0.360000\n",
       "std              7.090463                  0.007993   0.484873\n",
       "min             16.162106                  0.021626   0.000000\n",
       "25%             27.673811                  0.026095   0.000000\n",
       "50%             32.481735                  0.029868   0.000000\n",
       "75%             37.322314                  0.034877   1.000000\n",
       "max             45.240738                  0.058268   1.000000"
      ]
     },
     "execution_count": null,
     "metadata": {},
     "output_type": "execute_result"
    }
   ],
   "source": [
    "#Basic Statistics\n",
    "filter_doc2vec = doc2vec.df_ground_link\n",
    "filter_doc2vec.describe()"
   ]
  },
  {
   "cell_type": "code",
   "execution_count": null,
   "metadata": {},
   "outputs": [
    {
     "data": {
      "text/plain": [
       "<matplotlib.axes._subplots.AxesSubplot at 0x7f33c5581320>"
      ]
     },
     "execution_count": null,
     "metadata": {},
     "output_type": "execute_result"
    },
    {
     "data": {
      "image/png": "[encoded data removed]",
      "text/plain": [
       "<Figure size 432x288 with 1 Axes>"
      ]
     },
     "metadata": {
      "needs_background": "light"
     },
     "output_type": "display_data"
    }
   ],
   "source": [
    "lag_plot(filter_doc2vec[[SimilarityMetric.EUC_sim]])"
   ]
  },
  {
   "cell_type": "code",
   "execution_count": null,
   "metadata": {},
   "outputs": [
    {
     "data": {
      "text/plain": [
       "<matplotlib.axes._subplots.AxesSubplot at 0x7f33c5610dd8>"
      ]
     },
     "execution_count": null,
     "metadata": {},
     "output_type": "execute_result"
    },
    {
     "data": {
      "image/png": "[encoded data removed]",
      "text/plain": [
       "<Figure size 432x288 with 1 Axes>"
      ]
     },
     "metadata": {
      "needs_background": "light"
     },
     "output_type": "display_data"
    }
   ],
   "source": [
    "lag_plot(filter_doc2vec[DistanceMetric.EUC])"
   ]
  },
  {
   "cell_type": "code",
   "execution_count": null,
   "metadata": {},
   "outputs": [
    {
     "data": {
      "text/plain": [
       "array([[<matplotlib.axes._subplots.AxesSubplot object at 0x7f33c61aa1d0>,\n",
       "        <matplotlib.axes._subplots.AxesSubplot object at 0x7f33c62fa3c8>]],\n",
       "      dtype=object)"
      ]
     },
     "execution_count": null,
     "metadata": {},
     "output_type": "execute_result"
    },
    {
     "data": {
      "image/png": "[encoded data removed]",
      "text/plain": [
       "<Figure size 720x360 with 2 Axes>"
      ]
     },
     "metadata": {
      "needs_background": "light"
     },
     "output_type": "display_data"
    }
   ],
   "source": [
    "filter_doc2vec.hist(column=[SimilarityMetric.EUC_sim,DistanceMetric.EUC],color='k',bins=50,figsize=[10,5],alpha=0.5)"
   ]
  },
  {
   "cell_type": "code",
   "execution_count": null,
   "metadata": {},
   "outputs": [
    {
     "name": "stdout",
     "output_type": "stream",
     "text": [
      "SimilarityMetric.EUC_sim    0.007993\n",
      "DistanceMetric.EUC          7.090463\n",
      "dtype: float64\n"
     ]
    },
    {
     "data": {
      "text/plain": [
       "<matplotlib.axes._subplots.AxesSubplot at 0x7f33c5ab9320>"
      ]
     },
     "execution_count": null,
     "metadata": {},
     "output_type": "execute_result"
    },
    {
     "data": {
      "image/png": "[encoded data removed]",
      "text/plain": [
       "<Figure size 432x288 with 1 Axes>"
      ]
     },
     "metadata": {
      "needs_background": "light"
     },
     "output_type": "display_data"
    }
   ],
   "source": [
    "#Separate distance from similarity analysis here\n",
    "errors = filter_doc2vec[[SimilarityMetric.EUC_sim,DistanceMetric.EUC]].std()\n",
    "print(errors)\n",
    "filter_doc2vec[[SimilarityMetric.EUC_sim,DistanceMetric.EUC]].plot.kde()"
   ]
  },
  {
   "cell_type": "code",
   "execution_count": null,
   "metadata": {},
   "outputs": [
    {
     "data": {
      "text/plain": [
       "array([<matplotlib.axes._subplots.AxesSubplot object at 0x7f33c5833ba8>,\n",
       "       <matplotlib.axes._subplots.AxesSubplot object at 0x7f33c57c5518>],\n",
       "      dtype=object)"
      ]
     },
     "execution_count": null,
     "metadata": {},
     "output_type": "execute_result"
    },
    {
     "data": {
      "image/png": "[encoded data removed]",
      "text/plain": [
       "<Figure size 720x360 with 2 Axes>"
      ]
     },
     "metadata": {
      "needs_background": "light"
     },
     "output_type": "display_data"
    }
   ],
   "source": [
    "filter_doc2vec.hist(by='Linked?',column=SimilarityMetric.EUC_sim,figsize=[10, 5],bins=80)"
   ]
  },
  {
   "cell_type": "code",
   "execution_count": null,
   "metadata": {},
   "outputs": [
    {
     "data": {
      "text/plain": [
       "array([<matplotlib.axes._subplots.AxesSubplot object at 0x7f33c37f8be0>,\n",
       "       <matplotlib.axes._subplots.AxesSubplot object at 0x7f33c5d01828>],\n",
       "      dtype=object)"
      ]
     },
     "execution_count": null,
     "metadata": {},
     "output_type": "execute_result"
    },
    {
     "data": {
      "image/png": "[encoded data removed]",
      "text/plain": [
       "<Figure size 720x360 with 2 Axes>"
      ]
     },
     "metadata": {
      "needs_background": "light"
     },
     "output_type": "display_data"
    }
   ],
   "source": [
    "filter_doc2vec.hist(by='Linked?',column=DistanceMetric.EUC,figsize=[10, 5],bins=80)"
   ]
  },
  {
   "cell_type": "code",
   "execution_count": null,
   "metadata": {},
   "outputs": [
    {
     "data": {
      "image/png": "[encoded data removed]",
      "text/plain": [
       "<Figure size 720x360 with 2 Axes>"
      ]
     },
     "metadata": {
      "needs_background": "light"
     },
     "output_type": "display_data"
    }
   ],
   "source": [
    "#separate the distance from the similarity plot\n",
    "boxplot = filter_doc2vec.boxplot(by='Linked?',column=[SimilarityMetric.EUC_sim,DistanceMetric.EUC],figsize=[10, 5])"
   ]
  },
  {
   "cell_type": "code",
   "execution_count": null,
   "metadata": {},
   "outputs": [
    {
     "data": {
      "image/png": "[encoded data removed]",
      "text/plain": [
       "<Figure size 720x360 with 1 Axes>"
      ]
     },
     "metadata": {
      "needs_background": "light"
     },
     "output_type": "display_data"
    }
   ],
   "source": [
    "boxplot = filter_doc2vec.boxplot(by='Linked?',column=[SimilarityMetric.EUC_sim],figsize=[10, 5])"
   ]
  },
  {
   "cell_type": "markdown",
   "metadata": {},
   "source": [
    "## Combining Doc2vec and Word2vec\n",
    "Please check this post for futher detatils [link](https://stats.stackexchange.com/questions/217614/intepreting-doc2vec-cosine-similarity-between-doc-vectors-and-word-vectors)"
   ]
  },
  {
   "cell_type": "code",
   "execution_count": null,
   "metadata": {},
   "outputs": [],
   "source": [
    "! nbdev_build_docs #<-------- [Activate when stable]"
   ]
  }
 ],
 "metadata": {
  "kernelspec": {
   "display_name": "Python 3",
   "language": "python",
   "name": "python3"
  }
 },
 "nbformat": 4,
 "nbformat_minor": 2
}
