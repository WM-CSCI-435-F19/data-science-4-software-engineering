{
 "cells": [
  {
   "cell_type": "code",
   "execution_count": null,
   "metadata": {},
   "outputs": [],
   "source": [
    "# default_exp benchmark.i"
   ]
  },
  {
   "cell_type": "code",
   "execution_count": null,
   "metadata": {},
   "outputs": [],
   "source": [
    "# hide\n",
    "%load_ext autoreload\n",
    "%autoreload 2"
   ]
  },
  {
   "cell_type": "markdown",
   "metadata": {},
   "source": [
    "# Benchmarking Interface\n",
    "\n",
    "> This module is dedicated benchmarking"
   ]
  },
  {
   "cell_type": "code",
   "execution_count": null,
   "metadata": {},
   "outputs": [],
   "source": [
    "#export\n",
    "# Imports\n",
    "from abc import ABC, abstractmethod"
   ]
  },
  {
   "cell_type": "code",
   "execution_count": null,
   "metadata": {},
   "outputs": [],
   "source": [
    "#hide\n",
    "from nbdev.showdoc import *"
   ]
  },
  {
   "cell_type": "code",
   "execution_count": null,
   "metadata": {},
   "outputs": [],
   "source": [
    "# export\n",
    "class Testbed(ABC):\n",
    "    def __init__(self, data):\n",
    "        self.data = data\n",
    "        super().__init__()\n",
    "    \n",
    "    @abstractmethod\n",
    "    def evaluate(self, inpt):\n",
    "        pass"
   ]
  },
  {
   "cell_type": "code",
   "execution_count": null,
   "metadata": {},
   "outputs": [],
   "source": [
    "# export\n",
    "class Procedure(ABC):\n",
    "    def __init__(self, metrics):\n",
    "        self.metrics = metrics\n",
    "        super().__init__()\n",
    "    \n",
    "    @abstractmethod\n",
    "    def evaluate(self, inpt):\n",
    "        pass"
   ]
  },
  {
   "cell_type": "code",
   "execution_count": null,
   "metadata": {},
   "outputs": [],
   "source": [
    "# export\n",
    "class Benchmark(ABC):\n",
    "    def __init__(self, testbed, procedure):\n",
    "        self.testbed = testbed\n",
    "        self.procedure = procedure\n",
    "        super().__init__()\n",
    "    \n",
    "    @abstractmethod\n",
    "    def evaluate(self, inpt):\n",
    "        pass"
   ]
  },
  {
   "cell_type": "code",
   "execution_count": null,
   "metadata": {},
   "outputs": [],
   "source": []
  },
  {
   "cell_type": "code",
   "execution_count": null,
   "metadata": {},
   "outputs": [],
   "source": []
  },
  {
   "cell_type": "code",
   "execution_count": null,
   "metadata": {},
   "outputs": [],
   "source": []
  },
  {
   "cell_type": "code",
   "execution_count": null,
   "metadata": {},
   "outputs": [],
   "source": []
  },
  {
   "cell_type": "code",
   "execution_count": null,
   "metadata": {},
   "outputs": [],
   "source": []
  },
  {
   "cell_type": "code",
   "execution_count": null,
   "metadata": {},
   "outputs": [],
   "source": []
  },
  {
   "cell_type": "code",
   "execution_count": null,
   "metadata": {},
   "outputs": [],
   "source": []
  },
  {
   "cell_type": "code",
   "execution_count": null,
   "metadata": {},
   "outputs": [],
   "source": []
  },
  {
   "cell_type": "code",
   "execution_count": null,
   "metadata": {},
   "outputs": [],
   "source": []
  },
  {
   "cell_type": "code",
   "execution_count": null,
   "metadata": {},
   "outputs": [],
   "source": []
  },
  {
   "cell_type": "code",
   "execution_count": null,
   "metadata": {},
   "outputs": [],
   "source": []
  },
  {
   "cell_type": "code",
   "execution_count": null,
   "metadata": {},
   "outputs": [],
   "source": []
  },
  {
   "cell_type": "code",
   "execution_count": null,
   "metadata": {},
   "outputs": [],
   "source": []
  },
  {
   "cell_type": "code",
   "execution_count": null,
   "metadata": {},
   "outputs": [],
   "source": []
  },
  {
   "cell_type": "code",
   "execution_count": null,
   "metadata": {},
   "outputs": [],
   "source": []
  },
  {
   "cell_type": "code",
   "execution_count": null,
   "metadata": {},
   "outputs": [],
   "source": []
  },
  {
   "cell_type": "code",
   "execution_count": null,
   "metadata": {},
   "outputs": [],
   "source": []
  },
  {
   "cell_type": "code",
   "execution_count": null,
   "metadata": {},
   "outputs": [],
   "source": []
  },
  {
   "cell_type": "code",
   "execution_count": null,
   "metadata": {},
   "outputs": [],
   "source": []
  },
  {
   "cell_type": "code",
   "execution_count": null,
   "metadata": {},
   "outputs": [],
   "source": []
  },
  {
   "cell_type": "code",
   "execution_count": null,
   "metadata": {},
   "outputs": [],
   "source": []
  },
  {
   "cell_type": "code",
   "execution_count": null,
   "metadata": {},
   "outputs": [],
   "source": []
  },
  {
   "cell_type": "code",
   "execution_count": null,
   "metadata": {},
   "outputs": [],
   "source": []
  },
  {
   "cell_type": "code",
   "execution_count": null,
   "metadata": {},
   "outputs": [],
   "source": []
  },
  {
   "cell_type": "markdown",
   "metadata": {},
   "source": [
    "# SCRATCH CODE"
   ]
  },
  {
   "cell_type": "code",
   "execution_count": null,
   "metadata": {},
   "outputs": [],
   "source": []
  },
  {
   "cell_type": "code",
   "execution_count": null,
   "metadata": {},
   "outputs": [],
   "source": [
    "english_bpe = 'english_bpe'\n",
    "italian_bpe = 'italian_bpe'"
   ]
  },
  {
   "cell_type": "code",
   "execution_count": null,
   "metadata": {},
   "outputs": [],
   "source": [
    "libest_bpe = 'libest_only_bpe'\n",
    "sp_model_from_glob(path/'datasets/english/libest','*all*', libest_bpe)"
   ]
  },
  {
   "cell_type": "code",
   "execution_count": null,
   "metadata": {},
   "outputs": [],
   "source": [
    "sp_model_from_glob(path/'datasets/english','*/*all*', english_bpe)\n",
    "sp_model_from_glob(path/'datasets/italian','*/*all*', italian_bpe)"
   ]
  },
  {
   "cell_type": "code",
   "execution_count": null,
   "metadata": {},
   "outputs": [
    {
     "data": {
      "text/plain": [
       "PosixPath('../benchmarking/traceability/datasets')"
      ]
     },
     "execution_count": null,
     "metadata": {},
     "output_type": "execute_result"
    }
   ],
   "source": [
    "path/'datasets'"
   ]
  },
  {
   "cell_type": "code",
   "execution_count": null,
   "metadata": {},
   "outputs": [],
   "source": [
    "def output_bpe_tokenization(path, languages):\n",
    "    for language in languages:\n",
    "        req_fns = list((path/'datasets'/language).glob('**/*req]'))\n",
    "        src_fns = list((path/'datasets'/language).glob('**/*src]'))\n",
    "        tc_fns = list((path/'datasets'/language).glob('**/*tc]'))\n",
    "\n",
    "        spm = sp.SentencePieceProcessor()\n",
    "        spm.Load(str((path/'datasets'/language/f\"{language}_bpe.model\")))\n",
    "        \n",
    "        output = path/'testbeds'/'bpe'/language\n",
    "        req_docs = tokenize_fns(req_fns, spm, ['txt', 'TXT'], output, 'req')\n",
    "        src_docs = tokenize_fns(src_fns, spm, ['c', 'h', 'java', 'jsp'], output, 'src')\n",
    "        tc_docs = tokenize_fns(tc_fns, spm, ['c', 'h', 'java', 'jsp'], output, 'tc')"
   ]
  },
  {
   "cell_type": "code",
   "execution_count": null,
   "metadata": {},
   "outputs": [],
   "source": [
    "languages = ['english', 'italian']\n",
    "output_bpe_tokenization(path, languages)"
   ]
  },
  {
   "cell_type": "code",
   "execution_count": null,
   "metadata": {},
   "outputs": [],
   "source": [
    "def output_sys_bpe_tokenization(path, language, sys, bpe_model):\n",
    "    req_fns = list((path/'datasets'/language/sys).glob('**/*req]'))\n",
    "    src_fns = list((path/'datasets'/language/sys).glob('**/*src]'))\n",
    "    tc_fns = list((path/'datasets'/language/sys).glob('**/*tc]'))\n",
    "\n",
    "    spm = sp.SentencePieceProcessor()\n",
    "    spm.Load(str((path/'datasets'/language/sys/f\"{bpe_model}.model\")))\n",
    "\n",
    "    output = path/'testbeds'/'bpe'/language\n",
    "    req_docs = tokenize_fns(req_fns, spm, ['txt', 'TXT'], output, 'req')\n",
    "    src_docs = tokenize_fns(src_fns, spm, ['c', 'h', 'java', 'jsp'], output, 'src')\n",
    "    tc_docs = tokenize_fns(tc_fns, spm, ['c', 'h', 'java', 'jsp'], output, 'tc')\n",
    "    \n",
    "    vocab = {spm.id_to_piece(id): 0 for id in range(spm.get_piece_size())}\n",
    "    return vocab"
   ]
  },
  {
   "cell_type": "code",
   "execution_count": null,
   "metadata": {},
   "outputs": [],
   "source": [
    "vocab = output_sys_bpe_tokenization(path, 'english', 'libest', libest_bpe)"
   ]
  },
  {
   "cell_type": "markdown",
   "metadata": {},
   "source": [
    "# Entropy Benchmark"
   ]
  },
  {
   "cell_type": "code",
   "execution_count": null,
   "metadata": {},
   "outputs": [],
   "source": [
    "def benchmark_testbed(gt, ngt, sys, data_type):\n",
    "    gt = gt.loc[gt['sys'] == sys]\n",
    "    ngt = ngt.loc[ngt['sys'] == sys]\n",
    "    gt = gt.loc[gt['to_type'] == data_type]\n",
    "    ngt = ngt.loc[ngt['to_type'] == data_type]\n",
    "    \n",
    "    gt_from = gt['from_doc'].sample(frac = 1).to_list()[:100]\n",
    "    gt_to = gt['to_doc'].sample(frac = 1).to_list()[:100]\n",
    "    gt_to_files = gt['to_file'].sample(frac = 1).to_list()[:100]\n",
    "    gt_to_cnt = Counter()\n",
    "    for file in gt_to_files:\n",
    "        gt_to_cnt[file] += 1\n",
    "    ngt_from = ngt['from_doc'].sample(frac = 1).to_list()[:100]\n",
    "    ngt_to = ngt['to_doc'].sample(frac = 1).to_list()[:100]\n",
    "    \n",
    "    return gt_from, gt_to, gt_to_cnt, ngt_from, ngt_to"
   ]
  },
  {
   "cell_type": "code",
   "execution_count": null,
   "metadata": {},
   "outputs": [],
   "source": [
    "def benchmark_metrics(from_docs, to_docs, vocab):\n",
    "    from_entropies = get_entropies_from_docs(from_docs, vocab)\n",
    "    to_entropies = get_entropies_from_docs(to_docs, vocab)\n",
    "\n",
    "    shared_probs = [get_shared_probs_from_docs([[docs[0]], [docs[1]]], vocab)[0] for docs in zip(from_docs, to_docs)]\n",
    "    \n",
    "    return from_entropies, to_entropies, shared_probs"
   ]
  },
  {
   "cell_type": "code",
   "execution_count": null,
   "metadata": {},
   "outputs": [],
   "source": [
    "def benchmark_visualize(gts, ngts, gt_to_cnt, sys, trgt_type):\n",
    "    visualize_gt_ngt([gts[0], gts[1]], [ngts[0], ngts[1]], sys, trgt_type)\n",
    "    visualize_events(gts[2], 'b', f'{sys}-{trgt_type}', 'groundtruth')\n",
    "    visualize_events(ngts[2], 'r', f'{sys}-{trgt_type}', 'non-groundtruth')\n",
    "    plot_counts(gt_to_cnt, 'File', 'Entropy', top_k = 5)"
   ]
  },
  {
   "cell_type": "code",
   "execution_count": null,
   "metadata": {},
   "outputs": [],
   "source": [
    "def entropy_vis_gt_ngt(gt_entropies, ngt_entropies, sys, trgt_dtype):\n",
    "    visualize_gt_ngt([gt_entropies[0], gt_entropies[1]], [ngt_entropies[0], ngt_entropies[1]], sys, trgt_dtype)"
   ]
  },
  {
   "cell_type": "code",
   "execution_count": null,
   "metadata": {},
   "outputs": [],
   "source": [
    "def entropy_metrics(gt, ngt, vocab):\n",
    "    src_dtypes = gt.src_type.unique()\n",
    "    src_docs = [(dtype, gt.loc[gt.src_type == dtype].src_doc.values)for dtype in src_dtypes]\n",
    "    for dtype, docs in src_docs:\n",
    "        e = get_entropies_from_docs(docs, vocab)\n",
    "        print(f'Source Datatype: {dtype}')\n",
    "        report_stats(e)\n",
    "        print()\n",
    "    \n",
    "    trgt_dtypes = gt.trgt_type.unique()\n",
    "    trgt_docs = [(dtype, gt.loc[gt.trgt_type == dtype].trgt_doc.values) for dtype in trgt_dtypes]\n",
    "    for dtype, docs in trgt_docs:\n",
    "        e = get_entropies_from_docs(docs, vocab)\n",
    "        print(f'Target Datatype: {dtype}')\n",
    "        report_stats(e)\n",
    "        print()\n",
    "        \n",
    "    all_docs = [docs for _, docs in src_docs + trgt_docs]\n",
    "    entropy = get_entropy_from_docs(flatten(all_docs), vocab)\n",
    "    print(f'Total System Entropy:', entropy)\n",
    "    entropy = shared_entropy_from_docs(all_docs, vocab)\n",
    "    print('Shared Entropy:', entropy)\n",
    "    shared_prob, shared_info_content = get_shared_probs_from_docs(all_docs, vocab)\n",
    "    print('Shared Relative Probability:', shared_prob)"
   ]
  },
  {
   "cell_type": "code",
   "execution_count": null,
   "metadata": {},
   "outputs": [],
   "source": [
    "def entropy_visualize(gt, ngt, vocab):\n",
    "    src_dtypes = gt.src_type.unique()\n",
    "    trgt_dtypes = gt.trgt_type.unique()\n",
    "    for src_dtype in src_dtypes:\n",
    "        for trgt_dtype in trgt_dtypes:\n",
    "            gt_docs_src = gt.loc[gt.src_type == src_dtype].loc[gt.trgt_type == trgt_dtype].src_doc.values\n",
    "            gt_docs_trgt = gt.loc[gt.src_type == src_dtype].loc[gt.trgt_type == trgt_dtype].trgt_doc.values\n",
    "            gt_src_entropies = get_entropies_from_docs(gt_docs_src, vocab)[:15]\n",
    "            gt_trgt_entropies = get_entropies_from_docs(gt_docs_trgt, vocab)[:15]\n",
    "            gt_shared_probs = [get_shared_probs_from_docs([[docs[0]], [docs[1]]], vocab)[0] for docs in zip(gt_docs_src, gt_docs_trgt)]\n",
    "            gt_wmds = gt.loc[gt.src_type == 'req'].loc[gt.trgt_type == 'src'].wmd.values[:15]\n",
    "\n",
    "            ngt_docs_src = ngt.loc[ngt.src_type == src_dtype].loc[ngt.trgt_type == trgt_dtype].src_doc.values\n",
    "            ngt_docs_trgt = ngt.loc[ngt.src_type == src_dtype].loc[ngt.trgt_type == trgt_dtype].trgt_doc.values\n",
    "            ngt_src_entropies = get_entropies_from_docs(ngt_docs_src, vocab)[:15]\n",
    "            ngt_trgt_entropies = get_entropies_from_docs(ngt_docs_trgt, vocab)[:15]\n",
    "            ngt_shared_probs = [get_shared_probs_from_docs([[docs[0]], [docs[1]]], vocab)[0] for docs in zip(ngt_docs_src, ngt_docs_trgt)]\n",
    "            ngt_wmds = ngt.loc[ngt.src_type == 'req'].loc[ngt.trgt_type == 'src'].wmd.values[:15]\n",
    "            visualize_events(gt_shared_probs, 'b', f'libest-{trgt_dtype}', 'groundtruth')\n",
    "            visualize_events(ngt_shared_probs, 'r', f'libest-{trgt_dtype}', 'non-groundtruth')\n",
    "            vis_3d(\n",
    "                [gt_src_entropies, gt_trgt_entropies, gt_wmds],\n",
    "                [ngt_src_entropies, ngt_trgt_entropies, ngt_wmds],\n",
    "                src_dtype, trgt_dtype\n",
    "            )"
   ]
  },
  {
   "cell_type": "code",
   "execution_count": null,
   "metadata": {},
   "outputs": [],
   "source": [
    "def calc_entropy_benchmark(path, systems, lang, vocab):\n",
    "    gt, ngt = gen_gt_ngt(path/'testbeds', lang)\n",
    "    for sys in systems:\n",
    "        print('System:', sys)\n",
    "        \n",
    "        sys_docs = []\n",
    "        for data_type in systems[sys]:\n",
    "            if data_type != 'req':\n",
    "                gt_from, gt_to, gt_to_cnt, ngt_from, ngt_to = benchmark_testbed(gt, ngt, sys, data_type)\n",
    "                gt_from_entropies, gt_to_entropies, gt_shared_probs = benchmark_metrics(gt_from, gt_to, vocab)\n",
    "                ngt_from_entropies, ngt_to_entropies, ngt_shared_probs = benchmark_metrics(ngt_from, ngt_to, vocab)\n",
    "                benchmark_visualize([gt_from_entropies, gt_to_entropies, gt_shared_probs],\n",
    "                                    [ngt_from_entropies, ngt_to_entropies, ngt_shared_probs],\n",
    "                                    gt_to_cnt, sys, data_type\n",
    "                                   )\n",
    "            \n",
    "            data_path = path/'testbeds/bpe'/lang/sys/data_type\n",
    "            sys_docs.append(read_bpe_files(data_path))\n",
    "            entropies = get_entropies_from_docs(sys_docs[-1], vocab)\n",
    "\n",
    "            print('Data Type:', data_type)\n",
    "            report_stats(entropies)\n",
    "\n",
    "            entropy = get_entropy_from_docs(sys_docs[-1], vocab)\n",
    "            print('Total Corpus Entropy:', entropy)\n",
    "            print()\n",
    "\n",
    "        entropy = get_entropy_from_docs(flatten(sys_docs), vocab)\n",
    "        print('Total System Entropy:', entropy)\n",
    "        entropy = shared_entropy_from_docs(sys_docs, vocab)\n",
    "        print('Shared Entropy:', entropy)\n",
    "        shared_prob, shared_info_content = get_shared_probs_from_docs(sys_docs, vocab)\n",
    "        print('Shared Relative Probability:', shared_prob)\n",
    "#         print('Shared Information Content:', shared_info_content)\n",
    "        print()"
   ]
  },
  {
   "cell_type": "markdown",
   "metadata": {},
   "source": [
    "## NLTK Entropy Analysis"
   ]
  },
  {
   "cell_type": "code",
   "execution_count": null,
   "metadata": {},
   "outputs": [
    {
     "data": {
      "text/plain": [
       "[PosixPath('test_data/LibEST_semeru_format'),\n",
       " PosixPath('test_data/java_tokenizer-vocab.json'),\n",
       " PosixPath('test_data/[libest-req2src-wmd].csv'),\n",
       " PosixPath('test_data/test.model'),\n",
       " PosixPath('test_data/[libest-sim-wmd].csv'),\n",
       " PosixPath('test_data/.ipynb_checkpoints'),\n",
       " PosixPath('test_data/test.vocab'),\n",
       " PosixPath('test_data/text.txt'),\n",
       " PosixPath('test_data/tst.csv'),\n",
       " PosixPath('test_data/config_corpus'),\n",
       " PosixPath('test_data/trn.csv'),\n",
       " PosixPath('test_data/[libest-req2tc-wmd].csv'),\n",
       " PosixPath('test_data/java_tokenizer-merges.txt'),\n",
       " PosixPath('test_data/val.csv')]"
      ]
     },
     "execution_count": null,
     "metadata": {},
     "output_type": "execute_result"
    }
   ],
   "source": [
    "path = Path('test_data'); list(path.glob('*'))"
   ]
  },
  {
   "cell_type": "code",
   "execution_count": null,
   "metadata": {},
   "outputs": [
    {
     "data": {
      "text/html": [
       "<div>\n",
       "<style scoped>\n",
       "    .dataframe tbody tr th:only-of-type {\n",
       "        vertical-align: middle;\n",
       "    }\n",
       "\n",
       "    .dataframe tbody tr th {\n",
       "        vertical-align: top;\n",
       "    }\n",
       "\n",
       "    .dataframe thead th {\n",
       "        text-align: right;\n",
       "    }\n",
       "</style>\n",
       "<table border=\"1\" class=\"dataframe\">\n",
       "  <thead>\n",
       "    <tr style=\"text-align: right;\">\n",
       "      <th></th>\n",
       "      <th>src_file</th>\n",
       "      <th>trgt_file</th>\n",
       "      <th>wmd</th>\n",
       "      <th>trgt_dtype</th>\n",
       "    </tr>\n",
       "  </thead>\n",
       "  <tbody>\n",
       "    <tr>\n",
       "      <th>0</th>\n",
       "      <td>RQ58.txt</td>\n",
       "      <td>est.h</td>\n",
       "      <td>0.340562</td>\n",
       "      <td>src</td>\n",
       "    </tr>\n",
       "    <tr>\n",
       "      <th>1</th>\n",
       "      <td>RQ23.txt</td>\n",
       "      <td>est_server_http.c</td>\n",
       "      <td>0.410977</td>\n",
       "      <td>src</td>\n",
       "    </tr>\n",
       "    <tr>\n",
       "      <th>2</th>\n",
       "      <td>RQ28.txt</td>\n",
       "      <td>est_server.h</td>\n",
       "      <td>0.386474</td>\n",
       "      <td>src</td>\n",
       "    </tr>\n",
       "    <tr>\n",
       "      <th>3</th>\n",
       "      <td>RQ53.txt</td>\n",
       "      <td>est_locl.h</td>\n",
       "      <td>0.447825</td>\n",
       "      <td>src</td>\n",
       "    </tr>\n",
       "    <tr>\n",
       "      <th>4</th>\n",
       "      <td>RQ22.txt</td>\n",
       "      <td>est_client_proxy.h</td>\n",
       "      <td>0.532702</td>\n",
       "      <td>src</td>\n",
       "    </tr>\n",
       "  </tbody>\n",
       "</table>\n",
       "</div>"
      ],
      "text/plain": [
       "   src_file           trgt_file       wmd trgt_dtype\n",
       "0  RQ58.txt               est.h  0.340562        src\n",
       "1  RQ23.txt   est_server_http.c  0.410977        src\n",
       "2  RQ28.txt        est_server.h  0.386474        src\n",
       "3  RQ53.txt          est_locl.h  0.447825        src\n",
       "4  RQ22.txt  est_client_proxy.h  0.532702        src"
      ]
     },
     "execution_count": null,
     "metadata": {},
     "output_type": "execute_result"
    }
   ],
   "source": [
    "req2src_wmd_df = pd.read_csv(\n",
    "    path/'[libest-req2src-wmd].csv',\n",
    "    header = None, names = ['src_file', 'trgt_file', 'wmd'],\n",
    "    delimiter = ' '\n",
    ")\n",
    "req2src_wmd_df['src_file'] = req2src_wmd_df['src_file'].apply(lambda x: str(Path(x).name).replace('-pre', ''))\n",
    "req2src_wmd_df['trgt_file'] = req2src_wmd_df['trgt_file'].apply(lambda x: str(Path(x).name).replace('-pre', ''))\n",
    "req2src_wmd_df['trgt_dtype'] = ['src'] * len(req2src_wmd_df)\n",
    "req2src_wmd_df.head()"
   ]
  },
  {
   "cell_type": "code",
   "execution_count": null,
   "metadata": {},
   "outputs": [
    {
     "data": {
      "text/html": [
       "<div>\n",
       "<style scoped>\n",
       "    .dataframe tbody tr th:only-of-type {\n",
       "        vertical-align: middle;\n",
       "    }\n",
       "\n",
       "    .dataframe tbody tr th {\n",
       "        vertical-align: top;\n",
       "    }\n",
       "\n",
       "    .dataframe thead th {\n",
       "        text-align: right;\n",
       "    }\n",
       "</style>\n",
       "<table border=\"1\" class=\"dataframe\">\n",
       "  <thead>\n",
       "    <tr style=\"text-align: right;\">\n",
       "      <th></th>\n",
       "      <th>src_file</th>\n",
       "      <th>trgt_file</th>\n",
       "      <th>wmd</th>\n",
       "      <th>trgt_dtype</th>\n",
       "    </tr>\n",
       "  </thead>\n",
       "  <tbody>\n",
       "    <tr>\n",
       "      <th>0</th>\n",
       "      <td>RQ11.txt</td>\n",
       "      <td>us3496.c</td>\n",
       "      <td>0.533299</td>\n",
       "      <td>tc</td>\n",
       "    </tr>\n",
       "    <tr>\n",
       "      <th>1</th>\n",
       "      <td>RQ2.txt</td>\n",
       "      <td>us1005.c</td>\n",
       "      <td>0.334297</td>\n",
       "      <td>tc</td>\n",
       "    </tr>\n",
       "    <tr>\n",
       "      <th>2</th>\n",
       "      <td>RQ45.txt</td>\n",
       "      <td>us1060.c</td>\n",
       "      <td>0.304404</td>\n",
       "      <td>tc</td>\n",
       "    </tr>\n",
       "    <tr>\n",
       "      <th>3</th>\n",
       "      <td>RQ22.txt</td>\n",
       "      <td>us895.c</td>\n",
       "      <td>0.618677</td>\n",
       "      <td>tc</td>\n",
       "    </tr>\n",
       "    <tr>\n",
       "      <th>4</th>\n",
       "      <td>RQ50.txt</td>\n",
       "      <td>us1060.c</td>\n",
       "      <td>0.234525</td>\n",
       "      <td>tc</td>\n",
       "    </tr>\n",
       "  </tbody>\n",
       "</table>\n",
       "</div>"
      ],
      "text/plain": [
       "   src_file trgt_file       wmd trgt_dtype\n",
       "0  RQ11.txt  us3496.c  0.533299         tc\n",
       "1   RQ2.txt  us1005.c  0.334297         tc\n",
       "2  RQ45.txt  us1060.c  0.304404         tc\n",
       "3  RQ22.txt   us895.c  0.618677         tc\n",
       "4  RQ50.txt  us1060.c  0.234525         tc"
      ]
     },
     "execution_count": null,
     "metadata": {},
     "output_type": "execute_result"
    }
   ],
   "source": [
    "req2tc_wmd_df = pd.read_csv(\n",
    "    path/'[libest-req2tc-wmd].csv',\n",
    "    header = None, names = ['src_file', 'trgt_file', 'wmd'],\n",
    "    delimiter = ' '\n",
    ")\n",
    "req2tc_wmd_df['src_file'] = req2tc_wmd_df['src_file'].apply(lambda x: str(Path(x).name).replace('-pre', ''))\n",
    "req2tc_wmd_df['trgt_file'] = req2tc_wmd_df['trgt_file'].apply(lambda x: str(Path(x).name).replace('-pre', ''))\n",
    "req2tc_wmd_df['trgt_dtype'] = ['tc'] * len(req2tc_wmd_df)\n",
    "req2tc_wmd_df.head()"
   ]
  },
  {
   "cell_type": "code",
   "execution_count": null,
   "metadata": {},
   "outputs": [
    {
     "data": {
      "text/html": [
       "<div>\n",
       "<style scoped>\n",
       "    .dataframe tbody tr th:only-of-type {\n",
       "        vertical-align: middle;\n",
       "    }\n",
       "\n",
       "    .dataframe tbody tr th {\n",
       "        vertical-align: top;\n",
       "    }\n",
       "\n",
       "    .dataframe thead th {\n",
       "        text-align: right;\n",
       "    }\n",
       "</style>\n",
       "<table border=\"1\" class=\"dataframe\">\n",
       "  <thead>\n",
       "    <tr style=\"text-align: right;\">\n",
       "      <th></th>\n",
       "      <th>src_file</th>\n",
       "      <th>trgt_file</th>\n",
       "      <th>wmd</th>\n",
       "      <th>trgt_dtype</th>\n",
       "    </tr>\n",
       "  </thead>\n",
       "  <tbody>\n",
       "    <tr>\n",
       "      <th>0</th>\n",
       "      <td>RQ58.txt</td>\n",
       "      <td>est.h</td>\n",
       "      <td>0.340562</td>\n",
       "      <td>src</td>\n",
       "    </tr>\n",
       "    <tr>\n",
       "      <th>1</th>\n",
       "      <td>RQ23.txt</td>\n",
       "      <td>est_server_http.c</td>\n",
       "      <td>0.410977</td>\n",
       "      <td>src</td>\n",
       "    </tr>\n",
       "    <tr>\n",
       "      <th>2</th>\n",
       "      <td>RQ28.txt</td>\n",
       "      <td>est_server.h</td>\n",
       "      <td>0.386474</td>\n",
       "      <td>src</td>\n",
       "    </tr>\n",
       "    <tr>\n",
       "      <th>3</th>\n",
       "      <td>RQ53.txt</td>\n",
       "      <td>est_locl.h</td>\n",
       "      <td>0.447825</td>\n",
       "      <td>src</td>\n",
       "    </tr>\n",
       "    <tr>\n",
       "      <th>4</th>\n",
       "      <td>RQ22.txt</td>\n",
       "      <td>est_client_proxy.h</td>\n",
       "      <td>0.532702</td>\n",
       "      <td>src</td>\n",
       "    </tr>\n",
       "  </tbody>\n",
       "</table>\n",
       "</div>"
      ],
      "text/plain": [
       "   src_file           trgt_file       wmd trgt_dtype\n",
       "0  RQ58.txt               est.h  0.340562        src\n",
       "1  RQ23.txt   est_server_http.c  0.410977        src\n",
       "2  RQ28.txt        est_server.h  0.386474        src\n",
       "3  RQ53.txt          est_locl.h  0.447825        src\n",
       "4  RQ22.txt  est_client_proxy.h  0.532702        src"
      ]
     },
     "execution_count": null,
     "metadata": {},
     "output_type": "execute_result"
    }
   ],
   "source": [
    "wmd_df = pd.concat([req2src_wmd_df, req2tc_wmd_df]).reset_index(drop = True)\n",
    "wmd_df.head()"
   ]
  },
  {
   "cell_type": "code",
   "execution_count": null,
   "metadata": {},
   "outputs": [
    {
     "data": {
      "text/plain": [
       "[PosixPath('../benchmarking/traceability/testbeds/translations'),\n",
       " PosixPath('../benchmarking/traceability/testbeds/nltk'),\n",
       " PosixPath('../benchmarking/traceability/testbeds/bpe'),\n",
       " PosixPath('../benchmarking/traceability/testbeds/groundtruth')]"
      ]
     },
     "execution_count": null,
     "metadata": {},
     "output_type": "execute_result"
    }
   ],
   "source": [
    "sys = 'libest'\n",
    "lang = 'english'\n",
    "path = Path('../benchmarking/traceability/testbeds'); list(path.glob('*'))"
   ]
  },
  {
   "cell_type": "code",
   "execution_count": null,
   "metadata": {},
   "outputs": [
    {
     "data": {
      "text/html": [
       "<div>\n",
       "<style scoped>\n",
       "    .dataframe tbody tr th:only-of-type {\n",
       "        vertical-align: middle;\n",
       "    }\n",
       "\n",
       "    .dataframe tbody tr th {\n",
       "        vertical-align: top;\n",
       "    }\n",
       "\n",
       "    .dataframe thead th {\n",
       "        text-align: right;\n",
       "    }\n",
       "</style>\n",
       "<table border=\"1\" class=\"dataframe\">\n",
       "  <thead>\n",
       "    <tr style=\"text-align: right;\">\n",
       "      <th></th>\n",
       "      <th>file</th>\n",
       "      <th>text</th>\n",
       "    </tr>\n",
       "  </thead>\n",
       "  <tbody>\n",
       "    <tr>\n",
       "      <th>0</th>\n",
       "      <td>RQ17.txt</td>\n",
       "      <td>requir http uri control est server must suppor...</td>\n",
       "    </tr>\n",
       "    <tr>\n",
       "      <th>1</th>\n",
       "      <td>RQ46.txt</td>\n",
       "      <td>requir server side key generat respons request...</td>\n",
       "    </tr>\n",
       "    <tr>\n",
       "      <th>2</th>\n",
       "      <td>RQ18.txt</td>\n",
       "      <td>requir http base client authent est server may...</td>\n",
       "    </tr>\n",
       "    <tr>\n",
       "      <th>3</th>\n",
       "      <td>RQ48.txt</td>\n",
       "      <td>requir csr attribut request est client request...</td>\n",
       "    </tr>\n",
       "    <tr>\n",
       "      <th>4</th>\n",
       "      <td>RQ42.txt</td>\n",
       "      <td>requir server side key generat est client may ...</td>\n",
       "    </tr>\n",
       "  </tbody>\n",
       "</table>\n",
       "</div>"
      ],
      "text/plain": [
       "       file                                               text\n",
       "0  RQ17.txt  requir http uri control est server must suppor...\n",
       "1  RQ46.txt  requir server side key generat respons request...\n",
       "2  RQ18.txt  requir http base client authent est server may...\n",
       "3  RQ48.txt  requir csr attribut request est client request...\n",
       "4  RQ42.txt  requir server side key generat est client may ..."
      ]
     },
     "execution_count": null,
     "metadata": {},
     "output_type": "execute_result"
    }
   ],
   "source": [
    "# Read each csv\n",
    "req_df = pd.read_csv(path/f'nltk/[{sys}-pre-req].csv', header = None, names = ['file', 'text'], delimiter = ' ')\n",
    "src_df = pd.read_csv(path/f'nltk/[{sys}-pre-src].csv', header = None, names = ['file', 'text'], delimiter = ' ')\n",
    "tc_df = pd.read_csv(path/f'nltk/[{sys}-pre-tc].csv', header = None, names = ['file', 'text'], delimiter = ' ')\n",
    "\n",
    "# Concat df into a single df of the system\n",
    "nltk_df = pd.concat([req_df, src_df, tc_df]).reset_index(drop = True)\n",
    "nltk_df['file'] = nltk_df['file'].apply(lambda x: str(Path(x).name).replace('-pre', ''))\n",
    "nltk_df.head()"
   ]
  },
  {
   "cell_type": "code",
   "execution_count": null,
   "metadata": {},
   "outputs": [
    {
     "data": {
      "text/html": [
       "<div>\n",
       "<style scoped>\n",
       "    .dataframe tbody tr th:only-of-type {\n",
       "        vertical-align: middle;\n",
       "    }\n",
       "\n",
       "    .dataframe tbody tr th {\n",
       "        vertical-align: top;\n",
       "    }\n",
       "\n",
       "    .dataframe thead th {\n",
       "        text-align: right;\n",
       "    }\n",
       "</style>\n",
       "<table border=\"1\" class=\"dataframe\">\n",
       "  <thead>\n",
       "    <tr style=\"text-align: right;\">\n",
       "      <th></th>\n",
       "      <th>sys</th>\n",
       "      <th>src_type</th>\n",
       "      <th>trgt_type</th>\n",
       "      <th>src_file</th>\n",
       "      <th>trgt_file</th>\n",
       "    </tr>\n",
       "  </thead>\n",
       "  <tbody>\n",
       "    <tr>\n",
       "      <th>0</th>\n",
       "      <td>libest</td>\n",
       "      <td>req</td>\n",
       "      <td>src</td>\n",
       "      <td>RQ36.txt</td>\n",
       "      <td>est_locl.h</td>\n",
       "    </tr>\n",
       "    <tr>\n",
       "      <th>1</th>\n",
       "      <td>libest</td>\n",
       "      <td>req</td>\n",
       "      <td>src</td>\n",
       "      <td>RQ42.txt</td>\n",
       "      <td>est_proxy.c</td>\n",
       "    </tr>\n",
       "    <tr>\n",
       "      <th>2</th>\n",
       "      <td>libest</td>\n",
       "      <td>req</td>\n",
       "      <td>src</td>\n",
       "      <td>RQ34.txt</td>\n",
       "      <td>est_server.c</td>\n",
       "    </tr>\n",
       "    <tr>\n",
       "      <th>3</th>\n",
       "      <td>libest</td>\n",
       "      <td>req</td>\n",
       "      <td>src</td>\n",
       "      <td>RQ41.txt</td>\n",
       "      <td>est_ossl_util.c</td>\n",
       "    </tr>\n",
       "    <tr>\n",
       "      <th>4</th>\n",
       "      <td>libest</td>\n",
       "      <td>req</td>\n",
       "      <td>src</td>\n",
       "      <td>RQ36.txt</td>\n",
       "      <td>est.c</td>\n",
       "    </tr>\n",
       "  </tbody>\n",
       "</table>\n",
       "</div>"
      ],
      "text/plain": [
       "      sys src_type trgt_type  src_file        trgt_file\n",
       "0  libest      req       src  RQ36.txt       est_locl.h\n",
       "1  libest      req       src  RQ42.txt      est_proxy.c\n",
       "2  libest      req       src  RQ34.txt     est_server.c\n",
       "3  libest      req       src  RQ41.txt  est_ossl_util.c\n",
       "4  libest      req       src  RQ36.txt            est.c"
      ]
     },
     "execution_count": null,
     "metadata": {},
     "output_type": "execute_result"
    }
   ],
   "source": [
    "links_df = get_gt_links(path/'groundtruth'/lang, lang)\n",
    "links_df = links_df.loc[links_df['sys'] == sys].copy()\n",
    "links_df.head()"
   ]
  },
  {
   "cell_type": "code",
   "execution_count": null,
   "metadata": {},
   "outputs": [
    {
     "data": {
      "text/html": [
       "<div>\n",
       "<style scoped>\n",
       "    .dataframe tbody tr th:only-of-type {\n",
       "        vertical-align: middle;\n",
       "    }\n",
       "\n",
       "    .dataframe tbody tr th {\n",
       "        vertical-align: top;\n",
       "    }\n",
       "\n",
       "    .dataframe thead th {\n",
       "        text-align: right;\n",
       "    }\n",
       "</style>\n",
       "<table border=\"1\" class=\"dataframe\">\n",
       "  <thead>\n",
       "    <tr style=\"text-align: right;\">\n",
       "      <th></th>\n",
       "      <th>sys</th>\n",
       "      <th>src_type</th>\n",
       "      <th>trgt_type</th>\n",
       "      <th>src_file</th>\n",
       "      <th>trgt_file</th>\n",
       "      <th>src_doc</th>\n",
       "      <th>trgt_doc</th>\n",
       "    </tr>\n",
       "  </thead>\n",
       "  <tbody>\n",
       "    <tr>\n",
       "      <th>0</th>\n",
       "      <td>libest</td>\n",
       "      <td>req</td>\n",
       "      <td>src</td>\n",
       "      <td>RQ36.txt</td>\n",
       "      <td>est_locl.h</td>\n",
       "      <td>requir simpl enrol client https post simpleenr...</td>\n",
       "      <td>libest test api void est log est log level lvl...</td>\n",
       "    </tr>\n",
       "    <tr>\n",
       "      <th>1</th>\n",
       "      <td>libest</td>\n",
       "      <td>req</td>\n",
       "      <td>src</td>\n",
       "      <td>RQ42.txt</td>\n",
       "      <td>est_proxy.c</td>\n",
       "      <td>requir server side key generat est client may ...</td>\n",
       "      <td>sinc hijack open ssl buf mem data util functio...</td>\n",
       "    </tr>\n",
       "    <tr>\n",
       "      <th>2</th>\n",
       "      <td>libest</td>\n",
       "      <td>req</td>\n",
       "      <td>src</td>\n",
       "      <td>RQ34.txt</td>\n",
       "      <td>est_server.c</td>\n",
       "      <td>requir certif respons success server respons m...</td>\n",
       "      <td>function send est specif http error respons vo...</td>\n",
       "    </tr>\n",
       "    <tr>\n",
       "      <th>3</th>\n",
       "      <td>libest</td>\n",
       "      <td>req</td>\n",
       "      <td>src</td>\n",
       "      <td>RQ41.txt</td>\n",
       "      <td>est_ossl_util.c</td>\n",
       "      <td>requir full cmc respons enrol success server r...</td>\n",
       "      <td>author routin int ossl verifi int store ctx ct...</td>\n",
       "    </tr>\n",
       "    <tr>\n",
       "      <th>4</th>\n",
       "      <td>libest</td>\n",
       "      <td>req</td>\n",
       "      <td>src</td>\n",
       "      <td>RQ36.txt</td>\n",
       "      <td>est.c</td>\n",
       "      <td>requir simpl enrol client https post simpleenr...</td>\n",
       "      <td>static void est log func char list null defaul...</td>\n",
       "    </tr>\n",
       "  </tbody>\n",
       "</table>\n",
       "</div>"
      ],
      "text/plain": [
       "      sys src_type trgt_type  src_file        trgt_file  \\\n",
       "0  libest      req       src  RQ36.txt       est_locl.h   \n",
       "1  libest      req       src  RQ42.txt      est_proxy.c   \n",
       "2  libest      req       src  RQ34.txt     est_server.c   \n",
       "3  libest      req       src  RQ41.txt  est_ossl_util.c   \n",
       "4  libest      req       src  RQ36.txt            est.c   \n",
       "\n",
       "                                             src_doc  \\\n",
       "0  requir simpl enrol client https post simpleenr...   \n",
       "1  requir server side key generat est client may ...   \n",
       "2  requir certif respons success server respons m...   \n",
       "3  requir full cmc respons enrol success server r...   \n",
       "4  requir simpl enrol client https post simpleenr...   \n",
       "\n",
       "                                            trgt_doc  \n",
       "0  libest test api void est log est log level lvl...  \n",
       "1  sinc hijack open ssl buf mem data util functio...  \n",
       "2  function send est specif http error respons vo...  \n",
       "3  author routin int ossl verifi int store ctx ct...  \n",
       "4  static void est log func char list null defaul...  "
      ]
     },
     "execution_count": null,
     "metadata": {},
     "output_type": "execute_result"
    }
   ],
   "source": [
    "src_docs, trgt_docs = get_nltk_docs(nltk_df, links_df['src_file'].values, links_df['trgt_file'].values)\n",
    "# len(src_docs), len(trgt_docs), len(links_df)\n",
    "links_df['src_doc'] = src_docs\n",
    "links_df['trgt_doc'] = trgt_docs\n",
    "links_df.head()"
   ]
  },
  {
   "cell_type": "code",
   "execution_count": null,
   "metadata": {},
   "outputs": [
    {
     "data": {
      "text/html": [
       "<div>\n",
       "<style scoped>\n",
       "    .dataframe tbody tr th:only-of-type {\n",
       "        vertical-align: middle;\n",
       "    }\n",
       "\n",
       "    .dataframe tbody tr th {\n",
       "        vertical-align: top;\n",
       "    }\n",
       "\n",
       "    .dataframe thead th {\n",
       "        text-align: right;\n",
       "    }\n",
       "</style>\n",
       "<table border=\"1\" class=\"dataframe\">\n",
       "  <thead>\n",
       "    <tr style=\"text-align: right;\">\n",
       "      <th></th>\n",
       "      <th>sys</th>\n",
       "      <th>src_type</th>\n",
       "      <th>trgt_type</th>\n",
       "      <th>src_file</th>\n",
       "      <th>trgt_file</th>\n",
       "      <th>wmd</th>\n",
       "      <th>src_doc</th>\n",
       "      <th>trgt_doc</th>\n",
       "    </tr>\n",
       "  </thead>\n",
       "  <tbody>\n",
       "    <tr>\n",
       "      <th>72</th>\n",
       "      <td>libest</td>\n",
       "      <td>req</td>\n",
       "      <td>src</td>\n",
       "      <td>RQ13.txt</td>\n",
       "      <td>est_locl.h</td>\n",
       "      <td>0.509546</td>\n",
       "      <td>requir protocol design layer figur provid expa...</td>\n",
       "      <td>libest test api void est log est log level lvl...</td>\n",
       "    </tr>\n",
       "    <tr>\n",
       "      <th>136</th>\n",
       "      <td>libest</td>\n",
       "      <td>req</td>\n",
       "      <td>src</td>\n",
       "      <td>RQ15.txt</td>\n",
       "      <td>est_server.c</td>\n",
       "      <td>0.405939</td>\n",
       "      <td>requir http layer http use transfer est messag...</td>\n",
       "      <td>function send est specif http error respons vo...</td>\n",
       "    </tr>\n",
       "    <tr>\n",
       "      <th>86</th>\n",
       "      <td>libest</td>\n",
       "      <td>req</td>\n",
       "      <td>src</td>\n",
       "      <td>RQ17.txt</td>\n",
       "      <td>est_locl.h</td>\n",
       "      <td>0.484459</td>\n",
       "      <td>requir http uri control est server must suppor...</td>\n",
       "      <td>libest test api void est log est log level lvl...</td>\n",
       "    </tr>\n",
       "    <tr>\n",
       "      <th>14</th>\n",
       "      <td>libest</td>\n",
       "      <td>req</td>\n",
       "      <td>src</td>\n",
       "      <td>RQ18.txt</td>\n",
       "      <td>est_server_http.c</td>\n",
       "      <td>0.471456</td>\n",
       "      <td>requir http base client authent est server may...</td>\n",
       "      <td>static pthread pthread self void return get cu...</td>\n",
       "    </tr>\n",
       "    <tr>\n",
       "      <th>139</th>\n",
       "      <td>libest</td>\n",
       "      <td>req</td>\n",
       "      <td>src</td>\n",
       "      <td>RQ19.txt</td>\n",
       "      <td>est_locl.h</td>\n",
       "      <td>0.506730</td>\n",
       "      <td>requir messag type document use exist media ty...</td>\n",
       "      <td>libest test api void est log est log level lvl...</td>\n",
       "    </tr>\n",
       "  </tbody>\n",
       "</table>\n",
       "</div>"
      ],
      "text/plain": [
       "        sys src_type trgt_type  src_file          trgt_file       wmd  \\\n",
       "72   libest      req       src  RQ13.txt         est_locl.h  0.509546   \n",
       "136  libest      req       src  RQ15.txt       est_server.c  0.405939   \n",
       "86   libest      req       src  RQ17.txt         est_locl.h  0.484459   \n",
       "14   libest      req       src  RQ18.txt  est_server_http.c  0.471456   \n",
       "139  libest      req       src  RQ19.txt         est_locl.h  0.506730   \n",
       "\n",
       "                                               src_doc  \\\n",
       "72   requir protocol design layer figur provid expa...   \n",
       "136  requir http layer http use transfer est messag...   \n",
       "86   requir http uri control est server must suppor...   \n",
       "14   requir http base client authent est server may...   \n",
       "139  requir messag type document use exist media ty...   \n",
       "\n",
       "                                              trgt_doc  \n",
       "72   libest test api void est log est log level lvl...  \n",
       "136  function send est specif http error respons vo...  \n",
       "86   libest test api void est log est log level lvl...  \n",
       "14   static pthread pthread self void return get cu...  \n",
       "139  libest test api void est log est log level lvl...  "
      ]
     },
     "execution_count": null,
     "metadata": {},
     "output_type": "execute_result"
    }
   ],
   "source": [
    "links_wmd_df = add_wmd(links_df.copy(), wmd_df)\n",
    "links_wmd_df.head()"
   ]
  },
  {
   "cell_type": "code",
   "execution_count": null,
   "metadata": {},
   "outputs": [
    {
     "data": {
      "text/html": [
       "<div>\n",
       "<style scoped>\n",
       "    .dataframe tbody tr th:only-of-type {\n",
       "        vertical-align: middle;\n",
       "    }\n",
       "\n",
       "    .dataframe tbody tr th {\n",
       "        vertical-align: top;\n",
       "    }\n",
       "\n",
       "    .dataframe thead th {\n",
       "        text-align: right;\n",
       "    }\n",
       "</style>\n",
       "<table border=\"1\" class=\"dataframe\">\n",
       "  <thead>\n",
       "    <tr style=\"text-align: right;\">\n",
       "      <th></th>\n",
       "      <th>sys</th>\n",
       "      <th>src_type</th>\n",
       "      <th>trgt_type</th>\n",
       "      <th>src_file</th>\n",
       "      <th>trgt_file</th>\n",
       "    </tr>\n",
       "  </thead>\n",
       "  <tbody>\n",
       "    <tr>\n",
       "      <th>0</th>\n",
       "      <td>libest</td>\n",
       "      <td>req</td>\n",
       "      <td>src</td>\n",
       "      <td>RQ38.txt</td>\n",
       "      <td>est.c</td>\n",
       "    </tr>\n",
       "    <tr>\n",
       "      <th>0</th>\n",
       "      <td>libest</td>\n",
       "      <td>req</td>\n",
       "      <td>src</td>\n",
       "      <td>RQ47.txt</td>\n",
       "      <td>est_server.c</td>\n",
       "    </tr>\n",
       "    <tr>\n",
       "      <th>0</th>\n",
       "      <td>libest</td>\n",
       "      <td>req</td>\n",
       "      <td>tc</td>\n",
       "      <td>RQ51.txt</td>\n",
       "      <td>us3496.c</td>\n",
       "    </tr>\n",
       "    <tr>\n",
       "      <th>0</th>\n",
       "      <td>libest</td>\n",
       "      <td>req</td>\n",
       "      <td>tc</td>\n",
       "      <td>RQ55.txt</td>\n",
       "      <td>us1864.c</td>\n",
       "    </tr>\n",
       "    <tr>\n",
       "      <th>0</th>\n",
       "      <td>libest</td>\n",
       "      <td>req</td>\n",
       "      <td>src</td>\n",
       "      <td>RQ34.txt</td>\n",
       "      <td>est_locl.h</td>\n",
       "    </tr>\n",
       "  </tbody>\n",
       "</table>\n",
       "</div>"
      ],
      "text/plain": [
       "      sys src_type trgt_type  src_file     trgt_file\n",
       "0  libest      req       src  RQ38.txt         est.c\n",
       "0  libest      req       src  RQ47.txt  est_server.c\n",
       "0  libest      req        tc  RQ51.txt      us3496.c\n",
       "0  libest      req        tc  RQ55.txt      us1864.c\n",
       "0  libest      req       src  RQ34.txt    est_locl.h"
      ]
     },
     "execution_count": null,
     "metadata": {},
     "output_type": "execute_result"
    }
   ],
   "source": [
    "non_links_df = get_non_gt(path, lang, links_df)\n",
    "non_links_df.head()"
   ]
  },
  {
   "cell_type": "code",
   "execution_count": null,
   "metadata": {},
   "outputs": [
    {
     "data": {
      "text/plain": [
       "(539, 308)"
      ]
     },
     "execution_count": null,
     "metadata": {},
     "output_type": "execute_result"
    }
   ],
   "source": [
    "len(links_df), len(non_links_df)"
   ]
  },
  {
   "cell_type": "code",
   "execution_count": null,
   "metadata": {},
   "outputs": [
    {
     "data": {
      "text/plain": [
       "(847, 847)"
      ]
     },
     "execution_count": null,
     "metadata": {},
     "output_type": "execute_result"
    }
   ],
   "source": [
    "len(pd.concat([links_df, non_links_df])), len(pd.concat([links_df, non_links_df]).drop_duplicates(keep = False))"
   ]
  },
  {
   "cell_type": "code",
   "execution_count": null,
   "metadata": {},
   "outputs": [
    {
     "data": {
      "text/plain": [
       "(847, 521)"
      ]
     },
     "execution_count": null,
     "metadata": {},
     "output_type": "execute_result"
    }
   ],
   "source": [
    "len(pd.concat([links_df[['src_file', 'trgt_file']], non_links_df[['src_file', 'trgt_file']]])), len(pd.concat([links_df[['src_file', 'trgt_file']], non_links_df[['src_file', 'trgt_file']]]).drop_duplicates(keep = False))"
   ]
  },
  {
   "cell_type": "code",
   "execution_count": null,
   "metadata": {},
   "outputs": [
    {
     "data": {
      "text/html": [
       "<div>\n",
       "<style scoped>\n",
       "    .dataframe tbody tr th:only-of-type {\n",
       "        vertical-align: middle;\n",
       "    }\n",
       "\n",
       "    .dataframe tbody tr th {\n",
       "        vertical-align: top;\n",
       "    }\n",
       "\n",
       "    .dataframe thead th {\n",
       "        text-align: right;\n",
       "    }\n",
       "</style>\n",
       "<table border=\"1\" class=\"dataframe\">\n",
       "  <thead>\n",
       "    <tr style=\"text-align: right;\">\n",
       "      <th></th>\n",
       "      <th>sys</th>\n",
       "      <th>src_type</th>\n",
       "      <th>trgt_type</th>\n",
       "      <th>src_file</th>\n",
       "      <th>trgt_file</th>\n",
       "      <th>src_doc</th>\n",
       "      <th>trgt_doc</th>\n",
       "    </tr>\n",
       "  </thead>\n",
       "  <tbody>\n",
       "    <tr>\n",
       "      <th>0</th>\n",
       "      <td>libest</td>\n",
       "      <td>req</td>\n",
       "      <td>src</td>\n",
       "      <td>RQ38.txt</td>\n",
       "      <td>est.c</td>\n",
       "      <td>requir simpl enrol enrol respons enrol success...</td>\n",
       "      <td>static void est log func char list null defaul...</td>\n",
       "    </tr>\n",
       "    <tr>\n",
       "      <th>0</th>\n",
       "      <td>libest</td>\n",
       "      <td>req</td>\n",
       "      <td>src</td>\n",
       "      <td>RQ47.txt</td>\n",
       "      <td>est_server.c</td>\n",
       "      <td>requir csr attribut polici may allow inclus cl...</td>\n",
       "      <td>function send est specif http error respons vo...</td>\n",
       "    </tr>\n",
       "    <tr>\n",
       "      <th>0</th>\n",
       "      <td>libest</td>\n",
       "      <td>req</td>\n",
       "      <td>tc</td>\n",
       "      <td>RQ51.txt</td>\n",
       "      <td>us3496.c</td>\n",
       "      <td>requir secur consider support basic authent sp...</td>\n",
       "      <td>unit test uri path segment extens support marc...</td>\n",
       "    </tr>\n",
       "    <tr>\n",
       "      <th>0</th>\n",
       "      <td>libest</td>\n",
       "      <td>req</td>\n",
       "      <td>tc</td>\n",
       "      <td>RQ55.txt</td>\n",
       "      <td>us1864.c</td>\n",
       "      <td>requir obtain certif follow exampl valid cacer...</td>\n",
       "      <td>unit test user stori enabl token auth mode ser...</td>\n",
       "    </tr>\n",
       "    <tr>\n",
       "      <th>0</th>\n",
       "      <td>libest</td>\n",
       "      <td>req</td>\n",
       "      <td>src</td>\n",
       "      <td>RQ34.txt</td>\n",
       "      <td>est_locl.h</td>\n",
       "      <td>requir certif respons success server respons m...</td>\n",
       "      <td>libest test api void est log est log level lvl...</td>\n",
       "    </tr>\n",
       "  </tbody>\n",
       "</table>\n",
       "</div>"
      ],
      "text/plain": [
       "      sys src_type trgt_type  src_file     trgt_file  \\\n",
       "0  libest      req       src  RQ38.txt         est.c   \n",
       "0  libest      req       src  RQ47.txt  est_server.c   \n",
       "0  libest      req        tc  RQ51.txt      us3496.c   \n",
       "0  libest      req        tc  RQ55.txt      us1864.c   \n",
       "0  libest      req       src  RQ34.txt    est_locl.h   \n",
       "\n",
       "                                             src_doc  \\\n",
       "0  requir simpl enrol enrol respons enrol success...   \n",
       "0  requir csr attribut polici may allow inclus cl...   \n",
       "0  requir secur consider support basic authent sp...   \n",
       "0  requir obtain certif follow exampl valid cacer...   \n",
       "0  requir certif respons success server respons m...   \n",
       "\n",
       "                                            trgt_doc  \n",
       "0  static void est log func char list null defaul...  \n",
       "0  function send est specif http error respons vo...  \n",
       "0  unit test uri path segment extens support marc...  \n",
       "0  unit test user stori enabl token auth mode ser...  \n",
       "0  libest test api void est log est log level lvl...  "
      ]
     },
     "execution_count": null,
     "metadata": {},
     "output_type": "execute_result"
    }
   ],
   "source": [
    "src_docs, trgt_docs = get_nltk_docs(nltk_df, non_links_df['src_file'].values, non_links_df['trgt_file'].values)\n",
    "# len(src_docs), len(trgt_docs), len(non_links_df)\n",
    "non_links_df['src_doc'] = src_docs\n",
    "non_links_df['trgt_doc'] = trgt_docs\n",
    "non_links_df.head()"
   ]
  },
  {
   "cell_type": "code",
   "execution_count": null,
   "metadata": {},
   "outputs": [
    {
     "data": {
      "text/plain": [
       "(847, 521)"
      ]
     },
     "execution_count": null,
     "metadata": {},
     "output_type": "execute_result"
    }
   ],
   "source": [
    "len(pd.concat([links_df[['src_file', 'trgt_file']], non_links_df[['src_file', 'trgt_file']]])), len(pd.concat([links_df[['src_file', 'trgt_file']], non_links_df[['src_file', 'trgt_file']]]).drop_duplicates(keep = False))"
   ]
  },
  {
   "cell_type": "code",
   "execution_count": null,
   "metadata": {},
   "outputs": [
    {
     "data": {
      "text/plain": [
       "(200, 308)"
      ]
     },
     "execution_count": null,
     "metadata": {},
     "output_type": "execute_result"
    }
   ],
   "source": [
    "len(wmd_df.drop_duplicates()), len(non_links_df)"
   ]
  },
  {
   "cell_type": "code",
   "execution_count": null,
   "metadata": {},
   "outputs": [
    {
     "data": {
      "text/html": [
       "<div>\n",
       "<style scoped>\n",
       "    .dataframe tbody tr th:only-of-type {\n",
       "        vertical-align: middle;\n",
       "    }\n",
       "\n",
       "    .dataframe tbody tr th {\n",
       "        vertical-align: top;\n",
       "    }\n",
       "\n",
       "    .dataframe thead th {\n",
       "        text-align: right;\n",
       "    }\n",
       "</style>\n",
       "<table border=\"1\" class=\"dataframe\">\n",
       "  <thead>\n",
       "    <tr style=\"text-align: right;\">\n",
       "      <th></th>\n",
       "      <th>sys</th>\n",
       "      <th>src_type</th>\n",
       "      <th>trgt_type</th>\n",
       "      <th>src_file</th>\n",
       "      <th>trgt_file</th>\n",
       "      <th>wmd</th>\n",
       "      <th>src_doc</th>\n",
       "      <th>trgt_doc</th>\n",
       "    </tr>\n",
       "  </thead>\n",
       "  <tbody>\n",
       "    <tr>\n",
       "      <th>0</th>\n",
       "      <td>libest</td>\n",
       "      <td>req</td>\n",
       "      <td>tc</td>\n",
       "      <td>RQ11.txt</td>\n",
       "      <td>us3496.c</td>\n",
       "      <td>0.533299</td>\n",
       "      <td>requir full pki request messag full pki reques...</td>\n",
       "      <td>unit test uri path segment extens support marc...</td>\n",
       "    </tr>\n",
       "    <tr>\n",
       "      <th>0</th>\n",
       "      <td>libest</td>\n",
       "      <td>req</td>\n",
       "      <td>tc</td>\n",
       "      <td>RQ14.txt</td>\n",
       "      <td>us899.c</td>\n",
       "      <td>0.317060</td>\n",
       "      <td>requir applic layer est client must capabl gen...</td>\n",
       "      <td>unit test user stori client simpl enrol septem...</td>\n",
       "    </tr>\n",
       "    <tr>\n",
       "      <th>0</th>\n",
       "      <td>libest</td>\n",
       "      <td>req</td>\n",
       "      <td>tc</td>\n",
       "      <td>RQ15.txt</td>\n",
       "      <td>us3612.c</td>\n",
       "      <td>0.512685</td>\n",
       "      <td>requir http layer http use transfer est messag...</td>\n",
       "      <td>unit test user stori encrypt privat key suppor...</td>\n",
       "    </tr>\n",
       "    <tr>\n",
       "      <th>0</th>\n",
       "      <td>libest</td>\n",
       "      <td>req</td>\n",
       "      <td>tc</td>\n",
       "      <td>RQ15.txt</td>\n",
       "      <td>us899.c</td>\n",
       "      <td>0.392408</td>\n",
       "      <td>requir http layer http use transfer est messag...</td>\n",
       "      <td>unit test user stori client simpl enrol septem...</td>\n",
       "    </tr>\n",
       "    <tr>\n",
       "      <th>0</th>\n",
       "      <td>libest</td>\n",
       "      <td>req</td>\n",
       "      <td>tc</td>\n",
       "      <td>RQ16.txt</td>\n",
       "      <td>us1159.c</td>\n",
       "      <td>0.431805</td>\n",
       "      <td>requir http header control http status valu us...</td>\n",
       "      <td>unit test user stori csr attribut enforc octob...</td>\n",
       "    </tr>\n",
       "  </tbody>\n",
       "</table>\n",
       "</div>"
      ],
      "text/plain": [
       "      sys src_type trgt_type  src_file trgt_file       wmd  \\\n",
       "0  libest      req        tc  RQ11.txt  us3496.c  0.533299   \n",
       "0  libest      req        tc  RQ14.txt   us899.c  0.317060   \n",
       "0  libest      req        tc  RQ15.txt  us3612.c  0.512685   \n",
       "0  libest      req        tc  RQ15.txt   us899.c  0.392408   \n",
       "0  libest      req        tc  RQ16.txt  us1159.c  0.431805   \n",
       "\n",
       "                                             src_doc  \\\n",
       "0  requir full pki request messag full pki reques...   \n",
       "0  requir applic layer est client must capabl gen...   \n",
       "0  requir http layer http use transfer est messag...   \n",
       "0  requir http layer http use transfer est messag...   \n",
       "0  requir http header control http status valu us...   \n",
       "\n",
       "                                            trgt_doc  \n",
       "0  unit test uri path segment extens support marc...  \n",
       "0  unit test user stori client simpl enrol septem...  \n",
       "0  unit test user stori encrypt privat key suppor...  \n",
       "0  unit test user stori client simpl enrol septem...  \n",
       "0  unit test user stori csr attribut enforc octob...  "
      ]
     },
     "execution_count": null,
     "metadata": {},
     "output_type": "execute_result"
    }
   ],
   "source": [
    "non_links_wmd_df = add_wmd(non_links_df.copy(), wmd_df)\n",
    "non_links_wmd_df.head()"
   ]
  },
  {
   "cell_type": "code",
   "execution_count": null,
   "metadata": {},
   "outputs": [
    {
     "data": {
      "text/plain": [
       "(57, 37)"
      ]
     },
     "execution_count": null,
     "metadata": {},
     "output_type": "execute_result"
    }
   ],
   "source": [
    "len(links_wmd_df), len(non_links_wmd_df)"
   ]
  },
  {
   "cell_type": "code",
   "execution_count": null,
   "metadata": {},
   "outputs": [
    {
     "data": {
      "text/plain": [
       "37"
      ]
     },
     "execution_count": null,
     "metadata": {},
     "output_type": "execute_result"
    }
   ],
   "source": [
    "len(non_links_wmd_df.drop_duplicates(keep = False))"
   ]
  },
  {
   "cell_type": "code",
   "execution_count": null,
   "metadata": {},
   "outputs": [
    {
     "data": {
      "text/plain": [
       "57"
      ]
     },
     "execution_count": null,
     "metadata": {},
     "output_type": "execute_result"
    }
   ],
   "source": [
    "len(links_wmd_df.drop_duplicates(keep = False))"
   ]
  },
  {
   "cell_type": "code",
   "execution_count": null,
   "metadata": {},
   "outputs": [
    {
     "data": {
      "text/plain": [
       "(5332,\n",
       " ['\"\"',\n",
       "  'draft',\n",
       "  'd8g0th6gs2h',\n",
       "  'bsfluvm',\n",
       "  'cgi',\n",
       "  'miidoayjko',\n",
       "  'cb0a',\n",
       "  'ede',\n",
       "  'revok',\n",
       "  'w91ia0kssdt'])"
      ]
     },
     "execution_count": null,
     "metadata": {},
     "output_type": "execute_result"
    }
   ],
   "source": [
    "with open(path/f'nltk/[{sys}-vocab-all].csv', 'r') as f:\n",
    "    nltk_vocab = f.read().splitlines()\n",
    "\n",
    "len(nltk_vocab), nltk_vocab[:10]"
   ]
  },
  {
   "cell_type": "code",
   "execution_count": null,
   "metadata": {},
   "outputs": [
    {
     "data": {
      "text/plain": [
       "(539, 539)"
      ]
     },
     "execution_count": null,
     "metadata": {},
     "output_type": "execute_result"
    }
   ],
   "source": [
    "len(links_df), len(links_df.drop_duplicates(keep = False))"
   ]
  },
  {
   "cell_type": "code",
   "execution_count": null,
   "metadata": {},
   "outputs": [
    {
     "data": {
      "text/plain": [
       "(308, 308)"
      ]
     },
     "execution_count": null,
     "metadata": {},
     "output_type": "execute_result"
    }
   ],
   "source": [
    "len(non_links_df), len(non_links_df.drop_duplicates(keep = False))"
   ]
  },
  {
   "cell_type": "code",
   "execution_count": null,
   "metadata": {},
   "outputs": [
    {
     "data": {
      "text/plain": [
       "(847, 521)"
      ]
     },
     "execution_count": null,
     "metadata": {},
     "output_type": "execute_result"
    }
   ],
   "source": [
    "len(pd.concat([links_df, non_links_df])), len(pd.concat([links_df, non_links_df]).drop_duplicates(keep = False))"
   ]
  },
  {
   "cell_type": "code",
   "execution_count": null,
   "metadata": {},
   "outputs": [
    {
     "data": {
      "text/plain": [
       "(94, 58)"
      ]
     },
     "execution_count": null,
     "metadata": {},
     "output_type": "execute_result"
    }
   ],
   "source": [
    "len(pd.concat([links_wmd_df, non_links_wmd_df])), len(pd.concat([links_wmd_df, non_links_wmd_df]).drop_duplicates(keep = False))"
   ]
  },
  {
   "cell_type": "code",
   "execution_count": null,
   "metadata": {},
   "outputs": [
    {
     "data": {
      "application/vnd.jupyter.widget-view+json": {
       "model_id": "d657646a01cc4f3a9c00ddb5c4a097c0",
       "version_major": 2,
       "version_minor": 0
      },
      "text/plain": [
       "HBox(children=(FloatProgress(value=0.0, max=57.0), HTML(value='')))"
      ]
     },
     "metadata": {},
     "output_type": "display_data"
    },
    {
     "name": "stdout",
     "output_type": "stream",
     "text": [
      "\n",
      "Source Datatype: req\n",
      "Max: 12.338928572825655\n",
      "Min: 10.018719807846903\n",
      "Average: 11.59154754137899\n",
      "Median: 11.89337633366047\n",
      "Standard Deviation: 0.6948424034562881\n",
      "Median Absolute Deviation: 0.38594846330681887\n",
      "95% of the data fall within 11.407181035493224 and 11.775914047264756\n",
      "\n"
     ]
    },
    {
     "data": {
      "application/vnd.jupyter.widget-view+json": {
       "model_id": "f357e5b9d5bf4f8e845a6a579d114301",
       "version_major": 2,
       "version_minor": 0
      },
      "text/plain": [
       "HBox(children=(FloatProgress(value=0.0, max=30.0), HTML(value='')))"
      ]
     },
     "metadata": {},
     "output_type": "display_data"
    },
    {
     "name": "stdout",
     "output_type": "stream",
     "text": [
      "\n",
      "Target Datatype: src\n",
      "Max: 11.863718896843102\n",
      "Min: 5.2404225771091095\n",
      "Average: 7.332323086992365\n",
      "Median: 6.251095650820373\n",
      "Standard Deviation: 2.39283511907612\n",
      "Median Absolute Deviation: 1.118845326322411\n",
      "95% of the data fall within 6.438823769279043 and 8.225822404705687\n",
      "\n"
     ]
    },
    {
     "data": {
      "application/vnd.jupyter.widget-view+json": {
       "model_id": "f27378e19496417fb4c123278f71ecbc",
       "version_major": 2,
       "version_minor": 0
      },
      "text/plain": [
       "HBox(children=(FloatProgress(value=0.0, max=27.0), HTML(value='')))"
      ]
     },
     "metadata": {},
     "output_type": "display_data"
    },
    {
     "name": "stdout",
     "output_type": "stream",
     "text": [
      "\n",
      "Target Datatype: tc\n",
      "Max: 9.03055398179956\n",
      "Min: 6.611696965991225\n",
      "Average: 7.388282057190208\n",
      "Median: 7.134218056971649\n",
      "Standard Deviation: 0.7163744722255619\n",
      "Median Absolute Deviation: 0.265182233084936\n",
      "95% of the data fall within 7.10489375427648 and 7.671670360103937\n",
      "\n"
     ]
    },
    {
     "data": {
      "application/vnd.jupyter.widget-view+json": {
       "model_id": "f059b8b43abe4a71a2c0e18ca70dc228",
       "version_major": 2,
       "version_minor": 0
      },
      "text/plain": [
       "HBox(children=(FloatProgress(value=0.0, max=114.0), HTML(value='')))"
      ]
     },
     "metadata": {},
     "output_type": "display_data"
    },
    {
     "name": "stdout",
     "output_type": "stream",
     "text": [
      "\n",
      "Total System Entropy: 7.628775748652931\n",
      "Shared Entropy: 7.694905079239082\n",
      "Shared Relative Probability: 0.9624921827248535\n"
     ]
    }
   ],
   "source": [
    "entropy_metrics(links_wmd_df, non_links_wmd_df, nltk_vocab)"
   ]
  },
  {
   "cell_type": "code",
   "execution_count": null,
   "metadata": {},
   "outputs": [
    {
     "data": {
      "application/vnd.jupyter.widget-view+json": {
       "model_id": "7b89d3659c2940cb84ed7f5d183eb95b",
       "version_major": 2,
       "version_minor": 0
      },
      "text/plain": [
       "HBox(children=(FloatProgress(value=0.0, max=30.0), HTML(value='')))"
      ]
     },
     "metadata": {},
     "output_type": "display_data"
    },
    {
     "name": "stdout",
     "output_type": "stream",
     "text": [
      "\n"
     ]
    },
    {
     "data": {
      "application/vnd.jupyter.widget-view+json": {
       "model_id": "5cfa82b526014ec3b93f2b619d3cd646",
       "version_major": 2,
       "version_minor": 0
      },
      "text/plain": [
       "HBox(children=(FloatProgress(value=0.0, max=30.0), HTML(value='')))"
      ]
     },
     "metadata": {},
     "output_type": "display_data"
    },
    {
     "name": "stdout",
     "output_type": "stream",
     "text": [
      "\n"
     ]
    },
    {
     "data": {
      "application/vnd.jupyter.widget-view+json": {
       "model_id": "7b6b957405de4de09c16efce9e06db04",
       "version_major": 2,
       "version_minor": 0
      },
      "text/plain": [
       "HBox(children=(FloatProgress(value=0.0, max=17.0), HTML(value='')))"
      ]
     },
     "metadata": {},
     "output_type": "display_data"
    },
    {
     "name": "stdout",
     "output_type": "stream",
     "text": [
      "\n"
     ]
    },
    {
     "data": {
      "application/vnd.jupyter.widget-view+json": {
       "model_id": "eacac50e34484cd394e765ef5453c4bc",
       "version_major": 2,
       "version_minor": 0
      },
      "text/plain": [
       "HBox(children=(FloatProgress(value=0.0, max=17.0), HTML(value='')))"
      ]
     },
     "metadata": {},
     "output_type": "display_data"
    },
    {
     "name": "stdout",
     "output_type": "stream",
     "text": [
      "\n"
     ]
    },
    {
     "data": {
      "image/png": "[encoded data removed]",
      "text/plain": [
       "<Figure size 432x288 with 1 Axes>"
      ]
     },
     "metadata": {
      "needs_background": "light"
     },
     "output_type": "display_data"
    },
    {
     "data": {
      "image/png": "[encoded data removed]",
      "text/plain": [
       "<Figure size 432x288 with 1 Axes>"
      ]
     },
     "metadata": {
      "needs_background": "light"
     },
     "output_type": "display_data"
    },
    {
     "data": {
      "image/png": "[encoded data removed]",
      "text/plain": [
       "<Figure size 432x288 with 1 Axes>"
      ]
     },
     "metadata": {
      "needs_background": "light"
     },
     "output_type": "display_data"
    },
    {
     "data": {
      "application/vnd.jupyter.widget-view+json": {
       "model_id": "a960fbc82c8e48679017a5c83fa1df53",
       "version_major": 2,
       "version_minor": 0
      },
      "text/plain": [
       "HBox(children=(FloatProgress(value=0.0, max=27.0), HTML(value='')))"
      ]
     },
     "metadata": {},
     "output_type": "display_data"
    },
    {
     "name": "stdout",
     "output_type": "stream",
     "text": [
      "\n"
     ]
    },
    {
     "data": {
      "application/vnd.jupyter.widget-view+json": {
       "model_id": "4bec28a898774d8b8d944bc7d0045c01",
       "version_major": 2,
       "version_minor": 0
      },
      "text/plain": [
       "HBox(children=(FloatProgress(value=0.0, max=27.0), HTML(value='')))"
      ]
     },
     "metadata": {},
     "output_type": "display_data"
    },
    {
     "name": "stdout",
     "output_type": "stream",
     "text": [
      "\n"
     ]
    },
    {
     "data": {
      "application/vnd.jupyter.widget-view+json": {
       "model_id": "0597453300074af09a0515442e24e28f",
       "version_major": 2,
       "version_minor": 0
      },
      "text/plain": [
       "HBox(children=(FloatProgress(value=0.0, max=20.0), HTML(value='')))"
      ]
     },
     "metadata": {},
     "output_type": "display_data"
    },
    {
     "name": "stdout",
     "output_type": "stream",
     "text": [
      "\n"
     ]
    },
    {
     "data": {
      "application/vnd.jupyter.widget-view+json": {
       "model_id": "9f81e09355f74d89bf84db0aa7d2a05d",
       "version_major": 2,
       "version_minor": 0
      },
      "text/plain": [
       "HBox(children=(FloatProgress(value=0.0, max=20.0), HTML(value='')))"
      ]
     },
     "metadata": {},
     "output_type": "display_data"
    },
    {
     "name": "stdout",
     "output_type": "stream",
     "text": [
      "\n"
     ]
    },
    {
     "data": {
      "image/png": "[encoded data removed]",
      "text/plain": [
       "<Figure size 432x288 with 1 Axes>"
      ]
     },
     "metadata": {
      "needs_background": "light"
     },
     "output_type": "display_data"
    },
    {
     "data": {
      "image/png": "[encoded data removed]",
      "text/plain": [
       "<Figure size 432x288 with 1 Axes>"
      ]
     },
     "metadata": {
      "needs_background": "light"
     },
     "output_type": "display_data"
    },
    {
     "data": {
      "image/png": "[encoded data removed]",
      "text/plain": [
       "<Figure size 432x288 with 1 Axes>"
      ]
     },
     "metadata": {
      "needs_background": "light"
     },
     "output_type": "display_data"
    }
   ],
   "source": [
    "entropy_visualize(links_wmd_df, non_links_wmd_df, nltk_vocab)"
   ]
  },
  {
   "cell_type": "code",
   "execution_count": null,
   "metadata": {},
   "outputs": [
    {
     "data": {
      "text/html": [
       "<div>\n",
       "<style scoped>\n",
       "    .dataframe tbody tr th:only-of-type {\n",
       "        vertical-align: middle;\n",
       "    }\n",
       "\n",
       "    .dataframe tbody tr th {\n",
       "        vertical-align: top;\n",
       "    }\n",
       "\n",
       "    .dataframe thead th {\n",
       "        text-align: right;\n",
       "    }\n",
       "</style>\n",
       "<table border=\"1\" class=\"dataframe\">\n",
       "  <thead>\n",
       "    <tr style=\"text-align: right;\">\n",
       "      <th></th>\n",
       "      <th>sys</th>\n",
       "      <th>src_type</th>\n",
       "      <th>trgt_type</th>\n",
       "      <th>src_file</th>\n",
       "      <th>trgt_file</th>\n",
       "      <th>wmd</th>\n",
       "      <th>src_doc</th>\n",
       "      <th>trgt_doc</th>\n",
       "    </tr>\n",
       "  </thead>\n",
       "  <tbody>\n",
       "    <tr>\n",
       "      <th>72</th>\n",
       "      <td>libest</td>\n",
       "      <td>req</td>\n",
       "      <td>src</td>\n",
       "      <td>RQ13.txt</td>\n",
       "      <td>est_locl.h</td>\n",
       "      <td>0.509546</td>\n",
       "      <td>requir protocol design layer figur provid expa...</td>\n",
       "      <td>libest test api void est log est log level lvl...</td>\n",
       "    </tr>\n",
       "    <tr>\n",
       "      <th>136</th>\n",
       "      <td>libest</td>\n",
       "      <td>req</td>\n",
       "      <td>src</td>\n",
       "      <td>RQ15.txt</td>\n",
       "      <td>est_server.c</td>\n",
       "      <td>0.405939</td>\n",
       "      <td>requir http layer http use transfer est messag...</td>\n",
       "      <td>function send est specif http error respons vo...</td>\n",
       "    </tr>\n",
       "    <tr>\n",
       "      <th>86</th>\n",
       "      <td>libest</td>\n",
       "      <td>req</td>\n",
       "      <td>src</td>\n",
       "      <td>RQ17.txt</td>\n",
       "      <td>est_locl.h</td>\n",
       "      <td>0.484459</td>\n",
       "      <td>requir http uri control est server must suppor...</td>\n",
       "      <td>libest test api void est log est log level lvl...</td>\n",
       "    </tr>\n",
       "    <tr>\n",
       "      <th>14</th>\n",
       "      <td>libest</td>\n",
       "      <td>req</td>\n",
       "      <td>src</td>\n",
       "      <td>RQ18.txt</td>\n",
       "      <td>est_server_http.c</td>\n",
       "      <td>0.471456</td>\n",
       "      <td>requir http base client authent est server may...</td>\n",
       "      <td>static pthread pthread self void return get cu...</td>\n",
       "    </tr>\n",
       "    <tr>\n",
       "      <th>139</th>\n",
       "      <td>libest</td>\n",
       "      <td>req</td>\n",
       "      <td>src</td>\n",
       "      <td>RQ19.txt</td>\n",
       "      <td>est_locl.h</td>\n",
       "      <td>0.506730</td>\n",
       "      <td>requir messag type document use exist media ty...</td>\n",
       "      <td>libest test api void est log est log level lvl...</td>\n",
       "    </tr>\n",
       "  </tbody>\n",
       "</table>\n",
       "</div>"
      ],
      "text/plain": [
       "        sys src_type trgt_type  src_file          trgt_file       wmd  \\\n",
       "72   libest      req       src  RQ13.txt         est_locl.h  0.509546   \n",
       "136  libest      req       src  RQ15.txt       est_server.c  0.405939   \n",
       "86   libest      req       src  RQ17.txt         est_locl.h  0.484459   \n",
       "14   libest      req       src  RQ18.txt  est_server_http.c  0.471456   \n",
       "139  libest      req       src  RQ19.txt         est_locl.h  0.506730   \n",
       "\n",
       "                                               src_doc  \\\n",
       "72   requir protocol design layer figur provid expa...   \n",
       "136  requir http layer http use transfer est messag...   \n",
       "86   requir http uri control est server must suppor...   \n",
       "14   requir http base client authent est server may...   \n",
       "139  requir messag type document use exist media ty...   \n",
       "\n",
       "                                              trgt_doc  \n",
       "72   libest test api void est log est log level lvl...  \n",
       "136  function send est specif http error respons vo...  \n",
       "86   libest test api void est log est log level lvl...  \n",
       "14   static pthread pthread self void return get cu...  \n",
       "139  libest test api void est log est log level lvl...  "
      ]
     },
     "execution_count": null,
     "metadata": {},
     "output_type": "execute_result"
    }
   ],
   "source": [
    "links_wmd_df.head()"
   ]
  },
  {
   "cell_type": "code",
   "execution_count": null,
   "metadata": {},
   "outputs": [
    {
     "data": {
      "text/html": [
       "<div>\n",
       "<style scoped>\n",
       "    .dataframe tbody tr th:only-of-type {\n",
       "        vertical-align: middle;\n",
       "    }\n",
       "\n",
       "    .dataframe tbody tr th {\n",
       "        vertical-align: top;\n",
       "    }\n",
       "\n",
       "    .dataframe thead th {\n",
       "        text-align: right;\n",
       "    }\n",
       "</style>\n",
       "<table border=\"1\" class=\"dataframe\">\n",
       "  <thead>\n",
       "    <tr style=\"text-align: right;\">\n",
       "      <th></th>\n",
       "      <th>sys</th>\n",
       "      <th>src_type</th>\n",
       "      <th>trgt_type</th>\n",
       "      <th>src_file</th>\n",
       "      <th>trgt_file</th>\n",
       "      <th>wmd</th>\n",
       "      <th>src_doc</th>\n",
       "      <th>trgt_doc</th>\n",
       "    </tr>\n",
       "  </thead>\n",
       "  <tbody>\n",
       "    <tr>\n",
       "      <th>0</th>\n",
       "      <td>libest</td>\n",
       "      <td>req</td>\n",
       "      <td>tc</td>\n",
       "      <td>RQ11.txt</td>\n",
       "      <td>us3496.c</td>\n",
       "      <td>0.533299</td>\n",
       "      <td>requir full pki request messag full pki reques...</td>\n",
       "      <td>unit test uri path segment extens support marc...</td>\n",
       "    </tr>\n",
       "    <tr>\n",
       "      <th>0</th>\n",
       "      <td>libest</td>\n",
       "      <td>req</td>\n",
       "      <td>tc</td>\n",
       "      <td>RQ14.txt</td>\n",
       "      <td>us899.c</td>\n",
       "      <td>0.317060</td>\n",
       "      <td>requir applic layer est client must capabl gen...</td>\n",
       "      <td>unit test user stori client simpl enrol septem...</td>\n",
       "    </tr>\n",
       "    <tr>\n",
       "      <th>0</th>\n",
       "      <td>libest</td>\n",
       "      <td>req</td>\n",
       "      <td>tc</td>\n",
       "      <td>RQ15.txt</td>\n",
       "      <td>us3612.c</td>\n",
       "      <td>0.512685</td>\n",
       "      <td>requir http layer http use transfer est messag...</td>\n",
       "      <td>unit test user stori encrypt privat key suppor...</td>\n",
       "    </tr>\n",
       "    <tr>\n",
       "      <th>0</th>\n",
       "      <td>libest</td>\n",
       "      <td>req</td>\n",
       "      <td>tc</td>\n",
       "      <td>RQ15.txt</td>\n",
       "      <td>us899.c</td>\n",
       "      <td>0.392408</td>\n",
       "      <td>requir http layer http use transfer est messag...</td>\n",
       "      <td>unit test user stori client simpl enrol septem...</td>\n",
       "    </tr>\n",
       "    <tr>\n",
       "      <th>0</th>\n",
       "      <td>libest</td>\n",
       "      <td>req</td>\n",
       "      <td>tc</td>\n",
       "      <td>RQ16.txt</td>\n",
       "      <td>us1159.c</td>\n",
       "      <td>0.431805</td>\n",
       "      <td>requir http header control http status valu us...</td>\n",
       "      <td>unit test user stori csr attribut enforc octob...</td>\n",
       "    </tr>\n",
       "  </tbody>\n",
       "</table>\n",
       "</div>"
      ],
      "text/plain": [
       "      sys src_type trgt_type  src_file trgt_file       wmd  \\\n",
       "0  libest      req        tc  RQ11.txt  us3496.c  0.533299   \n",
       "0  libest      req        tc  RQ14.txt   us899.c  0.317060   \n",
       "0  libest      req        tc  RQ15.txt  us3612.c  0.512685   \n",
       "0  libest      req        tc  RQ15.txt   us899.c  0.392408   \n",
       "0  libest      req        tc  RQ16.txt  us1159.c  0.431805   \n",
       "\n",
       "                                             src_doc  \\\n",
       "0  requir full pki request messag full pki reques...   \n",
       "0  requir applic layer est client must capabl gen...   \n",
       "0  requir http layer http use transfer est messag...   \n",
       "0  requir http layer http use transfer est messag...   \n",
       "0  requir http header control http status valu us...   \n",
       "\n",
       "                                            trgt_doc  \n",
       "0  unit test uri path segment extens support marc...  \n",
       "0  unit test user stori client simpl enrol septem...  \n",
       "0  unit test user stori encrypt privat key suppor...  \n",
       "0  unit test user stori client simpl enrol septem...  \n",
       "0  unit test user stori csr attribut enforc octob...  "
      ]
     },
     "execution_count": null,
     "metadata": {},
     "output_type": "execute_result"
    }
   ],
   "source": [
    "non_links_wmd_df.head()"
   ]
  },
  {
   "cell_type": "code",
   "execution_count": null,
   "metadata": {},
   "outputs": [],
   "source": []
  },
  {
   "cell_type": "code",
   "execution_count": null,
   "metadata": {},
   "outputs": [],
   "source": []
  },
  {
   "cell_type": "code",
   "execution_count": null,
   "metadata": {},
   "outputs": [],
   "source": []
  },
  {
   "cell_type": "code",
   "execution_count": null,
   "metadata": {},
   "outputs": [],
   "source": []
  },
  {
   "cell_type": "code",
   "execution_count": null,
   "metadata": {},
   "outputs": [],
   "source": []
  },
  {
   "cell_type": "code",
   "execution_count": null,
   "metadata": {},
   "outputs": [],
   "source": []
  },
  {
   "cell_type": "code",
   "execution_count": null,
   "metadata": {},
   "outputs": [],
   "source": []
  },
  {
   "cell_type": "code",
   "execution_count": null,
   "metadata": {},
   "outputs": [
    {
     "data": {
      "application/vnd.jupyter.widget-view+json": {
       "model_id": "5a0df215b1c8407198d52814aa088f88",
       "version_major": 2,
       "version_minor": 0
      },
      "text/plain": [
       "HBox(children=(FloatProgress(value=0.0, max=30.0), HTML(value='')))"
      ]
     },
     "metadata": {},
     "output_type": "display_data"
    },
    {
     "name": "stdout",
     "output_type": "stream",
     "text": [
      "\n"
     ]
    },
    {
     "data": {
      "application/vnd.jupyter.widget-view+json": {
       "model_id": "9cd8635ea25849139710601b02e3aded",
       "version_major": 2,
       "version_minor": 0
      },
      "text/plain": [
       "HBox(children=(FloatProgress(value=0.0, max=30.0), HTML(value='')))"
      ]
     },
     "metadata": {},
     "output_type": "display_data"
    },
    {
     "name": "stdout",
     "output_type": "stream",
     "text": [
      "\n"
     ]
    },
    {
     "data": {
      "application/vnd.jupyter.widget-view+json": {
       "model_id": "a51321dc32124b8ebe63f284f3218b16",
       "version_major": 2,
       "version_minor": 0
      },
      "text/plain": [
       "HBox(children=(FloatProgress(value=0.0, max=19.0), HTML(value='')))"
      ]
     },
     "metadata": {},
     "output_type": "display_data"
    },
    {
     "name": "stdout",
     "output_type": "stream",
     "text": [
      "\n"
     ]
    },
    {
     "data": {
      "application/vnd.jupyter.widget-view+json": {
       "model_id": "383fe8cb6e6d43b5952d1cb3f95ab226",
       "version_major": 2,
       "version_minor": 0
      },
      "text/plain": [
       "HBox(children=(FloatProgress(value=0.0, max=19.0), HTML(value='')))"
      ]
     },
     "metadata": {},
     "output_type": "display_data"
    },
    {
     "name": "stdout",
     "output_type": "stream",
     "text": [
      "\n"
     ]
    },
    {
     "data": {
      "application/vnd.jupyter.widget-view+json": {
       "model_id": "286359fd3462471696efa5a92068632c",
       "version_major": 2,
       "version_minor": 0
      },
      "text/plain": [
       "HBox(children=(FloatProgress(value=0.0, max=27.0), HTML(value='')))"
      ]
     },
     "metadata": {},
     "output_type": "display_data"
    },
    {
     "name": "stdout",
     "output_type": "stream",
     "text": [
      "\n"
     ]
    },
    {
     "data": {
      "application/vnd.jupyter.widget-view+json": {
       "model_id": "db88cbb8b6e841a4b950fdba7a552725",
       "version_major": 2,
       "version_minor": 0
      },
      "text/plain": [
       "HBox(children=(FloatProgress(value=0.0, max=27.0), HTML(value='')))"
      ]
     },
     "metadata": {},
     "output_type": "display_data"
    },
    {
     "name": "stdout",
     "output_type": "stream",
     "text": [
      "\n"
     ]
    },
    {
     "data": {
      "application/vnd.jupyter.widget-view+json": {
       "model_id": "80f5ad688f3b4ad1844c449cb9e5ffa8",
       "version_major": 2,
       "version_minor": 0
      },
      "text/plain": [
       "HBox(children=(FloatProgress(value=0.0, max=22.0), HTML(value='')))"
      ]
     },
     "metadata": {},
     "output_type": "display_data"
    },
    {
     "name": "stdout",
     "output_type": "stream",
     "text": [
      "\n"
     ]
    },
    {
     "data": {
      "application/vnd.jupyter.widget-view+json": {
       "model_id": "5453832d9d1a46f2bb97742532e2a196",
       "version_major": 2,
       "version_minor": 0
      },
      "text/plain": [
       "HBox(children=(FloatProgress(value=0.0, max=22.0), HTML(value='')))"
      ]
     },
     "metadata": {},
     "output_type": "display_data"
    },
    {
     "name": "stdout",
     "output_type": "stream",
     "text": [
      "\n"
     ]
    }
   ],
   "source": [
    "entropy_visualize(links_wmd_df, non_links_wmd_df, nltk_vocab)"
   ]
  },
  {
   "cell_type": "code",
   "execution_count": null,
   "metadata": {},
   "outputs": [],
   "source": []
  },
  {
   "cell_type": "code",
   "execution_count": null,
   "metadata": {},
   "outputs": [],
   "source": []
  },
  {
   "cell_type": "code",
   "execution_count": null,
   "metadata": {},
   "outputs": [],
   "source": []
  },
  {
   "cell_type": "code",
   "execution_count": null,
   "metadata": {},
   "outputs": [
    {
     "data": {
      "application/vnd.jupyter.widget-view+json": {
       "model_id": "f9a061f2ac614e9c8e155acfe6b45abd",
       "version_major": 2,
       "version_minor": 0
      },
      "text/plain": [
       "HBox(children=(FloatProgress(value=0.0, max=54.0), HTML(value='')))"
      ]
     },
     "metadata": {},
     "output_type": "display_data"
    },
    {
     "name": "stdout",
     "output_type": "stream",
     "text": [
      "\n",
      "Source Datatype: req\n",
      "Max: 12.347777849968535\n",
      "Min: 10.018719807846903\n",
      "Average: 11.642340628948059\n",
      "Median: 11.946938038444188\n",
      "Standard Deviation: 0.6904136822698144\n",
      "Median Absolute Deviation: 0.4536184591798644\n",
      "95% of the data fall within 11.45389396964201 and 11.830787288254108\n",
      "\n"
     ]
    },
    {
     "data": {
      "application/vnd.jupyter.widget-view+json": {
       "model_id": "06c96088d5964a789d812edbdbae70e5",
       "version_major": 2,
       "version_minor": 0
      },
      "text/plain": [
       "HBox(children=(FloatProgress(value=0.0, max=18.0), HTML(value='')))"
      ]
     },
     "metadata": {},
     "output_type": "display_data"
    },
    {
     "name": "stdout",
     "output_type": "stream",
     "text": [
      "\n",
      "Target Datatype: src\n",
      "Max: 10.871732731601927\n",
      "Min: 5.2404225771091095\n",
      "Average: 6.97443948841153\n",
      "Median: 6.1782282112064735\n",
      "Standard Deviation: 2.064618239370149\n",
      "Median Absolute Deviation: 0.6312334875889354\n",
      "95% of the data fall within 5.947728992534182 and 8.001149984288878\n",
      "\n"
     ]
    },
    {
     "data": {
      "application/vnd.jupyter.widget-view+json": {
       "model_id": "1f744489b56d4af09e5923a0e0c4a209",
       "version_major": 2,
       "version_minor": 0
      },
      "text/plain": [
       "HBox(children=(FloatProgress(value=0.0, max=36.0), HTML(value='')))"
      ]
     },
     "metadata": {},
     "output_type": "display_data"
    },
    {
     "name": "stdout",
     "output_type": "stream",
     "text": [
      "\n",
      "Target Datatype: tc\n",
      "Max: 9.03055398179956\n",
      "Min: 6.611696965991225\n",
      "Average: 7.44074190630927\n",
      "Median: 7.134218056971649\n",
      "Standard Deviation: 0.818551219109561\n",
      "Median Absolute Deviation: 0.5344553128954183\n",
      "95% of the data fall within 7.163784019710387 and 7.717699792908154\n",
      "\n"
     ]
    },
    {
     "data": {
      "application/vnd.jupyter.widget-view+json": {
       "model_id": "6070ef4839de4b95b3a280cf6b280636",
       "version_major": 2,
       "version_minor": 0
      },
      "text/plain": [
       "HBox(children=(FloatProgress(value=0.0, max=108.0), HTML(value='')))"
      ]
     },
     "metadata": {},
     "output_type": "display_data"
    },
    {
     "name": "stdout",
     "output_type": "stream",
     "text": [
      "\n",
      "Total System Entropy\n",
      "Max: 12.347777849968535\n",
      "Min: 5.2404225771091095\n",
      "Average: 9.46382419797904\n",
      "Median: 10.127119384835542\n",
      "Standard Deviation: 2.438686664616734\n",
      "Median Absolute Deviation: 2.9965843887286865\n",
      "95% of the data fall within 8.998632697076264 and 9.929015698881816\n",
      "\n"
     ]
    }
   ],
   "source": [
    "entropy_benchmark(links_df, non_links_df, nltk_vocab, n = 0.1)"
   ]
  },
  {
   "cell_type": "code",
   "execution_count": null,
   "metadata": {},
   "outputs": [],
   "source": []
  },
  {
   "cell_type": "code",
   "execution_count": null,
   "metadata": {},
   "outputs": [],
   "source": []
  },
  {
   "cell_type": "code",
   "execution_count": null,
   "metadata": {},
   "outputs": [],
   "source": []
  },
  {
   "cell_type": "code",
   "execution_count": null,
   "metadata": {},
   "outputs": [],
   "source": []
  },
  {
   "cell_type": "code",
   "execution_count": null,
   "metadata": {},
   "outputs": [],
   "source": []
  },
  {
   "cell_type": "code",
   "execution_count": null,
   "metadata": {},
   "outputs": [],
   "source": []
  },
  {
   "cell_type": "code",
   "execution_count": null,
   "metadata": {},
   "outputs": [],
   "source": []
  },
  {
   "cell_type": "code",
   "execution_count": null,
   "metadata": {},
   "outputs": [],
   "source": []
  },
  {
   "cell_type": "code",
   "execution_count": null,
   "metadata": {},
   "outputs": [],
   "source": []
  },
  {
   "cell_type": "code",
   "execution_count": null,
   "metadata": {},
   "outputs": [],
   "source": []
  },
  {
   "cell_type": "markdown",
   "metadata": {},
   "source": [
    "## Read in the data"
   ]
  },
  {
   "cell_type": "code",
   "execution_count": null,
   "metadata": {},
   "outputs": [],
   "source": [
    "english_systems = {'libest': ['req', 'src', 'tc']}\n",
    "italian_systems = {'albergate': ['req', 'src']}"
   ]
  },
  {
   "cell_type": "code",
   "execution_count": null,
   "metadata": {},
   "outputs": [],
   "source": [
    "flatten = lambda l: [item for sublist in l for item in sublist]"
   ]
  },
  {
   "cell_type": "code",
   "execution_count": null,
   "metadata": {},
   "outputs": [],
   "source": [
    "def benchmark_testbed(gt, ngt, sys, data_type):\n",
    "    gt = gt.loc[gt['sys'] == sys]\n",
    "    ngt = ngt.loc[ngt['sys'] == sys]\n",
    "    gt = gt.loc[gt['to_type'] == data_type]\n",
    "    ngt = ngt.loc[ngt['to_type'] == data_type]\n",
    "    \n",
    "    gt_from = gt['from_doc'].sample(frac = 1).to_list()[:100]\n",
    "    gt_to = gt['to_doc'].sample(frac = 1).to_list()[:100]\n",
    "    gt_to_files = gt['to_file'].sample(frac = 1).to_list()[:100]\n",
    "    gt_to_cnt = Counter()\n",
    "    for file in gt_to_files:\n",
    "        gt_to_cnt[file] += 1\n",
    "    ngt_from = ngt['from_doc'].sample(frac = 1).to_list()[:100]\n",
    "    ngt_to = ngt['to_doc'].sample(frac = 1).to_list()[:100]\n",
    "    \n",
    "    return gt_from, gt_to, gt_to_cnt, ngt_from, ngt_to"
   ]
  },
  {
   "cell_type": "code",
   "execution_count": null,
   "metadata": {},
   "outputs": [],
   "source": [
    "def benchmark_metrics(from_docs, to_docs, vocab):\n",
    "    from_entropies = get_entropies_from_docs(from_docs, vocab)\n",
    "    to_entropies = get_entropies_from_docs(to_docs, vocab)\n",
    "\n",
    "    shared_probs = [get_shared_probs_from_docs([[docs[0]], [docs[1]]], vocab)[0] for docs in zip(from_docs, to_docs)]\n",
    "    \n",
    "    return from_entropies, to_entropies, shared_probs"
   ]
  },
  {
   "cell_type": "code",
   "execution_count": null,
   "metadata": {},
   "outputs": [],
   "source": [
    "def benchmark_visualize(gts, ngts, gt_to_cnt, sys, trgt_type):\n",
    "    visualize_gt_ngt([gts[0], gts[1]], [ngts[0], ngts[1]], sys, trgt_type)\n",
    "    visualize_events(gts[2], 'b', f'{sys}-{trgt_type}', 'groundtruth')\n",
    "    visualize_events(ngts[2], 'r', f'{sys}-{trgt_type}', 'non-groundtruth')\n",
    "    plot_counts(gt_to_cnt, 'File', 'Entropy', top_k = 5)"
   ]
  },
  {
   "cell_type": "code",
   "execution_count": null,
   "metadata": {},
   "outputs": [],
   "source": []
  },
  {
   "cell_type": "code",
   "execution_count": null,
   "metadata": {},
   "outputs": [],
   "source": [
    "def calc_entropy_benchmark(path, systems, lang, vocab):\n",
    "    gt, ngt = gen_gt_ngt(path/'testbeds', lang)\n",
    "    for sys in systems:\n",
    "        print('System:', sys)\n",
    "        \n",
    "        sys_docs = []\n",
    "        for data_type in systems[sys]:\n",
    "            if data_type != 'req':\n",
    "                gt_from, gt_to, gt_to_cnt, ngt_from, ngt_to = benchmark_testbed(gt, ngt, sys, data_type)\n",
    "                gt_from_entropies, gt_to_entropies, gt_shared_probs = benchmark_metrics(gt_from, gt_to, vocab)\n",
    "                ngt_from_entropies, ngt_to_entropies, ngt_shared_probs = benchmark_metrics(ngt_from, ngt_to, vocab)\n",
    "                benchmark_visualize([gt_from_entropies, gt_to_entropies, gt_shared_probs],\n",
    "                                    [ngt_from_entropies, ngt_to_entropies, ngt_shared_probs],\n",
    "                                    gt_to_cnt, sys, data_type\n",
    "                                   )\n",
    "            \n",
    "            data_path = path/'testbeds/bpe'/lang/sys/data_type\n",
    "            sys_docs.append(read_bpe_files(data_path))\n",
    "            entropies = get_entropies_from_docs(sys_docs[-1], vocab)\n",
    "\n",
    "            print('Data Type:', data_type)\n",
    "            report_stats(entropies)\n",
    "\n",
    "            entropy = get_entropy_from_docs(sys_docs[-1], vocab)\n",
    "            print('Total Corpus Entropy:', entropy)\n",
    "            print()\n",
    "\n",
    "        entropy = get_entropy_from_docs(flatten(sys_docs), vocab)\n",
    "        print('Total System Entropy:', entropy)\n",
    "        entropy = shared_entropy_from_docs(sys_docs, vocab)\n",
    "        print('Shared Entropy:', entropy)\n",
    "        shared_prob, shared_info_content = get_shared_probs_from_docs(sys_docs, vocab)\n",
    "        print('Shared Relative Probability:', shared_prob)\n",
    "#         print('Shared Information Content:', shared_info_content)\n",
    "        print()"
   ]
  },
  {
   "cell_type": "code",
   "execution_count": null,
   "metadata": {},
   "outputs": [
    {
     "name": "stdout",
     "output_type": "stream",
     "text": [
      "System: libest\n",
      "Data Type: req\n",
      "Max: 8.968470267401546\n",
      "Min: 4.582118926162054\n",
      "Average: 6.555639763272137\n",
      "Median: 6.553373564799516\n",
      "Standard Deviation: 0.9117247183020495\n",
      "Median Absolute Deviation: 0.8106879130708909\n",
      "95% of the data fall within 6.301813981075468 and 6.8094655454688064\n",
      "Total Corpus Entropy: 9.531278857123576\n",
      "\n"
     ]
    },
    {
     "data": {
      "image/png": "[encoded data removed]",
      "text/plain": [
       "<Figure size 432x288 with 1 Axes>"
      ]
     },
     "metadata": {
      "needs_background": "light"
     },
     "output_type": "display_data"
    },
    {
     "data": {
      "image/png": "[encoded data removed]",
      "text/plain": [
       "<Figure size 432x288 with 1 Axes>"
      ]
     },
     "metadata": {
      "needs_background": "light"
     },
     "output_type": "display_data"
    },
    {
     "data": {
      "image/png": "[encoded data removed]",
      "text/plain": [
       "<Figure size 432x288 with 1 Axes>"
      ]
     },
     "metadata": {
      "needs_background": "light"
     },
     "output_type": "display_data"
    },
    {
     "data": {
      "image/png": "[encoded data removed]",
      "text/plain": [
       "<Figure size 1320x240 with 1 Axes>"
      ]
     },
     "metadata": {},
     "output_type": "display_data"
    },
    {
     "name": "stdout",
     "output_type": "stream",
     "text": [
      "Data Type: src\n",
      "Max: 8.173508989120867\n",
      "Min: 4.004576449759752\n",
      "Average: 6.173185702099091\n",
      "Median: 5.518650040250094\n",
      "Standard Deviation: 1.5678717563957953\n",
      "Median Absolute Deviation: 2.2447655052609807\n",
      "95% of the data fall within 4.968012784282179 and 7.378358619916003\n",
      "Total Corpus Entropy: 8.23961374436026\n",
      "\n"
     ]
    },
    {
     "data": {
      "image/png": "[encoded data removed]",
      "text/plain": [
       "<Figure size 432x288 with 1 Axes>"
      ]
     },
     "metadata": {
      "needs_background": "light"
     },
     "output_type": "display_data"
    },
    {
     "data": {
      "image/png": "[encoded data removed]",
      "text/plain": [
       "<Figure size 432x288 with 1 Axes>"
      ]
     },
     "metadata": {
      "needs_background": "light"
     },
     "output_type": "display_data"
    },
    {
     "data": {
      "image/png": "[encoded data removed]",
      "text/plain": [
       "<Figure size 432x288 with 1 Axes>"
      ]
     },
     "metadata": {
      "needs_background": "light"
     },
     "output_type": "display_data"
    },
    {
     "data": {
      "image/png": "[encoded data removed]",
      "text/plain": [
       "<Figure size 1320x240 with 1 Axes>"
      ]
     },
     "metadata": {},
     "output_type": "display_data"
    },
    {
     "name": "stdout",
     "output_type": "stream",
     "text": [
      "Data Type: tc\n",
      "Max: 8.927136233104443\n",
      "Min: 6.971154720309089\n",
      "Average: 7.8501885481736915\n",
      "Median: 7.632008464614358\n",
      "Standard Deviation: 0.6303910678225148\n",
      "Median Absolute Deviation: 0.4745742763599447\n",
      "95% of the data fall within 7.563237974414906 and 8.137139121932478\n",
      "Total Corpus Entropy: 8.667603560423398\n",
      "\n",
      "Total System Entropy: 9.042034526069003\n",
      "Shared Entropy: 7.056698690724442\n",
      "Shared Relative Probability: 0.6280739300387688\n",
      "\n"
     ]
    }
   ],
   "source": [
    "calc_entropy_benchmark(path, english_systems, 'english', vocab)"
   ]
  },
  {
   "cell_type": "code",
   "execution_count": null,
   "metadata": {},
   "outputs": [
    {
     "name": "stdout",
     "output_type": "stream",
     "text": [
      "System: albergate\n",
      "Data Type: req\n",
      "Max: 7.4520861220022105\n",
      "Min: 6.827008941199139\n",
      "Average: 7.119302781397522\n",
      "Median: 7.185263493475217\n",
      "Standard Deviation: 0.1742674859024126\n",
      "Median Absolute Deviation: 0.20017026343945338\n",
      "95% of the data fall within 7.029702707959892 and 7.208902854835152\n",
      "Total Corpus Entropy: 8.345303497433934\n",
      "\n"
     ]
    },
    {
     "data": {
      "image/png": "[encoded data removed]",
      "text/plain": [
       "<Figure size 432x288 with 1 Axes>"
      ]
     },
     "metadata": {
      "needs_background": "light"
     },
     "output_type": "display_data"
    },
    {
     "data": {
      "image/png": "[encoded data removed]",
      "text/plain": [
       "<Figure size 432x288 with 1 Axes>"
      ]
     },
     "metadata": {
      "needs_background": "light"
     },
     "output_type": "display_data"
    },
    {
     "data": {
      "image/png": "[encoded data removed]",
      "text/plain": [
       "<Figure size 432x288 with 1 Axes>"
      ]
     },
     "metadata": {
      "needs_background": "light"
     },
     "output_type": "display_data"
    },
    {
     "data": {
      "image/png": "[encoded data removed]",
      "text/plain": [
       "<Figure size 1320x240 with 1 Axes>"
      ]
     },
     "metadata": {},
     "output_type": "display_data"
    },
    {
     "name": "stdout",
     "output_type": "stream",
     "text": [
      "Data Type: src\n",
      "Max: 7.633223137426075\n",
      "Min: 5.703382875340349\n",
      "Average: 6.699428963238912\n",
      "Median: 6.587761126739944\n",
      "Standard Deviation: 0.4730507714539506\n",
      "Median Absolute Deviation: 0.5507863832484997\n",
      "95% of the data fall within 6.571545426298444 and 6.82731250017938\n",
      "Total Corpus Entropy: 8.025468102130741\n",
      "\n",
      "Total System Entropy: 8.284356232866555\n",
      "Shared Entropy: 5.637494860682083\n",
      "Shared Relative Probability: 0.33083739781548266\n",
      "\n"
     ]
    }
   ],
   "source": [
    "calc_entropy_benchmark(path, italian_systems, 'italian')"
   ]
  },
  {
   "cell_type": "code",
   "execution_count": null,
   "metadata": {},
   "outputs": [],
   "source": []
  },
  {
   "cell_type": "code",
   "execution_count": null,
   "metadata": {},
   "outputs": [],
   "source": []
  },
  {
   "cell_type": "code",
   "execution_count": null,
   "metadata": {},
   "outputs": [],
   "source": []
  },
  {
   "cell_type": "code",
   "execution_count": null,
   "metadata": {},
   "outputs": [],
   "source": []
  },
  {
   "cell_type": "code",
   "execution_count": null,
   "metadata": {},
   "outputs": [],
   "source": []
  },
  {
   "cell_type": "code",
   "execution_count": null,
   "metadata": {},
   "outputs": [],
   "source": []
  },
  {
   "cell_type": "code",
   "execution_count": null,
   "metadata": {},
   "outputs": [],
   "source": []
  },
  {
   "cell_type": "code",
   "execution_count": null,
   "metadata": {},
   "outputs": [],
   "source": [
    "def calc_entropy_benchmark_old(path, systems, lang, n_samps = 256):\n",
    "    gt, ngt = gen_gt_ngt(path/'testbeds', lang)\n",
    "    for sys in systems:\n",
    "        gt_sys = gt.loc[gt['sys'] == sys]\n",
    "        ngt_sys = ngt.loc[ngt['sys'] == sys]\n",
    "        \n",
    "        gt_from = gt_sys['from_doc'].sample(frac = 1).to_list()[:n_samps]\n",
    "        gt_to = gt_sys['to_doc'].sample(frac = 1).to_list()[:n_samps]\n",
    "        ngt_from = ngt_sys['from_doc'].sample(frac = 1).to_list()[:len(gt_from)]\n",
    "        ngt_to = ngt_sys['to_doc'].sample(frac = 1).to_list()[:len(gt_to)]\n",
    "        \n",
    "        gt_from_entropies, gt_to_entropies, gt_shared_probs = benchmark_metrics(gt_from, gt_to)\n",
    "        ngt_from_entropies, ngt_to_entropies, ngt_shared_probs = benchmark_metrics(ngt_from, ngt_to)\n",
    "        \n",
    "        print('System:', sys)\n",
    "        visualize_gt_ngt([gt_from_entropies, gt_to_entropies], [ngt_from_entropies, ngt_to_entropies], sys, 'Source Code')\n",
    "        visualize_events(gt_shared_probs, 'b', sys, 'groundtruth')\n",
    "        visualize_events(ngt_shared_probs, 'r', sys, 'non-groundtruth')\n",
    "        \n",
    "        sys_docs = []\n",
    "        for data_type in systems[sys]:\n",
    "            data_path = path/'testbeds/bpe'/lang/sys/data_type\n",
    "            sys_docs.append(read_bpe_files(data_path))\n",
    "            entropies = get_entropies_from_docs(sys_docs[-1])\n",
    "\n",
    "            print('Data Type:', data_type)\n",
    "            report_stats(entropies)\n",
    "\n",
    "            entropy = get_entropy_from_docs(sys_docs[-1])\n",
    "            print('Total Corpus Entropy:', entropy)\n",
    "            print()\n",
    "\n",
    "        entropy = get_entropy_from_docs(flatten(sys_docs))\n",
    "        print('Total System Entropy:', entropy)\n",
    "        entropy = shared_entropy_from_docs(sys_docs)\n",
    "        print('Shared Entropy:', entropy)\n",
    "        shared_prob, shared_info_content = get_shared_probs_from_docs(sys_docs)\n",
    "        print('Shared Relative Probability:', shared_prob)\n",
    "#         print('Shared Information Content:', shared_info_content)\n",
    "        print()"
   ]
  },
  {
   "cell_type": "code",
   "execution_count": null,
   "metadata": {},
   "outputs": [
    {
     "data": {
      "text/html": [],
      "text/plain": [
       "<IPython.core.display.HTML object>"
      ]
     },
     "metadata": {},
     "output_type": "display_data"
    },
    {
     "name": "stdout",
     "output_type": "stream",
     "text": [
      "System: itrust\n"
     ]
    },
    {
     "data": {
      "image/png": "[encoded data removed]",
      "text/plain": [
       "<Figure size 432x288 with 1 Axes>"
      ]
     },
     "metadata": {
      "needs_background": "light"
     },
     "output_type": "display_data"
    },
    {
     "data": {
      "image/png": "[encoded data removed]",
      "text/plain": [
       "<Figure size 432x288 with 1 Axes>"
      ]
     },
     "metadata": {
      "needs_background": "light"
     },
     "output_type": "display_data"
    },
    {
     "data": {
      "image/png": "[encoded data removed]",
      "text/plain": [
       "<Figure size 432x288 with 1 Axes>"
      ]
     },
     "metadata": {
      "needs_background": "light"
     },
     "output_type": "display_data"
    },
    {
     "name": "stdout",
     "output_type": "stream",
     "text": [
      "Data Type: req\n",
      "Max: 6.655947403853904\n",
      "Min: 3.6464393446710157\n",
      "Average: 5.125309432616202\n",
      "Median: 5.23890125660263\n",
      "Standard Deviation: 0.7675282320547024\n",
      "Median Absolute Deviation: 0.949724465856331\n",
      "95% of the data fall within 4.992640720488694 and 5.25797814474371\n",
      "Total Corpus Entropy: 8.138886303909846\n",
      "\n",
      "Data Type: src\n",
      "Max: 7.747087175535515\n",
      "Min: 4.51364592935837\n",
      "Average: 6.584188480250173\n",
      "Median: 6.607110320868633\n",
      "Standard Deviation: 0.5302214180761683\n",
      "Median Absolute Deviation: 0.5515873888444468\n",
      "95% of the data fall within 6.527031493101348 and 6.641345467398998\n",
      "Total Corpus Entropy: 8.934418803418986\n",
      "\n",
      "Total System Entropy: 9.009082050954651\n",
      "Shared Entropy: 6.763812739263795\n",
      "Shared Relative Probability: 0.47147080887868964\n",
      "\n",
      "System: libest\n"
     ]
    },
    {
     "data": {
      "image/png": "[encoded data removed]",
      "text/plain": [
       "<Figure size 432x288 with 1 Axes>"
      ]
     },
     "metadata": {
      "needs_background": "light"
     },
     "output_type": "display_data"
    },
    {
     "data": {
      "image/png": "[encoded data removed]",
      "text/plain": [
       "<Figure size 432x288 with 1 Axes>"
      ]
     },
     "metadata": {
      "needs_background": "light"
     },
     "output_type": "display_data"
    },
    {
     "data": {
      "image/png": "[encoded data removed]",
      "text/plain": [
       "<Figure size 432x288 with 1 Axes>"
      ]
     },
     "metadata": {
      "needs_background": "light"
     },
     "output_type": "display_data"
    },
    {
     "name": "stdout",
     "output_type": "stream",
     "text": [
      "Data Type: req\n",
      "Max: 8.133644403908326\n",
      "Min: 4.694019357121934\n",
      "Average: 6.543663643429754\n",
      "Median: 6.5960839256764\n",
      "Standard Deviation: 0.7998515650224864\n",
      "Median Absolute Deviation: 0.8070430386925501\n",
      "95% of the data fall within 6.3209835459644115 and 6.766343740895097\n",
      "Total Corpus Entropy: 9.183085440385813\n",
      "\n",
      "Data Type: src\n",
      "Max: 8.16742303287423\n",
      "Min: 4.004576449759753\n",
      "Average: 6.177486953628029\n",
      "Median: 5.523275682146648\n",
      "Standard Deviation: 1.5603686286639487\n",
      "Median Absolute Deviation: 2.251623481936811\n",
      "95% of the data fall within 4.978081450336224 and 7.376892456919834\n",
      "Total Corpus Entropy: 8.227602603165863\n",
      "\n",
      "Data Type: tc\n",
      "Max: 8.84281643986258\n",
      "Min: 6.981127448895606\n",
      "Average: 7.833269648196844\n",
      "Median: 7.643609989333774\n",
      "Standard Deviation: 0.5961050558091697\n",
      "Median Absolute Deviation: 0.49366977593502526\n",
      "95% of the data fall within 7.561925879993082 and 8.104613416400605\n",
      "Total Corpus Entropy: 8.642622470130963\n",
      "\n",
      "Total System Entropy: 8.990228755577743\n"
     ]
    },
    {
     "ename": "KeyboardInterrupt",
     "evalue": "",
     "output_type": "error",
     "traceback": [
      "\u001b[0;31m---------------------------------------------------------------------------\u001b[0m",
      "\u001b[0;31mKeyboardInterrupt\u001b[0m                         Traceback (most recent call last)",
      "\u001b[0;32m<ipython-input-18-b869669da768>\u001b[0m in \u001b[0;36m<module>\u001b[0;34m\u001b[0m\n\u001b[0;32m----> 1\u001b[0;31m \u001b[0mcalc_entropy_benchmark\u001b[0m\u001b[0;34m(\u001b[0m\u001b[0mpath\u001b[0m\u001b[0;34m,\u001b[0m \u001b[0menglish_systems\u001b[0m\u001b[0;34m,\u001b[0m \u001b[0;34m'english'\u001b[0m\u001b[0;34m,\u001b[0m \u001b[0mn_samps\u001b[0m \u001b[0;34m=\u001b[0m \u001b[0;36m100\u001b[0m\u001b[0;34m)\u001b[0m\u001b[0;34m\u001b[0m\u001b[0;34m\u001b[0m\u001b[0m\n\u001b[0m",
      "\u001b[0;32m<ipython-input-17-231432aec61d>\u001b[0m in \u001b[0;36mcalc_entropy_benchmark\u001b[0;34m(path, systems, lang, n_samps)\u001b[0m\n\u001b[1;32m     33\u001b[0m         \u001b[0mentropy\u001b[0m \u001b[0;34m=\u001b[0m \u001b[0mget_entropy_from_docs\u001b[0m\u001b[0;34m(\u001b[0m\u001b[0mflatten\u001b[0m\u001b[0;34m(\u001b[0m\u001b[0msys_docs\u001b[0m\u001b[0;34m)\u001b[0m\u001b[0;34m)\u001b[0m\u001b[0;34m\u001b[0m\u001b[0;34m\u001b[0m\u001b[0m\n\u001b[1;32m     34\u001b[0m         \u001b[0mprint\u001b[0m\u001b[0;34m(\u001b[0m\u001b[0;34m'Total System Entropy:'\u001b[0m\u001b[0;34m,\u001b[0m \u001b[0mentropy\u001b[0m\u001b[0;34m)\u001b[0m\u001b[0;34m\u001b[0m\u001b[0;34m\u001b[0m\u001b[0m\n\u001b[0;32m---> 35\u001b[0;31m         \u001b[0mentropy\u001b[0m \u001b[0;34m=\u001b[0m \u001b[0mshared_entropy_from_docs\u001b[0m\u001b[0;34m(\u001b[0m\u001b[0msys_docs\u001b[0m\u001b[0;34m)\u001b[0m\u001b[0;34m\u001b[0m\u001b[0;34m\u001b[0m\u001b[0m\n\u001b[0m\u001b[1;32m     36\u001b[0m         \u001b[0mprint\u001b[0m\u001b[0;34m(\u001b[0m\u001b[0;34m'Shared Entropy:'\u001b[0m\u001b[0;34m,\u001b[0m \u001b[0mentropy\u001b[0m\u001b[0;34m)\u001b[0m\u001b[0;34m\u001b[0m\u001b[0;34m\u001b[0m\u001b[0m\n\u001b[1;32m     37\u001b[0m         \u001b[0mshared_prob\u001b[0m\u001b[0;34m,\u001b[0m \u001b[0mshared_info_content\u001b[0m \u001b[0;34m=\u001b[0m \u001b[0mget_shared_probs_from_docs\u001b[0m\u001b[0;34m(\u001b[0m\u001b[0msys_docs\u001b[0m\u001b[0;34m)\u001b[0m\u001b[0;34m\u001b[0m\u001b[0;34m\u001b[0m\u001b[0m\n",
      "\u001b[0;32m/tf/main/ds4se/exp/info.py\u001b[0m in \u001b[0;36mshared_entropy_from_docs\u001b[0;34m(sys_docs)\u001b[0m\n\u001b[1;32m    132\u001b[0m         \u001b[0moverlap\u001b[0m \u001b[0;34m&=\u001b[0m \u001b[0mset\u001b[0m\u001b[0;34m(\u001b[0m\u001b[0mcnt\u001b[0m\u001b[0;34m)\u001b[0m\u001b[0;34m\u001b[0m\u001b[0;34m\u001b[0m\u001b[0m\n\u001b[1;32m    133\u001b[0m \u001b[0;34m\u001b[0m\u001b[0m\n\u001b[0;32m--> 134\u001b[0;31m     \u001b[0moverlap\u001b[0m \u001b[0;34m=\u001b[0m \u001b[0mCounter\u001b[0m\u001b[0;34m(\u001b[0m\u001b[0;34m{\u001b[0m\u001b[0mk\u001b[0m\u001b[0;34m:\u001b[0m \u001b[0msum\u001b[0m\u001b[0;34m(\u001b[0m\u001b[0mcnts\u001b[0m\u001b[0;34m,\u001b[0m \u001b[0mCounter\u001b[0m\u001b[0;34m(\u001b[0m\u001b[0;34m)\u001b[0m\u001b[0;34m)\u001b[0m\u001b[0;34m.\u001b[0m\u001b[0mget\u001b[0m\u001b[0;34m(\u001b[0m\u001b[0mk\u001b[0m\u001b[0;34m,\u001b[0m \u001b[0;36m0\u001b[0m\u001b[0;34m)\u001b[0m \u001b[0;32mfor\u001b[0m \u001b[0mk\u001b[0m \u001b[0;32min\u001b[0m \u001b[0mlist\u001b[0m\u001b[0;34m(\u001b[0m\u001b[0moverlap\u001b[0m\u001b[0;34m)\u001b[0m\u001b[0;34m}\u001b[0m\u001b[0;34m)\u001b[0m\u001b[0;34m\u001b[0m\u001b[0;34m\u001b[0m\u001b[0m\n\u001b[0m\u001b[1;32m    135\u001b[0m     \u001b[0;32mreturn\u001b[0m \u001b[0mdit\u001b[0m\u001b[0;34m.\u001b[0m\u001b[0mshannon\u001b[0m\u001b[0;34m.\u001b[0m\u001b[0mentropy\u001b[0m\u001b[0;34m(\u001b[0m\u001b[0mget_dist\u001b[0m\u001b[0;34m(\u001b[0m\u001b[0moverlap\u001b[0m\u001b[0;34m)\u001b[0m\u001b[0;34m)\u001b[0m\u001b[0;34m\u001b[0m\u001b[0;34m\u001b[0m\u001b[0m\n\u001b[1;32m    136\u001b[0m \u001b[0;34m\u001b[0m\u001b[0m\n",
      "\u001b[0;32m/tf/main/ds4se/exp/info.py\u001b[0m in \u001b[0;36m<dictcomp>\u001b[0;34m(.0)\u001b[0m\n\u001b[1;32m    132\u001b[0m         \u001b[0moverlap\u001b[0m \u001b[0;34m&=\u001b[0m \u001b[0mset\u001b[0m\u001b[0;34m(\u001b[0m\u001b[0mcnt\u001b[0m\u001b[0;34m)\u001b[0m\u001b[0;34m\u001b[0m\u001b[0;34m\u001b[0m\u001b[0m\n\u001b[1;32m    133\u001b[0m \u001b[0;34m\u001b[0m\u001b[0m\n\u001b[0;32m--> 134\u001b[0;31m     \u001b[0moverlap\u001b[0m \u001b[0;34m=\u001b[0m \u001b[0mCounter\u001b[0m\u001b[0;34m(\u001b[0m\u001b[0;34m{\u001b[0m\u001b[0mk\u001b[0m\u001b[0;34m:\u001b[0m \u001b[0msum\u001b[0m\u001b[0;34m(\u001b[0m\u001b[0mcnts\u001b[0m\u001b[0;34m,\u001b[0m \u001b[0mCounter\u001b[0m\u001b[0;34m(\u001b[0m\u001b[0;34m)\u001b[0m\u001b[0;34m)\u001b[0m\u001b[0;34m.\u001b[0m\u001b[0mget\u001b[0m\u001b[0;34m(\u001b[0m\u001b[0mk\u001b[0m\u001b[0;34m,\u001b[0m \u001b[0;36m0\u001b[0m\u001b[0;34m)\u001b[0m \u001b[0;32mfor\u001b[0m \u001b[0mk\u001b[0m \u001b[0;32min\u001b[0m \u001b[0mlist\u001b[0m\u001b[0;34m(\u001b[0m\u001b[0moverlap\u001b[0m\u001b[0;34m)\u001b[0m\u001b[0;34m}\u001b[0m\u001b[0;34m)\u001b[0m\u001b[0;34m\u001b[0m\u001b[0;34m\u001b[0m\u001b[0m\n\u001b[0m\u001b[1;32m    135\u001b[0m     \u001b[0;32mreturn\u001b[0m \u001b[0mdit\u001b[0m\u001b[0;34m.\u001b[0m\u001b[0mshannon\u001b[0m\u001b[0;34m.\u001b[0m\u001b[0mentropy\u001b[0m\u001b[0;34m(\u001b[0m\u001b[0mget_dist\u001b[0m\u001b[0;34m(\u001b[0m\u001b[0moverlap\u001b[0m\u001b[0;34m)\u001b[0m\u001b[0;34m)\u001b[0m\u001b[0;34m\u001b[0m\u001b[0;34m\u001b[0m\u001b[0m\n\u001b[1;32m    136\u001b[0m \u001b[0;34m\u001b[0m\u001b[0m\n",
      "\u001b[0;32m/usr/lib/python3.6/collections/__init__.py\u001b[0m in \u001b[0;36m__add__\u001b[0;34m(self, other)\u001b[0m\n\u001b[1;32m    702\u001b[0m             \u001b[0mnewcount\u001b[0m \u001b[0;34m=\u001b[0m \u001b[0mcount\u001b[0m \u001b[0;34m+\u001b[0m \u001b[0mother\u001b[0m\u001b[0;34m[\u001b[0m\u001b[0melem\u001b[0m\u001b[0;34m]\u001b[0m\u001b[0;34m\u001b[0m\u001b[0;34m\u001b[0m\u001b[0m\n\u001b[1;32m    703\u001b[0m             \u001b[0;32mif\u001b[0m \u001b[0mnewcount\u001b[0m \u001b[0;34m>\u001b[0m \u001b[0;36m0\u001b[0m\u001b[0;34m:\u001b[0m\u001b[0;34m\u001b[0m\u001b[0;34m\u001b[0m\u001b[0m\n\u001b[0;32m--> 704\u001b[0;31m                 \u001b[0mresult\u001b[0m\u001b[0;34m[\u001b[0m\u001b[0melem\u001b[0m\u001b[0;34m]\u001b[0m \u001b[0;34m=\u001b[0m \u001b[0mnewcount\u001b[0m\u001b[0;34m\u001b[0m\u001b[0;34m\u001b[0m\u001b[0m\n\u001b[0m\u001b[1;32m    705\u001b[0m         \u001b[0;32mfor\u001b[0m \u001b[0melem\u001b[0m\u001b[0;34m,\u001b[0m \u001b[0mcount\u001b[0m \u001b[0;32min\u001b[0m \u001b[0mother\u001b[0m\u001b[0;34m.\u001b[0m\u001b[0mitems\u001b[0m\u001b[0;34m(\u001b[0m\u001b[0;34m)\u001b[0m\u001b[0;34m:\u001b[0m\u001b[0;34m\u001b[0m\u001b[0;34m\u001b[0m\u001b[0m\n\u001b[1;32m    706\u001b[0m             \u001b[0;32mif\u001b[0m \u001b[0melem\u001b[0m \u001b[0;32mnot\u001b[0m \u001b[0;32min\u001b[0m \u001b[0mself\u001b[0m \u001b[0;32mand\u001b[0m \u001b[0mcount\u001b[0m \u001b[0;34m>\u001b[0m \u001b[0;36m0\u001b[0m\u001b[0;34m:\u001b[0m\u001b[0;34m\u001b[0m\u001b[0;34m\u001b[0m\u001b[0m\n",
      "\u001b[0;31mKeyboardInterrupt\u001b[0m: "
     ]
    }
   ],
   "source": [
    "calc_entropy_benchmark(path, english_systems, 'english', n_samps = 100)"
   ]
  },
  {
   "cell_type": "code",
   "execution_count": null,
   "metadata": {},
   "outputs": [
    {
     "data": {
      "text/html": [],
      "text/plain": [
       "<IPython.core.display.HTML object>"
      ]
     },
     "metadata": {},
     "output_type": "display_data"
    },
    {
     "name": "stdout",
     "output_type": "stream",
     "text": [
      "System: albergate\n"
     ]
    },
    {
     "data": {
      "image/png": "[encoded data removed]",
      "text/plain": [
       "<Figure size 432x288 with 1 Axes>"
      ]
     },
     "metadata": {
      "needs_background": "light"
     },
     "output_type": "display_data"
    },
    {
     "data": {
      "image/png": "[encoded data removed]",
      "text/plain": [
       "<Figure size 432x288 with 1 Axes>"
      ]
     },
     "metadata": {
      "needs_background": "light"
     },
     "output_type": "display_data"
    },
    {
     "data": {
      "image/png": "[encoded data removed]",
      "text/plain": [
       "<Figure size 432x288 with 1 Axes>"
      ]
     },
     "metadata": {
      "needs_background": "light"
     },
     "output_type": "display_data"
    },
    {
     "name": "stdout",
     "output_type": "stream",
     "text": [
      "Data Type: req\n",
      "Max: 7.451061154959707\n",
      "Min: 6.7760271692033065\n",
      "Average: 7.114662232676978\n",
      "Median: 7.136128583124725\n",
      "Standard Deviation: 0.18028670118666468\n",
      "Median Absolute Deviation: 0.19215087521795687\n",
      "95% of the data fall within 7.021967364311235 and 7.207357101042722\n",
      "Total Corpus Entropy: 8.333064635075104\n",
      "\n",
      "Data Type: src\n",
      "Max: 7.632003142360006\n",
      "Min: 5.694455777930451\n",
      "Average: 6.698395952158591\n",
      "Median: 6.585514345171939\n",
      "Standard Deviation: 0.47533702601616074\n",
      "Median Absolute Deviation: 0.5563741051053886\n",
      "95% of the data fall within 6.569894354034409 and 6.826897550282773\n",
      "Total Corpus Entropy: 8.02635009717346\n",
      "\n",
      "Total System Entropy: 8.284551907349751\n",
      "Shared Entropy: 5.704935783592468\n",
      "Shared Relative Probability: 0.33135155648064085\n",
      "\n",
      "System: ebt\n"
     ]
    },
    {
     "data": {
      "image/png": "[encoded data removed]",
      "text/plain": [
       "<Figure size 432x288 with 1 Axes>"
      ]
     },
     "metadata": {
      "needs_background": "light"
     },
     "output_type": "display_data"
    },
    {
     "data": {
      "image/png": "[encoded data removed]",
      "text/plain": [
       "<Figure size 432x288 with 1 Axes>"
      ]
     },
     "metadata": {
      "needs_background": "light"
     },
     "output_type": "display_data"
    },
    {
     "data": {
      "image/png": "[encoded data removed]",
      "text/plain": [
       "<Figure size 432x288 with 1 Axes>"
      ]
     },
     "metadata": {
      "needs_background": "light"
     },
     "output_type": "display_data"
    },
    {
     "name": "stdout",
     "output_type": "stream",
     "text": [
      "Data Type: req\n",
      "Max: 4.85798099512757\n",
      "Min: 3.169925001442312\n",
      "Average: 4.036522483018428\n",
      "Median: 4.037401197654112\n",
      "Standard Deviation: 0.44238259432648075\n",
      "Median Absolute Deviation: 0.49957908952600216\n",
      "95% of the data fall within 3.896889307383322 and 4.176155658653533\n",
      "Total Corpus Entropy: 6.78794959659894\n",
      "\n",
      "Data Type: src\n",
      "Max: 7.297368573550913\n",
      "Min: 4.784576473149472\n",
      "Average: 5.963495662337905\n",
      "Median: 5.903977747837278\n",
      "Standard Deviation: 0.633890544451061\n",
      "Median Absolute Deviation: 0.7640379035089379\n",
      "95% of the data fall within 5.783345963113105 and 6.143645361562706\n",
      "Total Corpus Entropy: 8.433164216462012\n",
      "\n",
      "Data Type: tc\n",
      "Max: 6.097097085934414\n",
      "Min: 4.704511459715548\n",
      "Average: 5.247301653814626\n",
      "Median: 5.281405982501043\n",
      "Standard Deviation: 0.3692170341835723\n",
      "Median Absolute Deviation: 0.4094487421886657\n",
      "95% of the data fall within 5.094896352658618 and 5.399706954970633\n",
      "Total Corpus Entropy: 7.081408121899548\n",
      "\n",
      "Total System Entropy: 8.65824233434985\n",
      "Shared Entropy: 5.006590016354143\n",
      "Shared Relative Probability: 0.2338971064883024\n",
      "\n",
      "System: etour\n"
     ]
    },
    {
     "data": {
      "image/png": "[encoded data removed]",
      "text/plain": [
       "<Figure size 432x288 with 1 Axes>"
      ]
     },
     "metadata": {
      "needs_background": "light"
     },
     "output_type": "display_data"
    },
    {
     "data": {
      "image/png": "[encoded data removed]",
      "text/plain": [
       "<Figure size 432x288 with 1 Axes>"
      ]
     },
     "metadata": {
      "needs_background": "light"
     },
     "output_type": "display_data"
    },
    {
     "data": {
      "image/png": "[encoded data removed]",
      "text/plain": [
       "<Figure size 432x288 with 1 Axes>"
      ]
     },
     "metadata": {
      "needs_background": "light"
     },
     "output_type": "display_data"
    },
    {
     "name": "stdout",
     "output_type": "stream",
     "text": [
      "Data Type: req\n",
      "Max: 6.237393834397654\n",
      "Min: 5.29192090403933\n",
      "Average: 5.852879032919364\n",
      "Median: 5.845473100698095\n",
      "Standard Deviation: 0.19175655109469367\n",
      "Median Absolute Deviation: 0.18038957028930175\n",
      "95% of the data fall within 5.802459218071263 and 5.903298847767465\n",
      "Total Corpus Entropy: 7.10566459632011\n",
      "\n",
      "Data Type: src\n",
      "Max: 8.048968980820781\n",
      "Min: 5.539696852908118\n",
      "Average: 6.562921919889305\n",
      "Median: 6.565193494077665\n",
      "Standard Deviation: 0.541016209002899\n",
      "Median Absolute Deviation: 0.5387698222061198\n",
      "95% of the data fall within 6.463421809399394 and 6.662422030379217\n",
      "Total Corpus Entropy: 8.74630095106817\n",
      "\n",
      "Total System Entropy: 8.821970266170094\n",
      "Shared Entropy: 5.822212387865012\n",
      "Shared Relative Probability: 0.333506370324796\n",
      "\n",
      "System: smos\n"
     ]
    },
    {
     "data": {
      "image/png": "[encoded data removed]",
      "text/plain": [
       "<Figure size 432x288 with 1 Axes>"
      ]
     },
     "metadata": {
      "needs_background": "light"
     },
     "output_type": "display_data"
    },
    {
     "data": {
      "image/png": "[encoded data removed]",
      "text/plain": [
       "<Figure size 432x288 with 1 Axes>"
      ]
     },
     "metadata": {
      "needs_background": "light"
     },
     "output_type": "display_data"
    },
    {
     "data": {
      "image/png": "[encoded data removed]",
      "text/plain": [
       "<Figure size 432x288 with 1 Axes>"
      ]
     },
     "metadata": {
      "needs_background": "light"
     },
     "output_type": "display_data"
    },
    {
     "name": "stdout",
     "output_type": "stream",
     "text": [
      "Data Type: req\n",
      "Max: 6.620285755044159\n",
      "Min: 5.400701696091559\n",
      "Average: 6.117630402688541\n",
      "Median: 6.14042834992966\n",
      "Standard Deviation: 0.30288713322086697\n",
      "Median Absolute Deviation: 0.2983853257033212\n",
      "95% of the data fall within 6.043750425878531 and 6.191510379498552\n",
      "Total Corpus Entropy: 7.39510779242834\n",
      "\n",
      "Data Type: src\n",
      "Max: 7.868448246363015\n",
      "Min: 5.351552244391098\n",
      "Average: 6.646037374067181\n",
      "Median: 6.700747575555027\n",
      "Standard Deviation: 0.46042397977922234\n",
      "Median Absolute Deviation: 0.354721814886772\n",
      "95% of the data fall within 6.554679267511279 and 6.737395480623084\n",
      "Total Corpus Entropy: 8.357381483417843\n",
      "\n",
      "Total System Entropy: 8.595914118672756\n",
      "Shared Entropy: 5.660800120573564\n",
      "Shared Relative Probability: 0.3023618380424987\n",
      "\n"
     ]
    }
   ],
   "source": [
    "calc_entropy_benchmark(path, italian_systems, 'italian', n_samps = 100)"
   ]
  },
  {
   "cell_type": "code",
   "execution_count": null,
   "metadata": {},
   "outputs": [],
   "source": []
  },
  {
   "cell_type": "code",
   "execution_count": null,
   "metadata": {},
   "outputs": [],
   "source": []
  },
  {
   "cell_type": "code",
   "execution_count": null,
   "metadata": {},
   "outputs": [],
   "source": []
  },
  {
   "cell_type": "code",
   "execution_count": null,
   "metadata": {},
   "outputs": [],
   "source": []
  },
  {
   "cell_type": "code",
   "execution_count": null,
   "metadata": {},
   "outputs": [],
   "source": []
  },
  {
   "cell_type": "code",
   "execution_count": null,
   "metadata": {},
   "outputs": [],
   "source": []
  },
  {
   "cell_type": "code",
   "execution_count": null,
   "metadata": {},
   "outputs": [],
   "source": []
  },
  {
   "cell_type": "code",
   "execution_count": null,
   "metadata": {},
   "outputs": [],
   "source": []
  },
  {
   "cell_type": "code",
   "execution_count": null,
   "metadata": {},
   "outputs": [],
   "source": []
  },
  {
   "cell_type": "code",
   "execution_count": null,
   "metadata": {},
   "outputs": [],
   "source": []
  },
  {
   "cell_type": "markdown",
   "metadata": {},
   "source": [
    "# SCRATCH WORK"
   ]
  },
  {
   "cell_type": "code",
   "execution_count": null,
   "metadata": {},
   "outputs": [],
   "source": [
    "def entropy_metric(gt, ngt, vocab, n = 1):\n",
    "#     gt = gt.sample(frac = n)\n",
    "#     ngt = ngt.sample(frac = n)\n",
    "    \n",
    "    src_dtypes = gt.src_type.unique()\n",
    "    src_docs = [(dtype, gt.loc[gt.src_type == dtype].src_doc.values)for dtype in src_dtypes]\n",
    "#     for dtype, docs in src_docs:\n",
    "#         e = get_entropies_from_docs(docs, vocab)\n",
    "#         print(f'Source Datatype: {dtype}')\n",
    "#         report_stats(e)\n",
    "#         print()\n",
    "    \n",
    "    trgt_dtypes = gt.trgt_type.unique()\n",
    "    trgt_docs = [(dtype, gt.loc[gt.trgt_type == dtype].trgt_doc.values) for dtype in trgt_dtypes]\n",
    "#     for dtype, docs in trgt_docs:\n",
    "#         e = get_entropies_from_docs(docs, vocab)\n",
    "#         print(f'Target Datatype: {dtype}')\n",
    "#         report_stats(e)\n",
    "#         print()\n",
    "    \n",
    "    for src_dtype in src_dtypes:\n",
    "        for trgt_dtype in trgt_dtypes:\n",
    "            gt_docs_src = gt.loc[gt.src_type == src_dtype].loc[gt.trgt_type == trgt_dtype].src_doc.values\n",
    "            gt_docs_trgt = gt.loc[gt.src_type == src_dtype].loc[gt.trgt_type == trgt_dtype].trgt_doc.values\n",
    "            gt_src_entropies = get_entropies_from_docs(gt_docs_src, vocab)[:15]\n",
    "            gt_trgt_entropies = get_entropies_from_docs(gt_docs_trgt, vocab)[:15]\n",
    "            gt_wmds = gt.loc[gt.src_type == 'req'].loc[gt.trgt_type == 'src'].wmd.values[:15]\n",
    "\n",
    "            ngt_docs_src = ngt.loc[ngt.src_type == src_dtype].loc[ngt.trgt_type == trgt_dtype].src_doc.values\n",
    "            ngt_docs_trgt = ngt.loc[ngt.src_type == src_dtype].loc[ngt.trgt_type == trgt_dtype].trgt_doc.values\n",
    "            ngt_src_entropies = get_entropies_from_docs(ngt_docs_src, vocab)[:15]\n",
    "            ngt_trgt_entropies = get_entropies_from_docs(ngt_docs_trgt, vocab)[:15]\n",
    "            ngt_wmds = ngt.loc[ngt.src_type == 'req'].loc[ngt.trgt_type == 'src'].wmd.values[:15]\n",
    "            vis_3d(\n",
    "                [gt_src_entropies, gt_trgt_entropies, gt_wmds],\n",
    "                [ngt_src_entropies, ngt_trgt_entropies, ngt_wmds],\n",
    "                src_dtype, trgt_dtype\n",
    "            )\n",
    "#             entropy_vis_gt_ngt([gt_src_entropies, gt_trgt_entropies], [ngt_src_entropies, ngt_trgt_entropies], 'libest', trgt_dtype)\n",
    "    \n",
    "#     all_docs = [docs for _, docs in src_docs + trgt_docs]\n",
    "#     entropy = get_entropy_from_docs(flatten(all_docs), vocab)\n",
    "#     print(f'Total System Entropy:', entropy)\n",
    "#     entropy = shared_entropy_from_docs(all_docs, vocab)\n",
    "#     print('Shared Entropy:', entropy)\n",
    "#     shared_prob, shared_info_content = get_shared_probs_from_docs(all_docs, vocab)\n",
    "#     print('Shared Relative Probability:', shared_prob)"
   ]
  },
  {
   "cell_type": "code",
   "execution_count": null,
   "metadata": {},
   "outputs": [],
   "source": []
  },
  {
   "cell_type": "code",
   "execution_count": null,
   "metadata": {},
   "outputs": [],
   "source": []
  },
  {
   "cell_type": "code",
   "execution_count": null,
   "metadata": {},
   "outputs": [],
   "source": [
    "gt_english, ngt_english = gen_gt_ngt(path/'testbeds', 'english')"
   ]
  },
  {
   "cell_type": "code",
   "execution_count": null,
   "metadata": {},
   "outputs": [
    {
     "data": {
      "text/html": [
       "<div>\n",
       "<style scoped>\n",
       "    .dataframe tbody tr th:only-of-type {\n",
       "        vertical-align: middle;\n",
       "    }\n",
       "\n",
       "    .dataframe tbody tr th {\n",
       "        vertical-align: top;\n",
       "    }\n",
       "\n",
       "    .dataframe thead th {\n",
       "        text-align: right;\n",
       "    }\n",
       "</style>\n",
       "<table border=\"1\" class=\"dataframe\">\n",
       "  <thead>\n",
       "    <tr style=\"text-align: right;\">\n",
       "      <th></th>\n",
       "      <th>sys</th>\n",
       "      <th>from_type</th>\n",
       "      <th>to_type</th>\n",
       "      <th>from_file</th>\n",
       "      <th>to_file</th>\n",
       "      <th>from_doc</th>\n",
       "      <th>to_doc</th>\n",
       "    </tr>\n",
       "  </thead>\n",
       "  <tbody>\n",
       "    <tr>\n",
       "      <th>0</th>\n",
       "      <td>itrust</td>\n",
       "      <td>req</td>\n",
       "      <td>src</td>\n",
       "      <td>UC10E1.bpe</td>\n",
       "      <td>getUser.bpe</td>\n",
       "      <td>[▁The, ▁health, ▁care, ▁professional, ▁types, ...</td>\n",
       "      <td>[▁&lt;%@, ▁page, ▁import, =\", java, ., net, ., UR...</td>\n",
       "    </tr>\n",
       "    <tr>\n",
       "      <th>1</th>\n",
       "      <td>itrust</td>\n",
       "      <td>req</td>\n",
       "      <td>src</td>\n",
       "      <td>UC10E1.bpe</td>\n",
       "      <td>GetUserNameAction.bpe</td>\n",
       "      <td>[▁The, ▁health, ▁care, ▁professional, ▁types, ...</td>\n",
       "      <td>[▁p, ackage, ▁edu, ., nc, su, ., cs, c, ., itr...</td>\n",
       "    </tr>\n",
       "    <tr>\n",
       "      <th>2</th>\n",
       "      <td>itrust</td>\n",
       "      <td>req</td>\n",
       "      <td>src</td>\n",
       "      <td>UC10E1.bpe</td>\n",
       "      <td>AuthDAO.bpe</td>\n",
       "      <td>[▁The, ▁health, ▁care, ▁professional, ▁types, ...</td>\n",
       "      <td>[▁p, ackage, ▁edu, ., nc, su, ., cs, c, ., itr...</td>\n",
       "    </tr>\n",
       "    <tr>\n",
       "      <th>3</th>\n",
       "      <td>itrust</td>\n",
       "      <td>req</td>\n",
       "      <td>src</td>\n",
       "      <td>UC10E2.bpe</td>\n",
       "      <td>getUser.bpe</td>\n",
       "      <td>[▁The, ▁patient, ▁cho, sen, ▁is, ▁not, ▁the, ▁...</td>\n",
       "      <td>[▁&lt;%@, ▁page, ▁import, =\", java, ., net, ., UR...</td>\n",
       "    </tr>\n",
       "    <tr>\n",
       "      <th>4</th>\n",
       "      <td>itrust</td>\n",
       "      <td>req</td>\n",
       "      <td>src</td>\n",
       "      <td>UC10E2.bpe</td>\n",
       "      <td>GetUserNameAction.bpe</td>\n",
       "      <td>[▁The, ▁patient, ▁cho, sen, ▁is, ▁not, ▁the, ▁...</td>\n",
       "      <td>[▁p, ackage, ▁edu, ., nc, su, ., cs, c, ., itr...</td>\n",
       "    </tr>\n",
       "  </tbody>\n",
       "</table>\n",
       "</div>"
      ],
      "text/plain": [
       "      sys from_type to_type   from_file                to_file  \\\n",
       "0  itrust       req     src  UC10E1.bpe            getUser.bpe   \n",
       "1  itrust       req     src  UC10E1.bpe  GetUserNameAction.bpe   \n",
       "2  itrust       req     src  UC10E1.bpe            AuthDAO.bpe   \n",
       "3  itrust       req     src  UC10E2.bpe            getUser.bpe   \n",
       "4  itrust       req     src  UC10E2.bpe  GetUserNameAction.bpe   \n",
       "\n",
       "                                            from_doc  \\\n",
       "0  [▁The, ▁health, ▁care, ▁professional, ▁types, ...   \n",
       "1  [▁The, ▁health, ▁care, ▁professional, ▁types, ...   \n",
       "2  [▁The, ▁health, ▁care, ▁professional, ▁types, ...   \n",
       "3  [▁The, ▁patient, ▁cho, sen, ▁is, ▁not, ▁the, ▁...   \n",
       "4  [▁The, ▁patient, ▁cho, sen, ▁is, ▁not, ▁the, ▁...   \n",
       "\n",
       "                                              to_doc  \n",
       "0  [▁<%@, ▁page, ▁import, =\", java, ., net, ., UR...  \n",
       "1  [▁p, ackage, ▁edu, ., nc, su, ., cs, c, ., itr...  \n",
       "2  [▁p, ackage, ▁edu, ., nc, su, ., cs, c, ., itr...  \n",
       "3  [▁<%@, ▁page, ▁import, =\", java, ., net, ., UR...  \n",
       "4  [▁p, ackage, ▁edu, ., nc, su, ., cs, c, ., itr...  "
      ]
     },
     "execution_count": null,
     "metadata": {},
     "output_type": "execute_result"
    }
   ],
   "source": [
    "gt_english.head()"
   ]
  },
  {
   "cell_type": "code",
   "execution_count": null,
   "metadata": {},
   "outputs": [
    {
     "data": {
      "text/html": [
       "<div>\n",
       "<style scoped>\n",
       "    .dataframe tbody tr th:only-of-type {\n",
       "        vertical-align: middle;\n",
       "    }\n",
       "\n",
       "    .dataframe tbody tr th {\n",
       "        vertical-align: top;\n",
       "    }\n",
       "\n",
       "    .dataframe thead th {\n",
       "        text-align: right;\n",
       "    }\n",
       "</style>\n",
       "<table border=\"1\" class=\"dataframe\">\n",
       "  <thead>\n",
       "    <tr style=\"text-align: right;\">\n",
       "      <th></th>\n",
       "      <th>sys</th>\n",
       "      <th>from_type</th>\n",
       "      <th>to_type</th>\n",
       "      <th>from_file</th>\n",
       "      <th>to_file</th>\n",
       "      <th>from_doc</th>\n",
       "      <th>to_doc</th>\n",
       "    </tr>\n",
       "  </thead>\n",
       "  <tbody>\n",
       "    <tr>\n",
       "      <th>0</th>\n",
       "      <td>libest</td>\n",
       "      <td>req</td>\n",
       "      <td>src</td>\n",
       "      <td>RQ7.bpe</td>\n",
       "      <td>est_locl.bpe</td>\n",
       "      <td>[▁, REQUIRE, MENT, ▁, 7, :, ▁CERTIFICATE, -, L...</td>\n",
       "      <td>[▁, LIB, EST, _, TEST, _, API, ▁void, ▁est, _,...</td>\n",
       "    </tr>\n",
       "    <tr>\n",
       "      <th>1</th>\n",
       "      <td>libest</td>\n",
       "      <td>req</td>\n",
       "      <td>src</td>\n",
       "      <td>RQ7.bpe</td>\n",
       "      <td>est.bpe</td>\n",
       "      <td>[▁, REQUIRE, MENT, ▁, 7, :, ▁CERTIFICATE, -, L...</td>\n",
       "      <td>[▁/**, ▁@, file, ▁*/, ▁/*, --, ---------------...</td>\n",
       "    </tr>\n",
       "    <tr>\n",
       "      <th>2</th>\n",
       "      <td>libest</td>\n",
       "      <td>req</td>\n",
       "      <td>src</td>\n",
       "      <td>RQ7.bpe</td>\n",
       "      <td>est_proxy.bpe</td>\n",
       "      <td>[▁, REQUIRE, MENT, ▁, 7, :, ▁CERTIFICATE, -, L...</td>\n",
       "      <td>[▁/*, ▁*, ▁S, ince, ▁we, ▁, hij, ack, ▁the, ▁O...</td>\n",
       "    </tr>\n",
       "    <tr>\n",
       "      <th>3</th>\n",
       "      <td>libest</td>\n",
       "      <td>req</td>\n",
       "      <td>src</td>\n",
       "      <td>RQ7.bpe</td>\n",
       "      <td>est_client_proxy.bpe</td>\n",
       "      <td>[▁, REQUIRE, MENT, ▁, 7, :, ▁CERTIFICATE, -, L...</td>\n",
       "      <td>[▁t, cw, _, err, _, t, ▁t, cw, _, connect, (, ...</td>\n",
       "    </tr>\n",
       "    <tr>\n",
       "      <th>4</th>\n",
       "      <td>libest</td>\n",
       "      <td>req</td>\n",
       "      <td>src</td>\n",
       "      <td>RQ7.bpe</td>\n",
       "      <td>est_ossl_util.bpe</td>\n",
       "      <td>[▁, REQUIRE, MENT, ▁, 7, :, ▁CERTIFICATE, -, L...</td>\n",
       "      <td>[▁int, ▁ossl, _, verify, _, cb, (, int, ▁ok, ,...</td>\n",
       "    </tr>\n",
       "  </tbody>\n",
       "</table>\n",
       "</div>"
      ],
      "text/plain": [
       "      sys from_type to_type from_file               to_file  \\\n",
       "0  libest       req     src   RQ7.bpe          est_locl.bpe   \n",
       "1  libest       req     src   RQ7.bpe               est.bpe   \n",
       "2  libest       req     src   RQ7.bpe         est_proxy.bpe   \n",
       "3  libest       req     src   RQ7.bpe  est_client_proxy.bpe   \n",
       "4  libest       req     src   RQ7.bpe     est_ossl_util.bpe   \n",
       "\n",
       "                                            from_doc  \\\n",
       "0  [▁, REQUIRE, MENT, ▁, 7, :, ▁CERTIFICATE, -, L...   \n",
       "1  [▁, REQUIRE, MENT, ▁, 7, :, ▁CERTIFICATE, -, L...   \n",
       "2  [▁, REQUIRE, MENT, ▁, 7, :, ▁CERTIFICATE, -, L...   \n",
       "3  [▁, REQUIRE, MENT, ▁, 7, :, ▁CERTIFICATE, -, L...   \n",
       "4  [▁, REQUIRE, MENT, ▁, 7, :, ▁CERTIFICATE, -, L...   \n",
       "\n",
       "                                              to_doc  \n",
       "0  [▁, LIB, EST, _, TEST, _, API, ▁void, ▁est, _,...  \n",
       "1  [▁/**, ▁@, file, ▁*/, ▁/*, --, ---------------...  \n",
       "2  [▁/*, ▁*, ▁S, ince, ▁we, ▁, hij, ack, ▁the, ▁O...  \n",
       "3  [▁t, cw, _, err, _, t, ▁t, cw, _, connect, (, ...  \n",
       "4  [▁int, ▁ossl, _, verify, _, cb, (, int, ▁ok, ,...  "
      ]
     },
     "execution_count": null,
     "metadata": {},
     "output_type": "execute_result"
    }
   ],
   "source": [
    "ngt_english.head()"
   ]
  },
  {
   "cell_type": "code",
   "execution_count": null,
   "metadata": {},
   "outputs": [],
   "source": [
    "sample_gt_from_en = gt_english['from_doc'].sample(frac = 0.1).to_list()\n",
    "sample_gt_to_en = gt_english['to_doc'].sample(frac = 0.1).to_list()"
   ]
  },
  {
   "cell_type": "code",
   "execution_count": null,
   "metadata": {},
   "outputs": [],
   "source": [
    "sample_ngt_from_en = ngt_english['from_doc'].sample(frac = 0.1).to_list()\n",
    "sample_ngt_to_en = ngt_english['to_doc'].sample(frac = 0.1).to_list()"
   ]
  },
  {
   "cell_type": "code",
   "execution_count": null,
   "metadata": {},
   "outputs": [],
   "source": [
    "gt_from_entropies = get_entropies_from_docs(sample_gt_from_en)\n",
    "gt_to_entropies = get_entropies_from_docs(sample_gt_to_en)"
   ]
  },
  {
   "cell_type": "code",
   "execution_count": null,
   "metadata": {},
   "outputs": [],
   "source": [
    "ngt_from_entropies = get_entropies_from_docs(sample_ngt_from_en)\n",
    "ngt_to_entropies = get_entropies_from_docs(sample_ngt_to_en)"
   ]
  },
  {
   "cell_type": "code",
   "execution_count": null,
   "metadata": {},
   "outputs": [],
   "source": [
    "gt_shared_probs = [get_shared_probs_from_docs(docs)[0] for docs in zip(sample_gt_from_en, sample_gt_to_en)]\n",
    "ngt_shared_probs = [get_shared_probs_from_docs(docs)[0] for docs in zip(sample_ngt_from_en, sample_ngt_to_en)]"
   ]
  },
  {
   "cell_type": "code",
   "execution_count": null,
   "metadata": {},
   "outputs": [],
   "source": [
    "import matplotlib.pyplot as plt"
   ]
  },
  {
   "cell_type": "code",
   "execution_count": null,
   "metadata": {},
   "outputs": [
    {
     "data": {
      "image/png": "[encoded data removed]",
      "text/plain": [
       "<Figure size 432x288 with 1 Axes>"
      ]
     },
     "metadata": {
      "needs_background": "light"
     },
     "output_type": "display_data"
    }
   ],
   "source": [
    "plt.scatter(gt_from_entropies, gt_to_entropies, c='b')\n",
    "plt.scatter(ngt_from_entropies, ngt_to_entropies, c='r')\n",
    "plt.show()"
   ]
  },
  {
   "cell_type": "code",
   "execution_count": null,
   "metadata": {},
   "outputs": [
    {
     "data": {
      "image/png": "[encoded data removed]",
      "text/plain": [
       "<Figure size 432x288 with 1 Axes>"
      ]
     },
     "metadata": {
      "needs_background": "light"
     },
     "output_type": "display_data"
    }
   ],
   "source": [
    "plt.hlines(1,0,1)  # Draw a horizontal line\n",
    "plt.eventplot(gt_shared_probs, orientation='horizontal', colors='b', alpha = 0.5)\n",
    "# plt.margins(x=5, y=5)\n",
    "plt.show()"
   ]
  },
  {
   "cell_type": "code",
   "execution_count": null,
   "metadata": {},
   "outputs": [
    {
     "data": {
      "image/png": "[encoded data removed]",
      "text/plain": [
       "<Figure size 432x288 with 1 Axes>"
      ]
     },
     "metadata": {
      "needs_background": "light"
     },
     "output_type": "display_data"
    }
   ],
   "source": [
    "plt.hlines(1,0,1)  # Draw a horizontal line\n",
    "plt.eventplot(ngt_shared_probs, orientation='horizontal', colors='r', alpha = 0.5)\n",
    "plt.show()"
   ]
  },
  {
   "cell_type": "code",
   "execution_count": null,
   "metadata": {},
   "outputs": [],
   "source": []
  },
  {
   "cell_type": "code",
   "execution_count": null,
   "metadata": {},
   "outputs": [],
   "source": []
  },
  {
   "cell_type": "code",
   "execution_count": null,
   "metadata": {},
   "outputs": [],
   "source": []
  },
  {
   "cell_type": "code",
   "execution_count": null,
   "metadata": {},
   "outputs": [],
   "source": []
  },
  {
   "cell_type": "code",
   "execution_count": null,
   "metadata": {},
   "outputs": [],
   "source": []
  },
  {
   "cell_type": "code",
   "execution_count": null,
   "metadata": {},
   "outputs": [],
   "source": [
    "\n",
    "for language in languages:\n",
    "    req_fns = list((path/'datasets'/language).glob('**/*req]'))\n",
    "    src_fns = list((path/'datasets'/language).glob('**/*src]'))\n",
    "    tst_fns = list((path/'datasets'/language).glob('**/*tc]'))\n",
    "    \n",
    "    spm = sp.SentencePieceProcessor()\n",
    "    spm.Load(str((path/'datasets'/language/f\"{model_name}_bpe.model\"))\\\n",
    "    \n",
    "    all_fns = flatten(req_fns + src_fns + tst_fns)\n",
    "    all_docs = tokenize_fns(all_fns, spm)"
   ]
  },
  {
   "cell_type": "code",
   "execution_count": null,
   "metadata": {},
   "outputs": [
    {
     "data": {
      "text/plain": [
       "([PosixPath('../benchmarking/traceability/datasets/english/libest/[libest-raw-req]'),\n",
       "  PosixPath('../benchmarking/traceability/datasets/english/itrust/[itrust-raw-req]')],\n",
       " [PosixPath('../benchmarking/traceability/datasets/english/libest/[libest-raw-src]'),\n",
       "  PosixPath('../benchmarking/traceability/datasets/english/itrust/[itrust-raw-src]')],\n",
       " [PosixPath('../benchmarking/traceability/datasets/english/libest/[libest-raw-tc]')])"
      ]
     },
     "execution_count": null,
     "metadata": {},
     "output_type": "execute_result"
    }
   ],
   "source": [
    "req_fns = list((path/'datasets/english').glob('**/*req]'))\n",
    "src_fns = list((path/'datasets/english').glob('**/*src]'))\n",
    "tst_fns = list((path/'datasets/english').glob('**/*tc]'))\n",
    "req_fns[:5], src_fns[:5], tst_fns[:5]"
   ]
  },
  {
   "cell_type": "code",
   "execution_count": null,
   "metadata": {},
   "outputs": [],
   "source": []
  },
  {
   "cell_type": "code",
   "execution_count": null,
   "metadata": {},
   "outputs": [],
   "source": []
  },
  {
   "cell_type": "code",
   "execution_count": null,
   "metadata": {},
   "outputs": [],
   "source": [
    "all_fns = flatten(req_fns + src_fns + tst_fns)\n",
    "all_docs = tokenize_fns(all_fns, spm)"
   ]
  },
  {
   "cell_type": "code",
   "execution_count": null,
   "metadata": {},
   "outputs": [],
   "source": [
    "req_docs = "
   ]
  },
  {
   "cell_type": "code",
   "execution_count": null,
   "metadata": {},
   "outputs": [],
   "source": []
  },
  {
   "cell_type": "code",
   "execution_count": null,
   "metadata": {},
   "outputs": [],
   "source": []
  },
  {
   "cell_type": "code",
   "execution_count": null,
   "metadata": {},
   "outputs": [],
   "source": []
  },
  {
   "cell_type": "code",
   "execution_count": null,
   "metadata": {},
   "outputs": [],
   "source": []
  },
  {
   "cell_type": "code",
   "execution_count": null,
   "metadata": {},
   "outputs": [
    {
     "data": {
      "text/plain": [
       "'libest'"
      ]
     },
     "execution_count": null,
     "metadata": {},
     "output_type": "execute_result"
    }
   ],
   "source": [
    "src_fns[0].parent.name"
   ]
  },
  {
   "cell_type": "code",
   "execution_count": null,
   "metadata": {},
   "outputs": [
    {
     "data": {
      "text/plain": [
       "[PosixPath('../benchmarking/traceability/datasets/italian/smos/[smos-raw-src]'),\n",
       " PosixPath('../benchmarking/traceability/datasets/italian/smos/[smos-raw-req]'),\n",
       " PosixPath('../benchmarking/traceability/datasets/italian/smos/[smos-all].txt'),\n",
       " PosixPath('../benchmarking/traceability/datasets/italian/albergate/[albergate-all].txt'),\n",
       " PosixPath('../benchmarking/traceability/datasets/italian/albergate/[albergate-raw-src]'),\n",
       " PosixPath('../benchmarking/traceability/datasets/italian/albergate/[albergate-raw-req]'),\n",
       " PosixPath('../benchmarking/traceability/datasets/italian/ebt/[ebt-all].txt'),\n",
       " PosixPath('../benchmarking/traceability/datasets/italian/ebt/[ebt-raw-src]'),\n",
       " PosixPath('../benchmarking/traceability/datasets/italian/ebt/[ebt-raw-tc].txt'),\n",
       " PosixPath('../benchmarking/traceability/datasets/italian/ebt/[ebt-raw-req].txt'),\n",
       " PosixPath('../benchmarking/traceability/datasets/italian/etour/[etour-raw-src]'),\n",
       " PosixPath('../benchmarking/traceability/datasets/italian/etour/[etour-raw-req]'),\n",
       " PosixPath('../benchmarking/traceability/datasets/italian/etour/[etour-all].txt')]"
      ]
     },
     "execution_count": null,
     "metadata": {},
     "output_type": "execute_result"
    }
   ],
   "source": [
    "list(path.glob('datasets/italian/*/*'))"
   ]
  },
  {
   "cell_type": "code",
   "execution_count": null,
   "metadata": {},
   "outputs": [],
   "source": []
  },
  {
   "cell_type": "code",
   "execution_count": null,
   "metadata": {},
   "outputs": [],
   "source": []
  },
  {
   "cell_type": "code",
   "execution_count": null,
   "metadata": {},
   "outputs": [],
   "source": []
  },
  {
   "cell_type": "code",
   "execution_count": null,
   "metadata": {},
   "outputs": [],
   "source": []
  },
  {
   "cell_type": "code",
   "execution_count": null,
   "metadata": {},
   "outputs": [],
   "source": []
  },
  {
   "cell_type": "code",
   "execution_count": null,
   "metadata": {},
   "outputs": [],
   "source": [
    "def get_dtypes_entropy(df, dtypes, vocab):\n",
    "    entropies = []\n",
    "    for dtype in dtypes:\n",
    "        docs = df.loc[df.dtype == dtype].doc.values\n",
    "        entropies.append(get_entropies_from_docs(docs, vocab))\n",
    "    \n",
    "    return entropies"
   ]
  },
  {
   "cell_type": "code",
   "execution_count": null,
   "metadata": {},
   "outputs": [],
   "source": [
    "def entropy_benchmark(gt, ngt, vocab, n = 1):\n",
    "    gt = gt.sample(frac = n)\n",
    "    ngt = ngt.sample(frac = n)\n",
    "    \n",
    "#     src_docs = [(dtype, gt.loc[gt.src_type == dtype].src_doc.values)for dtype in gt.src_type.unique()]\n",
    "#     for dtype, docs in src_docs:\n",
    "#         e = get_entropies_from_docs(docs, vocab)\n",
    "#         print(f'Source Datatype: {dtype}')\n",
    "#         report_stats(e)\n",
    "#         print()\n",
    "        \n",
    "#     trgt_docs = [(dtype, gt.loc[gt.trgt_type == dtype].trgt_doc.values) for dtype in gt.trgt_type.unique()]\n",
    "#     for dtype, docs in trgt_docs:\n",
    "#         e = get_entropies_from_docs(docs, vocab)\n",
    "#         print(f'Target Datatype: {dtype}')\n",
    "#         report_stats(e)\n",
    "#         print()\n",
    "        \n",
    "    src_df = gt[['src_type', 'src_doc']].copy().rename(columns = {'src_type': 'dtype', 'src_doc': 'doc'})\n",
    "    src_dtypes = src_df.dtype.unique()\n",
    "    entropies = get_dtypes_entropy(src_df, src_df.dtype.unique(), vocab)\n",
    "    for e, dtype in zip(entropies, src_dtypes):\n",
    "        print(f'Source Datatype: {dtype}')\n",
    "        report_stats(e)\n",
    "        print()\n",
    "    \n",
    "    trgt_df = gt[['trgt_type', 'trgt_doc']].copy().rename(columns = {'trgt_type': 'dtype', 'trgt_doc': 'doc'})\n",
    "    trgt_dtypes = trgt_df.dtype.unique()\n",
    "    entropies = get_dtypes_entropy(trgt_df, trgt_dtypes, vocab)\n",
    "    for e, dtype in zip(entropies, trgt_dtypes):\n",
    "        print(f'Target Datatype: {dtype}')\n",
    "        report_stats(e)\n",
    "        print()\n",
    "    \n",
    "#     all_docs = src_df.doc.values\n",
    "#     entropies = get_entropies_from_docs(all_docs, vocab)\n",
    "#     print(f'Total System Entropy')\n",
    "#     report_stats(entropies)\n",
    "#     print()"
   ]
  },
  {
   "cell_type": "code",
   "execution_count": null,
   "metadata": {},
   "outputs": [],
   "source": []
  },
  {
   "cell_type": "code",
   "execution_count": null,
   "metadata": {},
   "outputs": [],
   "source": []
  },
  {
   "cell_type": "code",
   "execution_count": null,
   "metadata": {},
   "outputs": [],
   "source": []
  },
  {
   "cell_type": "code",
   "execution_count": null,
   "metadata": {},
   "outputs": [
    {
     "name": "stdout",
     "output_type": "stream",
     "text": [
      "Converted 0.0_mgmnt.prep.i.ipynb.\n",
      "Converted 0.1_mgmnt.prep.conv.ipynb.\n",
      "Converted 0.2_mgmnt.db.mongo.ipynb.\n",
      "Converted 0.3_mgmnt.prep.bpe.ipynb.\n",
      "Converted 0.4_mgmnt.corpus.ipynb.\n",
      "Converted 0.5_mgmnt.prep.traceability.ipynb.\n",
      "Converted 0.6_mgmnt.prep.nltk.ipynb.\n",
      "Converted 1.0_exp.i.ipynb.\n",
      "Converted 1.1_exp.info.ipynb.\n",
      "Converted 2.0_repr.i.ipynb.\n",
      "Converted 2.1_repr.roberta.train.ipynb.\n",
      "Converted 2.2_repr.roberta.eval.ipynb.\n",
      "Converted 2.3_repr.word2vec.train.ipynb.\n",
      "Converted 2.4_repr.doc2vec.train.ipynb.\n",
      "Converted 2.5_repr.doc2vec.eval.ipynb.\n",
      "Converted 2.6_repr.word2vec.eval.ipynb.\n",
      "Converted 3.0_mining.ir.model.ipynb.\n",
      "Converted 3.1_mining.ir.i.ipynb.\n",
      "Converted 3.2_mining.unsupervised.eval.ipynb.\n",
      "Converted 4.0_benchmark.i.ipynb.\n",
      "Converted 4.1_benchmark.traceability.ipynb.\n",
      "Converted 4.2_benchmark.codegen.ipynb.\n",
      "Converted 5.0_vis.ipynb.\n",
      "Converted 6.0_desc.stats.ipynb.\n",
      "Converted 6.1_desc.metrics.se.ipynb.\n",
      "Converted 7.0_inf.i.ipynb.\n",
      "Converted 7.1_inf.bayesian.ipynb.\n",
      "Converted 7.2_inf.causal.ipynb.\n",
      "Converted aa_blog.example.ipynb.\n",
      "Converted ab_templates.example.ipynb.\n",
      "Converted ac_emp.eval.pp1.rq1.ipynb.\n",
      "Converted ad_emp.eval.pp1.rq2.ipynb.\n",
      "Converted ae_emp.eval.pp1.rq3.ipynb.\n",
      "Converted af_emp.eval.pp1.rq4.ipynb.\n",
      "Converted index.ipynb.\n"
     ]
    }
   ],
   "source": [
    "from nbdev.export import notebook2script\n",
    "notebook2script()"
   ]
  },
  {
   "cell_type": "code",
   "execution_count": null,
   "metadata": {},
   "outputs": [],
   "source": []
  }
 ],
 "metadata": {
  "kernelspec": {
   "display_name": "Python 3",
   "language": "python",
   "name": "python3"
  }
 },
 "nbformat": 4,
 "nbformat_minor": 2
}
