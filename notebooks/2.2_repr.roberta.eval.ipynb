{
 "cells": [
  {
   "cell_type": "code",
   "execution_count": null,
   "metadata": {},
   "outputs": [],
   "source": [
    "# default_exp repr.roberta.eval"
   ]
  },
  {
   "cell_type": "markdown",
   "metadata": {},
   "source": [
    "# Data Representation\n",
    "\n",
    "> This module is dedicated to represent software artifacts into proper abstract structure such as vectors or graphs. Possible subfolders:\n",
    ">\n",
    "> - Vectorization: --Word2vec --BERT\n",
    "> - Graph"
   ]
  },
  {
   "cell_type": "code",
   "execution_count": null,
   "metadata": {},
   "outputs": [],
   "source": [
    "# export\n",
    "# Imports\n",
    "import numpy as np\n",
    "\n",
    "from abc import ABC, abstractmethod\n",
    "\n",
    "from pathlib import Path\n",
    "\n",
    "from transformers import pipeline"
   ]
  },
  {
   "cell_type": "code",
   "execution_count": null,
   "metadata": {},
   "outputs": [],
   "source": [
    "#hide\n",
    "from nbdev.showdoc import *"
   ]
  },
  {
   "cell_type": "code",
   "execution_count": null,
   "metadata": {},
   "outputs": [],
   "source": [
    "# export\n",
    "class Vectorizor(ABC):\n",
    " \n",
    "    def __init__(self, vectorizor):\n",
    "        self.vectorizor = vectorizor\n",
    "        super().__init__()\n",
    "    \n",
    "    @abstractmethod\n",
    "    def vectorize(self, inpt):\n",
    "        pass"
   ]
  },
  {
   "cell_type": "code",
   "execution_count": null,
   "metadata": {},
   "outputs": [],
   "source": [
    "# export\n",
    "class BertVectorizor(Vectorizor):\n",
    "    \"\"\"\n",
    "        Vectorization subclass that handles vectorizing using BERT\n",
    "    \"\"\"\n",
    "    def vectorize(self, inpt):\n",
    "        return np.array(self.vectorizor(\"public static void main\"))"
   ]
  },
  {
   "cell_type": "code",
   "execution_count": null,
   "metadata": {},
   "outputs": [],
   "source": [
    "path = Path('/tf/data/models/JavaBert-v1')"
   ]
  },
  {
   "cell_type": "code",
   "execution_count": null,
   "metadata": {},
   "outputs": [],
   "source": [
    "vectorizor = BertVectorizor(pipeline(\n",
    "    \"feature-extraction\",\n",
    "    model= str(path),\n",
    "    tokenizer= str(path)\n",
    "))"
   ]
  },
  {
   "cell_type": "code",
   "execution_count": null,
   "metadata": {},
   "outputs": [],
   "source": [
    "vectorizor.vectorize(\"public static void main\")"
   ]
  },
  {
   "cell_type": "code",
   "execution_count": null,
   "metadata": {},
   "outputs": [],
   "source": [
    "! nbdev_build_docs"
   ]
  },
  {
   "cell_type": "code",
   "execution_count": null,
   "metadata": {},
   "outputs": [],
   "source": [
    "import ds4se.mgmnt.prep.conv as prep"
   ]
  },
  {
   "cell_type": "code",
   "execution_count": null,
   "metadata": {},
   "outputs": [],
   "source": [
    "params = {\n",
    "    'system':'wikipedia/20190301.en',\n",
    "    'saving_path': 'test_data/',\n",
    "    'language': 'english'\n",
    "}"
   ]
  },
  {
   "cell_type": "code",
   "execution_count": null,
   "metadata": {},
   "outputs": [],
   "source": [
    "#[step1] Create Preprocesser <----------\n",
    "preprocess_pipeline = prep.ConventionalPreprocessing(params= params)"
   ]
  },
  {
   "cell_type": "code",
   "execution_count": null,
   "metadata": {},
   "outputs": [],
   "source": []
  }
 ],
 "metadata": {
  "kernelspec": {
   "display_name": "Python 3",
   "language": "python",
   "name": "python3"
  }
 },
 "nbformat": 4,
 "nbformat_minor": 2
}
