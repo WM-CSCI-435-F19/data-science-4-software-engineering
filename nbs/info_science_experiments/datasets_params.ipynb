{
 "cells": [
  {
   "cell_type": "markdown",
   "metadata": {},
   "source": [
    "# Canonical Preprocessed Datasets"
   ]
  },
  {
   "cell_type": "code",
   "execution_count": null,
   "metadata": {},
   "outputs": [],
   "source": [
    "#hide\n",
    "semeru_format =  path_data + 'se-benchmarking/traceability/datasets/formatted/semeru_format/'"
   ]
  },
  {
   "cell_type": "code",
   "execution_count": null,
   "metadata": {},
   "outputs": [],
   "source": [
    "model_prefix = {\n",
    "    'bpe8k' : path_data+'models/bpe/sentencepiece/wiki_py_java_bpe_8k',\n",
    "    'bpe32k' : path_data+'models/bpe/sentencepiece/wiki_py_java_bpe_32k',\n",
    "    'bpe128k' : path_data+'models/bpe/sentencepiece/wiki_py_java_bpe_128k'\n",
    "}"
   ]
  },
  {
   "cell_type": "code",
   "execution_count": null,
   "metadata": {},
   "outputs": [],
   "source": [
    "#Setting Up SemeruFormat\n",
    "def libest_params(model_prefix = path_data+'models/bpe/sentencepiece/wiki_py_java_bpe_8k'):\n",
    "    return {\n",
    "        'system': 'libest',\n",
    "        'saving_path': path_data+ 'se-benchmarking/traceability/testbeds/processed/',\n",
    "        'language': 'english',\n",
    "        'dataset' : {\n",
    "            'req':pathlib.Path( semeru_format + 'LibEST_semeru_format/requirements'),\n",
    "            'src':pathlib.Path( semeru_format + 'LibEST_semeru_format/source_code'),\n",
    "            'tc':pathlib.Path( semeru_format + 'LibEST_semeru_format/test')\n",
    "        },\n",
    "        'ends': ['.txt','.c','.h'],\n",
    "        'model_prefix':model_prefix,\n",
    "        'encoding':'utf-8'\n",
    "    }"
   ]
  },
  {
   "cell_type": "code",
   "execution_count": null,
   "metadata": {},
   "outputs": [],
   "source": [
    "#Canonical Dataset 0.0.1\n",
    "def albergate_params(model_prefix = path_data+'models/bpe/sentencepiece/wiki_py_java_bpe_8k'):\n",
    "    return {\n",
    "        'system': 'albergate',\n",
    "        'saving_path': path_data+ 'se-benchmarking/traceability/testbeds/processed/',\n",
    "        'language': 'italian',\n",
    "        'dataset' : {\n",
    "            'req':pathlib.Path( semeru_format + 'Albergate_semeru_format/requirements'),\n",
    "            'src':pathlib.Path( semeru_format + 'Albergate_semeru_format/source_code')\n",
    "        },\n",
    "        'ends': ['.txt','.java'],\n",
    "        'model_prefix':model_prefix,\n",
    "        'encoding':'ISO-8859-1' #italian encoding\n",
    "    }"
   ]
  },
  {
   "cell_type": "code",
   "execution_count": null,
   "metadata": {},
   "outputs": [],
   "source": [
    "#Canonical Dataset 0.0.2\n",
    "def etour_params(model_prefix = path_data+'models/bpe/sentencepiece/wiki_py_java_bpe_8k'):\n",
    "    return {\n",
    "        'system': 'etour',\n",
    "        'saving_path': path_data+ 'se-benchmarking/traceability/testbeds/processed/',\n",
    "        'language': 'italian',\n",
    "        'dataset' : {\n",
    "            'uc':pathlib.Path( semeru_format + 'eTOUR_semeru_format/use_cases'),\n",
    "            'src':pathlib.Path( semeru_format + 'eTOUR_semeru_format/source_code')\n",
    "        },\n",
    "        'ends': ['.txt','.java','.c','.h','.TXT'],\n",
    "        'model_prefix':model_prefix,\n",
    "        'encoding':'ISO-8859-1' #italian encoding\n",
    "    }"
   ]
  },
  {
   "cell_type": "code",
   "execution_count": null,
   "metadata": {},
   "outputs": [],
   "source": [
    "#Canonical Dataset 0.0.3\n",
    "def itrust_params(model_prefix = path_data+'models/bpe/sentencepiece/wiki_py_java_bpe_8k'):\n",
    "    return {\n",
    "        'system': 'itrust',\n",
    "        'saving_path': path_data+ 'se-benchmarking/traceability/testbeds/processed/',\n",
    "        'language': 'english',\n",
    "        'dataset' : {\n",
    "            'uc':pathlib.Path( semeru_format + 'iTrust_semeru_format/use_cases'),\n",
    "            'src':pathlib.Path( semeru_format + 'iTrust_semeru_format/source_code')\n",
    "        },\n",
    "        'ends': ['.txt','.java','.c','.h','.TXT','.jsp'],\n",
    "        'model_prefix':model_prefix,\n",
    "        #'encoding':'ISO-8859-1'\n",
    "        'encoding':'utf-8' #english encoding\n",
    "    }"
   ]
  },
  {
   "cell_type": "code",
   "execution_count": null,
   "metadata": {},
   "outputs": [],
   "source": [
    "#Canonical Dataset 0.0.4\n",
    "\n",
    "def smos_params(model_prefix = path_data+'models/bpe/sentencepiece/wiki_py_java_bpe_8k'):\n",
    "    return {\n",
    "        'system': 'smos',\n",
    "        'saving_path': path_data+ 'se-benchmarking/traceability/testbeds/processed/',\n",
    "        'language': 'italian',\n",
    "        'dataset' : {\n",
    "            'uc':pathlib.Path( semeru_format + 'SMOS_semeru_format/use_cases'),\n",
    "            'src':pathlib.Path( semeru_format + 'SMOS_semeru_format/source_code')\n",
    "        },\n",
    "        'ends': ['.txt','.java','.c','.h','.TXT','.jsp'],\n",
    "        'model_prefix':model_prefix,\n",
    "        'encoding':'ISO-8859-1'\n",
    "        #'encoding':'utf-8' #english encoding\n",
    "    }"
   ]
  },
  {
   "cell_type": "code",
   "execution_count": null,
   "metadata": {},
   "outputs": [],
   "source": [
    "#Canonical Dataset 0.0.5\n",
    "\n",
    "def ebt_params(model_prefix = path_data+'models/bpe/sentencepiece/wiki_py_java_bpe_8k'):\n",
    "    return {\n",
    "        'system': 'ebt',\n",
    "        'saving_path': path_data+ 'se-benchmarking/traceability/testbeds/processed/',\n",
    "        'language': 'english',\n",
    "        'dataset' : {\n",
    "            'req':pathlib.Path( semeru_format + 'EBT_semeru_format/requirements'),\n",
    "            'tc': pathlib.Path( semeru_format + 'EBT_semeru_format/test_cases'),\n",
    "            'src':pathlib.Path( semeru_format + 'EBT_semeru_format/source_code')\n",
    "        },\n",
    "        'ends': ['.txt','.java','.c','.h','.TXT'],\n",
    "        'model_prefix':model_prefix,\n",
    "        #'encoding':'ISO-8859-1'\n",
    "        'encoding':'utf-8' #english encoding\n",
    "    }"
   ]
  }
 ],
 "metadata": {
  "kernelspec": {
   "display_name": "Python 3",
   "language": "python",
   "name": "python3"
  }
 },
 "nbformat": 4,
 "nbformat_minor": 2
}
