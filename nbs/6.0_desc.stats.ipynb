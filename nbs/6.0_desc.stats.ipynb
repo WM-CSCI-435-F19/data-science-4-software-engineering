{
 "cells": [
  {
   "cell_type": "code",
   "execution_count": null,
   "metadata": {},
   "outputs": [],
   "source": [
    "# default_exp desc.stats"
   ]
  },
  {
   "cell_type": "markdown",
   "metadata": {},
   "source": [
    "# Exploration Statistics\n",
    "\n",
    "> This module comprises all the functions for calculating descriptive statistics."
   ]
  },
  {
   "cell_type": "code",
   "execution_count": null,
   "metadata": {},
   "outputs": [
    {
     "name": "stdout",
     "output_type": "stream",
     "text": [
      "Requirement already satisfied: dit in c:\\webscraper\\lib\\site-packages (1.2.3)\n",
      "Requirement already satisfied: scipy>=0.15.0 in c:\\webscraper\\lib\\site-packages (from dit) (1.2.1)\n",
      "Requirement already satisfied: networkx in c:\\webscraper\\lib\\site-packages (from dit) (2.2)\n",
      "Requirement already satisfied: boltons in c:\\webscraper\\lib\\site-packages (from dit) (20.2.1)\n",
      "Requirement already satisfied: contextlib2 in c:\\webscraper\\lib\\site-packages (from dit) (0.5.5)\n",
      "Requirement already satisfied: numpy>=1.11 in c:\\webscraper\\lib\\site-packages (from dit) (1.16.2)\n",
      "Requirement already satisfied: prettytable in c:\\webscraper\\lib\\site-packages (from dit) (0.7.2)\n",
      "Requirement already satisfied: six>=1.4.0 in c:\\webscraper\\lib\\site-packages (from dit) (1.12.0)\n",
      "Requirement already satisfied: debtcollector in c:\\webscraper\\lib\\site-packages (from dit) (2.2.0)\n",
      "Requirement already satisfied: decorator>=4.3.0 in c:\\webscraper\\lib\\site-packages (from networkx->dit) (4.4.0)\n",
      "Requirement already satisfied: wrapt>=1.7.0 in c:\\webscraper\\lib\\site-packages (from debtcollector->dit) (1.11.1)\n",
      "Requirement already satisfied: pbr!=2.1.0,>=2.0.0 in c:\\webscraper\\lib\\site-packages (from debtcollector->dit) (5.5.0)\n",
      "Requirement already satisfied: sentencepiece in c:\\webscraper\\lib\\site-packages (0.1.92)\n"
     ]
    }
   ],
   "source": [
    "!pip install dit\n",
    "!pip install sentencepiece"
   ]
  },
  {
   "cell_type": "code",
   "execution_count": null,
   "metadata": {},
   "outputs": [
    {
     "ename": "ImportError",
     "evalue": "cannot import name 'median_absolute_deviation' from 'scipy.stats' (C:\\WebScraper\\lib\\site-packages\\scipy\\stats\\__init__.py)",
     "output_type": "error",
     "traceback": [
      "\u001b[1;31m---------------------------------------------------------------------------\u001b[0m",
      "\u001b[1;31mImportError\u001b[0m                               Traceback (most recent call last)",
      "\u001b[1;32m<ipython-input-4-8c9165a1de6f>\u001b[0m in \u001b[0;36m<module>\u001b[1;34m\u001b[0m\n\u001b[0;32m      1\u001b[0m \u001b[1;31m# export\u001b[0m\u001b[1;33m\u001b[0m\u001b[1;33m\u001b[0m\u001b[1;33m\u001b[0m\u001b[0m\n\u001b[0;32m      2\u001b[0m \u001b[1;31m# Imports\u001b[0m\u001b[1;33m\u001b[0m\u001b[1;33m\u001b[0m\u001b[1;33m\u001b[0m\u001b[0m\n\u001b[1;32m----> 3\u001b[1;33m \u001b[1;32mfrom\u001b[0m \u001b[0mscipy\u001b[0m\u001b[1;33m.\u001b[0m\u001b[0mstats\u001b[0m \u001b[1;32mimport\u001b[0m \u001b[0msem\u001b[0m\u001b[1;33m,\u001b[0m \u001b[0mt\u001b[0m\u001b[1;33m,\u001b[0m \u001b[0mmedian_absolute_deviation\u001b[0m \u001b[1;32mas\u001b[0m \u001b[0mmad\u001b[0m\u001b[1;33m\u001b[0m\u001b[1;33m\u001b[0m\u001b[0m\n\u001b[0m\u001b[0;32m      4\u001b[0m \u001b[1;32mfrom\u001b[0m \u001b[0mstatistics\u001b[0m \u001b[1;32mimport\u001b[0m \u001b[0mmean\u001b[0m\u001b[1;33m,\u001b[0m \u001b[0mmedian\u001b[0m\u001b[1;33m,\u001b[0m \u001b[0mstdev\u001b[0m\u001b[1;33m\u001b[0m\u001b[1;33m\u001b[0m\u001b[0m\n",
      "\u001b[1;31mImportError\u001b[0m: cannot import name 'median_absolute_deviation' from 'scipy.stats' (C:\\WebScraper\\lib\\site-packages\\scipy\\stats\\__init__.py)"
     ]
    }
   ],
   "source": [
    "# export\n",
    "# Imports\n",
    "from scipy.stats import sem, t, median_abs_deviation as mad\n",
    "from statistics import mean, median, stdev\n",
    "import math"
   ]
  },
  {
   "cell_type": "code",
   "execution_count": null,
   "metadata": {},
   "outputs": [],
   "source": [
    "#hide\n",
    "from nbdev.showdoc import *\n",
    "from ds4se.desc.stats import *"
   ]
  },
  {
   "cell_type": "code",
   "execution_count": null,
   "metadata": {},
   "outputs": [],
   "source": [
    "#Testing List\n",
    "l = [1, 2, 4, 8, 7, 10]"
   ]
  },
  {
   "cell_type": "markdown",
   "metadata": {},
   "source": [
    "# Get_desc_stats & test"
   ]
  },
  {
   "cell_type": "code",
   "execution_count": null,
   "metadata": {},
   "outputs": [],
   "source": [
    "#export\n",
    "'''\n",
    "Returns max, min, mena, median, standard deviation, mean absolute deviation of a list\n",
    "\n",
    ":param l: input list\n",
    ":returns: see above\n",
    "'''\n",
    "def get_desc_stats(l):\n",
    "    return max(l), min(l), mean(l), median(l), stdev(l), mad(l)"
   ]
  },
  {
   "cell_type": "code",
   "execution_count": null,
   "metadata": {},
   "outputs": [],
   "source": [
    "#Here we test get desc stats\n",
    "testGDS = get_desc_stats(l)\n",
    "\n",
    "#Expected results\n",
    "#max = 10\n",
    "#min = 1\n",
    "#mean = 5.33\n",
    "#median = 5.5?\n",
    "#std = 3.559?\n",
    "#MAD = 4.44708?\n",
    "\n",
    "assert(testGDS[0] == 10)\n",
    "assert(testGDS[1] == 1)\n",
    "assert(round(testGDS[2],2) == 5.33)\n",
    "assert(round(testGDS[3],2) == 5.5)\n",
    "assert(round(testGDS[4],2) == 3.56)\n",
    "assert(round(testGDS[5],2) == 3)"
   ]
  },
  {
   "cell_type": "markdown",
   "metadata": {},
   "source": [
    "# Confidence_interval & test"
   ]
  },
  {
   "cell_type": "code",
   "execution_count": null,
   "metadata": {},
   "outputs": [],
   "source": [
    "#Testing List\n",
    "l = [1, 2, 4, 8, 7, 10]"
   ]
  },
  {
   "cell_type": "code",
   "execution_count": null,
   "metadata": {},
   "outputs": [],
   "source": [
    "#Here we test get desc stats\n",
    "testGDS = get_desc_stats(l)\n",
    "\n",
    "#Expected results\n",
    "#max = 10\n",
    "#min = 1\n",
    "#mean = 5.33\n",
    "#median = 5.5?\n",
    "#std = 3.559?\n",
    "#MAD = 4.44708?\n",
    "assert(testGDS[0] == 10)\n",
    "assert(testGDS[1] == 1)\n",
    "assert(testGDS[2] == 5.33)\n",
    "assert(testGDS[3] == 5.5)\n",
    "assert(testGDS[4] == 3.559)\n",
    "assert(testGDS[5] == 4.44708)"
   ]
  },
  {
   "cell_type": "code",
   "execution_count": null,
   "metadata": {},
   "outputs": [],
   "source": [
    "#export\n",
    "'''\n",
    "Calculates confidence interval of a list\n",
    "\n",
    ":param l: input list\n",
    ":param c: confidence value\n",
    ":returns: start of interval and end of interval\n",
    "'''\n",
    "def confidence_interval(l, c = 0.95):\n",
    "    n = len(l)\n",
    "    m = mean(l)\n",
    "    std_err = sem(l)\n",
    "    h = std_err * t.ppf((1 + c) / 2, n - 1)\n",
    "\n",
    "    start = m - h\n",
    "    end = m + h\n",
    "    \n",
    "    return start, end"
   ]
  },
  {
   "cell_type": "code",
   "execution_count": null,
   "metadata": {},
   "outputs": [],
   "source": [
    "#TestStats\n",
    "#Test confidence Interval\n",
    "testCI = confidence_interval(l)\n",
    "\n",
    "assert(testCI[0] == 1.598364516031722)"
   ]
  },
  {
   "cell_type": "markdown",
   "metadata": {},
   "source": [
    "# Report_stats & test"
   ]
  },
  {
   "cell_type": "code",
   "execution_count": null,
   "metadata": {},
   "outputs": [
    {
     "ename": "NameError",
     "evalue": "name 'l' is not defined",
     "output_type": "error",
     "traceback": [
      "\u001b[1;31m---------------------------------------------------------------------------\u001b[0m",
      "\u001b[1;31mNameError\u001b[0m                                 Traceback (most recent call last)",
      "\u001b[1;32m<ipython-input-6-35fa242402e6>\u001b[0m in \u001b[0;36m<module>\u001b[1;34m\u001b[0m\n\u001b[0;32m      1\u001b[0m \u001b[1;31m#TestStats\u001b[0m\u001b[1;33m\u001b[0m\u001b[1;33m\u001b[0m\u001b[1;33m\u001b[0m\u001b[0m\n\u001b[0;32m      2\u001b[0m \u001b[1;31m#Test confidence Interval\u001b[0m\u001b[1;33m\u001b[0m\u001b[1;33m\u001b[0m\u001b[1;33m\u001b[0m\u001b[0m\n\u001b[1;32m----> 3\u001b[1;33m \u001b[0mtestCI\u001b[0m \u001b[1;33m=\u001b[0m \u001b[0mconfidence_interval\u001b[0m\u001b[1;33m(\u001b[0m\u001b[0ml\u001b[0m\u001b[1;33m)\u001b[0m\u001b[1;33m\u001b[0m\u001b[1;33m\u001b[0m\u001b[0m\n\u001b[0m\u001b[0;32m      4\u001b[0m \u001b[1;33m\u001b[0m\u001b[0m\n\u001b[0;32m      5\u001b[0m \u001b[1;32massert\u001b[0m\u001b[1;33m(\u001b[0m\u001b[0mtestCI\u001b[0m\u001b[1;33m[\u001b[0m\u001b[1;36m0\u001b[0m\u001b[1;33m]\u001b[0m \u001b[1;33m==\u001b[0m \u001b[1;36m1.598364516031722\u001b[0m\u001b[1;33m)\u001b[0m\u001b[1;33m\u001b[0m\u001b[1;33m\u001b[0m\u001b[0m\n",
      "\u001b[1;31mNameError\u001b[0m: name 'l' is not defined"
     ]
    }
   ],
   "source": [
    "#TestStats\n",
    "#Test confidence Interval\n",
    "testCI = confidence_interval(l)\n",
    "\n",
    "assert(testCI[0] == 1.598364516031722)"
   ]
  },
  {
   "cell_type": "code",
   "execution_count": null,
   "metadata": {},
   "outputs": [],
   "source": [
    "#export\n",
    "'''\n",
    "Returns formatted version of stats\n",
    "\n",
    ":param l: list of integers\n",
    ":param c: confidence interval\n",
    ":returns: prints out all stats and confidence interval with nice formatting\n",
    "'''\n",
    "def report_stats(l, c = 0.95):\n",
    "    mini, maxi, μ, med, σ, med_σ = get_desc_stats(l)\n",
    "    print(\"Max:\", mini)\n",
    "    print(\"Min:\", maxi)\n",
    "    print(\"Average:\", μ)\n",
    "    print(\"Median:\", med)\n",
    "    print(\"Standard Deviation:\", σ)\n",
    "    print(\"Median Absolute Deviation:\", med_σ)\n",
    "\n",
    "    start, end = confidence_interval(l, c = 0.95)\n",
    "    print(f\"{int(c * 100)}% of the data fall within {start} and {end}\")"
   ]
  }
 ],
 "metadata": {
  "kernelspec": {
   "display_name": "Python 3",
   "language": "python",
   "name": "python3"
  }
 },
 "nbformat": 4,
 "nbformat_minor": 1
}
