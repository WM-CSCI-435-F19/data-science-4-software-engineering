{
 "cells": [
  {
   "cell_type": "code",
   "execution_count": 2,
   "id": "enabling-ivory",
   "metadata": {},
   "outputs": [],
   "source": [
    "# default_exp utils.distances"
   ]
  },
  {
   "cell_type": "code",
   "execution_count": 2,
   "id": "scenic-plasma",
   "metadata": {},
   "outputs": [],
   "source": [
    "# export\n",
    "\n",
    "import numpy as np\n",
    "from abc import ABC, abstractmethod\n",
    "from typing import Tuple, List, Optional, Any\n",
    "from ds4se.utils.statistics import estimate_bins_number"
   ]
  },
  {
   "cell_type": "code",
   "execution_count": 2,
   "id": "thirty-bottom",
   "metadata": {},
   "outputs": [],
   "source": [
    "# export\n",
    "\n",
    "#Logging configuration\n",
    "\n",
    "import logging\n",
    "logger = logging.getLogger()\n",
    "fhandler = logging.FileHandler(filename='mylog.log', mode='a')\n",
    "formatter = logging.Formatter('%(asctime)s - %(name)s - %(levelname)s - %(message)s')\n",
    "fhandler.setFormatter(formatter)\n",
    "logger.addHandler(fhandler)\n",
    "logger.setLevel(logging.INFO)"
   ]
  },
  {
   "cell_type": "markdown",
   "id": "prompt-theater",
   "metadata": {},
   "source": [
    "## distances\n",
    "\n",
    "> Generic interface for defining distance metrics for multiple purposes (clustering, sample sets comparison, etc).\n",
    "\n",
    "> Functions for computing divergence metrics (e.g., KL div, Jensen Shannon divergence)."
   ]
  },
  {
   "cell_type": "markdown",
   "id": "controversial-argument",
   "metadata": {},
   "source": [
    "### Distances"
   ]
  },
  {
   "cell_type": "code",
   "execution_count": 8,
   "id": "twenty-holder",
   "metadata": {},
   "outputs": [],
   "source": [
    "# export\n",
    "\n",
    "\n",
    "class CustomDistance(ABC):\n",
    "    \n",
    "    @abstractmethod\n",
    "    def compute_distance(self, x: np.ndarray, y: np.ndarray) -> float:\n",
    "        \"\"\"\n",
    "        Computes the distance (dissimilarity) metric among 2 real vectors\n",
    "        \"\"\"\n",
    "        pass"
   ]
  },
  {
   "cell_type": "markdown",
   "id": "important-sodium",
   "metadata": {},
   "source": [
    "Define custom distance (or dissimilarity) metrics"
   ]
  },
  {
   "cell_type": "code",
   "execution_count": 10,
   "id": "portable-techno",
   "metadata": {},
   "outputs": [],
   "source": [
    "# export\n",
    "\n",
    "class EuclideanDistance(CustomDistance):\n",
    "    \n",
    "    def compute_distance(self, x: np.ndarray, y: np.ndarray) -> float:\n",
    "        return np.linalg.norm(x - y)"
   ]
  },
  {
   "cell_type": "code",
   "execution_count": 15,
   "id": "latest-dakota",
   "metadata": {},
   "outputs": [],
   "source": [
    "a = np.array([1, 2, 3])\n",
    "b = np.array([4, 5, 6])\n",
    "\n",
    "euc_dist = EuclideanDistance()\n",
    "dist = euc_dist.compute_distance(a, b)\n",
    "\n",
    "assert(dist == 5.196152422706632)"
   ]
  },
  {
   "cell_type": "code",
   "execution_count": 9,
   "id": "generous-notice",
   "metadata": {},
   "outputs": [],
   "source": [
    "# export\n",
    "\n",
    "class JaccardDistance(CustomDistance):\n",
    "    def compute_distance(self, x: np.ndarray, y: np.ndarray) -> float:\n",
    "        x_set = set(x)\n",
    "        y_set = set(y)\n",
    "    \n",
    "        jacc_idx= len(x_set & y_set) / len(x_set | y_set)\n",
    "        \n",
    "        return jacc_idx"
   ]
  },
  {
   "cell_type": "code",
   "execution_count": 11,
   "id": "august-running",
   "metadata": {},
   "outputs": [],
   "source": [
    "a = [0, 1, 2, 5, 6, 8, 9]\n",
    "b = [0, 2, 3, 4, 5, 7, 9]\n",
    "\n",
    "jacc_dist = JaccardDistance()\n",
    "\n",
    "assert jacc_dist.compute_distance(a, b) == 0.4"
   ]
  },
  {
   "cell_type": "markdown",
   "id": "practical-manchester",
   "metadata": {},
   "source": [
    "### Divergences"
   ]
  },
  {
   "cell_type": "code",
   "execution_count": null,
   "id": "blocked-marriage",
   "metadata": {},
   "outputs": [],
   "source": [
    "# export\n",
    "\n",
    "def kl_divergence(p, q):\n",
    "    '''\n",
    "    Kullback-Leibler divergence calculates a score that measures the divergence of one probability distribution from another.\n",
    "    '''\n",
    "    return sum(p[i] * np.log2(p[i]/q[i]) for i in range(len(p)))"
   ]
  },
  {
   "cell_type": "code",
   "execution_count": null,
   "id": "helpful-disney",
   "metadata": {},
   "outputs": [],
   "source": [
    "# export\n",
    "\n",
    "def js_divergence(p, q):\n",
    "    #https://machinelearningmastery.com/divergence-between-probability-distributions/\n",
    "    '''Jensen-Shannon Divergence that provides a normalized and symmetrical version of the KL divergence,\n",
    "    Jensen-Shannon divergence extends KL divergence to calculate a symmetrical score and distance measure of one probability distribution from another.'''\n",
    "    m = 0.5 * (p + q)\n",
    "    jensen_divergence = 0.5 * kl_divergence(p, m) + 0.5 * kl_divergence(q, m)\n",
    "    jensen_distance = np.sqrt(jensen_divergence)\n",
    "    return jensen_divergence, jensen_distance"
   ]
  },
  {
   "cell_type": "code",
   "execution_count": null,
   "id": "living-summary",
   "metadata": {},
   "outputs": [],
   "source": [
    "# export\n",
    "\n",
    "# TODO: Check bins estimation --> estimate for vector 1: hmn vector and \n",
    "# use the same estimation for vector 2\n",
    "\n",
    "def statistical_distance(dataset1: np.ndarray, dataset2: np.ndarray,\n",
    "                         bins: Optional[Any]=None) -> Tuple[float, float]:\n",
    "    \"\"\"Bining Bootstrapped Arrays\n",
    "    \n",
    "    :param dataset1: first vector to compare (shoould be human-data)\n",
    "    :param dataset2: second vector to compare (should be generated-data)\n",
    "    :param bins: Int or array indicating bins distribution for binning\n",
    "                - If int: quantity of bins to used\n",
    "                - If array: bin edges for bins\n",
    "    Returns divergence and distance of given distributions\n",
    "    \"\"\"\n",
    "    total_data = np.concatenate((dataset1, dataset2), axis=None)\n",
    "\n",
    "    MIN = total_data.min()\n",
    "    MAX = total_data.max()\n",
    "    \n",
    "    if bins is None:\n",
    "        # bins = estimate_bins_number(total_data)\n",
    "        _, bin_edges = np.histogram(total_data)\n",
    "    \n",
    "    # Compute frequency and bins\n",
    "    control_frequency, control_bins = np.histogram(dataset1, bin_edges, range=[MIN, MAX])\n",
    "    treat_frequency, treat_bins = np.histogram(dataset2, bin_edges, range=[MIN, MAX])\n",
    "    \n",
    "    #Solving empty bins\n",
    "    treat_frequency =  np.array([ i / np.sum(treat_frequency) if i != 0 else 1.e-20 for i in treat_frequency])\n",
    "    control_frequency =  np.array([ i / np.sum(control_frequency) if i != 0 else 1.e-20 for i in control_frequency])\n",
    "    \n",
    "    # Jensen Shannon (T || C) [Divergence & Distance]\n",
    "    divergence, distance = js_divergence(p=control_frequency, q= treat_frequency)\n",
    "    \n",
    "    logging.info(f\"Divergence: {round(divergence,2)}\")\n",
    "    logging.info(f\"Distance: {round(distance,2)}\")\n",
    "    \n",
    "    return divergence, distance"
   ]
  },
  {
   "cell_type": "code",
   "execution_count": 13,
   "id": "romance-salem",
   "metadata": {},
   "outputs": [],
   "source": [
    "# For methodology demonstration"
   ]
  },
  {
   "cell_type": "code",
   "execution_count": 14,
   "id": "nasty-chinese",
   "metadata": {},
   "outputs": [],
   "source": [
    "import pandas as pd"
   ]
  },
  {
   "cell_type": "code",
   "execution_count": 23,
   "id": "northern-crawford",
   "metadata": {},
   "outputs": [
    {
     "name": "stdout",
     "output_type": "stream",
     "text": [
      "5000-samples_1621479183.06776-hmn-metrics.csv\n",
      "5000-samples_1621479183.11202-hmn-metrics.csv\n",
      "5000-samples_1621479183.15598-hmn-metrics.csv\n",
      "5000-samples_1621479183.197363-hmn-metrics.csv\n",
      "5000-samples_1621479183.244737-hmn-metrics.csv\n",
      "5000-samples_1621479183.290283-hmn-metrics.csv\n",
      "5000-samples_1621479183.3353-hmn-metrics.csv\n",
      "5000-samples_1621479183.37972-hmn-metrics.csv\n",
      "5000-samples_1621479183.424547-hmn-metrics.csv\n",
      "5000-samples_1621479183.469185-hmn-metrics.csv\n",
      "5000-samples_1621479183.513359-hmn-metrics.csv\n",
      "5000-samples_1621479183.557104-hmn-metrics.csv\n",
      "5000-samples_1621479183.602216-hmn-metrics.csv\n",
      "5000-samples_1621479183.646485-hmn-metrics.csv\n",
      "5000-samples_1621479183.689498-hmn-metrics.csv\n",
      "5000-samples_1621479183.733399-hmn-metrics.csv\n",
      "5000-samples_1621479183.776237-hmn-metrics.csv\n",
      "5000-samples_1621479183.824336-hmn-metrics.csv\n",
      "5000-samples_1621479183.868053-hmn-metrics.csv\n",
      "5000-samples_1621479183.912805-hmn-metrics.csv\n",
      "5000-samples_1621479183.957276-hmn-metrics.csv\n",
      "5000-samples_1621479184.003975-hmn-metrics.csv\n",
      "5000-samples_1621479184.053796-hmn-metrics.csv\n",
      "5000-samples_1621479184.099834-hmn-metrics.csv\n",
      "5000-samples_1621479184.143906-hmn-metrics.csv\n",
      "5000-samples_1621479184.188429-hmn-metrics.csv\n",
      "5000-samples_1621479184.232306-hmn-metrics.csv\n",
      "5000-samples_1621479184.276584-hmn-metrics.csv\n",
      "5000-samples_1621479184.323971-hmn-metrics.csv\n",
      "5000-samples_1621479184.368083-hmn-metrics.csv\n",
      "5000-samples_1631218179.551035-gen-metrics.csv\n",
      "5000-samples_1631218441.167095-gen-metrics.csv\n",
      "5000-samples_1631218700.265584-gen-metrics.csv\n",
      "5000-samples_1631218959.642937-gen-metrics.csv\n",
      "5000-samples_1631219219.317912-gen-metrics.csv\n",
      "5000-samples_1631219469.689696-gen-metrics.csv\n",
      "5000-samples_1631219729.072794-gen-metrics.csv\n",
      "5000-samples_1631219987.644109-gen-metrics.csv\n",
      "5000-samples_1631220236.831159-gen-metrics.csv\n",
      "5000-samples_1631220485.496481-gen-metrics.csv\n",
      "5000-samples_1631220735.918138-gen-metrics.csv\n",
      "5000-samples_1631220996.218146-gen-metrics.csv\n",
      "5000-samples_1631221255.740675-gen-metrics.csv\n",
      "5000-samples_1631221514.63418-gen-metrics.csv\n",
      "5000-samples_1631221784.658488-gen-metrics.csv\n",
      "5000-samples_1631222051.483843-gen-metrics.csv\n",
      "5000-samples_1631222309.986657-gen-metrics.csv\n",
      "5000-samples_1631222559.268327-gen-metrics.csv\n",
      "5000-samples_1631222818.64498-gen-metrics.csv\n",
      "5000-samples_1631223070.344206-gen-metrics.csv\n",
      "5000-samples_1631223337.287127-gen-metrics.csv\n",
      "5000-samples_1631223596.325939-gen-metrics.csv\n",
      "5000-samples_1631223846.665304-gen-metrics.csv\n",
      "5000-samples_1631224113.850633-gen-metrics.csv\n",
      "5000-samples_1631224374.066957-gen-metrics.csv\n",
      "5000-samples_1631224634.666764-gen-metrics.csv\n",
      "5000-samples_1631224884.464698-gen-metrics.csv\n",
      "5000-samples_1631225144.336756-gen-metrics.csv\n",
      "5000-samples_1631225403.948879-gen-metrics.csv\n",
      "5000-samples_1631225655.881853-gen-metrics.csv\n"
     ]
    }
   ],
   "source": [
    "!ls /home/jovyan/work/notebooks/[interpretability]/uncondit_int_exp/results/metrics/tfr_layers6_vocab10000_embd768_heads12"
   ]
  },
  {
   "cell_type": "code",
   "execution_count": 26,
   "id": "opposed-characteristic",
   "metadata": {},
   "outputs": [],
   "source": [
    "hmn_mtcs = pd.read_csv('/home/jovyan/work/notebooks/[interpretability]/uncondit_int_exp/results/metrics/tfr_layers6_vocab10000_embd768_heads12/5000-samples_1621479183.11202-hmn-metrics.csv')"
   ]
  },
  {
   "cell_type": "code",
   "execution_count": 28,
   "id": "perceived-plenty",
   "metadata": {},
   "outputs": [],
   "source": [
    "gen_mtcs = pd.read_csv('/home/jovyan/work/notebooks/[interpretability]/uncondit_int_exp/results/metrics/tfr_layers6_vocab10000_embd768_heads12/5000-samples_1631218179.551035-gen-metrics.csv')"
   ]
  },
  {
   "cell_type": "code",
   "execution_count": 29,
   "id": "smooth-member",
   "metadata": {},
   "outputs": [
    {
     "data": {
      "text/plain": [
       "Index(['Unnamed: 0', 'file', 'class', 'wmc', 'totalMethodsQty',\n",
       "       'staticMethodsQty', 'publicMethodsQty', 'privateMethodsQty',\n",
       "       'protectedMethodsQty', 'defaultMethodsQty', 'abstractMethodsQty',\n",
       "       'finalMethodsQty', 'synchronizedMethodsQty', 'totalFieldsQty',\n",
       "       'staticFieldsQty', 'publicFieldsQty', 'privateFieldsQty',\n",
       "       'protectedFieldsQty', 'defaultFieldsQty', 'visibleFieldsQty',\n",
       "       'finalFieldsQty', 'synchronizedFieldsQty', 'nosi', 'loc', 'returnQty',\n",
       "       'loopQty', 'comparisonsQty', 'tryCatchQty', 'parenthesizedExpsQty',\n",
       "       'stringLiteralsQty', 'numbersQty', 'assignmentsQty',\n",
       "       'mathOperationsQty', 'variablesQty', 'maxNestedBlocksQty',\n",
       "       'anonymousClassesQty', 'innerClassesQty', 'lambdasQty',\n",
       "       'uniqueWordsQty', 'modifiers'],\n",
       "      dtype='object')"
      ]
     },
     "execution_count": 29,
     "metadata": {},
     "output_type": "execute_result"
    }
   ],
   "source": [
    "gen_mtcs.columns"
   ]
  },
  {
   "cell_type": "code",
   "execution_count": 46,
   "id": "removable-freeze",
   "metadata": {},
   "outputs": [
    {
     "data": {
      "text/plain": [
       "5001"
      ]
     },
     "execution_count": 46,
     "metadata": {},
     "output_type": "execute_result"
    }
   ],
   "source": [
    "gen_mtcs.groupby(['file']).ngroups"
   ]
  },
  {
   "cell_type": "code",
   "execution_count": 30,
   "id": "cardiovascular-electric",
   "metadata": {},
   "outputs": [],
   "source": [
    "gen_dim_parenth = gen_mtcs['parenthesizedExpsQty'].values"
   ]
  },
  {
   "cell_type": "code",
   "execution_count": 31,
   "id": "introductory-tattoo",
   "metadata": {},
   "outputs": [],
   "source": [
    "hmn_dim_parenth = hmn_mtcs['parenthesizedExpsQty'].values"
   ]
  },
  {
   "cell_type": "code",
   "execution_count": 50,
   "id": "exempt-browser",
   "metadata": {},
   "outputs": [],
   "source": [
    "gen_dim_compars = gen_mtcs['comparisonsQty']\n",
    "hmn_dim_compars = hmn_mtcs['comparisonsQty']"
   ]
  },
  {
   "cell_type": "code",
   "execution_count": 121,
   "id": "renewable-impact",
   "metadata": {},
   "outputs": [],
   "source": [
    "a = gen_dim_compars[10:20].values"
   ]
  },
  {
   "cell_type": "code",
   "execution_count": 122,
   "id": "stuffed-seven",
   "metadata": {},
   "outputs": [
    {
     "data": {
      "text/plain": [
       "array([4, 0, 0, 0, 3, 0, 0, 1, 1, 3])"
      ]
     },
     "execution_count": 122,
     "metadata": {},
     "output_type": "execute_result"
    }
   ],
   "source": [
    "a"
   ]
  },
  {
   "cell_type": "code",
   "execution_count": 120,
   "id": "parental-confusion",
   "metadata": {},
   "outputs": [],
   "source": [
    "b = hmn_dim_compars[10:20].values"
   ]
  },
  {
   "cell_type": "code",
   "execution_count": 123,
   "id": "numerical-article",
   "metadata": {},
   "outputs": [
    {
     "data": {
      "text/plain": [
       "array([0, 1, 1, 0, 0, 2, 0, 0, 0, 1])"
      ]
     },
     "execution_count": 123,
     "metadata": {},
     "output_type": "execute_result"
    }
   ],
   "source": [
    "b"
   ]
  },
  {
   "cell_type": "code",
   "execution_count": 124,
   "id": "necessary-melbourne",
   "metadata": {},
   "outputs": [],
   "source": [
    "total_dims_data = np.concatenate((a, b), axis=None)"
   ]
  },
  {
   "cell_type": "code",
   "execution_count": 125,
   "id": "developing-practice",
   "metadata": {},
   "outputs": [
    {
     "data": {
      "text/plain": [
       "array([4, 0, 0, 0, 3, 0, 0, 1, 1, 3, 0, 1, 1, 0, 0, 2, 0, 0, 0, 1])"
      ]
     },
     "execution_count": 125,
     "metadata": {},
     "output_type": "execute_result"
    }
   ],
   "source": [
    "total_dims_data"
   ]
  },
  {
   "cell_type": "code",
   "execution_count": 126,
   "id": "sublime-pride",
   "metadata": {},
   "outputs": [],
   "source": [
    "MIN_ = total_dims_data.min()\n",
    "MAX_ = total_dims_data.max()\n",
    "\n",
    "_, bin_edges_ = np.histogram(total_dims_data)\n",
    "    \n",
    "freq_a, bins_a = np.histogram(a, bin_edges_, range=[MIN_, MAX_])\n",
    "freq_b, bins_b = np.histogram(b, bin_edges_, range=[MIN_, MAX_])"
   ]
  },
  {
   "cell_type": "code",
   "execution_count": 127,
   "id": "matched-trustee",
   "metadata": {},
   "outputs": [
    {
     "data": {
      "text/plain": [
       "array([0. , 0.4, 0.8, 1.2, 1.6, 2. , 2.4, 2.8, 3.2, 3.6, 4. ])"
      ]
     },
     "execution_count": 127,
     "metadata": {},
     "output_type": "execute_result"
    }
   ],
   "source": [
    "bin_edges_"
   ]
  },
  {
   "cell_type": "code",
   "execution_count": 128,
   "id": "revised-thailand",
   "metadata": {},
   "outputs": [],
   "source": [
    "bins_a = 0.5 * (bins_a[:-1] + bins_a[1:])\n",
    "bins_b = 0.5 * (bins_b[:-1] + bins_b[1:])"
   ]
  },
  {
   "cell_type": "code",
   "execution_count": 83,
   "id": "aggregate-purchase",
   "metadata": {},
   "outputs": [
    {
     "data": {
      "text/plain": [
       "array([0.2, 0.6, 1. , 1.4, 1.8, 2.2, 2.6, 3. , 3.4, 3.8])"
      ]
     },
     "execution_count": 83,
     "metadata": {},
     "output_type": "execute_result"
    }
   ],
   "source": [
    "bins_a"
   ]
  },
  {
   "cell_type": "code",
   "execution_count": 85,
   "id": "democratic-intranet",
   "metadata": {},
   "outputs": [
    {
     "data": {
      "text/plain": [
       "array([12,  0,  5,  0,  0,  0,  0,  2,  0,  1])"
      ]
     },
     "execution_count": 85,
     "metadata": {},
     "output_type": "execute_result"
    }
   ],
   "source": [
    "freq_a"
   ]
  },
  {
   "cell_type": "code",
   "execution_count": 103,
   "id": "muslim-extraction",
   "metadata": {},
   "outputs": [],
   "source": [
    "import matplotlib.pyplot as plt"
   ]
  },
  {
   "cell_type": "code",
   "execution_count": 97,
   "id": "facial-comparative",
   "metadata": {},
   "outputs": [
    {
     "data": {
      "text/plain": [
       "10"
      ]
     },
     "execution_count": 97,
     "metadata": {},
     "output_type": "execute_result"
    }
   ],
   "source": [
    "len(bins_a)"
   ]
  },
  {
   "cell_type": "code",
   "execution_count": 98,
   "id": "computational-antigua",
   "metadata": {},
   "outputs": [
    {
     "data": {
      "text/plain": [
       "10"
      ]
     },
     "execution_count": 98,
     "metadata": {},
     "output_type": "execute_result"
    }
   ],
   "source": [
    "len(freq_a)"
   ]
  },
  {
   "cell_type": "code",
   "execution_count": 129,
   "id": "linear-shield",
   "metadata": {},
   "outputs": [
    {
     "data": {
      "image/png": "[encoded data removed]",
      "text/plain": [
       "<Figure size 432x288 with 1 Axes>"
      ]
     },
     "metadata": {
      "needs_background": "light"
     },
     "output_type": "display_data"
    }
   ],
   "source": [
    "plt.hist(bins_a, bins_a, weights=freq_a, rwidth=0.5)\n",
    "plt.show()"
   ]
  },
  {
   "cell_type": "code",
   "execution_count": 130,
   "id": "assisted-split",
   "metadata": {},
   "outputs": [
    {
     "data": {
      "image/png": "[encoded data removed]",
      "text/plain": [
       "<Figure size 432x288 with 1 Axes>"
      ]
     },
     "metadata": {
      "needs_background": "light"
     },
     "output_type": "display_data"
    }
   ],
   "source": [
    "plt.hist(bins_b, bins_b, weights=freq_b, rwidth=0.5)\n",
    "plt.show()"
   ]
  },
  {
   "cell_type": "code",
   "execution_count": 69,
   "id": "passive-pipeline",
   "metadata": {},
   "outputs": [],
   "source": [
    "bins = 0.5 * (bins[:-1] + bins[1:])"
   ]
  },
  {
   "cell_type": "code",
   "execution_count": 47,
   "id": "interstate-desperate",
   "metadata": {},
   "outputs": [],
   "source": [
    "gtzero_gen = gen_dim_parenth > 0"
   ]
  },
  {
   "cell_type": "code",
   "execution_count": 49,
   "id": "specialized-birth",
   "metadata": {},
   "outputs": [
    {
     "data": {
      "text/plain": [
       "array([ 1,  1,  4,  3,  1,  1,  2,  1,  1,  1,  2,  1,  2,  1,  1,  1,  3,\n",
       "        2,  1,  2,  3,  2,  2,  2,  2,  1,  1,  1,  2,  2,  2,  1,  2,  1,\n",
       "        1,  4,  2,  1,  2,  2,  1,  1,  3,  2,  1,  1,  1,  2,  1,  1,  1,\n",
       "        2,  1,  1,  1,  1,  1,  5,  2,  1,  1,  1,  1,  1,  1,  1,  3,  2,\n",
       "        1,  3,  1,  1,  1,  2,  1,  1,  2,  1,  3,  1,  1,  1,  3,  1,  3,\n",
       "        1,  1,  1,  3,  1,  2,  2,  1,  1,  1,  2,  2,  1,  1,  1,  3,  1,\n",
       "        1,  1,  3,  1,  1,  5,  1,  1,  1,  1,  1,  1,  1,  5,  3,  1,  3,\n",
       "        2,  2,  2,  1,  1,  1,  2,  1,  1,  1,  1,  3,  2,  1,  2,  2,  2,\n",
       "        1,  1,  2,  1,  1,  1,  1,  1,  1,  1,  1,  7,  1,  2,  2,  3,  2,\n",
       "        3,  1,  1,  2,  1,  1,  2,  1,  1,  2,  1,  2,  2,  1,  3,  3,  2,\n",
       "        2,  1,  1,  3,  3,  1,  1,  2,  1,  1,  1,  1,  1,  1,  1,  2,  1,\n",
       "        7,  1,  2,  2,  1,  2,  1,  2,  2,  2,  1,  2,  2,  2,  1,  1,  2,\n",
       "        1,  1,  1,  4,  1,  1,  2,  1,  1,  2,  1,  1,  2,  1,  4,  2,  2,\n",
       "        3,  2,  1,  1,  2,  2,  2,  1,  1,  1,  2,  1,  2,  1,  1,  1,  1,\n",
       "        1,  2,  1,  2,  1,  2,  1,  2,  2,  2,  2,  2,  6,  1,  2,  1,  1,\n",
       "        1,  1,  2,  1,  2,  1,  1,  4,  1,  2,  1,  1,  1,  1,  4,  1,  1,\n",
       "        3,  1,  1,  1,  2,  4,  1,  2,  1,  1,  1,  1,  3,  1,  1,  1,  1,\n",
       "        1,  1,  2,  1,  2,  1,  1, 10,  1,  1,  2,  1,  1,  1,  1,  1,  1,\n",
       "        1,  2,  1,  1,  3,  4,  2,  1,  4,  1,  1,  1,  2,  2,  1,  3,  3,\n",
       "        1,  1,  1,  1,  2,  2,  4,  4,  2,  2,  1,  2,  5,  3,  1,  1,  2,\n",
       "        1,  1,  1,  2,  1,  1,  1,  1,  1,  1,  1,  1,  1,  1,  2,  1,  1,\n",
       "        3,  1,  2,  4,  1,  1,  3,  1,  1,  2,  4,  1,  1,  1,  1,  3,  1,\n",
       "        1,  3,  1,  4,  1,  1,  2,  2,  2,  1,  3,  1,  2,  2,  1,  1,  2,\n",
       "        1,  1,  1,  1,  2,  3,  2,  2,  1,  1,  3,  2,  4,  3,  1,  1,  8,\n",
       "        1,  7,  1,  1,  1,  2,  1,  3,  2,  1,  2,  3,  2,  1,  1,  1,  1,\n",
       "        1,  2,  2,  2,  3,  1,  1])"
      ]
     },
     "execution_count": 49,
     "metadata": {},
     "output_type": "execute_result"
    }
   ],
   "source": [
    "gen_dim_parenth[gtzero_gen]"
   ]
  },
  {
   "cell_type": "code",
   "execution_count": 39,
   "id": "simple-chester",
   "metadata": {},
   "outputs": [
    {
     "data": {
      "text/plain": [
       "5262"
      ]
     },
     "execution_count": 39,
     "metadata": {},
     "output_type": "execute_result"
    }
   ],
   "source": [
    "len(hmn_dim_parenth)"
   ]
  },
  {
   "cell_type": "code",
   "execution_count": 9,
   "id": "freelance-turkish",
   "metadata": {},
   "outputs": [
    {
     "name": "stdout",
     "output_type": "stream",
     "text": [
      "Converted 0.1_mgmnt.prep.ipynb.\n",
      "Converted 0.2_mgmnt.prep.files_mgmnt.ipynb.\n",
      "Converted 0.3_mgmnt.prep.bpe_tokenization.ipynb.\n",
      "Converted 0.4_mgmnt.prep.tokenization_counting.ipynb.\n",
      "Converted 0.5_mgmnt.prep.token_mgmnt.ipynb.\n",
      "Converted 1.1_exp.info.ipynb.\n",
      "Converted 1.2_exp.desc.metrics.java.ipynb.\n",
      "Converted 1.4_exp.metrics_python.ipynb.\n",
      "Converted 1.5_exp.metrics_java.ipynb.\n",
      "Converted 2.0_repr.codebert.ipynb.\n",
      "Converted 2.0_repr.i.ipynb.\n",
      "Converted 2.1_repr.codeberta.ipynb.\n",
      "Converted 2.1_repr.roberta.train.ipynb.\n",
      "Converted 2.2_repr.roberta.eval.ipynb.\n",
      "Converted 2.3_repr.word2vec.train.ipynb.\n",
      "Converted 2.6_repr.word2vec.eval.ipynb.\n",
      "Converted 2.7_repr.distmetrics.ipynb.\n",
      "Converted 2.8_repr.sentence_transformers.ipynb.\n",
      "Converted 3.1_traceability.unsupervised.eda.ipynb.\n",
      "Converted 3.2_traceability.unsupervised.approach.d2v.ipynb.\n",
      "Converted 3.2_traceability.unsupervised.approach.w2v.ipynb.\n",
      "Converted 4.0_infoxplainer.ir.ipynb.\n",
      "Converted 4.1_infoxplainer.ir.unsupervised.d2v.ipynb.\n",
      "Converted 4.2_infoxplainer.ir.unsupervised.w2v.ipynb.\n",
      "Converted 4.3_infoxplainer.ir.eval.x2v.ipynb.\n",
      "Converted 4.4_infoxplainer.causality.eval.traceability.ipynb.\n",
      "Converted 4.5_infoxplainer.description.eval.traceability.ipynb.\n",
      "Converted 4.6_infoxplainer.prediction.eval.traceability.ipynb.\n",
      "Converted 5.0_utils.clusterization.ipynb.\n",
      "Converted 5.1_utils.visualization.ipynb.\n",
      "Converted 5.2_utils.distances.ipynb.\n",
      "Converted 5.3_utils.plotting.ipynb.\n",
      "Converted 5.3_utils.statistics.ipynb.\n",
      "Converted 8.1_codexplainer.error_checker.ipynb.\n",
      "Converted 8.2_codexplainer.metrics_java.ipynb.\n",
      "Converted 8.4_codexplainer.metrics_example.ipynb.\n",
      "Converted 8.5_codexplainer.d2v_vectorization.ipynb.\n",
      "Converted 8.6_codexplainer.prototypes_criticisms.ipynb.\n",
      "Converted 8.7_codexplainer.mutual_info.ipynb.\n",
      "Converted 8.8_codexplainer.utils.ipynb.\n",
      "Converted index.ipynb.\n"
     ]
    }
   ],
   "source": [
    "from nbdev.export import notebook2script\n",
    "notebook2script()"
   ]
  }
 ],
 "metadata": {
  "kernelspec": {
   "display_name": "Python 3",
   "language": "python",
   "name": "python3"
  },
  "language_info": {
   "codemirror_mode": {
    "name": "ipython",
    "version": 3
   },
   "file_extension": ".py",
   "mimetype": "text/x-python",
   "name": "python",
   "nbconvert_exporter": "python",
   "pygments_lexer": "ipython3",
   "version": "3.8.6"
  }
 },
 "nbformat": 4,
 "nbformat_minor": 5
}
