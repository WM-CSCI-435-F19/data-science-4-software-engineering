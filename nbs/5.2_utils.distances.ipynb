{
 "cells": [
  {
   "cell_type": "code",
   "execution_count": 2,
   "id": "complex-formation",
   "metadata": {},
   "outputs": [],
   "source": [
    "# default_exp utils.distances"
   ]
  },
  {
   "cell_type": "code",
   "execution_count": 6,
   "id": "outside-insulation",
   "metadata": {},
   "outputs": [],
   "source": [
    "# export\n",
    "\n",
    "import numpy as np\n",
    "from abc import ABC, abstractmethod"
   ]
  },
  {
   "cell_type": "markdown",
   "id": "paperback-lincoln",
   "metadata": {},
   "source": [
    "## distances\n",
    "\n",
    "> Generic interface for defining distance metrics for multiple purposes (clustering, sample sets comparison, etc)."
   ]
  },
  {
   "cell_type": "code",
   "execution_count": 7,
   "id": "efficient-arcade",
   "metadata": {},
   "outputs": [],
   "source": [
    "# export\n",
    "\n",
    "\n",
    "class CustomDistance(ABC):\n",
    "    \n",
    "    @abstractmethod\n",
    "    def compute_distance(x: np.ndarray, y: np.ndarray) -> float:\n",
    "        \"\"\"\n",
    "        Computes the distance (dissimilarity) metric among 2 real vectors\n",
    "        \"\"\"\n",
    "        pass"
   ]
  },
  {
   "cell_type": "markdown",
   "id": "square-enforcement",
   "metadata": {},
   "source": [
    "Define custom distance (or dissimilarity) metrics"
   ]
  },
  {
   "cell_type": "code",
   "execution_count": 9,
   "id": "subjective-client",
   "metadata": {},
   "outputs": [],
   "source": [
    "# export\n",
    "\n",
    "class EuclideanDistance(CustomDistance):\n",
    "    \n",
    "    def compute_distance(x: np.ndarray, y: np.ndarray) -> float:\n",
    "        return np.linalg.norm(x - y)"
   ]
  },
  {
   "cell_type": "code",
   "execution_count": 11,
   "id": "domestic-simple",
   "metadata": {},
   "outputs": [],
   "source": [
    "# export\n",
    "\n",
    "class JaccardDistance(CustomDistance):\n",
    "    def compute_distance(x: np.ndarray, y: np.ndarray) -> float:\n",
    "        x_set = set(x)\n",
    "        y_set = set(y)\n",
    "    \n",
    "        jacc_idx= len(x_set & y_set) / len(x_set | y_set)\n",
    "        \n",
    "        return jacc_idx"
   ]
  },
  {
   "cell_type": "code",
   "execution_count": null,
   "id": "casual-direction",
   "metadata": {},
   "outputs": [],
   "source": []
  },
  {
   "cell_type": "code",
   "execution_count": 12,
   "id": "lonely-cathedral",
   "metadata": {},
   "outputs": [
    {
     "name": "stdout",
     "output_type": "stream",
     "text": [
      "Converted 0.1_mgmnt.prep.ipynb.\n",
      "Converted 0.2_mgmnt.prep.files_mgmnt.ipynb.\n",
      "Converted 0.3_mgmnt.prep.bpe_tokenization.ipynb.\n",
      "Converted 0.4_mgmnt.prep.tokenization_counting.ipynb.\n",
      "Converted 1.1_exp.info.ipynb.\n",
      "Converted 1.2_exp.desc.metrics.java.ipynb.\n",
      "Converted 1.4_exp.metrics_python.ipynb.\n",
      "Converted 1.5_exp.metrics_java.ipynb.\n",
      "Converted 2.0_repr.codebert.ipynb.\n",
      "Converted 2.0_repr.i.ipynb.\n",
      "Converted 2.1_repr.codeberta.ipynb.\n",
      "Converted 2.1_repr.roberta.train.ipynb.\n",
      "Converted 2.2_repr.roberta.eval.ipynb.\n",
      "Converted 2.3_repr.word2vec.train.ipynb.\n",
      "Converted 2.6_repr.word2vec.eval.ipynb.\n",
      "Converted 2.7_repr.distmetrics.ipynb.\n",
      "Converted 2.8_repr.sentence_transformers.ipynb.\n",
      "Converted 3.1_traceability.unsupervised.eda.ipynb.\n",
      "Converted 3.2_traceability.unsupervised.approach.d2v.ipynb.\n",
      "Converted 3.2_traceability.unsupervised.approach.w2v.ipynb.\n",
      "Converted 4.0_infoxplainer.ir.ipynb.\n",
      "Converted 4.1_infoxplainer.ir.unsupervised.d2v.ipynb.\n",
      "Converted 4.2_infoxplainer.ir.unsupervised.w2v.ipynb.\n",
      "Converted 4.3_infoxplainer.ir.eval.x2v.ipynb.\n",
      "Converted 4.4_infoxplainer.causality.eval.traceability.ipynb.\n",
      "Converted 4.5_infoxplainer.description.eval.traceability.ipynb.\n",
      "Converted 4.6_infoxplainer.prediction.eval.traceability.ipynb.\n",
      "Converted 5.0_utils.clusterization.ipynb.\n",
      "Converted 5.1_utils.visualization.ipynb.\n",
      "Converted 5.2_utils.distances.ipynb.\n",
      "Converted 8.1_codexplainer.error_checker.ipynb.\n",
      "Converted 8.4_codexplainer.metrics_example.ipynb.\n",
      "Converted 8.5_codexplainer.d2v_vectorization.ipynb.\n",
      "Converted 8.6_codexplainer.prototypes_criticisms.ipynb.\n",
      "Converted index.ipynb.\n"
     ]
    }
   ],
   "source": [
    "from nbdev.export import notebook2script\n",
    "notebook2script()"
   ]
  }
 ],
 "metadata": {
  "kernelspec": {
   "display_name": "Python 3",
   "language": "python",
   "name": "python3"
  },
  "language_info": {
   "codemirror_mode": {
    "name": "ipython",
    "version": 3
   },
   "file_extension": ".py",
   "mimetype": "text/x-python",
   "name": "python",
   "nbconvert_exporter": "python",
   "pygments_lexer": "ipython3",
   "version": "3.8.6"
  }
 },
 "nbformat": 4,
 "nbformat_minor": 5
}
