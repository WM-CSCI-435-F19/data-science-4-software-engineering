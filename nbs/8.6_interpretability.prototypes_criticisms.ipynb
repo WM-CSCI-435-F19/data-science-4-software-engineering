{
 "cells": [
  {
   "cell_type": "code",
   "execution_count": 2,
   "metadata": {},
   "outputs": [],
   "source": [
    "# default_exp interpretability.prototypes_criticisms"
   ]
  },
  {
   "cell_type": "code",
   "execution_count": 1,
   "metadata": {},
   "outputs": [],
   "source": [
    "# export\n",
    "\n",
    "import numpy as np\n",
    "import pandas as pd\n",
    "\n",
    "from typing import Tuple, List, Optional, Any, Iterable\n",
    "from abc import ABC, abstractmethod\n",
    "\n",
    "from pathlib import Path\n",
    "# ds4se\n",
    "import ds4se\n",
    "from ds4se.utils.clusterization import *\n",
    "from ds4se.utils.visualization import *"
   ]
  },
  {
   "cell_type": "markdown",
   "metadata": {},
   "source": [
    "## prototypes_criticisms\n",
    "\n",
    "> Protoypes and criticisms analysis based on [Section 6.3](https://christophm.github.io/interpretable-ml-book/proto.html) section of the [Interpretable Machine Learning book](https://christophm.github.io/interpretable-ml-book/)"
   ]
  },
  {
   "cell_type": "markdown",
   "metadata": {},
   "source": [
    "## Utils"
   ]
  },
  {
   "cell_type": "code",
   "execution_count": 2,
   "metadata": {},
   "outputs": [],
   "source": [
    "# export\n",
    "\n",
    "def load_np_vectors(path: str) -> np.array:\n",
    "    \"\"\"\n",
    "    :param path: Location of the .npy files to be loaded\n",
    "    \n",
    "    :return: Np array corresponding to the loaded vectors\n",
    "    \"\"\"\n",
    "    path = Path(path)\n",
    "    if not path.exists():\n",
    "        msg = \"Vectors could not be found\"\n",
    "        logging.error(msg)\n",
    "        raise Exception(msg)\n",
    "    return np.load(str(path))"
   ]
  },
  {
   "cell_type": "code",
   "execution_count": 3,
   "metadata": {},
   "outputs": [],
   "source": [
    "# export\n",
    "\n",
    "def reshape_vectors(vectors):\n",
    "    result = []\n",
    "    for v in vectors:\n",
    "        result.append(v.reshape(500,1).T)\n",
    "    return np.array(result)"
   ]
  },
  {
   "cell_type": "markdown",
   "metadata": {},
   "source": [
    "## Parameterization"
   ]
  },
  {
   "cell_type": "code",
   "execution_count": 4,
   "metadata": {},
   "outputs": [],
   "source": [
    "params = {\n",
    "    \"vectors_path\": \"/tf/main/dvc-ds4se/results/d2v_vectors\",\n",
    "    \"plots_path\": \"/tf/main/dvc-ds4se/results/plotting\"\n",
    "}"
   ]
  },
  {
   "cell_type": "markdown",
   "metadata": {},
   "source": [
    "## Find Prototypes"
   ]
  },
  {
   "cell_type": "markdown",
   "metadata": {},
   "source": [
    "The authors of the book use a method based on the  maximum mean discrepancy. However, they highlight the fact that any* clustering algorithm can be used.\n",
    "\n",
    "\\* The clustering algorithm used to find prototypes should return <i>real</i> data points as centroids."
   ]
  },
  {
   "cell_type": "code",
   "execution_count": 6,
   "metadata": {},
   "outputs": [],
   "source": [
    "# export\n",
    "\n",
    "class Clusterizer(ABC):\n",
    "    def __init__(self):\n",
    "        pass\n",
    "    \n",
    "    @abstractmethod\n",
    "    def perform_clusterization(self, data_vectors: np.ndarray, dims: Optional[int]=2):\n",
    "        \"\"\"\n",
    "        Perform clusterization on a given dataset\n",
    "        \n",
    "        \"\"\"\n",
    "        pass"
   ]
  },
  {
   "cell_type": "code",
   "execution_count": 7,
   "metadata": {},
   "outputs": [],
   "source": [
    "# export\n",
    "\n",
    "class KMedoidsClusterizer(Clusterizer):\n",
    "    def __init__(self):\n",
    "        # TODO\n",
    "        super().__init__()\n",
    "        \n",
    "    def perform_clusterization(self, data_vectors: np, dims: Optional[int]=2) -> Tuple:\n",
    "        \"\"\"\n",
    "        Perform clusterization using k-medoids\n",
    "        - First perform dimensionality reduction by means of PCA + t-SNE\n",
    "        - Finds best k\n",
    "        \n",
    "        :param data_vectors:\n",
    "        :param dims: Int. indicating the number of dimensions for\n",
    "                     dim. reduction\n",
    "                     \n",
    "        :return: Tuple (reduced data, clusters, medoid ids, k_medoids_instance (pyclustering obj.))\n",
    "        \"\"\"\n",
    "        return perform_clusterize_kmedoids(data_vectors, dims)\n",
    "        "
   ]
  },
  {
   "cell_type": "code",
   "execution_count": null,
   "metadata": {},
   "outputs": [],
   "source": [
    "# TODO: Integrate gravitational clustering"
   ]
  },
  {
   "cell_type": "code",
   "execution_count": 8,
   "metadata": {},
   "outputs": [],
   "source": [
    "test_vectors = load_np_vectors(f\"{params['vectors_path']}/doc2_vec_sample_java_df.npy\")"
   ]
  },
  {
   "cell_type": "code",
   "execution_count": 9,
   "metadata": {},
   "outputs": [
    {
     "data": {
      "text/plain": [
       "array([[-0.37762475, -0.38540062, -0.01277232, ...,  0.45781606,\n",
       "         0.19079459,  0.26853234],\n",
       "       [-0.17740302, -0.01685066,  0.3694753 , ..., -0.18609756,\n",
       "        -0.0205524 , -0.05089067],\n",
       "       [-0.6700186 ,  0.37853143, -0.04435137, ...,  1.0894055 ,\n",
       "         0.01246784, -0.19507329],\n",
       "       ...,\n",
       "       [ 0.2327957 ,  0.30608505, -0.06560351, ...,  0.2620101 ,\n",
       "         0.41106102, -0.15154514],\n",
       "       [ 0.05280151,  0.4234941 , -0.5358744 , ...,  0.02667005,\n",
       "         0.4553478 ,  0.18505383],\n",
       "       [-0.02004011,  0.30035594,  0.02699976, ...,  0.19926223,\n",
       "         0.04953865, -0.06755862]], dtype=float32)"
      ]
     },
     "execution_count": 9,
     "metadata": {},
     "output_type": "execute_result"
    }
   ],
   "source": [
    "test_vectors"
   ]
  },
  {
   "cell_type": "code",
   "execution_count": 10,
   "metadata": {},
   "outputs": [],
   "source": [
    "km_clusterizer = KMedoidsClusterizer()"
   ]
  },
  {
   "cell_type": "code",
   "execution_count": null,
   "metadata": {},
   "outputs": [
    {
     "name": "stdout",
     "output_type": "stream",
     "text": [
      "[t-SNE] Computing 121 nearest neighbors...\n",
      "[t-SNE] Indexed 10000 samples in 0.001s...\n",
      "[t-SNE] Computed neighbors for 10000 samples in 1.431s...\n",
      "[t-SNE] Computed conditional probabilities for sample 1000 / 10000\n",
      "[t-SNE] Computed conditional probabilities for sample 2000 / 10000\n",
      "[t-SNE] Computed conditional probabilities for sample 3000 / 10000\n",
      "[t-SNE] Computed conditional probabilities for sample 4000 / 10000\n",
      "[t-SNE] Computed conditional probabilities for sample 5000 / 10000\n",
      "[t-SNE] Computed conditional probabilities for sample 6000 / 10000\n",
      "[t-SNE] Computed conditional probabilities for sample 7000 / 10000\n",
      "[t-SNE] Computed conditional probabilities for sample 8000 / 10000\n",
      "[t-SNE] Computed conditional probabilities for sample 9000 / 10000\n",
      "[t-SNE] Computed conditional probabilities for sample 10000 / 10000\n",
      "[t-SNE] Mean sigma: 1.332237\n",
      "[t-SNE] KL divergence after 250 iterations with early exaggeration: 89.484192\n",
      "[t-SNE] KL divergence after 300 iterations: 3.684873\n"
     ]
    }
   ],
   "source": [
    "cluster_result = km_clusterizer.perform_clusterization(test_vectors, dims=2)"
   ]
  },
  {
   "cell_type": "code",
   "execution_count": 14,
   "metadata": {},
   "outputs": [],
   "source": [
    "feat_vectors, clusters, medoid_ids, kmedoids_instance = cluster_result"
   ]
  },
  {
   "cell_type": "code",
   "execution_count": null,
   "metadata": {},
   "outputs": [],
   "source": [
    "print(\"ahhhhhhhhhhhh\")"
   ]
  },
  {
   "cell_type": "code",
   "execution_count": 12,
   "metadata": {},
   "outputs": [],
   "source": [
    "# TODO: Integrate Gravitational clustering"
   ]
  },
  {
   "cell_type": "markdown",
   "metadata": {},
   "source": [
    "## Find Criticisms"
   ]
  },
  {
   "cell_type": "markdown",
   "metadata": {},
   "source": [
    "Points are selected as criticisms where the distribution of prototypes differs from the distribution of the data"
   ]
  },
  {
   "cell_type": "code",
   "execution_count": 70,
   "metadata": {},
   "outputs": [],
   "source": [
    "class CriticismFinder:\n",
    "    \n",
    "    def get_critisicms(data, prototypes: List, n: Optional[int]=None,\n",
    "                       distance: Optional[Any]=None) ->Tuple:\n",
    "        \"\"\"\n",
    "        :param data: Dataset\n",
    "        :param prototypes: List of found prototypes\n",
    "        :param n: Numbers of criticisms to find\n",
    "        :param distance: Distance object instantiating appropriate distance calculation\n",
    "        \n",
    "        :return: Tuple (criticisms points, criticisms ids)\n",
    "        \"\"\"\n",
    "        crit_points, crit_ids = gen_criticisms(data, prototypes, n, distance)\n",
    "        return crit_points, crit_ids"
   ]
  },
  {
   "cell_type": "code",
   "execution_count": 90,
   "metadata": {},
   "outputs": [],
   "source": [
    "crit_finder = CriticismFinder()"
   ]
  },
  {
   "cell_type": "code",
   "execution_count": null,
   "metadata": {},
   "outputs": [],
   "source": [
    "# TODO: crit_finder.get_criticisms(feat_vectors, )"
   ]
  },
  {
   "cell_type": "markdown",
   "metadata": {},
   "source": [
    "## Gaussian mixture models"
   ]
  },
  {
   "cell_type": "code",
   "execution_count": null,
   "metadata": {},
   "outputs": [],
   "source": [
    "params['plots_path']"
   ]
  },
  {
   "cell_type": "markdown",
   "metadata": {},
   "source": [
    "## Perform plotting"
   ]
  },
  {
   "cell_type": "code",
   "execution_count": null,
   "metadata": {},
   "outputs": [],
   "source": [
    "from nbdev.export import notebook2script\n",
    "notebook2script()"
   ]
  }
 ],
 "metadata": {
  "kernelspec": {
   "display_name": "Python 3",
   "language": "python",
   "name": "python3"
  },
  "language_info": {
   "codemirror_mode": {
    "name": "ipython",
    "version": 3
   },
   "file_extension": ".py",
   "mimetype": "text/x-python",
   "name": "python",
   "nbconvert_exporter": "python",
   "pygments_lexer": "ipython3",
   "version": "3.6.8"
  }
 },
 "nbformat": 4,
 "nbformat_minor": 2
}
