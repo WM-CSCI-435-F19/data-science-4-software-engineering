{
 "cells": [
  {
   "cell_type": "code",
   "execution_count": 2,
   "metadata": {},
   "outputs": [],
   "source": [
    "# default_exp interpretability.prototypes_criticisms"
   ]
  },
  {
   "cell_type": "code",
   "execution_count": 5,
   "metadata": {},
   "outputs": [],
   "source": [
    "# export\n",
    "\n",
    "import numpy as np\n",
    "import pandas as pd\n",
    "\n",
    "# ds4se\n",
    "import ds4se\n",
    "from ds4se.clusterization import *"
   ]
  },
  {
   "cell_type": "markdown",
   "metadata": {},
   "source": [
    "## prototypes_criticisms\n",
    "\n",
    "> Protoypes and criticisms analysis based on [Section 6.3](https://christophm.github.io/interpretable-ml-book/proto.html) section of the [Interpretable Machine Learning book](https://christophm.github.io/interpretable-ml-book/)"
   ]
  },
  {
   "cell_type": "markdown",
   "metadata": {},
   "source": [
    "## Utils"
   ]
  },
  {
   "cell_type": "code",
   "execution_count": 6,
   "metadata": {},
   "outputs": [],
   "source": [
    "# export\n",
    "\n",
    "def load_np_vectors(path: str) -> np.array:\n",
    "    if not os.path.exists(path):\n",
    "        logging.error(\"Vectors could not be found\")\n",
    "        return\n",
    "    return np.load(path)"
   ]
  },
  {
   "cell_type": "markdown",
   "metadata": {},
   "source": [
    "## Find Prototypes"
   ]
  },
  {
   "cell_type": "markdown",
   "metadata": {},
   "source": [
    "The authors of the book use a method based on the  maximum mean discrepancy. However, they highlight the fact that any* clustering algorithm can be used"
   ]
  },
  {
   "cell_type": "markdown",
   "metadata": {},
   "source": [
    "Clustering by k-medoids methods"
   ]
  },
  {
   "cell_type": "code",
   "execution_count": 8,
   "metadata": {},
   "outputs": [],
   "source": [
    "def perform_clusterize_kmedoids(samples: np.array, dims: int = 2) -> tuple:\n",
    "    samples = reduce_dims(samples, dims = dims)\n",
    "    k = find_best_k(samples)\n",
    "    clusters, medoid_ids, kmedoids_instance = run_kmedoids(samples, k)\n",
    "    \n",
    "    return samples, clusters, medoid_ids, kmedoids_instance"
   ]
  }
 ],
 "metadata": {
  "kernelspec": {
   "display_name": "Python 3",
   "language": "python",
   "name": "python3"
  },
  "language_info": {
   "codemirror_mode": {
    "name": "ipython",
    "version": 3
   },
   "file_extension": ".py",
   "mimetype": "text/x-python",
   "name": "python",
   "nbconvert_exporter": "python",
   "pygments_lexer": "ipython3",
   "version": "3.6.8"
  }
 },
 "nbformat": 4,
 "nbformat_minor": 2
}
