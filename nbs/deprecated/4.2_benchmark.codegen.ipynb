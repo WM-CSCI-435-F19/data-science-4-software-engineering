{
 "cells": [
  {
   "cell_type": "code",
   "execution_count": null,
   "metadata": {},
   "outputs": [],
   "source": [
    "# default_exp benchmark.codegen"
   ]
  },
  {
   "cell_type": "code",
   "execution_count": null,
   "metadata": {},
   "outputs": [],
   "source": [
    "# hide\n",
    "%load_ext autoreload\n",
    "%autoreload 2"
   ]
  },
  {
   "cell_type": "markdown",
   "metadata": {},
   "source": [
    "# CodeGen Benchmark\n",
    "\n",
    "> This module is dedicated benchmarking"
   ]
  },
  {
   "cell_type": "code",
   "execution_count": null,
   "metadata": {},
   "outputs": [],
   "source": [
    "#export\n",
    "# Imports\n",
    "import matplotlib.pyplot as plt\n",
    "import pandas as pd\n",
    "import sentencepiece as sp\n",
    "\n",
    "# ds4se\n",
    "from ds4se.data.preprocessing import *\n",
    "from ds4se.data.exploratory.information import *\n",
    "from ds4se.data.exploratory.stats import *\n",
    "\n",
    "from pathlib import Path"
   ]
  },
  {
   "cell_type": "code",
   "execution_count": null,
   "metadata": {},
   "outputs": [],
   "source": [
    "#hide\n",
    "from nbdev.showdoc import *"
   ]
  },
  {
   "cell_type": "code",
   "execution_count": null,
   "metadata": {},
   "outputs": [],
   "source": [
    "path = Path('../benchmarking/traceability/')"
   ]
  },
  {
   "cell_type": "markdown",
   "metadata": {},
   "source": [
    "## BPE Testbed"
   ]
  },
  {
   "cell_type": "code",
   "execution_count": null,
   "metadata": {},
   "outputs": [],
   "source": [
    "english_bpe = 'english_bpe'\n",
    "italian_bpe = 'italian_bpe'"
   ]
  },
  {
   "cell_type": "code",
   "execution_count": null,
   "metadata": {},
   "outputs": [],
   "source": [
    "sp_model_from_glob(path/'datasets/english','*/*all*', english_bpe)\n",
    "sp_model_from_glob(path/'datasets/italian','*/*all*', italian_bpe)"
   ]
  },
  {
   "cell_type": "code",
   "execution_count": null,
   "metadata": {},
   "outputs": [
    {
     "data": {
      "text/plain": [
       "PosixPath('../benchmarking/traceability/datasets')"
      ]
     },
     "execution_count": null,
     "metadata": {},
     "output_type": "execute_result"
    }
   ],
   "source": [
    "path/'datasets'"
   ]
  },
  {
   "cell_type": "code",
   "execution_count": null,
   "metadata": {},
   "outputs": [],
   "source": [
    "def output_bpe_tokenization(path, languages):\n",
    "    for language in languages:\n",
    "        req_fns = list((path/'datasets'/language).glob('**/*req]'))\n",
    "        src_fns = list((path/'datasets'/language).glob('**/*src]'))\n",
    "        tc_fns = list((path/'datasets'/language).glob('**/*tc]'))\n",
    "\n",
    "        spm = sp.SentencePieceProcessor()\n",
    "        spm.Load(str((path/'datasets'/language/f\"{language}_bpe.model\")))\n",
    "        \n",
    "        output = path/'testbeds'/'bpe'/language\n",
    "        req_docs = tokenize_fns(req_fns, spm, ['txt', 'TXT'], output, 'req')\n",
    "        src_docs = tokenize_fns(src_fns, spm, ['c', 'java'], output, 'src')\n",
    "        tc_docs = tokenize_fns(tc_fns, spm, ['c', 'java'], output, 'tc')"
   ]
  },
  {
   "cell_type": "code",
   "execution_count": null,
   "metadata": {},
   "outputs": [],
   "source": [
    "languages = ['english', 'italian']\n",
    "output_bpe_tokenization(path, languages)"
   ]
  },
  {
   "cell_type": "code",
   "execution_count": null,
   "metadata": {},
   "outputs": [],
   "source": []
  },
  {
   "cell_type": "markdown",
   "metadata": {},
   "source": [
    "# Entropy Benchmark"
   ]
  },
  {
   "cell_type": "markdown",
   "metadata": {},
   "source": [
    "## Read in the data"
   ]
  },
  {
   "cell_type": "code",
   "execution_count": null,
   "metadata": {},
   "outputs": [],
   "source": [
    "english_systems = {'itrust': ['req', 'src'], 'libest': ['req', 'src', 'tc']}\n",
    "italian_systems = {'albergate': ['req', 'src'], 'ebt': ['req', 'src', 'tc'], 'etour': ['req', 'src'], 'smos': ['req', 'src']}"
   ]
  },
  {
   "cell_type": "code",
   "execution_count": null,
   "metadata": {},
   "outputs": [],
   "source": [
    "flatten = lambda l: [item for sublist in l for item in sublist]"
   ]
  },
  {
   "cell_type": "code",
   "execution_count": null,
   "metadata": {},
   "outputs": [],
   "source": [
    "def calc_entropy_benchmark(systems, language):\n",
    "    for sys in systems:\n",
    "        sys_docs = []\n",
    "        print('System:', sys)\n",
    "        for data_type in systems[sys]:\n",
    "            data_path = path/'testbeds/bpe'/language/sys/data_type\n",
    "            sys_docs.append(read_bpe_files(data_path))\n",
    "            entropies = get_entropies_from_docs(sys_docs[-1])\n",
    "\n",
    "            print('Data Type:', data_type)\n",
    "            report_stats(entropies)\n",
    "\n",
    "            entropy = get_entropy_from_docs(sys_docs[-1])\n",
    "            print('Total Corpus Entropy:', entropy)\n",
    "            print()\n",
    "\n",
    "        entropy = get_entropy_from_docs(flatten(sys_docs))\n",
    "        print('Total System Entropy:', entropy)\n",
    "        entropy = shared_entropy_from_docs(sys_docs)\n",
    "        print('Shared Entropy:', entropy)\n",
    "        print()"
   ]
  },
  {
   "cell_type": "code",
   "execution_count": null,
   "metadata": {},
   "outputs": [
    {
     "name": "stdout",
     "output_type": "stream",
     "text": [
      "System: itrust\n",
      "Data Type: req\n",
      "Max: 6.655947403853904\n",
      "Min: 3.6464393446710157\n",
      "Average: 5.125309432616202\n",
      "Median: 5.238901256602631\n",
      "Standard Deviation: 0.7675282320547024\n",
      "Median Absolute Deviation: 0.9497244658563296\n",
      "95% of the data fall within 4.992640720488694 and 5.25797814474371\n",
      "Total Corpus Entropy: 8.138886303909846\n",
      "\n",
      "Data Type: src\n",
      "Max: 7.6191109926622875\n",
      "Min: 4.881336276904696\n",
      "Average: 6.522153794169928\n",
      "Median: 6.456654661625311\n",
      "Standard Deviation: 0.47046257540776115\n",
      "Median Absolute Deviation: 0.42263165151349985\n",
      "95% of the data fall within 6.460067634640814 and 6.584239953699043\n",
      "Total Corpus Entropy: 8.562837202994778\n",
      "\n",
      "Total System Entropy: 8.68235305057625\n",
      "shared counts...\n",
      "Shared Entropy: 6.675375899716576\n",
      "\n",
      "System: libest\n",
      "Data Type: req\n",
      "Max: 8.133644403908326\n",
      "Min: 4.694019357121934\n",
      "Average: 6.543663643429754\n",
      "Median: 6.5960839256764\n",
      "Standard Deviation: 0.7998515650224866\n",
      "Median Absolute Deviation: 0.8070430386925508\n",
      "95% of the data fall within 6.3209835459644115 and 6.766343740895097\n",
      "Total Corpus Entropy: 9.183085440385813\n",
      "\n",
      "Data Type: src\n",
      "Max: 8.170092696228092\n",
      "Min: 7.095192719326445\n",
      "Average: 7.753354441597045\n",
      "Median: 7.833169021739864\n",
      "Standard Deviation: 0.39264159352964123\n",
      "Median Absolute Deviation: 0.47071304168486106\n",
      "95% of the data fall within 7.425097854785096 and 8.081611028408993\n",
      "Total Corpus Entropy: 8.36678856297728\n",
      "\n",
      "Data Type: tc\n",
      "Max: 8.842816439862581\n",
      "Min: 6.981127448895606\n",
      "Average: 7.833269648196844\n",
      "Median: 7.6436099893337754\n",
      "Standard Deviation: 0.5961050558091697\n",
      "Median Absolute Deviation: 0.49366977593502653\n",
      "95% of the data fall within 7.561925879993082 and 8.104613416400605\n",
      "Total Corpus Entropy: 8.642622470130963\n",
      "\n",
      "Total System Entropy: 8.995630522415091\n",
      "shared counts...\n",
      "Shared Entropy: 7.217719542607787\n",
      "\n"
     ]
    }
   ],
   "source": [
    "calc_entropy_benchmark(english_systems, 'english')"
   ]
  },
  {
   "cell_type": "code",
   "execution_count": null,
   "metadata": {},
   "outputs": [
    {
     "name": "stdout",
     "output_type": "stream",
     "text": [
      "System: itrust\n",
      "Data Type: req\n",
      "Max: 6.655947403853904\n",
      "Min: 3.6464393446710157\n",
      "Average: 5.125309432616202\n",
      "Median: 5.238901256602631\n",
      "Standard Deviation: 0.7675282320547024\n",
      "Median Absolute Deviation: 0.9497244658563296\n",
      "95% of the data fall within 4.992640720488694 and 5.25797814474371\n",
      "Total Corpus Entropy: 8.138886303909846\n",
      "\n",
      "Data Type: src\n",
      "Max: 7.6191109926622875\n",
      "Min: 4.881336276904696\n",
      "Average: 6.522153794169928\n",
      "Median: 6.456654661625311\n",
      "Standard Deviation: 0.47046257540776115\n",
      "Median Absolute Deviation: 0.42263165151349985\n",
      "95% of the data fall within 6.460067634640814 and 6.584239953699043\n",
      "Total Corpus Entropy: 8.562837202994778\n",
      "\n",
      "Total System Entropy: 8.68235305057625\n",
      "Shared Entropy: 6.675375899716576\n",
      "\n",
      "System: libest\n",
      "Data Type: req\n",
      "Max: 8.133644403908326\n",
      "Min: 4.694019357121934\n",
      "Average: 6.543663643429754\n",
      "Median: 6.5960839256764\n",
      "Standard Deviation: 0.7998515650224866\n",
      "Median Absolute Deviation: 0.8070430386925508\n",
      "95% of the data fall within 6.3209835459644115 and 6.766343740895097\n",
      "Total Corpus Entropy: 9.183085440385813\n",
      "\n",
      "Data Type: src\n",
      "Max: 8.170092696228092\n",
      "Min: 7.095192719326445\n",
      "Average: 7.753354441597045\n",
      "Median: 7.833169021739864\n",
      "Standard Deviation: 0.39264159352964123\n",
      "Median Absolute Deviation: 0.47071304168486106\n",
      "95% of the data fall within 7.425097854785096 and 8.081611028408993\n",
      "Total Corpus Entropy: 8.36678856297728\n",
      "\n",
      "Data Type: tc\n",
      "Max: 8.842816439862581\n",
      "Min: 6.981127448895606\n",
      "Average: 7.833269648196844\n",
      "Median: 7.6436099893337754\n",
      "Standard Deviation: 0.5961050558091697\n",
      "Median Absolute Deviation: 0.49366977593502653\n",
      "95% of the data fall within 7.561925879993082 and 8.104613416400605\n",
      "Total Corpus Entropy: 8.642622470130963\n",
      "\n",
      "Total System Entropy: 8.995630522415091\n",
      "Shared Entropy: 7.217719542607787\n",
      "\n"
     ]
    }
   ],
   "source": [
    "calc_entropy_benchmark(english_systems, 'english')"
   ]
  },
  {
   "cell_type": "code",
   "execution_count": null,
   "metadata": {},
   "outputs": [
    {
     "name": "stdout",
     "output_type": "stream",
     "text": [
      "System: albergate\n",
      "Data Type: req\n",
      "Max: 7.451061154959707\n",
      "Min: 6.7760271692033065\n",
      "Average: 7.114662232676978\n",
      "Median: 7.136128583124726\n",
      "Standard Deviation: 0.18028670118666462\n",
      "Median Absolute Deviation: 0.19215087521795557\n",
      "95% of the data fall within 7.021967364311235 and 7.207357101042722\n",
      "Total Corpus Entropy: 8.333064635075106\n",
      "\n",
      "Data Type: src\n",
      "Max: 7.632003142360007\n",
      "Min: 5.694455777930451\n",
      "Average: 6.698395952158591\n",
      "Median: 6.585514345171939\n",
      "Standard Deviation: 0.47533702601616096\n",
      "Median Absolute Deviation: 0.55637410510539\n",
      "95% of the data fall within 6.569894354034409 and 6.826897550282773\n",
      "Total Corpus Entropy: 8.02635009717346\n",
      "\n",
      "Total System Entropy: 8.284551907349753\n",
      "Shared Entropy: 5.704935783592468\n",
      "\n",
      "System: ebt\n",
      "Data Type: req\n",
      "Max: 4.85798099512757\n",
      "Min: 3.169925001442312\n",
      "Average: 4.036522483018428\n",
      "Median: 4.037401197654112\n",
      "Standard Deviation: 0.4423825943264807\n",
      "Median Absolute Deviation: 0.49957908952600216\n",
      "95% of the data fall within 3.896889307383322 and 4.176155658653533\n",
      "Total Corpus Entropy: 6.787949596598939\n",
      "\n",
      "Data Type: src\n",
      "Max: 7.297368573550914\n",
      "Min: 4.784576473149472\n",
      "Average: 5.963495662337905\n",
      "Median: 5.903977747837278\n",
      "Standard Deviation: 0.633890544451061\n",
      "Median Absolute Deviation: 0.7640379035089384\n",
      "95% of the data fall within 5.783345963113105 and 6.143645361562706\n",
      "Total Corpus Entropy: 8.433164216462012\n",
      "\n",
      "Data Type: tc\n",
      "Max: 6.097097085934416\n",
      "Min: 4.704511459715549\n",
      "Average: 5.247301653814626\n",
      "Median: 5.281405982501043\n",
      "Standard Deviation: 0.36921703418357243\n",
      "Median Absolute Deviation: 0.4094487421886657\n",
      "95% of the data fall within 5.094896352658618 and 5.399706954970633\n",
      "Total Corpus Entropy: 7.081408121899548\n",
      "\n",
      "Total System Entropy: 8.658242334349849\n",
      "Shared Entropy: 5.006590016354143\n",
      "\n",
      "System: etour\n",
      "Data Type: req\n",
      "Max: 6.237393834397653\n",
      "Min: 5.29192090403933\n",
      "Average: 5.852879032919363\n",
      "Median: 5.845473100698095\n",
      "Standard Deviation: 0.19175655109469364\n",
      "Median Absolute Deviation: 0.1803895702893011\n",
      "95% of the data fall within 5.802459218071262 and 5.903298847767464\n",
      "Total Corpus Entropy: 7.10566459632011\n",
      "\n",
      "Data Type: src\n",
      "Max: 8.048968980820781\n",
      "Min: 5.539696852908118\n",
      "Average: 6.562921919889305\n",
      "Median: 6.565193494077665\n",
      "Standard Deviation: 0.541016209002899\n",
      "Median Absolute Deviation: 0.5387698222061211\n",
      "95% of the data fall within 6.463421809399394 and 6.662422030379217\n",
      "Total Corpus Entropy: 8.74630095106817\n",
      "\n",
      "Total System Entropy: 8.821970266170094\n",
      "Shared Entropy: 5.822212387865012\n",
      "\n",
      "System: smos\n",
      "Data Type: req\n",
      "Max: 6.620285755044158\n",
      "Min: 5.400701696091561\n",
      "Average: 6.117630402688541\n",
      "Median: 6.140428349929661\n",
      "Standard Deviation: 0.3028871332208669\n",
      "Median Absolute Deviation: 0.29838532570331994\n",
      "95% of the data fall within 6.043750425878531 and 6.191510379498552\n",
      "Total Corpus Entropy: 7.395107792428341\n",
      "\n",
      "Data Type: src\n",
      "Max: 7.868448246363015\n",
      "Min: 5.351552244391098\n",
      "Average: 6.646037374067181\n",
      "Median: 6.700747575555027\n",
      "Standard Deviation: 0.4604239797792223\n",
      "Median Absolute Deviation: 0.354721814886772\n",
      "95% of the data fall within 6.554679267511279 and 6.737395480623084\n",
      "Total Corpus Entropy: 8.357381483417843\n",
      "\n",
      "Total System Entropy: 8.595914118672756\n",
      "Shared Entropy: 5.660800120573564\n",
      "\n"
     ]
    }
   ],
   "source": [
    "calc_entropy_benchmark(italian_systems, 'italian')"
   ]
  },
  {
   "cell_type": "code",
   "execution_count": null,
   "metadata": {},
   "outputs": [],
   "source": []
  },
  {
   "cell_type": "code",
   "execution_count": null,
   "metadata": {},
   "outputs": [],
   "source": []
  },
  {
   "cell_type": "code",
   "execution_count": null,
   "metadata": {},
   "outputs": [],
   "source": []
  },
  {
   "cell_type": "code",
   "execution_count": null,
   "metadata": {},
   "outputs": [],
   "source": []
  },
  {
   "cell_type": "code",
   "execution_count": null,
   "metadata": {},
   "outputs": [],
   "source": []
  },
  {
   "cell_type": "code",
   "execution_count": null,
   "metadata": {},
   "outputs": [],
   "source": []
  },
  {
   "cell_type": "code",
   "execution_count": null,
   "metadata": {},
   "outputs": [],
   "source": []
  },
  {
   "cell_type": "code",
   "execution_count": null,
   "metadata": {},
   "outputs": [],
   "source": []
  },
  {
   "cell_type": "markdown",
   "metadata": {},
   "source": [
    "# SCRATCH WORK"
   ]
  },
  {
   "cell_type": "code",
   "execution_count": null,
   "metadata": {},
   "outputs": [],
   "source": [
    "\n",
    "for language in languages:\n",
    "    req_fns = list((path/'datasets'/language).glob('**/*req]'))\n",
    "    src_fns = list((path/'datasets'/language).glob('**/*src]'))\n",
    "    tst_fns = list((path/'datasets'/language).glob('**/*tc]'))\n",
    "    \n",
    "    spm = sp.SentencePieceProcessor()\n",
    "    spm.Load(str((path/'datasets'/language/f\"{model_name}_bpe.model\"))\\\n",
    "    \n",
    "    all_fns = flatten(req_fns + src_fns + tst_fns)\n",
    "    all_docs = tokenize_fns(all_fns, spm)"
   ]
  },
  {
   "cell_type": "code",
   "execution_count": null,
   "metadata": {},
   "outputs": [
    {
     "data": {
      "text/plain": [
       "([PosixPath('../benchmarking/traceability/datasets/english/libest/[libest-raw-req]'),\n",
       "  PosixPath('../benchmarking/traceability/datasets/english/itrust/[itrust-raw-req]')],\n",
       " [PosixPath('../benchmarking/traceability/datasets/english/libest/[libest-raw-src]'),\n",
       "  PosixPath('../benchmarking/traceability/datasets/english/itrust/[itrust-raw-src]')],\n",
       " [PosixPath('../benchmarking/traceability/datasets/english/libest/[libest-raw-tc]')])"
      ]
     },
     "execution_count": null,
     "metadata": {},
     "output_type": "execute_result"
    }
   ],
   "source": [
    "req_fns = list((path/'datasets/english').glob('**/*req]'))\n",
    "src_fns = list((path/'datasets/english').glob('**/*src]'))\n",
    "tst_fns = list((path/'datasets/english').glob('**/*tc]'))\n",
    "req_fns[:5], src_fns[:5], tst_fns[:5]"
   ]
  },
  {
   "cell_type": "code",
   "execution_count": null,
   "metadata": {},
   "outputs": [],
   "source": []
  },
  {
   "cell_type": "code",
   "execution_count": null,
   "metadata": {},
   "outputs": [],
   "source": []
  },
  {
   "cell_type": "code",
   "execution_count": null,
   "metadata": {},
   "outputs": [],
   "source": [
    "all_fns = flatten(req_fns + src_fns + tst_fns)\n",
    "all_docs = tokenize_fns(all_fns, spm)"
   ]
  },
  {
   "cell_type": "code",
   "execution_count": null,
   "metadata": {},
   "outputs": [],
   "source": [
    "req_docs = "
   ]
  },
  {
   "cell_type": "code",
   "execution_count": null,
   "metadata": {},
   "outputs": [],
   "source": []
  },
  {
   "cell_type": "code",
   "execution_count": null,
   "metadata": {},
   "outputs": [],
   "source": []
  },
  {
   "cell_type": "code",
   "execution_count": null,
   "metadata": {},
   "outputs": [],
   "source": []
  },
  {
   "cell_type": "code",
   "execution_count": null,
   "metadata": {},
   "outputs": [],
   "source": []
  },
  {
   "cell_type": "code",
   "execution_count": null,
   "metadata": {},
   "outputs": [
    {
     "data": {
      "text/plain": [
       "'libest'"
      ]
     },
     "execution_count": null,
     "metadata": {},
     "output_type": "execute_result"
    }
   ],
   "source": [
    "src_fns[0].parent.name"
   ]
  },
  {
   "cell_type": "code",
   "execution_count": null,
   "metadata": {},
   "outputs": [
    {
     "data": {
      "text/plain": [
       "[PosixPath('../benchmarking/traceability/datasets/italian/smos/[smos-raw-src]'),\n",
       " PosixPath('../benchmarking/traceability/datasets/italian/smos/[smos-raw-req]'),\n",
       " PosixPath('../benchmarking/traceability/datasets/italian/smos/[smos-all].txt'),\n",
       " PosixPath('../benchmarking/traceability/datasets/italian/albergate/[albergate-all].txt'),\n",
       " PosixPath('../benchmarking/traceability/datasets/italian/albergate/[albergate-raw-src]'),\n",
       " PosixPath('../benchmarking/traceability/datasets/italian/albergate/[albergate-raw-req]'),\n",
       " PosixPath('../benchmarking/traceability/datasets/italian/ebt/[ebt-all].txt'),\n",
       " PosixPath('../benchmarking/traceability/datasets/italian/ebt/[ebt-raw-src]'),\n",
       " PosixPath('../benchmarking/traceability/datasets/italian/ebt/[ebt-raw-tc].txt'),\n",
       " PosixPath('../benchmarking/traceability/datasets/italian/ebt/[ebt-raw-req].txt'),\n",
       " PosixPath('../benchmarking/traceability/datasets/italian/etour/[etour-raw-src]'),\n",
       " PosixPath('../benchmarking/traceability/datasets/italian/etour/[etour-raw-req]'),\n",
       " PosixPath('../benchmarking/traceability/datasets/italian/etour/[etour-all].txt')]"
      ]
     },
     "execution_count": null,
     "metadata": {},
     "output_type": "execute_result"
    }
   ],
   "source": [
    "list(path.glob('datasets/italian/*/*'))"
   ]
  },
  {
   "cell_type": "code",
   "execution_count": null,
   "metadata": {},
   "outputs": [],
   "source": []
  },
  {
   "cell_type": "code",
   "execution_count": null,
   "metadata": {},
   "outputs": [],
   "source": []
  },
  {
   "cell_type": "code",
   "execution_count": null,
   "metadata": {},
   "outputs": [
    {
     "name": "stdout",
     "output_type": "stream",
     "text": [
      "Converted 00_mgmnt.prep.i.ipynb.\n",
      "Converted 01_exp.i.ipynb.\n",
      "Converted 02_mgmnt.db.mongo.ipynb.\n",
      "Converted 03_repr.i.ipynb.\n",
      "Converted 04_mining.ir.model.ipynb.\n",
      "Converted 05_mining.ir.i.ipynb.\n",
      "Converted 06_benchmark.traceability.ipynb.\n",
      "Converted 07_repr.roberta.train.ipynb.\n",
      "Converted 08_exp.info.ipynb.\n",
      "Converted 09_desc.stats.ipynb.\n",
      "Converted 10_vis.ipynb.\n",
      "Converted 11_mgmnt.prep.nltk.ipynb.\n",
      "Converted 12_repr.roberta.eval.ipynb.\n",
      "Converted 14_mgmnt.prep.bpe.ipynb.\n",
      "Converted 15_desc.metrics.se.ipynb.\n",
      "Converted 16_repr.word2vec.train.ipynb.\n",
      "Converted 17_repr.doc2vec.train.ipynb.\n",
      "Converted 18_repr.doc2vec.eval.ipynb.\n",
      "Converted 19_repr.word2vec.eval.ipynb.\n",
      "Converted 20_benchmark.codegen.ipynb.\n",
      "Converted 21_inf.i.ipynb.\n",
      "Converted 22_inf.bayesian.ipynb.\n",
      "Converted 23_inf.causal.ipynb.\n",
      "Converted aa_blog.example.ipynb.\n",
      "Converted ab_templates.example.ipynb.\n",
      "Converted ac_emp.eval.pp1.rq1.ipynb.\n",
      "Converted ad_emp.eval.pp1.rq2.ipynb.\n",
      "Converted ae_emp.eval.pp1.rq3.ipynb.\n",
      "Converted af_emp.eval.pp1.rq4.ipynb.\n",
      "Converted index.ipynb.\n"
     ]
    }
   ],
   "source": [
    "from nbdev.export import notebook2script\n",
    "notebook2script()"
   ]
  },
  {
   "cell_type": "code",
   "execution_count": null,
   "metadata": {},
   "outputs": [],
   "source": []
  }
 ],
 "metadata": {
  "kernelspec": {
   "display_name": "Python 3",
   "language": "python",
   "name": "python3"
  }
 },
 "nbformat": 4,
 "nbformat_minor": 2
}
