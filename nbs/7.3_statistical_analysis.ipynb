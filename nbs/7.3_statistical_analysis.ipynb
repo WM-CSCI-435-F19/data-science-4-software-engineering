{
 "cells": [
  {
   "cell_type": "code",
   "execution_count": null,
   "metadata": {},
   "outputs": [],
   "source": [
    "# Libraries\n",
    "# hide\n",
    "import pandas as pd\n",
    "import numpy as np\n",
    "from pprint import pprint\n",
    "from gensim.models.doc2vec import Doc2Vec\n",
    "from ds4se.mgmnt.prep.conv import *"
   ]
  },
  {
   "cell_type": "code",
   "execution_count": null,
   "metadata": {},
   "outputs": [
    {
     "name": "stdout",
     "output_type": "stream",
     "text": [
      "/tf/main/nbs\r\n"
     ]
    }
   ],
   "source": [
    "!pwd"
   ]
  },
  {
   "cell_type": "markdown",
   "metadata": {},
   "source": [
    "## Data load"
   ]
  },
  {
   "cell_type": "code",
   "execution_count": null,
   "metadata": {},
   "outputs": [],
   "source": [
    "java_df = pd.read_csv('test_data/java/clean_java.csv')"
   ]
  },
  {
   "cell_type": "code",
   "execution_count": null,
   "metadata": {},
   "outputs": [
    {
     "data": {
      "text/plain": [
       "(496494, 11)"
      ]
     },
     "execution_count": null,
     "metadata": {},
     "output_type": "execute_result"
    }
   ],
   "source": [
    "java_df.shape"
   ]
  },
  {
   "cell_type": "code",
   "execution_count": null,
   "metadata": {},
   "outputs": [
    {
     "data": {
      "text/plain": [
       "454451"
      ]
     },
     "execution_count": null,
     "metadata": {},
     "output_type": "execute_result"
    }
   ],
   "source": [
    "with open('test_data/java-gen.jsonl') as f:\n",
    "    content = f.readlines()\n",
    "len(content)"
   ]
  },
  {
   "cell_type": "code",
   "execution_count": null,
   "metadata": {},
   "outputs": [
    {
     "data": {
      "text/plain": [
       "454451"
      ]
     },
     "execution_count": null,
     "metadata": {},
     "output_type": "execute_result"
    }
   ],
   "source": [
    "len(content)"
   ]
  },
  {
   "cell_type": "code",
   "execution_count": null,
   "metadata": {},
   "outputs": [
    {
     "data": {
      "text/plain": [
       "'\"Optional\",\",\",\"\\\\\"\\\\\"\",\"int\",\"r\",\"!=\",\"8\",\"String\",\"fieldName\",\"<\",\"Object\",\")\",\"new\",\"Date\",\"endTime\",\"}\",\"}\",\"break\",\"charloop\",\"e\",\")\",\"+\",\"\\\\\", \\\\\"\",\"String\",\"password\",\";\",\"List\",\"properties\",\"+\",\"key\",\"^=\",\"m_pbox\",\"for\",\":\",\"c\",\"if\",\"get\",\"?\",\"value\",\"&&\",\"null\",\"(\",\"new\",\"java\",\":\",\"String\",\"languageStr\",\"\\\\\"\\\\\"\",\"null\",\">\",\"T\",\"call\",\"null\",\"]\",\"value\",\":\",\"valueSet\",\";\",\"long\",\"r\",\"(\",\"i\",\"&\",\"0x000000ff\",\")\",\">\",\"Level\",\"l\",\"|=\",\"(\",\"i\",\"{\",\"out\",\",\",\"encoding\",\"null\",\"^\",\"typeArgResult\",\"return\",\"new\",\"Matcher\",\"groupMatcher\",\"return\",\"map\",\"String\",\"uri\",\"!=\",\"0.0\",\">\",\"response\",\"<\",\"2\",\"public\",\"final\",\"int\",\"getBeUint24\",\"<\",\"Boolean\",\"[\",\"ids\",\"public\",\"synchronized\",\"XAttribute\",\"+\",\"key\",\"(\",\"getWp\",\"this\",\"]\",\"bytes\",\"/=\",\"size\",\"->\",\")\",\"[\",\"index\",\"[\",\"destIdx\",\"+\",\"\\\\\" \\\\\"\",\"!=\",\"value\",\"||\",\"t\",\"[\",\"9\",\"||\",\"null\",\"int\",\"end\",\"?\",\"Double\",\"total\",\"|=\",\"add\",\"]\",\"&\",\"0xffL\",\"&\",\"PROPERTY_IDENTITY\",\"throw\",\"e\",\";\",\"size\",\"]\",\"]\",\"[\",\")\",\"return\",\"value\",\"-\",\"5\",\"if\",\"&&\",\"LA4_10\",\"[\",\"v\",\"<=\",\"ch\",\"(\",\"state\",\"++\",\"offset\",\"|\",\"NullPointerException\",\"se\",\"+\",\"e\",\":\",\"x\",\":\",\"-\",\"Long\",\"l\",\"==\",\"Locale\",\"getLocale\",\"null\",\"\\\\\"\\\\\"\",\"&&\",\"LA61_0\",\")\",\"->\",\"map\",\">\",\"properties\",\"==\",\"value\",\";\",\"storage\",\"->\",\"builder\",\"final\",\"Object\",\"value\",\"{\",\"final\",\"short\",\"seedHash\",\"return\"'"
      ]
     },
     "execution_count": null,
     "metadata": {},
     "output_type": "execute_result"
    }
   ],
   "source": [
    "content[0][1:-2]"
   ]
  },
  {
   "cell_type": "code",
   "execution_count": null,
   "metadata": {},
   "outputs": [],
   "source": [
    "import re\n",
    "import ast"
   ]
  },
  {
   "cell_type": "code",
   "execution_count": null,
   "metadata": {},
   "outputs": [
    {
     "data": {
      "text/plain": [
       "['Optional',\n",
       " ',',\n",
       " '\"\"',\n",
       " 'int',\n",
       " 'r',\n",
       " '!=',\n",
       " '8',\n",
       " 'String',\n",
       " 'fieldName',\n",
       " '<',\n",
       " 'Object',\n",
       " ')',\n",
       " 'new',\n",
       " 'Date',\n",
       " 'endTime',\n",
       " '}',\n",
       " '}',\n",
       " 'break',\n",
       " 'charloop',\n",
       " 'e',\n",
       " ')',\n",
       " '+',\n",
       " '\", \"',\n",
       " 'String',\n",
       " 'password',\n",
       " ';',\n",
       " 'List',\n",
       " 'properties',\n",
       " '+',\n",
       " 'key',\n",
       " '^=',\n",
       " 'm_pbox',\n",
       " 'for',\n",
       " ':',\n",
       " 'c',\n",
       " 'if',\n",
       " 'get',\n",
       " '?',\n",
       " 'value',\n",
       " '&&',\n",
       " 'null',\n",
       " '(',\n",
       " 'new',\n",
       " 'java',\n",
       " ':',\n",
       " 'String',\n",
       " 'languageStr',\n",
       " '\"\"',\n",
       " 'null',\n",
       " '>',\n",
       " 'T',\n",
       " 'call',\n",
       " 'null',\n",
       " ']',\n",
       " 'value',\n",
       " ':',\n",
       " 'valueSet',\n",
       " ';',\n",
       " 'long',\n",
       " 'r',\n",
       " '(',\n",
       " 'i',\n",
       " '&',\n",
       " '0x000000ff',\n",
       " ')',\n",
       " '>',\n",
       " 'Level',\n",
       " 'l',\n",
       " '|=',\n",
       " '(',\n",
       " 'i',\n",
       " '{',\n",
       " 'out',\n",
       " ',',\n",
       " 'encoding',\n",
       " 'null',\n",
       " '^',\n",
       " 'typeArgResult',\n",
       " 'return',\n",
       " 'new',\n",
       " 'Matcher',\n",
       " 'groupMatcher',\n",
       " 'return',\n",
       " 'map',\n",
       " 'String',\n",
       " 'uri',\n",
       " '!=',\n",
       " '0.0',\n",
       " '>',\n",
       " 'response',\n",
       " '<',\n",
       " '2',\n",
       " 'public',\n",
       " 'final',\n",
       " 'int',\n",
       " 'getBeUint24',\n",
       " '<',\n",
       " 'Boolean',\n",
       " '[',\n",
       " 'ids',\n",
       " 'public',\n",
       " 'synchronized',\n",
       " 'XAttribute',\n",
       " '+',\n",
       " 'key',\n",
       " '(',\n",
       " 'getWp',\n",
       " 'this',\n",
       " ']',\n",
       " 'bytes',\n",
       " '/=',\n",
       " 'size',\n",
       " '->',\n",
       " ')',\n",
       " '[',\n",
       " 'index',\n",
       " '[',\n",
       " 'destIdx',\n",
       " '+',\n",
       " '\" \"',\n",
       " '!=',\n",
       " 'value',\n",
       " '||',\n",
       " 't',\n",
       " '[',\n",
       " '9',\n",
       " '||',\n",
       " 'null',\n",
       " 'int',\n",
       " 'end',\n",
       " '?',\n",
       " 'Double',\n",
       " 'total',\n",
       " '|=',\n",
       " 'add',\n",
       " ']',\n",
       " '&',\n",
       " '0xffL',\n",
       " '&',\n",
       " 'PROPERTY_IDENTITY',\n",
       " 'throw',\n",
       " 'e',\n",
       " ';',\n",
       " 'size',\n",
       " ']',\n",
       " ']',\n",
       " '[',\n",
       " ')',\n",
       " 'return',\n",
       " 'value',\n",
       " '-',\n",
       " '5',\n",
       " 'if',\n",
       " '&&',\n",
       " 'LA4_10',\n",
       " '[',\n",
       " 'v',\n",
       " '<=',\n",
       " 'ch',\n",
       " '(',\n",
       " 'state',\n",
       " '++',\n",
       " 'offset',\n",
       " '|',\n",
       " 'NullPointerException',\n",
       " 'se',\n",
       " '+',\n",
       " 'e',\n",
       " ':',\n",
       " 'x',\n",
       " ':',\n",
       " '-',\n",
       " 'Long',\n",
       " 'l',\n",
       " '==',\n",
       " 'Locale',\n",
       " 'getLocale',\n",
       " 'null',\n",
       " '\"\"',\n",
       " '&&',\n",
       " 'LA61_0',\n",
       " ')',\n",
       " '->',\n",
       " 'map',\n",
       " '>',\n",
       " 'properties',\n",
       " '==',\n",
       " 'value',\n",
       " ';',\n",
       " 'storage',\n",
       " '->',\n",
       " 'builder',\n",
       " 'final',\n",
       " 'Object',\n",
       " 'value',\n",
       " '{',\n",
       " 'final',\n",
       " 'short',\n",
       " 'seedHash',\n",
       " 'return']"
      ]
     },
     "execution_count": null,
     "metadata": {},
     "output_type": "execute_result"
    }
   ],
   "source": [
    "list(ast.literal_eval(content[0][1:-2]))"
   ]
  },
  {
   "cell_type": "code",
   "execution_count": null,
   "metadata": {},
   "outputs": [
    {
     "name": "stdout",
     "output_type": "stream",
     "text": [
      "asdfasdf\n"
     ]
    }
   ],
   "source": [
    "print('asdfasdf')"
   ]
  },
  {
   "cell_type": "code",
   "execution_count": null,
   "metadata": {},
   "outputs": [],
   "source": [
    "def get_df_from_ngram_gen(gens):\n",
    "    result_df = pd.DataFrame([])\n",
    "    splitted = []\n",
    "    for gen in gens:\n",
    "        splitted.append(list(ast.literal_eval(gen[1:-2])))\n",
    "    result_df['splitted_code'] = splitted\n",
    "    return result_df"
   ]
  },
  {
   "cell_type": "code",
   "execution_count": null,
   "metadata": {},
   "outputs": [],
   "source": [
    "ngram_df = get_df_from_ngram_gen(content)"
   ]
  },
  {
   "cell_type": "code",
   "execution_count": null,
   "metadata": {},
   "outputs": [
    {
     "data": {
      "text/plain": [
       "(454451, 1)"
      ]
     },
     "execution_count": null,
     "metadata": {},
     "output_type": "execute_result"
    }
   ],
   "source": [
    "ngram_df.shape"
   ]
  },
  {
   "cell_type": "code",
   "execution_count": null,
   "metadata": {},
   "outputs": [
    {
     "data": {
      "text/html": [
       "<div>\n",
       "<style scoped>\n",
       "    .dataframe tbody tr th:only-of-type {\n",
       "        vertical-align: middle;\n",
       "    }\n",
       "\n",
       "    .dataframe tbody tr th {\n",
       "        vertical-align: top;\n",
       "    }\n",
       "\n",
       "    .dataframe thead th {\n",
       "        text-align: right;\n",
       "    }\n",
       "</style>\n",
       "<table border=\"1\" class=\"dataframe\">\n",
       "  <thead>\n",
       "    <tr style=\"text-align: right;\">\n",
       "      <th></th>\n",
       "      <th>splitted_code</th>\n",
       "    </tr>\n",
       "  </thead>\n",
       "  <tbody>\n",
       "    <tr>\n",
       "      <th>0</th>\n",
       "      <td>[Optional, ,, \"\", int, r, !=, 8, String, field...</td>\n",
       "    </tr>\n",
       "    <tr>\n",
       "      <th>1</th>\n",
       "      <td>[void, preProcessOperation, int, size, --, !=,...</td>\n",
       "    </tr>\n",
       "    <tr>\n",
       "      <th>2</th>\n",
       "      <td>[Expr, and, i, /, 5, -, 1L, ,, new, Color, col...</td>\n",
       "    </tr>\n",
       "    <tr>\n",
       "      <th>3</th>\n",
       "      <td>[static, Function, javaMethod, ), :, Arrays, !...</td>\n",
       "    </tr>\n",
       "    <tr>\n",
       "      <th>4</th>\n",
       "      <td>[Type, scanTimestamp, final, Type, childType, ...</td>\n",
       "    </tr>\n",
       "  </tbody>\n",
       "</table>\n",
       "</div>"
      ],
      "text/plain": [
       "                                       splitted_code\n",
       "0  [Optional, ,, \"\", int, r, !=, 8, String, field...\n",
       "1  [void, preProcessOperation, int, size, --, !=,...\n",
       "2  [Expr, and, i, /, 5, -, 1L, ,, new, Color, col...\n",
       "3  [static, Function, javaMethod, ), :, Arrays, !...\n",
       "4  [Type, scanTimestamp, final, Type, childType, ..."
      ]
     },
     "execution_count": null,
     "metadata": {},
     "output_type": "execute_result"
    }
   ],
   "source": [
    "ngram_df.head()"
   ]
  },
  {
   "cell_type": "code",
   "execution_count": null,
   "metadata": {},
   "outputs": [],
   "source": [
    "ngram_df_sample = ngram_df.sample(10000, random_state=2)"
   ]
  },
  {
   "cell_type": "code",
   "execution_count": null,
   "metadata": {},
   "outputs": [
    {
     "data": {
      "text/plain": [
       "(10000, 1)"
      ]
     },
     "execution_count": null,
     "metadata": {},
     "output_type": "execute_result"
    }
   ],
   "source": [
    "ngram_df_sample.shape"
   ]
  },
  {
   "cell_type": "code",
   "execution_count": null,
   "metadata": {},
   "outputs": [],
   "source": [
    "df_train = java_df[java_df['partition'] == 'train']\n",
    "df_valid = java_df[java_df['partition'] == 'valid']\n",
    "df_test = java_df[java_df['partition'] == 'test']"
   ]
  },
  {
   "cell_type": "code",
   "execution_count": null,
   "metadata": {},
   "outputs": [
    {
     "data": {
      "text/html": [
       "<div>\n",
       "<style scoped>\n",
       "    .dataframe tbody tr th:only-of-type {\n",
       "        vertical-align: middle;\n",
       "    }\n",
       "\n",
       "    .dataframe tbody tr th {\n",
       "        vertical-align: top;\n",
       "    }\n",
       "\n",
       "    .dataframe thead th {\n",
       "        text-align: right;\n",
       "    }\n",
       "</style>\n",
       "<table border=\"1\" class=\"dataframe\">\n",
       "  <thead>\n",
       "    <tr style=\"text-align: right;\">\n",
       "      <th></th>\n",
       "      <th>Unnamed: 0</th>\n",
       "      <th>code</th>\n",
       "      <th>code_len</th>\n",
       "      <th>code_tokens</th>\n",
       "      <th>cyclomatic_complexity</th>\n",
       "      <th>data_type</th>\n",
       "      <th>method_name</th>\n",
       "      <th>nloc</th>\n",
       "      <th>parameter_count</th>\n",
       "      <th>partition</th>\n",
       "      <th>token_count</th>\n",
       "    </tr>\n",
       "  </thead>\n",
       "  <tbody>\n",
       "    <tr>\n",
       "      <th>26900</th>\n",
       "      <td>0</td>\n",
       "      <td>protected final void bindIndexed(Configuration...</td>\n",
       "      <td>80.0</td>\n",
       "      <td>['protected', 'final', 'void', 'bindIndexed', ...</td>\n",
       "      <td>4.0</td>\n",
       "      <td>src</td>\n",
       "      <td>bindIndexed</td>\n",
       "      <td>11.0</td>\n",
       "      <td>6.0</td>\n",
       "      <td>train</td>\n",
       "      <td>75.0</td>\n",
       "    </tr>\n",
       "    <tr>\n",
       "      <th>26901</th>\n",
       "      <td>1</td>\n",
       "      <td>public void setServletRegistrationBeans(\\n\\t\\t...</td>\n",
       "      <td>37.0</td>\n",
       "      <td>['public', 'void', 'setServletRegistrationBean...</td>\n",
       "      <td>1.0</td>\n",
       "      <td>src</td>\n",
       "      <td>setServletRegistrationBeans</td>\n",
       "      <td>6.0</td>\n",
       "      <td>1.0</td>\n",
       "      <td>train</td>\n",
       "      <td>34.0</td>\n",
       "    </tr>\n",
       "    <tr>\n",
       "      <th>26902</th>\n",
       "      <td>2</td>\n",
       "      <td>public void addServletRegistrationBeans(\\n\\t\\t...</td>\n",
       "      <td>33.0</td>\n",
       "      <td>['public', 'void', 'addServletRegistrationBean...</td>\n",
       "      <td>1.0</td>\n",
       "      <td>src</td>\n",
       "      <td>addServletRegistrationBeans</td>\n",
       "      <td>6.0</td>\n",
       "      <td>1.0</td>\n",
       "      <td>train</td>\n",
       "      <td>29.0</td>\n",
       "    </tr>\n",
       "    <tr>\n",
       "      <th>26903</th>\n",
       "      <td>3</td>\n",
       "      <td>public void setServletNames(Collection&lt;String&gt;...</td>\n",
       "      <td>32.0</td>\n",
       "      <td>['public', 'void', 'setServletNames', '(', 'Co...</td>\n",
       "      <td>1.0</td>\n",
       "      <td>src</td>\n",
       "      <td>setServletNames</td>\n",
       "      <td>4.0</td>\n",
       "      <td>1.0</td>\n",
       "      <td>train</td>\n",
       "      <td>31.0</td>\n",
       "    </tr>\n",
       "    <tr>\n",
       "      <th>26904</th>\n",
       "      <td>4</td>\n",
       "      <td>public void addServletNames(String... servletN...</td>\n",
       "      <td>33.0</td>\n",
       "      <td>['public', 'void', 'addServletNames', '(', 'St...</td>\n",
       "      <td>1.0</td>\n",
       "      <td>src</td>\n",
       "      <td>addServletNames</td>\n",
       "      <td>4.0</td>\n",
       "      <td>1.0</td>\n",
       "      <td>train</td>\n",
       "      <td>31.0</td>\n",
       "    </tr>\n",
       "  </tbody>\n",
       "</table>\n",
       "</div>"
      ],
      "text/plain": [
       "       Unnamed: 0                                               code  \\\n",
       "26900           0  protected final void bindIndexed(Configuration...   \n",
       "26901           1  public void setServletRegistrationBeans(\\n\\t\\t...   \n",
       "26902           2  public void addServletRegistrationBeans(\\n\\t\\t...   \n",
       "26903           3  public void setServletNames(Collection<String>...   \n",
       "26904           4  public void addServletNames(String... servletN...   \n",
       "\n",
       "       code_len                                        code_tokens  \\\n",
       "26900      80.0  ['protected', 'final', 'void', 'bindIndexed', ...   \n",
       "26901      37.0  ['public', 'void', 'setServletRegistrationBean...   \n",
       "26902      33.0  ['public', 'void', 'addServletRegistrationBean...   \n",
       "26903      32.0  ['public', 'void', 'setServletNames', '(', 'Co...   \n",
       "26904      33.0  ['public', 'void', 'addServletNames', '(', 'St...   \n",
       "\n",
       "       cyclomatic_complexity data_type                  method_name  nloc  \\\n",
       "26900                    4.0       src                  bindIndexed  11.0   \n",
       "26901                    1.0       src  setServletRegistrationBeans   6.0   \n",
       "26902                    1.0       src  addServletRegistrationBeans   6.0   \n",
       "26903                    1.0       src              setServletNames   4.0   \n",
       "26904                    1.0       src              addServletNames   4.0   \n",
       "\n",
       "       parameter_count partition  token_count  \n",
       "26900              6.0     train         75.0  \n",
       "26901              1.0     train         34.0  \n",
       "26902              1.0     train         29.0  \n",
       "26903              1.0     train         31.0  \n",
       "26904              1.0     train         31.0  "
      ]
     },
     "execution_count": null,
     "metadata": {},
     "output_type": "execute_result"
    }
   ],
   "source": [
    "df_train.head()"
   ]
  },
  {
   "cell_type": "code",
   "execution_count": null,
   "metadata": {},
   "outputs": [
    {
     "name": "stdout",
     "output_type": "stream",
     "text": [
      "df_train shape: (454273, 11)\n",
      "df_valid shape: (15321, 11)\n",
      "df_test shape: (26900, 11)\n"
     ]
    }
   ],
   "source": [
    "print(f'df_train shape: {df_train.shape}')\n",
    "print(f'df_valid shape: {df_valid.shape}')\n",
    "print(f'df_test shape: {df_test.shape}')"
   ]
  },
  {
   "cell_type": "code",
   "execution_count": null,
   "metadata": {},
   "outputs": [],
   "source": [
    "doc2_vec_model_path = 'test_data/models/pv/[doc2vec-Py-Java-Wiki-PVDBOW-500-20E[15]-1592941134.367976].model'"
   ]
  },
  {
   "cell_type": "code",
   "execution_count": null,
   "metadata": {},
   "outputs": [],
   "source": [
    "model = Doc2Vec.load(doc2_vec_model_path)"
   ]
  },
  {
   "cell_type": "code",
   "execution_count": null,
   "metadata": {},
   "outputs": [],
   "source": [
    "model.delete_temporary_training_data(keep_doctags_vectors=True, keep_inference=True)"
   ]
  },
  {
   "cell_type": "code",
   "execution_count": null,
   "metadata": {},
   "outputs": [],
   "source": [
    "vector = model.infer_vector(splitted_code['splitted_code'][0])"
   ]
  },
  {
   "cell_type": "code",
   "execution_count": null,
   "metadata": {},
   "outputs": [
    {
     "data": {
      "text/plain": [
       "(500,)"
      ]
     },
     "execution_count": null,
     "metadata": {},
     "output_type": "execute_result"
    }
   ],
   "source": [
    "vector.shape"
   ]
  },
  {
   "cell_type": "code",
   "execution_count": null,
   "metadata": {},
   "outputs": [
    {
     "data": {
      "text/plain": [
       "['public',\n",
       " 'final',\n",
       " 'option',\n",
       " 'find',\n",
       " 'first',\n",
       " 'queri',\n",
       " 'string',\n",
       " 'queri',\n",
       " 'string',\n",
       " 'sort',\n",
       " 'object',\n",
       " 'param',\n",
       " 'find',\n",
       " 'find',\n",
       " 'collect',\n",
       " 'find',\n",
       " 'queri',\n",
       " 'param',\n",
       " 'sort',\n",
       " 'null',\n",
       " 'sort',\n",
       " 'empti',\n",
       " 'find',\n",
       " 'sort',\n",
       " 'sort',\n",
       " 'iter',\n",
       " 'find',\n",
       " 'limit',\n",
       " 'entiti',\n",
       " 'class',\n",
       " 'iter',\n",
       " 'iter',\n",
       " 'iter',\n",
       " 'iter',\n",
       " 'next',\n",
       " 'return',\n",
       " 'option',\n",
       " 'iter',\n",
       " 'next',\n",
       " 'return',\n",
       " 'option',\n",
       " 'empti']"
      ]
     },
     "execution_count": null,
     "metadata": {},
     "output_type": "execute_result"
    }
   ],
   "source": [
    "splitted_code['splitted_code'][0]"
   ]
  },
  {
   "cell_type": "code",
   "execution_count": null,
   "metadata": {},
   "outputs": [],
   "source": [
    "processing_params = {\n",
    "    'system':'codesearchnet',\n",
    "    'saving_path': 'test_data/java/',\n",
    "    'language': 'english'\n",
    "}"
   ]
  },
  {
   "cell_type": "code",
   "execution_count": null,
   "metadata": {},
   "outputs": [],
   "source": [
    "cp = ConventionalPreprocessing(processing_params)"
   ]
  },
  {
   "cell_type": "code",
   "execution_count": null,
   "metadata": {},
   "outputs": [],
   "source": [
    "sample_java_df = df_train.sample(10000, random_state=2)"
   ]
  },
  {
   "cell_type": "code",
   "execution_count": null,
   "metadata": {},
   "outputs": [],
   "source": [
    "sample_java_df_test = df_test.sample(10000, random_state=2)"
   ]
  },
  {
   "cell_type": "code",
   "execution_count": null,
   "metadata": {},
   "outputs": [
    {
     "name": "stderr",
     "output_type": "stream",
     "text": [
      "2020-07-06 02:08:19,774 : INFO : fromtokens_pipeline: clean punctuation\n",
      "2020-07-06 02:08:20,470 : INFO : fromtokens_pipeline: camel case\n",
      "2020-07-06 02:08:20,486 : INFO : fromtokens_pipeline: lowe case\n",
      "2020-07-06 02:08:20,503 : INFO : fromtokens_pipeline: white space removed\n",
      "2020-07-06 02:08:21,047 : INFO : fromtokens_pipeline: WordPunctTokenizer\n",
      "2020-07-06 02:08:24,892 : INFO : fromtokens_pipeline: Stop words\n",
      "2020-07-06 02:08:37,037 : INFO : fromtokens_pipeline: Stemmings\n",
      "2020-07-06 02:08:37,317 : INFO : fromtokens_pipeline: Removed Special Terns\n",
      "2020-07-06 02:08:37,344 : INFO : fromtokens_pipeline END\n"
     ]
    }
   ],
   "source": [
    "processed_df = cp.fromdocs_pipeline(sample_java_df['code'])"
   ]
  },
  {
   "cell_type": "code",
   "execution_count": null,
   "metadata": {},
   "outputs": [
    {
     "name": "stderr",
     "output_type": "stream",
     "text": [
      "2020-07-06 22:05:44,086 : INFO : fromtokens_pipeline: clean punctuation\n",
      "2020-07-06 22:05:44,589 : INFO : fromtokens_pipeline: camel case\n",
      "2020-07-06 22:05:44,597 : INFO : fromtokens_pipeline: lowe case\n",
      "2020-07-06 22:05:44,606 : INFO : fromtokens_pipeline: white space removed\n",
      "2020-07-06 22:05:45,008 : INFO : fromtokens_pipeline: WordPunctTokenizer\n",
      "2020-07-06 22:05:47,985 : INFO : fromtokens_pipeline: Stop words\n",
      "2020-07-06 22:05:57,564 : INFO : fromtokens_pipeline: Stemmings\n",
      "2020-07-06 22:05:57,761 : INFO : fromtokens_pipeline: Removed Special Terns\n",
      "2020-07-06 22:05:57,775 : INFO : fromtokens_pipeline END\n"
     ]
    }
   ],
   "source": [
    "processed_test_df = cp.fromdocs_pipeline(sample_java_df_test['code'])"
   ]
  },
  {
   "cell_type": "code",
   "execution_count": null,
   "metadata": {},
   "outputs": [
    {
     "data": {
      "text/plain": [
       "'public final option find first queri string queri string sort object param find find collect find queri param sort null sort empti find sort sort iter find limit entiti class iter iter iter iter next return option iter next return option empti'"
      ]
     },
     "execution_count": null,
     "metadata": {},
     "output_type": "execute_result"
    }
   ],
   "source": [
    "processed_df[0]"
   ]
  },
  {
   "cell_type": "code",
   "execution_count": null,
   "metadata": {},
   "outputs": [],
   "source": [
    "def get_df_from_processed_list(processed_list):\n",
    "    result_df = pd.DataFrame([])\n",
    "    p_list = []\n",
    "    for element in processed_list:\n",
    "        p_list.append(element.split())\n",
    "    result_df['splitted_code'] = p_list\n",
    "    return result_df"
   ]
  },
  {
   "cell_type": "code",
   "execution_count": null,
   "metadata": {},
   "outputs": [],
   "source": [
    "splitted_code = get_df_from_processed_list(processed_df)"
   ]
  },
  {
   "cell_type": "code",
   "execution_count": null,
   "metadata": {},
   "outputs": [],
   "source": [
    "splitted_test_code = get_df_from_processed_list(processed_test_df)"
   ]
  },
  {
   "cell_type": "code",
   "execution_count": null,
   "metadata": {},
   "outputs": [
    {
     "data": {
      "text/plain": [
       "['public',\n",
       " 'final',\n",
       " 'option',\n",
       " 'find',\n",
       " 'first',\n",
       " 'queri',\n",
       " 'string',\n",
       " 'queri',\n",
       " 'string',\n",
       " 'sort',\n",
       " 'object',\n",
       " 'param',\n",
       " 'find',\n",
       " 'find',\n",
       " 'collect',\n",
       " 'find',\n",
       " 'queri',\n",
       " 'param',\n",
       " 'sort',\n",
       " 'null',\n",
       " 'sort',\n",
       " 'empti',\n",
       " 'find',\n",
       " 'sort',\n",
       " 'sort',\n",
       " 'iter',\n",
       " 'find',\n",
       " 'limit',\n",
       " 'entiti',\n",
       " 'class',\n",
       " 'iter',\n",
       " 'iter',\n",
       " 'iter',\n",
       " 'iter',\n",
       " 'next',\n",
       " 'return',\n",
       " 'option',\n",
       " 'iter',\n",
       " 'next',\n",
       " 'return',\n",
       " 'option',\n",
       " 'empti']"
      ]
     },
     "execution_count": null,
     "metadata": {},
     "output_type": "execute_result"
    }
   ],
   "source": [
    "splitted_code['splitted_code'][0]"
   ]
  },
  {
   "cell_type": "code",
   "execution_count": null,
   "metadata": {},
   "outputs": [],
   "source": [
    "def compute_vectors(code_df):\n",
    "    vectors = []\n",
    "    for idx, row in code_df.iterrows():\n",
    "        vectors.append(model.infer_vector(row['splitted_code']))\n",
    "    return vectors"
   ]
  },
  {
   "cell_type": "code",
   "execution_count": null,
   "metadata": {},
   "outputs": [],
   "source": [
    "doc2_vectors = compute_vectors(splitted_code)"
   ]
  },
  {
   "cell_type": "code",
   "execution_count": null,
   "metadata": {},
   "outputs": [],
   "source": [
    "doc2_vectors = np.array(doc2_vectors)"
   ]
  },
  {
   "cell_type": "code",
   "execution_count": null,
   "metadata": {},
   "outputs": [
    {
     "name": "stdout",
     "output_type": "stream",
     "text": [
      "[array([-0.37762475, -0.38540062, -0.01277232,  0.04222575,  0.34180853,\n",
      "        0.11128339, -0.87900287, -0.12815368,  0.12353008,  0.12468721,\n",
      "        0.21387072, -0.6470642 ,  0.05903836,  0.2746196 ,  0.19446734,\n",
      "        0.24344777,  0.5203615 , -0.30637196, -0.18092875,  0.21426082,\n",
      "       -0.1562226 , -0.38738626,  0.15108353, -0.3845797 , -0.10619601,\n",
      "       -0.25258663,  0.37857908, -0.5802679 , -0.23103325, -0.08668967,\n",
      "        0.45152465,  0.03575516,  0.01235824, -0.3029284 , -0.2672066 ,\n",
      "       -0.16894214, -0.27964777,  0.27612564, -0.3302533 ,  0.5936772 ,\n",
      "        0.70220333, -0.06169656, -0.06106625, -0.12760344, -0.6531744 ,\n",
      "       -0.00669117, -0.06631754, -0.48467466, -0.41192317,  0.3416588 ,\n",
      "        0.41475022,  0.2056126 ,  0.21884891,  0.46283868,  0.684039  ,\n",
      "        0.10750329, -0.02496543, -0.12638465, -0.3135548 ,  0.47960237,\n",
      "        0.24430148, -0.39946005,  0.24253428, -0.11794276, -0.24581376,\n",
      "       -0.15839438,  0.055303  , -0.2543045 , -0.05506008,  0.49659622,\n",
      "       -0.24875309,  0.49067345,  0.42742246, -0.14226882, -0.08086276,\n",
      "       -0.6263205 ,  0.12875849, -0.24358714,  0.1769195 , -0.17081083,\n",
      "        0.12019705, -0.80746555,  0.4743674 , -0.6696262 , -0.47478548,\n",
      "       -0.14569138,  0.22453941,  0.2118622 ,  0.37781504,  0.00825374,\n",
      "       -0.29362273, -0.2791823 , -0.422962  ,  0.35766542,  0.00449968,\n",
      "        0.2280107 , -0.5261988 , -0.40139282,  0.16784227,  0.66520286,\n",
      "        0.49274978,  0.2690654 , -0.2077474 , -0.19637121,  0.64284664,\n",
      "       -0.2974945 , -0.23764817, -0.25130966, -0.17406836,  0.19891088,\n",
      "        0.46792167, -0.7807897 , -0.08268204,  0.08998078, -0.10626273,\n",
      "        0.27045888, -0.0279801 ,  0.33686787,  0.13520662,  0.6876221 ,\n",
      "       -0.04724804, -0.09154597, -0.19058153,  0.21313575, -0.23989682,\n",
      "       -0.46815425,  0.0545845 ,  0.44100657,  0.00722095, -0.20348747,\n",
      "        0.53283954,  0.06777918, -0.15870416,  0.3336783 , -0.51735103,\n",
      "        0.35430828,  0.14180939,  0.17532724,  0.12960328,  0.14956759,\n",
      "       -0.16059408, -0.21854742,  0.42113033, -0.20491828,  0.08438709,\n",
      "        0.2825062 , -0.14472006, -0.458676  , -0.06835436, -0.35653147,\n",
      "        0.24692005,  0.43417725,  0.29403505, -0.13473955,  0.22819583,\n",
      "       -0.633653  ,  0.09763489, -0.34128618,  0.19347246, -0.14190656,\n",
      "        0.8996164 , -0.07410464,  0.3233715 ,  0.05356085, -0.23430389,\n",
      "       -0.25115362, -0.5184527 ,  0.4409453 , -0.6399049 , -0.00264349,\n",
      "       -0.25394025,  0.05269099, -0.02349054, -0.26101062,  0.9536577 ,\n",
      "        0.04599239,  0.09402487, -0.3873827 , -0.4174759 ,  0.05846435,\n",
      "       -0.13284303,  0.25664493, -0.00848762,  0.0154652 , -0.13708667,\n",
      "       -0.24598269, -0.8258199 , -0.25101438,  0.12005022, -0.0548182 ,\n",
      "       -0.01836338, -0.14796984, -0.05343605,  0.22865422, -0.34264952,\n",
      "        0.16364284,  0.0346271 ,  0.50713986, -0.38676128, -0.8898319 ,\n",
      "        0.3105511 , -0.04542588, -0.2830223 ,  0.23233925, -0.42668715,\n",
      "       -0.19426465,  0.45068598, -0.01503725, -0.38294813,  0.27560988,\n",
      "        0.21115158, -0.00305926,  0.12517646,  0.41133004,  0.13321368,\n",
      "       -0.19366585, -0.24284531,  0.14062905,  0.02836187,  0.28044865,\n",
      "       -0.3750719 ,  0.10384101, -0.05473827, -0.14906815, -0.11848836,\n",
      "        0.5347927 , -0.12044161,  0.12877327,  0.38478595, -0.06475569,\n",
      "       -0.37463495, -0.03365615,  0.02864926, -0.11475609, -0.10217966,\n",
      "       -0.29402515,  0.18395682,  0.16856143,  0.1811353 ,  0.04438315,\n",
      "        0.0010344 , -0.2743112 ,  0.04491685, -0.17023946,  0.16408601,\n",
      "        0.30331972, -0.2810765 ,  0.23005648,  0.06196476,  0.1637025 ,\n",
      "        0.05490554,  0.4432825 , -0.5579688 , -0.08412094, -0.15091595,\n",
      "       -0.5807211 ,  0.334068  ,  0.3466715 ,  0.3021443 , -0.08566248,\n",
      "       -0.38972   ,  0.7853726 , -0.09708579,  0.08497745, -0.25890756,\n",
      "        0.10937919,  0.23511964, -0.01910742, -0.58515793, -0.1819193 ,\n",
      "        0.27473524,  0.45424503,  0.58772045,  0.28662804,  0.13184898,\n",
      "       -0.06643891, -0.39252698,  0.21701384, -0.5925608 , -0.1370224 ,\n",
      "        0.05271511, -0.29319334,  0.93253636, -0.336035  , -0.18463705,\n",
      "        0.46297222,  0.16989739,  0.008679  , -0.50291204, -0.16881438,\n",
      "       -0.94993186, -0.57494664, -0.03632372, -0.07010877, -0.36616516,\n",
      "        0.06602115,  0.04870105, -0.2249718 ,  0.16865812, -0.43834457,\n",
      "       -0.04479298, -0.3516875 , -0.54823816, -0.14504376, -0.51699495,\n",
      "        0.5138762 ,  0.80077803, -0.13735744,  0.23557447,  0.31405213,\n",
      "        0.10246642, -0.21732454,  0.11794506,  0.6698642 , -0.05435291,\n",
      "        0.52799535,  0.00464889,  0.26241633,  0.57992274,  0.47120082,\n",
      "       -0.11443877, -0.11023648,  0.0875114 , -0.21553558,  0.4425264 ,\n",
      "       -0.23883533,  0.0594925 ,  0.3586868 , -0.05328311, -0.5613445 ,\n",
      "        0.38545963, -0.1324258 , -0.6284748 , -0.04034388,  0.5101058 ,\n",
      "        0.74546444, -0.00734905, -0.40576956, -0.03134785,  0.2129457 ,\n",
      "        0.028632  ,  0.19174372, -0.08545884,  0.23648135, -0.31758332,\n",
      "       -0.24423255,  0.03806698, -0.02619797, -0.36864457,  0.310554  ,\n",
      "       -0.18952164,  0.08029028,  0.14510605, -0.05367808, -0.06640197,\n",
      "       -0.38013303,  0.03247311, -0.09243893,  0.08077411, -0.02929295,\n",
      "        0.03858119,  0.13279386,  0.10511833,  0.5540491 ,  0.01094721,\n",
      "       -0.01141194,  0.04569418, -0.3004797 ,  0.15775093, -0.3170825 ,\n",
      "       -0.04296067, -0.16158275,  0.52787435, -0.5869331 ,  0.05429628,\n",
      "        0.02644777, -0.09471148, -0.12318832,  0.08889747,  0.04891566,\n",
      "       -0.35305992, -0.20083833, -0.07745697,  0.29077277, -0.1313045 ,\n",
      "        0.44857234,  0.02496286,  0.08730526, -0.05873271,  0.1263574 ,\n",
      "       -0.40238437, -0.08563084,  0.15789309, -0.18763782,  0.1841878 ,\n",
      "        0.27535516,  0.12919478, -0.73699427, -0.03962221,  0.28440732,\n",
      "       -0.5838996 , -0.13240051, -0.08886592, -0.37566367,  0.3297984 ,\n",
      "        0.84158796, -0.2808792 , -0.28927448,  0.56813353,  0.350715  ,\n",
      "        0.14070062,  0.16336606,  0.690095  , -0.26772416, -0.92278117,\n",
      "       -0.9761382 ,  0.35875505,  0.248265  , -0.35610437, -0.03931812,\n",
      "       -0.42340106, -0.07394183,  0.3065091 ,  0.21275882, -0.08627406,\n",
      "        0.01399008, -0.07929786,  0.22721957,  0.22085647, -0.09168763,\n",
      "        0.554988  ,  0.31731007,  0.20541544, -0.02521035, -0.24197787,\n",
      "        0.34987321,  0.25141144,  0.06617433,  0.41371316, -0.23701951,\n",
      "       -0.09656624, -0.13470453, -0.02725472,  0.11785026, -0.11968644,\n",
      "        0.2742498 ,  0.9081687 , -0.19463922,  0.12398835,  0.5273162 ,\n",
      "        0.2547313 , -0.45237392,  0.26228863, -0.14018036,  0.17368315,\n",
      "        0.715222  , -0.2836832 , -0.15461275, -0.4892711 ,  0.41262454,\n",
      "        0.23264855, -0.08199537, -0.22931737, -0.3629614 ,  0.29721147,\n",
      "        0.1251881 ,  0.11882652,  0.64826596, -0.01524929,  0.00493044,\n",
      "        0.07691424, -0.44083187, -0.09911509,  0.25192773, -0.184436  ,\n",
      "       -0.70633894, -0.54703045, -0.07022833,  0.42037934,  0.20700702,\n",
      "       -0.406344  ,  0.38625813,  0.1731017 ,  0.1025162 , -0.3103917 ,\n",
      "        0.3377963 , -0.0659671 ,  0.28419185,  0.15609461, -0.95156145,\n",
      "        0.16219267, -0.328197  , -0.43267757,  0.3271973 , -0.2958496 ,\n",
      "        0.12424333,  0.00922832,  0.45781606,  0.19079459,  0.26853234],\n",
      "      dtype=float32),\n",
      " array([-1.77403018e-01, -1.68506615e-02,  3.69475305e-01,  3.10983181e-01,\n",
      "        3.18990827e-01, -2.52171885e-02,  8.59280601e-02,  2.19199225e-01,\n",
      "        1.99862629e-01, -7.37143382e-02,  5.38579710e-02, -4.43347901e-01,\n",
      "       -1.88468680e-01,  1.49956763e-01, -1.23531289e-01, -3.91978621e-01,\n",
      "        2.53753722e-01,  1.42741755e-01, -1.74142182e-01, -5.28713427e-02,\n",
      "       -4.23374064e-02, -9.67662130e-03, -7.97495618e-02, -6.71487391e-01,\n",
      "       -9.56232399e-02, -2.59441435e-01,  2.99262218e-02,  1.08929403e-01,\n",
      "        1.57230124e-01,  1.83007885e-02,  3.47922772e-01,  1.41486317e-01,\n",
      "        1.50980085e-01,  5.64568341e-01,  4.99719679e-02, -1.89014524e-01,\n",
      "        1.30242825e-01,  3.41499329e-01,  1.71766043e-01,  3.17422211e-01,\n",
      "        5.11284232e-01, -1.51361674e-01, -2.10030720e-01, -1.28106773e-01,\n",
      "       -3.45034987e-01,  3.48188788e-01, -9.92460102e-02, -2.59752721e-01,\n",
      "       -3.95688042e-02, -2.21167520e-01,  5.78506552e-02,  3.04602683e-01,\n",
      "       -1.88673586e-01, -1.26695275e-01,  1.03508428e-01,  4.17034715e-01,\n",
      "       -4.91675735e-02, -1.64510310e-01, -4.74532872e-01,  2.19430313e-01,\n",
      "        2.41052747e-01,  1.03034422e-01, -1.30077377e-02,  4.69190776e-01,\n",
      "       -3.68221521e-01, -2.30913490e-01,  1.93307161e-01, -2.74084210e-01,\n",
      "        5.40720187e-02, -6.19357377e-02, -1.45411000e-01, -7.32477978e-02,\n",
      "        1.24339618e-01, -1.19114995e-01, -1.21664099e-01,  8.99640769e-02,\n",
      "       -8.57682526e-02,  4.39478308e-01,  5.21169975e-02,  6.06204271e-02,\n",
      "        1.86702192e-01, -5.15036702e-01,  3.54925022e-02,  2.47695893e-01,\n",
      "       -3.48755658e-01, -1.66689098e-01, -3.24267864e-01, -1.70622263e-02,\n",
      "       -2.22066283e-01, -6.97085336e-02, -1.96866363e-01, -1.31453425e-01,\n",
      "       -4.37375396e-01,  1.71449065e-01,  5.70072651e-01,  1.57113522e-01,\n",
      "       -7.27470160e-01, -7.49830127e-01,  4.14757818e-01, -2.70339549e-01,\n",
      "        1.66987836e-01,  4.01888072e-01, -7.72234648e-02, -2.10325152e-01,\n",
      "        1.57199323e-01, -3.38895857e-01,  8.52729753e-03,  1.08462842e-02,\n",
      "       -4.34568942e-01, -3.46156299e-01,  3.53738338e-01,  4.32074489e-03,\n",
      "       -1.18551783e-01, -1.15556628e-01, -4.60236594e-02,  7.14796484e-02,\n",
      "       -1.61197558e-01,  3.36387217e-01,  1.56328008e-02,  1.36971191e-01,\n",
      "        2.34850168e-01, -3.57359797e-01, -2.36030996e-01,  3.52446586e-01,\n",
      "       -9.58494172e-02, -8.40321556e-02, -2.50573128e-01,  3.56825054e-01,\n",
      "       -3.30579758e-01,  3.04713458e-01, -2.03642264e-01,  2.11198136e-01,\n",
      "        2.62870163e-01, -4.51276660e-01, -1.69430852e-01,  6.41248897e-02,\n",
      "       -5.08331396e-02, -1.49763241e-01,  1.05691224e-01,  8.37104321e-02,\n",
      "       -5.92084490e-02, -6.17357455e-02,  1.83463156e-01,  2.70584673e-01,\n",
      "       -3.72785330e-01,  3.22369188e-01,  2.06265241e-01, -6.71222627e-01,\n",
      "        3.59542876e-01,  2.01264143e-01, -5.76366305e-01, -8.61154273e-02,\n",
      "       -2.76542991e-01,  1.84892550e-01,  8.65499228e-02,  1.07071787e-01,\n",
      "        6.60712738e-03,  2.62931675e-01,  2.31607884e-01, -4.37368244e-01,\n",
      "        4.40785557e-01,  9.91912782e-02,  1.30623981e-01,  1.62025839e-01,\n",
      "        2.62686998e-01,  3.36145788e-01,  9.52349082e-02,  3.58654171e-01,\n",
      "       -1.50973663e-01, -4.94251326e-02, -5.01989365e-01, -1.88587233e-01,\n",
      "        1.75483346e-01,  6.23359717e-02, -3.07897508e-01, -6.10036373e-01,\n",
      "       -9.20196399e-02,  1.85497969e-01, -4.91378456e-02, -2.44644523e-01,\n",
      "       -1.30256206e-01, -3.20359766e-01,  2.41607949e-01,  3.21363986e-01,\n",
      "       -3.26935381e-01, -4.10671979e-01, -7.90454566e-01, -2.71748155e-01,\n",
      "        5.42129129e-02,  1.61153600e-02, -8.10175762e-02,  3.29737514e-01,\n",
      "        6.49544150e-02, -3.00905518e-02, -5.33068895e-01,  1.19791560e-01,\n",
      "       -3.17920923e-01,  2.19888277e-02, -4.73131090e-02, -3.00051775e-02,\n",
      "        3.12479019e-01, -2.59973794e-01,  3.49584185e-02,  2.50099320e-02,\n",
      "        1.08426675e-01,  2.36737370e-01,  6.16437614e-01, -2.60176539e-01,\n",
      "       -3.12457293e-01, -3.23870718e-01, -1.34882569e-01, -7.23926872e-02,\n",
      "        6.51389873e-03, -1.53356642e-01,  3.36732239e-01, -2.52933264e-01,\n",
      "        4.08146471e-01, -5.63473068e-02,  7.86290243e-02, -5.53841472e-01,\n",
      "       -4.99048889e-01,  4.06664237e-02,  2.22224653e-01, -4.89264011e-01,\n",
      "       -2.49446705e-02,  4.56809580e-01,  1.92151573e-02,  1.62364453e-01,\n",
      "       -2.02839091e-01,  6.79307431e-02, -1.66796356e-01,  2.32367273e-02,\n",
      "       -4.10559922e-01, -5.67611540e-03, -1.00628622e-01,  5.46066880e-01,\n",
      "        5.41391522e-02,  4.46355253e-01,  9.75287408e-02,  5.74727952e-01,\n",
      "        3.95437568e-01, -4.58840638e-01, -2.86834329e-01, -2.57309556e-01,\n",
      "        7.48464540e-02,  3.98603410e-01,  6.79462403e-02,  4.05583799e-01,\n",
      "       -7.74202943e-02,  1.92061946e-01,  2.33273566e-01, -8.77558291e-02,\n",
      "       -3.70926917e-01,  3.77455443e-01, -2.23769590e-01, -4.03272241e-01,\n",
      "        2.26717610e-02,  3.49585742e-01,  1.64464682e-01,  2.56568968e-01,\n",
      "        2.14365423e-01,  1.09155424e-01, -2.54329592e-01, -2.60386050e-01,\n",
      "       -1.62751302e-02,  2.08889723e-01,  6.02017865e-02,  1.59686655e-01,\n",
      "        7.09533095e-02, -5.64554691e-01, -3.89237842e-03,  2.35053837e-01,\n",
      "       -1.26044169e-01, -4.37731862e-01,  1.06880628e-01, -2.73523450e-01,\n",
      "       -9.08207595e-02,  1.70928404e-01, -1.14549391e-01, -3.17533165e-01,\n",
      "        3.18686098e-01,  3.55050936e-02,  6.85846984e-01, -3.58084828e-01,\n",
      "        2.60806441e-01,  4.26667750e-01,  1.08769096e-01, -9.61126108e-03,\n",
      "       -4.07985002e-02, -5.81645608e-01, -5.15549332e-02,  1.84752479e-01,\n",
      "        1.42789289e-01, -2.40647614e-01,  4.80375588e-01,  2.79019803e-01,\n",
      "        5.21337166e-02,  1.58993617e-01,  5.16064167e-01, -8.41968656e-02,\n",
      "       -2.76588917e-01, -2.14928448e-01, -5.60823500e-01, -2.20216736e-01,\n",
      "       -2.07721200e-02,  1.01245001e-01, -9.15072188e-02,  9.67897773e-02,\n",
      "       -3.56212608e-03,  2.26667091e-01, -2.50627458e-01, -4.89888936e-01,\n",
      "       -2.00924873e-01,  7.01429322e-02,  2.85207987e-01, -4.30926383e-02,\n",
      "       -1.79761443e-02,  1.80519640e-01,  4.74720180e-01,  2.41545931e-01,\n",
      "        6.13041632e-02,  2.73159713e-01,  8.31772909e-02, -2.27564067e-01,\n",
      "       -1.48979634e-01, -1.19059414e-01, -1.10005856e-01,  1.07122324e-01,\n",
      "        4.34628010e-01, -2.65586734e-01,  2.21835285e-01, -3.95635933e-01,\n",
      "        2.44331092e-01, -1.57233502e-03,  2.40322232e-01,  1.90034971e-01,\n",
      "       -6.28586560e-02, -6.75556064e-02, -1.57187760e-01,  4.23497021e-01,\n",
      "        1.33002788e-01, -2.50634074e-01, -3.76290195e-02,  5.77526018e-02,\n",
      "       -7.55103707e-01, -4.01257515e-01,  6.53639659e-02,  2.86442667e-01,\n",
      "       -2.11251765e-01, -2.03948557e-01, -1.52386665e-01,  5.48321545e-01,\n",
      "       -1.45090401e-01,  2.50825524e-01,  4.13479477e-01, -8.90707374e-02,\n",
      "        3.70333940e-01,  4.80238125e-02, -2.18655039e-02, -2.90775716e-01,\n",
      "        4.56346944e-02,  5.30806780e-02,  5.28726950e-02,  1.11070938e-01,\n",
      "        1.50054872e-01,  1.17787823e-01,  2.35650465e-02, -2.57495284e-01,\n",
      "        1.59271657e-01,  1.56041816e-01, -6.13958910e-02,  1.88272417e-01,\n",
      "        3.42529476e-01, -3.03979099e-01,  2.81826645e-01, -1.29595948e-02,\n",
      "        3.87162566e-02, -2.46645346e-01,  2.27236390e-01, -1.43909609e-04,\n",
      "       -3.22572142e-01,  5.07255256e-01,  4.63483930e-01, -1.48373976e-01,\n",
      "       -3.18409741e-01, -1.68725193e-01,  2.55535003e-02, -4.45134610e-01,\n",
      "       -2.27044702e-01, -1.99562371e-01,  1.29268661e-01, -7.79544637e-02,\n",
      "        2.42996082e-01, -4.09991443e-02,  4.92207378e-01,  6.07889056e-01,\n",
      "        3.39594543e-01, -4.56371695e-01, -1.62171219e-02, -2.44150832e-01,\n",
      "       -7.33746290e-02, -1.42060034e-02,  2.26272359e-01,  5.29450141e-02,\n",
      "       -1.53641060e-01, -2.47648686e-01, -1.10627875e-01,  1.75657570e-01,\n",
      "        2.39887744e-01,  2.87755966e-01,  7.35850036e-02,  7.03039840e-02,\n",
      "        3.49044234e-01, -3.02001446e-01, -1.13673799e-01, -2.65135974e-01,\n",
      "        3.65060568e-02,  1.20792434e-01,  2.97401403e-03,  8.60015824e-02,\n",
      "       -1.51203319e-01, -3.36331166e-02,  1.05589285e-01,  3.23505372e-01,\n",
      "        3.19413602e-01, -1.70808565e-02, -3.06252372e-02, -4.15943973e-02,\n",
      "        1.53155923e-01, -1.10889241e-01,  2.87834585e-01,  6.85074776e-02,\n",
      "       -1.32549806e-02,  4.46982414e-01,  1.40376195e-01,  8.87935683e-02,\n",
      "        1.23177208e-01,  2.78850883e-01, -1.33824527e-01, -8.97069424e-02,\n",
      "       -5.35664380e-01, -2.58896381e-01, -2.50532240e-01, -4.50670943e-02,\n",
      "       -2.45302200e-01, -5.32394797e-02,  6.45335197e-01, -3.47203352e-02,\n",
      "        1.45259395e-01,  2.45782971e-01,  4.39606868e-02, -2.97928721e-01,\n",
      "        2.15429574e-01, -3.67268831e-01,  2.68711329e-01,  8.86024628e-03,\n",
      "        3.75247836e-01, -3.61792505e-01,  3.98566350e-02,  2.82033145e-01,\n",
      "       -1.34560585e-01, -2.47808546e-02,  2.90755183e-01, -3.64659756e-01,\n",
      "        1.64051145e-01, -1.87909305e-01, -7.88627565e-02, -1.51101619e-01,\n",
      "       -3.34768683e-01, -1.02905311e-01,  7.81190172e-02,  4.62609045e-02,\n",
      "        1.38043627e-01, -1.09991275e-01, -4.39267486e-01, -2.82609258e-02,\n",
      "        8.35293159e-02,  2.33190283e-02, -6.08704090e-02, -3.26641411e-01,\n",
      "       -1.49362624e-01,  5.98138794e-02,  9.60853845e-02,  1.31509870e-01,\n",
      "       -1.14780376e-02,  1.66526791e-02,  1.66541621e-01,  3.68660212e-01,\n",
      "        9.41922814e-02, -1.66056603e-02, -9.86550897e-02,  3.23795378e-01,\n",
      "       -1.88820750e-01,  1.76806673e-01,  4.19000983e-01, -3.85740608e-01,\n",
      "       -1.15525126e-01, -1.86097562e-01, -2.05524042e-02, -5.08906692e-02],\n",
      "      dtype=float32)]\n"
     ]
    }
   ],
   "source": [
    "pprint(doc2_vectors[0:2])"
   ]
  },
  {
   "cell_type": "code",
   "execution_count": null,
   "metadata": {},
   "outputs": [],
   "source": [
    "np.save('test_data/java/doc2_vec_sample_java_df', doc2_vectors)"
   ]
  },
  {
   "cell_type": "code",
   "execution_count": null,
   "metadata": {},
   "outputs": [],
   "source": [
    "ngram_vectors = compute_vectors(ngram_df_sample)"
   ]
  },
  {
   "cell_type": "code",
   "execution_count": null,
   "metadata": {},
   "outputs": [
    {
     "data": {
      "text/plain": [
       "10000"
      ]
     },
     "execution_count": null,
     "metadata": {},
     "output_type": "execute_result"
    }
   ],
   "source": [
    "len(ngram_vectors)"
   ]
  },
  {
   "cell_type": "code",
   "execution_count": null,
   "metadata": {},
   "outputs": [],
   "source": [
    "np.save('test_data/java/doc2_vec_ngram_df', ngram_vectors)"
   ]
  },
  {
   "cell_type": "code",
   "execution_count": null,
   "metadata": {},
   "outputs": [],
   "source": [
    "java_test_vectors = compute_vectors(splitted_test_code)"
   ]
  },
  {
   "cell_type": "code",
   "execution_count": null,
   "metadata": {},
   "outputs": [
    {
     "data": {
      "text/plain": [
       "10000"
      ]
     },
     "execution_count": null,
     "metadata": {},
     "output_type": "execute_result"
    }
   ],
   "source": [
    "len(java_test_vectors)"
   ]
  },
  {
   "cell_type": "code",
   "execution_count": null,
   "metadata": {},
   "outputs": [],
   "source": [
    "np.save('test_data/java/doc2_vec_java_test_df', java_test_vectors)"
   ]
  },
  {
   "cell_type": "code",
   "execution_count": null,
   "metadata": {},
   "outputs": [],
   "source": [
    "sample_java_df.to_csv('test_data/java/sample_java_df.csv')"
   ]
  },
  {
   "cell_type": "code",
   "execution_count": null,
   "metadata": {},
   "outputs": [],
   "source": [
    "sample_java_df_test.to_csv('test_data/java/sample_java_test_df.csv')"
   ]
  },
  {
   "cell_type": "code",
   "execution_count": null,
   "metadata": {},
   "outputs": [],
   "source": [
    "ngram_df_sample.to_csv('test_data/java/ngram_sample_df.csv')"
   ]
  }
 ],
 "metadata": {
  "kernelspec": {
   "display_name": "Python 3",
   "language": "python",
   "name": "python3"
  },
  "language_info": {
   "codemirror_mode": {
    "name": "ipython",
    "version": 3
   },
   "file_extension": ".py",
   "mimetype": "text/x-python",
   "name": "python",
   "nbconvert_exporter": "python",
   "pygments_lexer": "ipython3",
   "version": "3.6.8"
  }
 },
 "nbformat": 4,
 "nbformat_minor": 2
}
