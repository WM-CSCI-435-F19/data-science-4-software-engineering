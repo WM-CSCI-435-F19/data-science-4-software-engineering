{
 "cells": [
  {
   "cell_type": "code",
   "execution_count": null,
   "metadata": {},
   "outputs": [],
   "source": [
    "# default_exp desc.metrics.main"
   ]
  },
  {
   "cell_type": "markdown",
   "metadata": {},
   "source": [
    "# Exploration of your data\n",
    "\n",
    "> This module comprises some of the statistical and inference techniques to describe the inner properties of software data. The submodules might include:\n",
    ">\n",
    "> - Descriptive statistics\n",
    "> - Software Metrics\n",
    "> - Information Theory\n",
    "> - Learning Principels Detection (Occams' Razor, Biased data, and Data Snooping)\n",
    "> - Inference: Probabilistic and Causal"
   ]
  },
  {
   "cell_type": "markdown",
   "metadata": {},
   "source": [
    "### Specifically in this module\n",
    "\n",
    "> - Cyclomatic complexity (CYCLO)\n",
    "> - Number of lines of code (NLOC)\n",
    "> - Lack of Cohesion of Methods 5 (LCOM5)"
   ]
  },
  {
   "cell_type": "markdown",
   "metadata": {},
   "source": [
    "### Limitations of Tools\n",
    "\n",
    "> Languages this module plans to be able to process: Java, Javascript, Python, C++, C, Scala\n",
    "##### Current Limitations\n",
    "> - CYCLO/NLOC\n",
    "> > - Can measure: Java\n",
    "> > - Cannot measure: Python\n",
    "> > - Can possibly measure: C, C++, Scala, Javascript\n",
    "> - LCOM5\n",
    "> > - Can measure: Java\n",
    "> > - Cannot measure: Python, C++, Scala, Javascript\n",
    "> > - Undefined: C"
   ]
  },
  {
   "cell_type": "code",
   "execution_count": null,
   "metadata": {},
   "outputs": [],
   "source": [
    "# #hide\n",
    "# from nbdev.showdoc import *"
   ]
  },
  {
   "cell_type": "code",
   "execution_count": null,
   "metadata": {},
   "outputs": [],
   "source": [
    "# export\n",
    "# Imports\n",
    "import pandas as pd\n",
    "from numpy import mean, std\n",
    "from statistics import median\n",
    "from scipy.stats import sem, t\n",
    "import lizard\n",
    "import matplotlib.pyplot as plt\n",
    "from tree_sitter import Language, Parser, Node\n",
    "#Decoding files\n",
    "import chardet\n",
    "from bs4 import UnicodeDammit\n",
    "\n",
    "\n",
    "# TODO: Remove when mongo call is implemented\n",
    "import os\n",
    "\n",
    "\n",
    "\n",
    "from desc_metrics_parser_java import ParserJava\n",
    "\n",
    "#Not implemented\n",
    "#from desc_metrics_parser_cpp import ParserCPP\n",
    "#from desc_metrics_parser_python import ParserPython"
   ]
  },
  {
   "cell_type": "code",
   "execution_count": null,
   "metadata": {},
   "outputs": [],
   "source": [
    "#!git clone https://github.com/tree-sitter/tree-sitter-java\n",
    "#!git clone https://github.com/tree-sitter/tree-sitter-cpp\n",
    "#!git clone https://github.com/tree-sitter/tree-sitter-python"
   ]
  },
  {
   "cell_type": "markdown",
   "metadata": {},
   "source": [
    "# Get_unicode & test"
   ]
  },
  {
   "cell_type": "code",
   "execution_count": null,
   "metadata": {},
   "outputs": [],
   "source": [
    "# export\n",
    "'''\n",
    "Detects file encoding and returns unicode.\n",
    "Inspired by http://reinvantveer.github.io/2017/05/19/unicode-dammit.html\n",
    "\n",
    ":param file_path: file path of file\n",
    ":returns: unicode string of the file\n",
    ":raises ValueError: empty or invalud csv file\n",
    "'''\n",
    "def get_unicode(file_path):\n",
    "    with open(file_path, 'rb') as f:\n",
    "        detection = chardet.detect(f.read())\n",
    "        \n",
    "    enc = detection[\"encoding\"]\n",
    "    if detection[\"encoding\"] == \"ascii\":\n",
    "        with open(file_path, encoding=\"ascii\") as f:\n",
    "            data = f.read()\n",
    "    elif detection[\"encoding\"] == \"ISO-8859-9\":\n",
    "        with open(file_path, encoding=\"utf-8\") as f:\n",
    "            enc = \"utf-8\"\n",
    "            data = f.read()\n",
    "    else:\n",
    "        try:\n",
    "            # Try to open as non unicode file\n",
    "            with open(file_path, encoding=detection[\"encoding\"]) as f:\n",
    "                data = f.read()\n",
    "        except Exception as e:\n",
    "            raise ValueError(f\"Cannot return dictionary from empty or invalid csv file {file_path} due to {e}\")\n",
    "\n",
    "    if not data:\n",
    "        raise ValueError(f\"Cannot return dictionary from empty or invalid csv file {file_path}\")\n",
    "\n",
    "    return UnicodeDammit(data).unicode_markup, enc"
   ]
  },
  {
   "cell_type": "code",
   "execution_count": null,
   "metadata": {},
   "outputs": [
    {
     "name": "stdout",
     "output_type": "stream",
     "text": [
      "ascii\n",
      "Hello, this is a test file\n"
     ]
    }
   ],
   "source": [
    "# Setting up test data\n",
    "file_path = \"test_utf_8_file.txt\"\n",
    "with open(file_path, 'w', encoding=\"utf-8\") as f:\n",
    "    f.write(\"Hello, this is a test file\")\n",
    "# Calling function\n",
    "text, encoding = get_unicode(file_path)\n",
    "# Cleanup\n",
    "os.remove(file_path)\n",
    "# Displaying output\n",
    "print(encoding)\n",
    "print(text)"
   ]
  },
  {
   "cell_type": "code",
   "execution_count": null,
   "metadata": {},
   "outputs": [],
   "source": [
    "'''\n",
    "Loads files from a specified folder into a pandas dataframe\n",
    "\n",
    ":param folder_path: path to folder\n",
    ":returns: corpus_data dataframe\n",
    "'''\n",
    "def simulate_getting_dataframes_from_mongo(folder_path):\n",
    "    corpus_data = {\"system\": [], \"name\": [], \"ground_truth\": [], \"contents\": [], \"encoding\": []}\n",
    "    for file in os.listdir(folder_path):\n",
    "        if not os.path.isdir(os.path.join(folder_path, file)) and file != \".DS_Store\":\n",
    "            corpus_data[\"system\"].append(None)\n",
    "            corpus_data[\"name\"].append(file)\n",
    "            corpus_data[\"ground_truth\"].append(\"src\")\n",
    "            contents, enc = get_unicode(os.path.join(folder_path, file))\n",
    "            corpus_data['encoding'].append(enc)\n",
    "            corpus_data['contents'].append(contents)\n",
    "    corpus_df = pd.DataFrame(data = corpus_data)\n",
    "    return corpus_df"
   ]
  },
  {
   "cell_type": "markdown",
   "metadata": {},
   "source": [
    "# Add_mccabe_metrics & test"
   ]
  },
  {
   "cell_type": "code",
   "execution_count": null,
   "metadata": {},
   "outputs": [],
   "source": [
    "# export\n",
    "'''\n",
    "Adds information about function length and cyclomatic complexity for classes to a dataframe\n",
    "\n",
    ":param df: dataframe \n",
    ":param data_col: \n",
    ":param name_col:\n",
    ":returns: dataframe with added columns\n",
    "'''\n",
    "def add_mccabe_metrics(df, data_col, name_col):\n",
    "    num_funcs = []\n",
    "    class_ccn = []\n",
    "    avg_func_ccn = []\n",
    "    avg_func_nloc = []\n",
    "    for i in range(len(df)):\n",
    "        file_num_funcs = []\n",
    "        file_class_ccn = []\n",
    "        file_avg_func_ccn = []\n",
    "        file_avg_func_nloc = []\n",
    "        metrics = lizard.analyze_file.analyze_source_code(df[name_col][i], df[data_col][i])\n",
    "        class_dict = {}\n",
    "        for func in metrics.function_list:\n",
    "            class_name = '::'.join(func.name.split(\"::\")[:-1])\n",
    "            if class_name in class_dict:\n",
    "                class_dict[class_name].append(func)\n",
    "            else:\n",
    "                class_dict[class_name] = [func]\n",
    "        for class_key in class_dict:\n",
    "            total_class_ccn = 0\n",
    "            total_class_nloc = 0\n",
    "            for func in class_dict[class_key]:\n",
    "                total_class_ccn += func.cyclomatic_complexity\n",
    "                total_class_nloc += func.length\n",
    "            file_num_funcs.append(len(class_dict[class_key]))\n",
    "            file_class_ccn.append(total_class_ccn)\n",
    "            file_avg_func_ccn.append(total_class_ccn/len(class_dict[class_key]))\n",
    "            file_avg_func_nloc.append(total_class_nloc/len(class_dict[class_key]))\n",
    "\n",
    "        num_funcs.append(file_num_funcs)\n",
    "        class_ccn.append(file_class_ccn)\n",
    "        avg_func_ccn.append(file_avg_func_ccn)\n",
    "        avg_func_nloc.append(file_avg_func_nloc)\n",
    "\n",
    "    df[\"num_funcs\"] = num_funcs\n",
    "    df[\"class_ccn\"] = class_ccn\n",
    "    df[\"avg_func_ccn\"] = avg_func_ccn\n",
    "    df[\"avg_func_nloc\"] = avg_func_nloc\n",
    "    return df"
   ]
  },
  {
   "cell_type": "code",
   "execution_count": null,
   "metadata": {},
   "outputs": [
    {
     "data": {
      "text/html": [
       "<div>\n",
       "<style scoped>\n",
       "    .dataframe tbody tr th:only-of-type {\n",
       "        vertical-align: middle;\n",
       "    }\n",
       "\n",
       "    .dataframe tbody tr th {\n",
       "        vertical-align: top;\n",
       "    }\n",
       "\n",
       "    .dataframe thead th {\n",
       "        text-align: right;\n",
       "    }\n",
       "</style>\n",
       "<table border=\"1\" class=\"dataframe\">\n",
       "  <thead>\n",
       "    <tr style=\"text-align: right;\">\n",
       "      <th></th>\n",
       "      <th>system</th>\n",
       "      <th>name</th>\n",
       "      <th>ground_truth</th>\n",
       "      <th>contents</th>\n",
       "      <th>encoding</th>\n",
       "      <th>num_funcs</th>\n",
       "      <th>class_ccn</th>\n",
       "      <th>avg_func_ccn</th>\n",
       "      <th>avg_func_nloc</th>\n",
       "    </tr>\n",
       "  </thead>\n",
       "  <tbody>\n",
       "    <tr>\n",
       "      <th>0</th>\n",
       "      <td>None</td>\n",
       "      <td>test_java_file.java</td>\n",
       "      <td>src</td>\n",
       "      <td>public int main() {}</td>\n",
       "      <td>ascii</td>\n",
       "      <td>[1]</td>\n",
       "      <td>[1]</td>\n",
       "      <td>[1.0]</td>\n",
       "      <td>[1.0]</td>\n",
       "    </tr>\n",
       "  </tbody>\n",
       "</table>\n",
       "</div>"
      ],
      "text/plain": [
       "  system                 name ground_truth              contents encoding num_funcs class_ccn avg_func_ccn avg_func_nloc\n",
       "0   None  test_java_file.java          src  public int main() {}    ascii       [1]       [1]        [1.0]         [1.0]"
      ]
     },
     "execution_count": null,
     "metadata": {},
     "output_type": "execute_result"
    }
   ],
   "source": [
    "# Setting up test data\n",
    "file_path = \"test_java_file.java\"\n",
    "folder_path = \"test_dir\"\n",
    "if not(folder_path):\n",
    "    os.mkdir(folder_path)\n",
    "with open(os.path.join(folder_path, file_path), 'w') as f:\n",
    "    f.write(\"public int main() {}\")\n",
    "# Calling function\n",
    "pd_dataframe = simulate_getting_dataframes_from_mongo(folder_path)\n",
    "pd_dataframe = add_mccabe_metrics(pd_dataframe, \"contents\", \"name\")\n",
    "# Cleanup\n",
    "os.remove(os.path.join(folder_path,file_path))\n",
    "os.rmdir(folder_path)\n",
    "# Displaying output\n",
    "pd.set_option('display.expand_frame_repr', False)\n",
    "pd_dataframe.head()"
   ]
  },
  {
   "cell_type": "code",
   "execution_count": null,
   "metadata": {},
   "outputs": [],
   "source": [
    "'''\n",
    "Creates a dictionary of tree-sitter parsers for select languages\n",
    "\n",
    ":param path: None\n",
    ":returns: dictionary with:\n",
    "java, java language\n",
    "cpp, cpp language\n",
    "python, python language\n",
    "'''\n",
    "def create_parser_builds(path=None):\n",
    "    \"\"\"Creates a dictionary of tree-sitter parsers for select languages\"\"\"\n",
    "    Language.build_library(\n",
    "        # Store the library in the `build` directory\n",
    "        'build/my-languages.so',\n",
    "\n",
    "        # Include one or more languages\n",
    "        [\n",
    "            'tree-sitter-java',\n",
    "            'tree-sitter-cpp',\n",
    "            'tree-sitter-python'\n",
    "        ]\n",
    "    )\n",
    "\n",
    "    JAVA_LANGUAGE = Language('build/my-languages.so', 'java')\n",
    "    CPP_LANGUAGE = Language('build/my-languages.so', 'cpp')\n",
    "    PY_LANGUAGE = Language('build/my-languages.so', 'python')\n",
    "    \n",
    "    return {\"java\":JAVA_LANGUAGE, \"cpp\":CPP_LANGUAGE, \"py\":PY_LANGUAGE}"
   ]
  },
  {
   "cell_type": "code",
   "execution_count": null,
   "metadata": {},
   "outputs": [],
   "source": [
    "'''\n",
    "returns correct parser based on file extension\n",
    "'''\n",
    "def lcom5_parser(ext):\n",
    "    if ext == \"java\":\n",
    "        return ParserJava()\n",
    "    if ext == \"cpp\":\n",
    "        return ParserCPP()\n",
    "    if ext == \"py\":\n",
    "        return ParserPython()\n",
    "    print(f\"ERROR: No LCOM5 parser available for .{ext} extension files\")"
   ]
  },
  {
   "cell_type": "code",
   "execution_count": null,
   "metadata": {},
   "outputs": [],
   "source": [
    "#export\n",
    "'''\n",
    "Parses the syntax tree of code to calculate the LCOM5 of its classes\n",
    "\n",
    ":param tree: syntax tree\n",
    ":param extension: file extension type\n",
    ":param file_bytes: list of bytes\n",
    ":param name: not used\n",
    ":returns: LCOM5 list\n",
    "'''\n",
    "def calculate_lcom5(tree, extension, file_bytes, name):\n",
    "    parser = lcom5_parser(extension)\n",
    "    if not parser:\n",
    "        return [\"Undefined\"]\n",
    "\n",
    "    root_node = tree.root_node\n",
    "    class_nodes = parser.find_class_nodes(root_node)\n",
    "    class_method_names = []\n",
    "    class_field_names = []\n",
    "    class_dfc = [] # Distinct field calls, as per the definition of LCOM5\n",
    "    for node in enumerate(class_nodes):\n",
    "        class_method_names.append(parser.find_method_names(node[1], file_bytes))\n",
    "        class_field_names.append(parser.find_field_names(node[1], class_method_names[node[0]], file_bytes))\n",
    "        class_dfc.append(parser.distinct_field_calls(node[1], class_field_names[node[0]], file_bytes))\n",
    "    lcom5_list = []\n",
    "    for j in range(len(class_nodes)):\n",
    "        num_fields = len(class_field_names[j])\n",
    "        num_meths = len(class_method_names[j])\n",
    "        num_dac = class_dfc[j]\n",
    "        numerator = num_dac - (num_meths*num_fields)\n",
    "        denominator = num_fields - (num_meths*num_fields)\n",
    "        if denominator == 0:\n",
    "            lcom5_list.append(\"Undefined\")\n",
    "        else:\n",
    "            lcom5_list.append(numerator/denominator)\n",
    "    return lcom5_list"
   ]
  },
  {
   "cell_type": "markdown",
   "metadata": {},
   "source": [
    "# Add_lcom5 & test"
   ]
  },
  {
   "cell_type": "code",
   "execution_count": null,
   "metadata": {},
   "outputs": [],
   "source": [
    "#export\n",
    "def add_lcom5(df, col):\n",
    "    \"\"\"Adds a column with the LCOM5 of each class of each file to a dataframe\"\"\"\n",
    "    lang_builds = create_parser_builds()\n",
    "    parser = Parser()\n",
    "    class_lcom5 = []\n",
    "    \n",
    "    for i in range(len(df)):\n",
    "        ext = df[\"name\"][i].split('.')[-1]\n",
    "        parser.set_language(lang_builds[ext])\n",
    "        enc = df[\"encoding\"][i]\n",
    "        tree = parser.parse(bytes(df[\"contents\"][i], df[\"encoding\"][i]))\n",
    "        class_lcom5.append(calculate_lcom5(tree, ext, bytes(df[\"contents\"][i], df[\"encoding\"][i]), df[\"name\"][i]))\n",
    "    df[\"class_lcom5\"] = class_lcom5\n",
    "    \n",
    "    return df"
   ]
  },
  {
   "cell_type": "code",
   "execution_count": null,
   "metadata": {},
   "outputs": [
    {
     "data": {
      "text/html": [
       "<div>\n",
       "<style scoped>\n",
       "    .dataframe tbody tr th:only-of-type {\n",
       "        vertical-align: middle;\n",
       "    }\n",
       "\n",
       "    .dataframe tbody tr th {\n",
       "        vertical-align: top;\n",
       "    }\n",
       "\n",
       "    .dataframe thead th {\n",
       "        text-align: right;\n",
       "    }\n",
       "</style>\n",
       "<table border=\"1\" class=\"dataframe\">\n",
       "  <thead>\n",
       "    <tr style=\"text-align: right;\">\n",
       "      <th></th>\n",
       "      <th>system</th>\n",
       "      <th>name</th>\n",
       "      <th>ground_truth</th>\n",
       "      <th>contents</th>\n",
       "      <th>encoding</th>\n",
       "      <th>class_lcom5</th>\n",
       "    </tr>\n",
       "  </thead>\n",
       "  <tbody>\n",
       "    <tr>\n",
       "      <th>0</th>\n",
       "      <td>None</td>\n",
       "      <td>test_java_file.java</td>\n",
       "      <td>src</td>\n",
       "      <td>class SomeClass {int var, i, able; public int ...</td>\n",
       "      <td>ascii</td>\n",
       "      <td>[1.6666666666666667]</td>\n",
       "    </tr>\n",
       "  </tbody>\n",
       "</table>\n",
       "</div>"
      ],
      "text/plain": [
       "  system                 name ground_truth                                           contents encoding           class_lcom5\n",
       "0   None  test_java_file.java          src  class SomeClass {int var, i, able; public int ...    ascii  [1.6666666666666667]"
      ]
     },
     "execution_count": null,
     "metadata": {},
     "output_type": "execute_result"
    }
   ],
   "source": [
    "# Setting up test data\n",
    "file_path = \"test_java_file.java\"\n",
    "folder_path = \"test_data/test_dir\"\n",
    "if(not folder_path):\n",
    "    os.mkdir(folder_path)\n",
    "with open(os.path.join(folder_path, file_path), 'w') as f:\n",
    "    f.write(\"class SomeClass {int var, i, able; public int main() {return 0;} public void helper() {return i;}}\")\n",
    "# Calling function\n",
    "pd_dataframe = simulate_getting_dataframes_from_mongo(folder_path)\n",
    "pd_dataframe = add_lcom5(pd_dataframe, \"contents\")\n",
    "# Cleanup\n",
    "os.remove(os.path.join(folder_path,file_path))\n",
    "os.rmdir(folder_path)\n",
    "# Displaying output\n",
    "pd.set_option('display.expand_frame_repr', False)\n",
    "pd_dataframe.head()"
   ]
  },
  {
   "cell_type": "markdown",
   "metadata": {},
   "source": [
    "# Flatten_lol & test"
   ]
  },
  {
   "cell_type": "code",
   "execution_count": null,
   "metadata": {},
   "outputs": [],
   "source": [
    "#export\n",
    "'''\n",
    "Takes in a list of lists and flattens it, returning a list of each entry\n",
    "\n",
    ":param list_list: list of lists to flatten\n",
    ":returns: flattened list\n",
    "'''\n",
    "def flatten_lol(list_list):\n",
    "    flattened_list = []\n",
    "    for sublist in list_list:\n",
    "        for entry in sublist:\n",
    "            flattened_list.append(entry)\n",
    "    return flattened_list"
   ]
  },
  {
   "cell_type": "code",
   "execution_count": null,
   "metadata": {},
   "outputs": [
    {
     "name": "stdout",
     "output_type": "stream",
     "text": [
      "[1, 2, 3, 5, 6, 7, 'apple', 'pear', 'banana']\n"
     ]
    }
   ],
   "source": [
    "# Setting up test data\n",
    "list_of_lists = [[1, 2, 3], [5, 6, 7], [\"apple\", \"pear\", \"banana\"]]\n",
    "# Calling function\n",
    "flattened = flatten_lol(list_of_lists)\n",
    "# Displaying outputs\n",
    "assert(str(flattened) == \"[1, 2, 3, 5, 6, 7, 'apple', 'pear', 'banana']\")"
   ]
  },
  {
   "cell_type": "markdown",
   "metadata": {},
   "source": [
    "# Display_numeric_col_stats & test"
   ]
  },
  {
   "cell_type": "code",
   "execution_count": null,
   "metadata": {},
   "outputs": [],
   "source": [
    "# export\n",
    "def display_numeric_col_stats(col, conf = 0.95, sig_figs = 4, clean=True, verbose_clean=False):\n",
    "    \"\"\"Computes statistical metrics about the entries in a dataframe column or list\"\"\"\n",
    "    previous_length = len(col)\n",
    "    numeric_types = [int, float, complex]\n",
    "    if clean: col = [x for x in col if type(x) in numeric_types]\n",
    "    if verbose_clean: print(f\"Cleaning removed {previous_length - len(col)} non-numeric entries\")\n",
    "\n",
    "    if len(col) < 1:\n",
    "        print(\"Error, data must contain at least one valid entry to display statistics\")\n",
    "        return\n",
    "\n",
    "    print(\"Min =\", round(min(col), sig_figs))\n",
    "    print(\"Max =\", round(max(col), sig_figs))\n",
    "    print(\"Average =\", round(mean(col), sig_figs))\n",
    "    print(\"Median =\", round(median(col), sig_figs))\n",
    "    print(\"Standard Deviation =\", round(std(col), sig_figs))\n",
    "    \n",
    "    n = len(col)\n",
    "    m = mean(col)\n",
    "    std_err = sem(col)\n",
    "    h = std_err * t.ppf((1 + conf) / 2, n - 1)\n",
    "\n",
    "    start = m - h\n",
    "    end = m + h\n",
    "    print(f\"{conf} of data points fall between {round(start, sig_figs)} and {round(end, sig_figs)}\")"
   ]
  },
  {
   "cell_type": "code",
   "execution_count": null,
   "metadata": {},
   "outputs": [
    {
     "name": "stdout",
     "output_type": "stream",
     "text": [
      "Min = 1\n",
      "Max = 5\n",
      "Average = 3.0\n",
      "Median = 3\n",
      "Standard Deviation = 1.1952\n",
      "0.95 of data points fall between 1.806 and 4.194\n"
     ]
    },
    {
     "data": {
      "text/plain": [
       "'Note: the function ignores not-numeric entries, so apple, \\npear and banana do not create issues'"
      ]
     },
     "execution_count": null,
     "metadata": {},
     "output_type": "execute_result"
    }
   ],
   "source": [
    "# Setting up test data\n",
    "data = [[1, 2, 3], [3, 3, 4, 5], [\"apple\" \"banana\"]]\n",
    "flat_data = flatten_lol(data)\n",
    "# Calling function\n",
    "display_numeric_col_stats(flat_data)\n",
    "\"\"\"Note: the function ignores not-numeric entries, so apple, \n",
    "pear and banana do not create issues\"\"\""
   ]
  },
  {
   "cell_type": "markdown",
   "metadata": {},
   "source": [
    "# Display_numeric_col_hist & test"
   ]
  },
  {
   "cell_type": "code",
   "execution_count": null,
   "metadata": {},
   "outputs": [],
   "source": [
    "#export\n",
    "'''\n",
    "Displays a histogram with a customized number of bins for the data in a specified dataframe column or list\n",
    "\n",
    ":param col: df column or list to plot\n",
    ":param col_name: name of col\n",
    ":param num_bins: number of bins\n",
    ":param clean: only look at ints, floats, or complex in col\n",
    ":param verbose_clean: displays non-numeric entries removed\n",
    "'''\n",
    "def display_numeric_col_hist(col, col_name=\"Metric\", num_bins=20, clean=True, verbose_clean=False):\n",
    "    previous_length = len(col)\n",
    "    numeric_types = [int, float, complex]\n",
    "    if clean: col = [x for x in col if type(x) in numeric_types]\n",
    "    if verbose_clean: print(f\"Cleaning removed {previous_length - len(col)} non-numeric entries\")\n",
    "\n",
    "    if len(col) < 1:\n",
    "        print(\"Error, data must contain at least one valid entry to display histogram\")\n",
    "        return    \n",
    "\n",
    "    rng = max(col) - min(col)\n",
    "    num = len(col)\n",
    "    stnd_dev = std(col)\n",
    "\n",
    "    plt.hist(col, num_bins, color=\"blue\", alpha=0.5, edgecolor=\"black\", linewidth=1.0)\n",
    "    plt.title(col_name + \" Histogram\")\n",
    "    plt.ylabel(\"Value  Range  Occurrences\")\n",
    "    plt.xlabel(col_name)\n",
    "    plt.show()"
   ]
  },
  {
   "cell_type": "code",
   "execution_count": null,
   "metadata": {},
   "outputs": [
    {
     "data": {
      "image/png": "[encoded data removed]",
      "text/plain": [
       "<Figure size 432x288 with 1 Axes>"
      ]
     },
     "metadata": {
      "needs_background": "light"
     },
     "output_type": "display_data"
    },
    {
     "data": {
      "text/plain": [
       "'Note: the function ignores not-numeric entries, so apple, \\npear and banana do not create issues'"
      ]
     },
     "execution_count": null,
     "metadata": {},
     "output_type": "execute_result"
    }
   ],
   "source": [
    "# Setting up test data\n",
    "data = [[1, 2, 3], [3, 3, 4, 5], [\"apple\" \"banana\"]]\n",
    "flat_data = flatten_lol(data)\n",
    "# Calling function\n",
    "display_numeric_col_hist(flat_data, \"Test Data\", num_bins=5)\n",
    "\"\"\"Note: the function ignores not-numeric entries, so apple, \n",
    "pear and banana do not create issues\"\"\""
   ]
  },
  {
   "cell_type": "code",
   "execution_count": null,
   "metadata": {},
   "outputs": [],
   "source": []
  }
 ],
 "metadata": {
  "kernelspec": {
   "display_name": "Python 3",
   "language": "python",
   "name": "python3"
  }
 },
 "nbformat": 4,
 "nbformat_minor": 1
}
