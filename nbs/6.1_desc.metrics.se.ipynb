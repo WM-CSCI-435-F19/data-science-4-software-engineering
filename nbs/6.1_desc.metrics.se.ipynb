{
 "cells": [
  {
   "cell_type": "code",
   "execution_count": null,
   "metadata": {},
   "outputs": [],
   "source": [
    "# default_exp desc.metrics.se"
   ]
  },
  {
   "cell_type": "markdown",
   "metadata": {},
   "source": [
    "# Exploration Statistics\n",
    "\n",
    "> This module comprises all the functions for calculating descriptive statistics."
   ]
  },
  {
   "cell_type": "code",
   "execution_count": null,
   "metadata": {},
   "outputs": [
    {
     "name": "stdout",
     "output_type": "stream",
     "text": [
      "Requirement already satisfied: dit in /usr/local/lib/python3.6/dist-packages (1.2.3)\n",
      "Requirement already satisfied: scipy>=0.15.0 in /usr/local/lib/python3.6/dist-packages (from dit) (1.4.1)\n",
      "Requirement already satisfied: networkx in /usr/local/lib/python3.6/dist-packages (from dit) (2.4)\n",
      "Requirement already satisfied: contextlib2 in /usr/local/lib/python3.6/dist-packages (from dit) (0.5.5)\n",
      "Requirement already satisfied: numpy>=1.11 in /usr/local/lib/python3.6/dist-packages (from dit) (1.17.5)\n",
      "Requirement already satisfied: boltons in /usr/local/lib/python3.6/dist-packages (from dit) (20.0.0)\n",
      "Requirement already satisfied: debtcollector in /usr/local/lib/python3.6/dist-packages (from dit) (2.0.0)\n",
      "Requirement already satisfied: six>=1.4.0 in /usr/local/lib/python3.6/dist-packages (from dit) (1.12.0)\n",
      "Requirement already satisfied: prettytable in /usr/local/lib/python3.6/dist-packages (from dit) (0.7.2)\n",
      "Requirement already satisfied: decorator>=4.3.0 in /usr/local/lib/python3.6/dist-packages (from networkx->dit) (4.4.1)\n",
      "Requirement already satisfied: wrapt>=1.7.0 in /usr/local/lib/python3.6/dist-packages (from debtcollector->dit) (1.11.2)\n",
      "Requirement already satisfied: pbr!=2.1.0,>=2.0.0 in /usr/local/lib/python3.6/dist-packages (from debtcollector->dit) (5.4.4)\n",
      "Requirement already satisfied: sentencepiece in /usr/local/lib/python3.6/dist-packages (0.1.85)\n"
     ]
    }
   ],
   "source": [
    "!pip install dit\n",
    "!pip install sentencepiece"
   ]
  },
  {
   "cell_type": "code",
   "execution_count": null,
   "metadata": {},
   "outputs": [],
   "source": [
    "# export\n",
    "# Imports\n",
    "from scipy.stats import sem, t, median_absolute_deviation as mad\n",
    "from statistics import mean, median, stdev"
   ]
  },
  {
   "cell_type": "code",
   "execution_count": null,
   "metadata": {},
   "outputs": [],
   "source": [
    "#hide\n",
    "from nbdev.showdoc import *"
   ]
  },
  {
   "cell_type": "code",
   "execution_count": null,
   "metadata": {},
   "outputs": [],
   "source": [
    "#export\n",
    "'''\n",
    "Returns max, min, mena, median, standard deviation, mean absolute deviation of a list\n",
    "\n",
    ":param l: input list\n",
    ":returns: see above\n",
    "'''\n",
    "def get_desc_stats(l):\n",
    "    return max(l), min(l), mean(l), median(l), stdev(l), mad(l)"
   ]
  },
  {
   "cell_type": "code",
   "execution_count": null,
   "metadata": {},
   "outputs": [],
   "source": [
    "#test list\n",
    "l = [1, 2, 4, 8, 7, 10]"
   ]
  },
  {
   "cell_type": "code",
   "execution_count": null,
   "metadata": {},
   "outputs": [
    {
     "data": {
      "text/plain": [
       "(10, 1, 5.333333333333333, 5.5, 3.559026084010437, 4.4478)"
      ]
     },
     "execution_count": null,
     "metadata": {},
     "output_type": "execute_result"
    }
   ],
   "source": [
    "result = get_desc_stats(l)\n",
    "#expected outcome:\n",
    "#max = 10\n",
    "#min = 1\n",
    "#mean = 5.33333333\n",
    "#median = 5.5\n",
    "#stdev = 3.55902608\n",
    "#mad = 4.4478\n",
    "assert result[0] == 10\n",
    "assert result[1] == 1\n",
    "assert result[2] > 5.3\n",
    "assert result[2] < 5.4\n",
    "assert result[3] == 5.5\n",
    "assert result[4] > 3.55\n",
    "assert result[4] < 3.56\n",
    "assert result[5] > 4.44\n",
    "assert result[5] < 4.45"
   ]
  },
  {
   "cell_type": "code",
   "execution_count": null,
   "metadata": {},
   "outputs": [],
   "source": [
    "#export\n",
    "'''\n",
    "Calculates confidence interval of a list\n",
    "\n",
    ":param l: input list\n",
    ":param c: confidence value\n",
    ":returns: start of interval and end of interval\n",
    "'''\n",
    "def confidence_interval(l, c = 0.95):\n",
    "    n = len(l)\n",
    "    m = mean(l)\n",
    "    std_err = sem(l)\n",
    "    h = std_err * t.ppf((1 + c) / 2, n - 1)\n",
    "\n",
    "    start = m - h\n",
    "    end = m + h\n",
    "    \n",
    "    return start, end"
   ]
  },
  {
   "cell_type": "code",
   "execution_count": null,
   "metadata": {},
   "outputs": [
    {
     "data": {
      "text/plain": [
       "(1.598364516031722, 9.068302150634944)"
      ]
     },
     "execution_count": null,
     "metadata": {},
     "output_type": "execute_result"
    }
   ],
   "source": [
    "#Test confidence Interval\n",
    "testCI = confidence_interval(l)\n",
    "\n",
    "assert(testCI[0] == 1.598364516031722)\n",
    "\n",
    "assert(testCI[1] == 9.068302150634944)"
   ]
  },
  {
   "cell_type": "code",
   "execution_count": null,
   "metadata": {},
   "outputs": [],
   "source": [
    "#export\n",
    "'''\n",
    "Returns formatted version of stats\n",
    "\n",
    ":param l: list of integers\n",
    ":param c: confidence interval\n",
    ":returns: prints out all stats and confidence interval with nice formatting\n",
    "'''\n",
    "def report_stats(l, c = 0.95):\n",
    "    mini, maxi, μ, med, σ, med_σ = get_desc_stats(l)\n",
    "    print(\"Max:\", mini)\n",
    "    print(\"Min:\", maxi)\n",
    "    print(\"Average:\", μ)\n",
    "    print(\"Median:\", med)\n",
    "    print(\"Standard Deviation:\", σ)\n",
    "    print(\"Median Absolute Deviation:\", med_σ)\n",
    "\n",
    "    start, end = confidence_interval(l, c = 0.95)\n",
    "    print(f\"{int(c * 100)}% of the data fall within {start} and {end}\")"
   ]
  },
  {
   "cell_type": "code",
   "execution_count": null,
   "metadata": {},
   "outputs": [
    {
     "name": "stdout",
     "output_type": "stream",
     "text": [
      "Max: 10\n",
      "Min: 1\n",
      "Average: 5.333333333333333\n",
      "Median: 5.5\n",
      "Standard Deviation: 3.559026084010437\n",
      "Median Absolute Deviation: 4.4478\n",
      "95% of entropies fall within 1.598364516031722 and 9.068302150634944\n"
     ]
    }
   ],
   "source": [
    "report_stats(l)"
   ]
  },
  {
   "cell_type": "code",
   "execution_count": null,
   "metadata": {},
   "outputs": [
    {
     "data": {
      "image/png": "[encoded data removed]",
      "text/plain": [
       "<Figure size 432x288 with 1 Axes>"
      ]
     },
     "metadata": {},
     "output_type": "display_data"
    }
   ],
   "source": [
    "# Create a histogram of the entropy distribution\n",
    "plt.hist(LIB_entropies, bins = 20)\n",
    "plt.ylabel(\"Num Files\")\n",
    "plt.xlabel(\"Entropy\")\n",
    "plt.show()"
   ]
  },
  {
   "cell_type": "code",
   "execution_count": null,
   "metadata": {},
   "outputs": [
    {
     "name": "stdout",
     "output_type": "stream",
     "text": [
      "Converted 00_data.preprocessing.ipynb.\n",
      "Converted 01_data.exploratory.information.ipynb.\n",
      "Converted 01_data.exploratory.ipynb.\n",
      "Converted 02_data.management.ipynb.\n",
      "Converted 03_data.representation.ipynb.\n",
      "Converted 04_templates.example.ipynb.\n",
      "Converted 05_blog.example.ipynb.\n",
      "Converted 06_benchmark.traceability.ipynb.\n",
      "Converted 07_model.train.ipynb.\n",
      "Converted 08_data.exploratory.information.ipynb.\n",
      "Converted 09_data.exploratory.stats.ipynb.\n",
      "Converted 10_data.exploratory.visualize.ipynb.\n",
      "Converted index.ipynb.\n"
     ]
    }
   ],
   "source": [
    "from nbdev.export import notebook2script\n",
    "notebook2script()"
   ]
  },
  {
   "cell_type": "code",
   "execution_count": null,
   "metadata": {},
   "outputs": [],
   "source": []
  }
 ],
 "metadata": {
  "kernelspec": {
   "display_name": "Python 3",
   "language": "python",
   "name": "python3"
  }
 },
 "nbformat": 4,
 "nbformat_minor": 1
}
