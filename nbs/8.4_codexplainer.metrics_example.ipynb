{
 "cells": [
  {
   "cell_type": "code",
   "execution_count": null,
   "metadata": {},
   "outputs": [],
   "source": [
    "# default_exp codexplainer.metrics_example"
   ]
  },
  {
   "cell_type": "code",
   "execution_count": null,
   "metadata": {},
   "outputs": [],
   "source": [
    "import ds4se as ds\n",
    "from ds4se.metrics_python import *\n",
    "from ds4se.metrics_java import *"
   ]
  },
  {
   "cell_type": "code",
   "execution_count": null,
   "metadata": {},
   "outputs": [],
   "source": [
    "import pandas as pd"
   ]
  },
  {
   "cell_type": "markdown",
   "metadata": {},
   "source": [
    "Compute metrics for Python and Java source code using 3rd party libraries"
   ]
  },
  {
   "cell_type": "markdown",
   "metadata": {},
   "source": [
    "For example purposes some datasets are loaded"
   ]
  },
  {
   "cell_type": "markdown",
   "metadata": {},
   "source": [
    "## Python"
   ]
  },
  {
   "cell_type": "code",
   "execution_count": null,
   "metadata": {},
   "outputs": [],
   "source": [
    "#TODO create general parameters\n",
    "python_df = pd.read_csv('/tf/data/clean_python.csv')"
   ]
  },
  {
   "cell_type": "code",
   "execution_count": null,
   "metadata": {},
   "outputs": [],
   "source": [
    "python_samples = python_df.sample(100)"
   ]
  },
  {
   "cell_type": "code",
   "execution_count": null,
   "metadata": {},
   "outputs": [],
   "source": [
    "py_analyzer = PythonAnalyzer()"
   ]
  },
  {
   "cell_type": "code",
   "execution_count": null,
   "metadata": {},
   "outputs": [
    {
     "name": "stdout",
     "output_type": "stream",
     "text": [
      "Help on PythonAnalyzer in module ds4se.metrics_python object:\n",
      "\n",
      "class PythonAnalyzer(builtins.object)\n",
      " |  Class aimed to obtain metrics from a dataset of python source code records.\n",
      " |  Metrics computation is performed via an open source library.\n",
      " |  \n",
      " |  Methods defined here:\n",
      " |  \n",
      " |  compute_and_save_metrics_for_df(self, df_series, destination_path)\n",
      " |      Computes metrics (static analysis) for a pandas df column (series).\n",
      " |      Additionaly, exports metrics results to a csv file located at the specified path\n",
      " |      \n",
      " |      Params:\n",
      " |      # df_series: Pandas DF column containing source code records\n",
      " |      # destination_path: string indicating full path (including filename) for the exported file\n",
      " |      \n",
      " |      Returns:\n",
      " |      Tuple comprising\n",
      " |      \n",
      " |      - Pandas DataFrame with computed metrics\n",
      " |      - List of records' indices for which metrics could not be computed\n",
      " |  \n",
      " |  compute_metrics_for_df_series(self, df_series)\n",
      " |      Computes metrics (static analysis) for a collection of source code records\n",
      " |      \n",
      " |      Params:\n",
      " |      # df_series: Pandas DF column containing source code records\n",
      " |      \n",
      " |      Returns:\n",
      " |      Tuple comprising\n",
      " |      \n",
      " |      - Pandas DataFrame with computed metrics\n",
      " |      - List of records' indices for which metrics could not be computed\n",
      " |  \n",
      " |  ----------------------------------------------------------------------\n",
      " |  Data descriptors defined here:\n",
      " |  \n",
      " |  __dict__\n",
      " |      dictionary for instance variables (if defined)\n",
      " |  \n",
      " |  __weakref__\n",
      " |      list of weak references to the object (if defined)\n",
      "\n"
     ]
    }
   ],
   "source": [
    "help(py_analyzer)"
   ]
  },
  {
   "cell_type": "markdown",
   "metadata": {},
   "source": [
    "The method returns a tuple with 2 elements:\n",
    "<ul>\n",
    "    <li>metrics_df: \n",
    "        <p>pandas dataframe with the computed metrics.</p>\n",
    "    </li>\n",
    "    <li>error_indices\n",
    "        <p>list of integers with the indices of the records for which metrics could not be computed/p>\n",
    "    </li>\n",
    "</ul>"
   ]
  },
  {
   "cell_type": "code",
   "execution_count": null,
   "metadata": {},
   "outputs": [
    {
     "name": "stdout",
     "output_type": "stream",
     "text": [
      "There was a problem computing metrics for 2 records.\n"
     ]
    }
   ],
   "source": [
    "metrics_df, error_indices = py_analyzer.compute_metrics_for_df_series(python_samples['code'])"
   ]
  },
  {
   "cell_type": "code",
   "execution_count": null,
   "metadata": {},
   "outputs": [
    {
     "data": {
      "text/html": [
       "<div>\n",
       "<style scoped>\n",
       "    .dataframe tbody tr th:only-of-type {\n",
       "        vertical-align: middle;\n",
       "    }\n",
       "\n",
       "    .dataframe tbody tr th {\n",
       "        vertical-align: top;\n",
       "    }\n",
       "\n",
       "    .dataframe thead th {\n",
       "        text-align: right;\n",
       "    }\n",
       "</style>\n",
       "<table border=\"1\" class=\"dataframe\">\n",
       "  <thead>\n",
       "    <tr style=\"text-align: right;\">\n",
       "      <th></th>\n",
       "      <th>sample</th>\n",
       "      <th>loc</th>\n",
       "      <th>lloc</th>\n",
       "      <th>sloc</th>\n",
       "      <th>comments</th>\n",
       "      <th>multi</th>\n",
       "      <th>blank</th>\n",
       "      <th>single_comments</th>\n",
       "      <th>h1</th>\n",
       "      <th>h2</th>\n",
       "      <th>...</th>\n",
       "      <th>length</th>\n",
       "      <th>calculated_length</th>\n",
       "      <th>volume</th>\n",
       "      <th>difficulty</th>\n",
       "      <th>effort</th>\n",
       "      <th>time</th>\n",
       "      <th>bugs</th>\n",
       "      <th>complexity</th>\n",
       "      <th>maint_idx</th>\n",
       "      <th>maint_idx_rank</th>\n",
       "    </tr>\n",
       "  </thead>\n",
       "  <tbody>\n",
       "    <tr>\n",
       "      <th>0</th>\n",
       "      <td>244417.0</td>\n",
       "      <td>9.0</td>\n",
       "      <td>6.0</td>\n",
       "      <td>5.0</td>\n",
       "      <td>0.0</td>\n",
       "      <td>3.0</td>\n",
       "      <td>1.0</td>\n",
       "      <td>0.0</td>\n",
       "      <td>0.0</td>\n",
       "      <td>0.0</td>\n",
       "      <td>...</td>\n",
       "      <td>0.0</td>\n",
       "      <td>0.00000</td>\n",
       "      <td>0.000000</td>\n",
       "      <td>0.0</td>\n",
       "      <td>0.000000</td>\n",
       "      <td>0.000000</td>\n",
       "      <td>0.00000</td>\n",
       "      <td>3.0</td>\n",
       "      <td>100.000000</td>\n",
       "      <td>A</td>\n",
       "    </tr>\n",
       "    <tr>\n",
       "      <th>1</th>\n",
       "      <td>116407.0</td>\n",
       "      <td>12.0</td>\n",
       "      <td>8.0</td>\n",
       "      <td>11.0</td>\n",
       "      <td>0.0</td>\n",
       "      <td>0.0</td>\n",
       "      <td>0.0</td>\n",
       "      <td>1.0</td>\n",
       "      <td>0.0</td>\n",
       "      <td>0.0</td>\n",
       "      <td>...</td>\n",
       "      <td>0.0</td>\n",
       "      <td>0.00000</td>\n",
       "      <td>0.000000</td>\n",
       "      <td>0.0</td>\n",
       "      <td>0.000000</td>\n",
       "      <td>0.000000</td>\n",
       "      <td>0.00000</td>\n",
       "      <td>3.0</td>\n",
       "      <td>100.000000</td>\n",
       "      <td>A</td>\n",
       "    </tr>\n",
       "    <tr>\n",
       "      <th>2</th>\n",
       "      <td>170388.0</td>\n",
       "      <td>10.0</td>\n",
       "      <td>3.0</td>\n",
       "      <td>2.0</td>\n",
       "      <td>0.0</td>\n",
       "      <td>8.0</td>\n",
       "      <td>0.0</td>\n",
       "      <td>0.0</td>\n",
       "      <td>0.0</td>\n",
       "      <td>0.0</td>\n",
       "      <td>...</td>\n",
       "      <td>0.0</td>\n",
       "      <td>0.00000</td>\n",
       "      <td>0.000000</td>\n",
       "      <td>0.0</td>\n",
       "      <td>0.000000</td>\n",
       "      <td>0.000000</td>\n",
       "      <td>0.00000</td>\n",
       "      <td>1.0</td>\n",
       "      <td>100.000000</td>\n",
       "      <td>A</td>\n",
       "    </tr>\n",
       "    <tr>\n",
       "      <th>3</th>\n",
       "      <td>431088.0</td>\n",
       "      <td>6.0</td>\n",
       "      <td>6.0</td>\n",
       "      <td>5.0</td>\n",
       "      <td>0.0</td>\n",
       "      <td>0.0</td>\n",
       "      <td>0.0</td>\n",
       "      <td>1.0</td>\n",
       "      <td>2.0</td>\n",
       "      <td>4.0</td>\n",
       "      <td>...</td>\n",
       "      <td>6.0</td>\n",
       "      <td>10.00000</td>\n",
       "      <td>15.509775</td>\n",
       "      <td>1.0</td>\n",
       "      <td>15.509775</td>\n",
       "      <td>0.861654</td>\n",
       "      <td>0.00517</td>\n",
       "      <td>2.0</td>\n",
       "      <td>74.419795</td>\n",
       "      <td>A</td>\n",
       "    </tr>\n",
       "    <tr>\n",
       "      <th>4</th>\n",
       "      <td>44362.0</td>\n",
       "      <td>18.0</td>\n",
       "      <td>14.0</td>\n",
       "      <td>14.0</td>\n",
       "      <td>0.0</td>\n",
       "      <td>0.0</td>\n",
       "      <td>3.0</td>\n",
       "      <td>1.0</td>\n",
       "      <td>1.0</td>\n",
       "      <td>5.0</td>\n",
       "      <td>...</td>\n",
       "      <td>12.0</td>\n",
       "      <td>11.60964</td>\n",
       "      <td>31.019550</td>\n",
       "      <td>0.8</td>\n",
       "      <td>24.815640</td>\n",
       "      <td>1.378647</td>\n",
       "      <td>0.01034</td>\n",
       "      <td>6.0</td>\n",
       "      <td>63.746935</td>\n",
       "      <td>A</td>\n",
       "    </tr>\n",
       "  </tbody>\n",
       "</table>\n",
       "<p>5 rows × 23 columns</p>\n",
       "</div>"
      ],
      "text/plain": [
       "     sample   loc  lloc  sloc  comments  multi  blank  single_comments   h1  \\\n",
       "0  244417.0   9.0   6.0   5.0       0.0    3.0    1.0              0.0  0.0   \n",
       "1  116407.0  12.0   8.0  11.0       0.0    0.0    0.0              1.0  0.0   \n",
       "2  170388.0  10.0   3.0   2.0       0.0    8.0    0.0              0.0  0.0   \n",
       "3  431088.0   6.0   6.0   5.0       0.0    0.0    0.0              1.0  2.0   \n",
       "4   44362.0  18.0  14.0  14.0       0.0    0.0    3.0              1.0  1.0   \n",
       "\n",
       "    h2  ...  length  calculated_length     volume  difficulty     effort  \\\n",
       "0  0.0  ...     0.0            0.00000   0.000000         0.0   0.000000   \n",
       "1  0.0  ...     0.0            0.00000   0.000000         0.0   0.000000   \n",
       "2  0.0  ...     0.0            0.00000   0.000000         0.0   0.000000   \n",
       "3  4.0  ...     6.0           10.00000  15.509775         1.0  15.509775   \n",
       "4  5.0  ...    12.0           11.60964  31.019550         0.8  24.815640   \n",
       "\n",
       "       time     bugs  complexity   maint_idx  maint_idx_rank  \n",
       "0  0.000000  0.00000         3.0  100.000000               A  \n",
       "1  0.000000  0.00000         3.0  100.000000               A  \n",
       "2  0.000000  0.00000         1.0  100.000000               A  \n",
       "3  0.861654  0.00517         2.0   74.419795               A  \n",
       "4  1.378647  0.01034         6.0   63.746935               A  \n",
       "\n",
       "[5 rows x 23 columns]"
      ]
     },
     "execution_count": null,
     "metadata": {},
     "output_type": "execute_result"
    }
   ],
   "source": [
    "metrics_df.head()"
   ]
  },
  {
   "cell_type": "code",
   "execution_count": null,
   "metadata": {},
   "outputs": [
    {
     "data": {
      "text/plain": [
       "[20306, 179905]"
      ]
     },
     "execution_count": null,
     "metadata": {},
     "output_type": "execute_result"
    }
   ],
   "source": [
    "error_indices"
   ]
  },
  {
   "cell_type": "markdown",
   "metadata": {},
   "source": [
    "With the indices, further exploration can be performed on problematic records"
   ]
  },
  {
   "cell_type": "code",
   "execution_count": null,
   "metadata": {},
   "outputs": [],
   "source": [
    "error_records = python_samples.loc[error_indices, ['code']]"
   ]
  },
  {
   "cell_type": "code",
   "execution_count": null,
   "metadata": {},
   "outputs": [
    {
     "data": {
      "text/html": [
       "<div>\n",
       "<style scoped>\n",
       "    .dataframe tbody tr th:only-of-type {\n",
       "        vertical-align: middle;\n",
       "    }\n",
       "\n",
       "    .dataframe tbody tr th {\n",
       "        vertical-align: top;\n",
       "    }\n",
       "\n",
       "    .dataframe thead th {\n",
       "        text-align: right;\n",
       "    }\n",
       "</style>\n",
       "<table border=\"1\" class=\"dataframe\">\n",
       "  <thead>\n",
       "    <tr style=\"text-align: right;\">\n",
       "      <th></th>\n",
       "      <th>code</th>\n",
       "    </tr>\n",
       "  </thead>\n",
       "  <tbody>\n",
       "    <tr>\n",
       "      <th>20306</th>\n",
       "      <td>def _group_flush(self,group,name):\\n        \"\"...</td>\n",
       "    </tr>\n",
       "    <tr>\n",
       "      <th>179905</th>\n",
       "      <td>def execute(self, sql, params=None):\\n        ...</td>\n",
       "    </tr>\n",
       "  </tbody>\n",
       "</table>\n",
       "</div>"
      ],
      "text/plain": [
       "                                                     code\n",
       "20306   def _group_flush(self,group,name):\\n        \"\"...\n",
       "179905  def execute(self, sql, params=None):\\n        ..."
      ]
     },
     "execution_count": null,
     "metadata": {},
     "output_type": "execute_result"
    }
   ],
   "source": [
    "error_records"
   ]
  },
  {
   "cell_type": "markdown",
   "metadata": {},
   "source": [
    "## Java"
   ]
  },
  {
   "cell_type": "markdown",
   "metadata": {},
   "source": [
    "CK jar (file required for the 3d party library) is located at ck_jar_path"
   ]
  },
  {
   "cell_type": "code",
   "execution_count": null,
   "metadata": {},
   "outputs": [],
   "source": [
    "ck_jar_path = 'ck_metrics_tool/ck-metrics.jar'"
   ]
  },
  {
   "cell_type": "code",
   "execution_count": null,
   "metadata": {},
   "outputs": [],
   "source": [
    "java_df = pd.read_csv('/tf/main/nbs/test_data/clean_java.csv')"
   ]
  },
  {
   "cell_type": "code",
   "execution_count": null,
   "metadata": {},
   "outputs": [],
   "source": [
    "java_samples = java_df.sample(100)"
   ]
  },
  {
   "cell_type": "code",
   "execution_count": null,
   "metadata": {},
   "outputs": [],
   "source": [
    "java_analyzer = JavaAnalyzer(ck_jar_path)"
   ]
  },
  {
   "cell_type": "code",
   "execution_count": null,
   "metadata": {},
   "outputs": [
    {
     "name": "stdout",
     "output_type": "stream",
     "text": [
      "Help on JavaAnalyzer in module ds4se.metrics_java object:\n",
      "\n",
      "class JavaAnalyzer(builtins.object)\n",
      " |  Class get metrics f\n",
      " |  \n",
      " |  Methods defined here:\n",
      " |  \n",
      " |  __init__(self, ck_jar_path)\n",
      " |      Initialize self.  See help(type(self)) for accurate signature.\n",
      " |  \n",
      " |  compute_metrics(self, df_series, files_destination_path)\n",
      " |      Computes metrics for a pandas series of java source code snippets\n",
      " |      \n",
      " |      Params\n",
      " |      # df_series: Pandas series (df column) containing java source snippets\n",
      " |      # files_destination_path: Path indicating where the physical .java files are going to be created (for metrics computation)\n",
      " |      \n",
      " |      Returns:\n",
      " |      \n",
      " |      Pandas Dataframe containing metrics\n",
      " |  \n",
      " |  ----------------------------------------------------------------------\n",
      " |  Data descriptors defined here:\n",
      " |  \n",
      " |  __dict__\n",
      " |      dictionary for instance variables (if defined)\n",
      " |  \n",
      " |  __weakref__\n",
      " |      list of weak references to the object (if defined)\n",
      "\n"
     ]
    }
   ],
   "source": [
    "help(java_analyzer)"
   ]
  },
  {
   "cell_type": "code",
   "execution_count": null,
   "metadata": {},
   "outputs": [
    {
     "name": "stdout",
     "output_type": "stream",
     "text": [
      "Generating physical .java files.\n",
      "CK package produced this output:\n",
      "[b'', b'log4j:WARN No appenders could be found for logger (com.github.mauricioaniche.ck.CK).', b'log4j:WARN Please initialize the log4j system properly.', b'']\n"
     ]
    }
   ],
   "source": [
    "metrics_df = java_analyzer.compute_metrics(java_samples['code'], '/tf/main/nbs/test_data/test_metrics')"
   ]
  },
  {
   "cell_type": "code",
   "execution_count": null,
   "metadata": {},
   "outputs": [
    {
     "data": {
      "text/html": [
       "<div>\n",
       "<style scoped>\n",
       "    .dataframe tbody tr th:only-of-type {\n",
       "        vertical-align: middle;\n",
       "    }\n",
       "\n",
       "    .dataframe tbody tr th {\n",
       "        vertical-align: top;\n",
       "    }\n",
       "\n",
       "    .dataframe thead th {\n",
       "        text-align: right;\n",
       "    }\n",
       "</style>\n",
       "<table border=\"1\" class=\"dataframe\">\n",
       "  <thead>\n",
       "    <tr style=\"text-align: right;\">\n",
       "      <th></th>\n",
       "      <th>file</th>\n",
       "      <th>class</th>\n",
       "      <th>wmc</th>\n",
       "      <th>totalMethodsQty</th>\n",
       "      <th>staticMethodsQty</th>\n",
       "      <th>publicMethodsQty</th>\n",
       "      <th>privateMethodsQty</th>\n",
       "      <th>protectedMethodsQty</th>\n",
       "      <th>defaultMethodsQty</th>\n",
       "      <th>abstractMethodsQty</th>\n",
       "      <th>...</th>\n",
       "      <th>numbersQty</th>\n",
       "      <th>assignmentsQty</th>\n",
       "      <th>mathOperationsQty</th>\n",
       "      <th>variablesQty</th>\n",
       "      <th>maxNestedBlocksQty</th>\n",
       "      <th>anonymousClassesQty</th>\n",
       "      <th>innerClassesQty</th>\n",
       "      <th>lambdasQty</th>\n",
       "      <th>uniqueWordsQty</th>\n",
       "      <th>modifiers</th>\n",
       "    </tr>\n",
       "  </thead>\n",
       "  <tbody>\n",
       "    <tr>\n",
       "      <th>0</th>\n",
       "      <td>/tf/main/nbs/test_data/test_metrics/ClassRecor...</td>\n",
       "      <td>ClassRecord142975</td>\n",
       "      <td>2</td>\n",
       "      <td>1</td>\n",
       "      <td>0</td>\n",
       "      <td>1</td>\n",
       "      <td>0</td>\n",
       "      <td>0</td>\n",
       "      <td>0</td>\n",
       "      <td>1</td>\n",
       "      <td>...</td>\n",
       "      <td>1</td>\n",
       "      <td>1</td>\n",
       "      <td>0</td>\n",
       "      <td>1</td>\n",
       "      <td>1</td>\n",
       "      <td>0</td>\n",
       "      <td>0</td>\n",
       "      <td>0</td>\n",
       "      <td>20</td>\n",
       "      <td>1</td>\n",
       "    </tr>\n",
       "    <tr>\n",
       "      <th>1</th>\n",
       "      <td>/tf/main/nbs/test_data/test_metrics/ClassRecor...</td>\n",
       "      <td>ClassRecord297973</td>\n",
       "      <td>1</td>\n",
       "      <td>1</td>\n",
       "      <td>0</td>\n",
       "      <td>1</td>\n",
       "      <td>0</td>\n",
       "      <td>0</td>\n",
       "      <td>0</td>\n",
       "      <td>1</td>\n",
       "      <td>...</td>\n",
       "      <td>0</td>\n",
       "      <td>0</td>\n",
       "      <td>0</td>\n",
       "      <td>0</td>\n",
       "      <td>0</td>\n",
       "      <td>0</td>\n",
       "      <td>0</td>\n",
       "      <td>0</td>\n",
       "      <td>14</td>\n",
       "      <td>1</td>\n",
       "    </tr>\n",
       "    <tr>\n",
       "      <th>2</th>\n",
       "      <td>/tf/main/nbs/test_data/test_metrics/ClassRecor...</td>\n",
       "      <td>ClassRecord256532</td>\n",
       "      <td>1</td>\n",
       "      <td>1</td>\n",
       "      <td>0</td>\n",
       "      <td>1</td>\n",
       "      <td>0</td>\n",
       "      <td>0</td>\n",
       "      <td>0</td>\n",
       "      <td>1</td>\n",
       "      <td>...</td>\n",
       "      <td>0</td>\n",
       "      <td>1</td>\n",
       "      <td>0</td>\n",
       "      <td>0</td>\n",
       "      <td>0</td>\n",
       "      <td>0</td>\n",
       "      <td>0</td>\n",
       "      <td>0</td>\n",
       "      <td>13</td>\n",
       "      <td>1</td>\n",
       "    </tr>\n",
       "    <tr>\n",
       "      <th>3</th>\n",
       "      <td>/tf/main/nbs/test_data/test_metrics/ClassRecor...</td>\n",
       "      <td>ClassRecord138649</td>\n",
       "      <td>4</td>\n",
       "      <td>1</td>\n",
       "      <td>1</td>\n",
       "      <td>1</td>\n",
       "      <td>0</td>\n",
       "      <td>0</td>\n",
       "      <td>0</td>\n",
       "      <td>1</td>\n",
       "      <td>...</td>\n",
       "      <td>1</td>\n",
       "      <td>2</td>\n",
       "      <td>1</td>\n",
       "      <td>2</td>\n",
       "      <td>2</td>\n",
       "      <td>0</td>\n",
       "      <td>0</td>\n",
       "      <td>0</td>\n",
       "      <td>15</td>\n",
       "      <td>1</td>\n",
       "    </tr>\n",
       "    <tr>\n",
       "      <th>4</th>\n",
       "      <td>/tf/main/nbs/test_data/test_metrics/ClassRecor...</td>\n",
       "      <td>ClassRecord441457</td>\n",
       "      <td>2</td>\n",
       "      <td>1</td>\n",
       "      <td>0</td>\n",
       "      <td>1</td>\n",
       "      <td>0</td>\n",
       "      <td>0</td>\n",
       "      <td>0</td>\n",
       "      <td>1</td>\n",
       "      <td>...</td>\n",
       "      <td>0</td>\n",
       "      <td>0</td>\n",
       "      <td>0</td>\n",
       "      <td>1</td>\n",
       "      <td>0</td>\n",
       "      <td>0</td>\n",
       "      <td>0</td>\n",
       "      <td>1</td>\n",
       "      <td>9</td>\n",
       "      <td>1</td>\n",
       "    </tr>\n",
       "  </tbody>\n",
       "</table>\n",
       "<p>5 rows × 39 columns</p>\n",
       "</div>"
      ],
      "text/plain": [
       "                                                file              class  wmc  \\\n",
       "0  /tf/main/nbs/test_data/test_metrics/ClassRecor...  ClassRecord142975    2   \n",
       "1  /tf/main/nbs/test_data/test_metrics/ClassRecor...  ClassRecord297973    1   \n",
       "2  /tf/main/nbs/test_data/test_metrics/ClassRecor...  ClassRecord256532    1   \n",
       "3  /tf/main/nbs/test_data/test_metrics/ClassRecor...  ClassRecord138649    4   \n",
       "4  /tf/main/nbs/test_data/test_metrics/ClassRecor...  ClassRecord441457    2   \n",
       "\n",
       "   totalMethodsQty  staticMethodsQty  publicMethodsQty  privateMethodsQty  \\\n",
       "0                1                 0                 1                  0   \n",
       "1                1                 0                 1                  0   \n",
       "2                1                 0                 1                  0   \n",
       "3                1                 1                 1                  0   \n",
       "4                1                 0                 1                  0   \n",
       "\n",
       "   protectedMethodsQty  defaultMethodsQty  abstractMethodsQty  ...  \\\n",
       "0                    0                  0                   1  ...   \n",
       "1                    0                  0                   1  ...   \n",
       "2                    0                  0                   1  ...   \n",
       "3                    0                  0                   1  ...   \n",
       "4                    0                  0                   1  ...   \n",
       "\n",
       "   numbersQty  assignmentsQty  mathOperationsQty  variablesQty  \\\n",
       "0           1               1                  0             1   \n",
       "1           0               0                  0             0   \n",
       "2           0               1                  0             0   \n",
       "3           1               2                  1             2   \n",
       "4           0               0                  0             1   \n",
       "\n",
       "   maxNestedBlocksQty  anonymousClassesQty  innerClassesQty  lambdasQty  \\\n",
       "0                   1                    0                0           0   \n",
       "1                   0                    0                0           0   \n",
       "2                   0                    0                0           0   \n",
       "3                   2                    0                0           0   \n",
       "4                   0                    0                0           1   \n",
       "\n",
       "   uniqueWordsQty  modifiers  \n",
       "0              20          1  \n",
       "1              14          1  \n",
       "2              13          1  \n",
       "3              15          1  \n",
       "4               9          1  \n",
       "\n",
       "[5 rows x 39 columns]"
      ]
     },
     "execution_count": null,
     "metadata": {},
     "output_type": "execute_result"
    }
   ],
   "source": [
    "metrics_df.head()"
   ]
  }
 ],
 "metadata": {
  "kernelspec": {
   "display_name": "Python 3",
   "language": "python",
   "name": "python3"
  },
  "language_info": {
   "codemirror_mode": {
    "name": "ipython",
    "version": 3
   },
   "file_extension": ".py",
   "mimetype": "text/x-python",
   "name": "python",
   "nbconvert_exporter": "python",
   "pygments_lexer": "ipython3",
   "version": "3.8.6"
  }
 },
 "nbformat": 4,
 "nbformat_minor": 4
}
