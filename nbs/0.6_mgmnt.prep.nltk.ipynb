{
 "cells": [
  {
   "cell_type": "code",
   "execution_count": null,
   "metadata": {},
   "outputs": [],
   "source": [
    "# default_exp mgmnt.prep.nltk"
   ]
  },
  {
   "cell_type": "code",
   "execution_count": null,
   "metadata": {},
   "outputs": [],
   "source": [
    "# hide\n",
    "%load_ext autoreload\n",
    "%autoreload 2"
   ]
  },
  {
   "cell_type": "markdown",
   "metadata": {},
   "source": [
    "# NLTK Preprocessing"
   ]
  },
  {
   "cell_type": "code",
   "execution_count": null,
   "metadata": {},
   "outputs": [],
   "source": [
    "# export\n",
    "# Imports\n",
    "import pandas as pd\n",
    "import random\n",
    "import sentencepiece as sp\n",
    "\n",
    "from ds4se.mgmnt.prep.traceability import *\n",
    "from fastprogress.fastprogress import master_bar\n",
    "from pathlib import Path"
   ]
  },
  {
   "cell_type": "code",
   "execution_count": null,
   "metadata": {},
   "outputs": [],
   "source": [
    "#hide\n",
    "from nbdev.showdoc import *"
   ]
  },
  {
   "cell_type": "code",
   "execution_count": null,
   "metadata": {},
   "outputs": [],
   "source": [
    "# export\n",
    "def get_nltk_docs(df, src_fns, trgt_fns):\n",
    "    src_docs, trgt_docs = [], []\n",
    "    \n",
    "    for src, trgt in zip(src_fns, trgt_fns):\n",
    "        src_docs.append(df.loc[df.file == src].text.values[0])\n",
    "        trgt_docs.append(df.loc[df.file == trgt].text.values[0])\n",
    "    \n",
    "    return src_docs, trgt_docs"
   ]
  },
  {
   "cell_type": "code",
   "execution_count": null,
   "metadata": {},
   "outputs": [
    {
     "data": {
      "text/plain": [
       "[PosixPath('../benchmarking/traceability/testbeds/translations'),\n",
       " PosixPath('../benchmarking/traceability/testbeds/nltk'),\n",
       " PosixPath('../benchmarking/traceability/testbeds/bpe'),\n",
       " PosixPath('../benchmarking/traceability/testbeds/groundtruth')]"
      ]
     },
     "execution_count": null,
     "metadata": {},
     "output_type": "execute_result"
    }
   ],
   "source": [
    "lang = 'english'\n",
    "path = Path('../benchmarking/traceability/testbeds'); list(path.glob(\"*\"))"
   ]
  },
  {
   "cell_type": "code",
   "execution_count": null,
   "metadata": {},
   "outputs": [
    {
     "data": {
      "text/html": [
       "<div>\n",
       "<style scoped>\n",
       "    .dataframe tbody tr th:only-of-type {\n",
       "        vertical-align: middle;\n",
       "    }\n",
       "\n",
       "    .dataframe tbody tr th {\n",
       "        vertical-align: top;\n",
       "    }\n",
       "\n",
       "    .dataframe thead th {\n",
       "        text-align: right;\n",
       "    }\n",
       "</style>\n",
       "<table border=\"1\" class=\"dataframe\">\n",
       "  <thead>\n",
       "    <tr style=\"text-align: right;\">\n",
       "      <th></th>\n",
       "      <th>sys</th>\n",
       "      <th>src_type</th>\n",
       "      <th>trgt_type</th>\n",
       "      <th>src_file</th>\n",
       "      <th>trgt_file</th>\n",
       "    </tr>\n",
       "  </thead>\n",
       "  <tbody>\n",
       "    <tr>\n",
       "      <th>0</th>\n",
       "      <td>itrust</td>\n",
       "      <td>req</td>\n",
       "      <td>src</td>\n",
       "      <td>UC9S1.txt</td>\n",
       "      <td>src.edu.ncsu.csc.itrust.dao.mysql.HealthRecord...</td>\n",
       "    </tr>\n",
       "    <tr>\n",
       "      <th>1</th>\n",
       "      <td>itrust</td>\n",
       "      <td>req</td>\n",
       "      <td>src</td>\n",
       "      <td>UC10S1.txt</td>\n",
       "      <td>src.edu.ncsu.csc.itrust.dao.mysql.PersonnelDAO...</td>\n",
       "    </tr>\n",
       "    <tr>\n",
       "      <th>2</th>\n",
       "      <td>itrust</td>\n",
       "      <td>req</td>\n",
       "      <td>src</td>\n",
       "      <td>UC23E1.txt</td>\n",
       "      <td>src.edu.ncsu.csc.itrust.dao.mysql.AuthDAO.java</td>\n",
       "    </tr>\n",
       "    <tr>\n",
       "      <th>3</th>\n",
       "      <td>itrust</td>\n",
       "      <td>req</td>\n",
       "      <td>src</td>\n",
       "      <td>UC17S2.txt</td>\n",
       "      <td>src.edu.ncsu.csc.itrust.dao.mysql.VisitReminde...</td>\n",
       "    </tr>\n",
       "    <tr>\n",
       "      <th>4</th>\n",
       "      <td>itrust</td>\n",
       "      <td>req</td>\n",
       "      <td>src</td>\n",
       "      <td>UC26E1.txt</td>\n",
       "      <td>WebRoot.util.getUser.jsp</td>\n",
       "    </tr>\n",
       "  </tbody>\n",
       "</table>\n",
       "</div>"
      ],
      "text/plain": [
       "      sys src_type trgt_type    src_file  \\\n",
       "0  itrust      req       src   UC9S1.txt   \n",
       "1  itrust      req       src  UC10S1.txt   \n",
       "2  itrust      req       src  UC23E1.txt   \n",
       "3  itrust      req       src  UC17S2.txt   \n",
       "4  itrust      req       src  UC26E1.txt   \n",
       "\n",
       "                                           trgt_file  \n",
       "0  src.edu.ncsu.csc.itrust.dao.mysql.HealthRecord...  \n",
       "1  src.edu.ncsu.csc.itrust.dao.mysql.PersonnelDAO...  \n",
       "2     src.edu.ncsu.csc.itrust.dao.mysql.AuthDAO.java  \n",
       "3  src.edu.ncsu.csc.itrust.dao.mysql.VisitReminde...  \n",
       "4                           WebRoot.util.getUser.jsp  "
      ]
     },
     "execution_count": null,
     "metadata": {},
     "output_type": "execute_result"
    }
   ],
   "source": [
    "links_df = get_gt_links(path/'groundtruth'/lang, lang)\n",
    "links_df.head()"
   ]
  },
  {
   "cell_type": "code",
   "execution_count": null,
   "metadata": {},
   "outputs": [
    {
     "data": {
      "text/html": [
       "<div>\n",
       "<style scoped>\n",
       "    .dataframe tbody tr th:only-of-type {\n",
       "        vertical-align: middle;\n",
       "    }\n",
       "\n",
       "    .dataframe tbody tr th {\n",
       "        vertical-align: top;\n",
       "    }\n",
       "\n",
       "    .dataframe thead th {\n",
       "        text-align: right;\n",
       "    }\n",
       "</style>\n",
       "<table border=\"1\" class=\"dataframe\">\n",
       "  <thead>\n",
       "    <tr style=\"text-align: right;\">\n",
       "      <th></th>\n",
       "      <th>file</th>\n",
       "      <th>text</th>\n",
       "    </tr>\n",
       "  </thead>\n",
       "  <tbody>\n",
       "    <tr>\n",
       "      <th>0</th>\n",
       "      <td>RQ17.txt</td>\n",
       "      <td>requir http uri control est server must suppor...</td>\n",
       "    </tr>\n",
       "    <tr>\n",
       "      <th>1</th>\n",
       "      <td>RQ46.txt</td>\n",
       "      <td>requir server side key generat respons request...</td>\n",
       "    </tr>\n",
       "    <tr>\n",
       "      <th>2</th>\n",
       "      <td>RQ18.txt</td>\n",
       "      <td>requir http base client authent est server may...</td>\n",
       "    </tr>\n",
       "    <tr>\n",
       "      <th>3</th>\n",
       "      <td>RQ48.txt</td>\n",
       "      <td>requir csr attribut request est client request...</td>\n",
       "    </tr>\n",
       "    <tr>\n",
       "      <th>4</th>\n",
       "      <td>RQ42.txt</td>\n",
       "      <td>requir server side key generat est client may ...</td>\n",
       "    </tr>\n",
       "  </tbody>\n",
       "</table>\n",
       "</div>"
      ],
      "text/plain": [
       "       file                                               text\n",
       "0  RQ17.txt  requir http uri control est server must suppor...\n",
       "1  RQ46.txt  requir server side key generat respons request...\n",
       "2  RQ18.txt  requir http base client authent est server may...\n",
       "3  RQ48.txt  requir csr attribut request est client request...\n",
       "4  RQ42.txt  requir server side key generat est client may ..."
      ]
     },
     "execution_count": null,
     "metadata": {},
     "output_type": "execute_result"
    }
   ],
   "source": [
    "req_df = pd.read_csv(path/'nltk/[libest-pre-req].csv', header = None, names = ['file', 'text'], delimiter = ' ')\n",
    "src_df = pd.read_csv(path/'nltk/[libest-pre-src].csv', header = None, names = ['file', 'text'], delimiter = ' ')\n",
    "tc_df = pd.read_csv(path/'nltk/[libest-pre-tc].csv', header = None, names = ['file', 'text'], delimiter = ' ')\n",
    "nltk_df = pd.concat([req_df, src_df, tc_df]).reset_index(drop = True)\n",
    "nltk_df['file'] = nltk_df['file'].apply(lambda x: str(Path(x).name).replace('-pre', ''))\n",
    "nltk_df.head()"
   ]
  },
  {
   "cell_type": "code",
   "execution_count": null,
   "metadata": {},
   "outputs": [],
   "source": [
    "libest_links = links_df.loc[links_df['sys'] == 'libest'].copy()"
   ]
  },
  {
   "cell_type": "code",
   "execution_count": null,
   "metadata": {},
   "outputs": [],
   "source": [
    "src_docs, trgt_docs = get_nltk_docs(nltk_df, libest_links['src_file'].values, libest_links['trgt_file'].values)"
   ]
  },
  {
   "cell_type": "code",
   "execution_count": null,
   "metadata": {},
   "outputs": [
    {
     "data": {
      "text/html": [
       "<div>\n",
       "<style scoped>\n",
       "    .dataframe tbody tr th:only-of-type {\n",
       "        vertical-align: middle;\n",
       "    }\n",
       "\n",
       "    .dataframe tbody tr th {\n",
       "        vertical-align: top;\n",
       "    }\n",
       "\n",
       "    .dataframe thead th {\n",
       "        text-align: right;\n",
       "    }\n",
       "</style>\n",
       "<table border=\"1\" class=\"dataframe\">\n",
       "  <thead>\n",
       "    <tr style=\"text-align: right;\">\n",
       "      <th></th>\n",
       "      <th>sys</th>\n",
       "      <th>src_type</th>\n",
       "      <th>trgt_type</th>\n",
       "      <th>src_file</th>\n",
       "      <th>trgt_file</th>\n",
       "      <th>src_doc</th>\n",
       "      <th>trgt_doc</th>\n",
       "    </tr>\n",
       "  </thead>\n",
       "  <tbody>\n",
       "    <tr>\n",
       "      <th>0</th>\n",
       "      <td>libest</td>\n",
       "      <td>req</td>\n",
       "      <td>src</td>\n",
       "      <td>RQ48.txt</td>\n",
       "      <td>est_server.c</td>\n",
       "      <td>requir csr attribut request est client request...</td>\n",
       "      <td>function send est specif http error respons vo...</td>\n",
       "    </tr>\n",
       "    <tr>\n",
       "      <th>1</th>\n",
       "      <td>libest</td>\n",
       "      <td>req</td>\n",
       "      <td>src</td>\n",
       "      <td>RQ48.txt</td>\n",
       "      <td>est_proxy.c</td>\n",
       "      <td>requir csr attribut request est client request...</td>\n",
       "      <td>sinc hijack open ssl buf mem data util functio...</td>\n",
       "    </tr>\n",
       "    <tr>\n",
       "      <th>2</th>\n",
       "      <td>libest</td>\n",
       "      <td>req</td>\n",
       "      <td>src</td>\n",
       "      <td>RQ34.txt</td>\n",
       "      <td>est_server.h</td>\n",
       "      <td>requir certif respons success server respons m...</td>\n",
       "      <td>prototyp privat est server part public api voi...</td>\n",
       "    </tr>\n",
       "    <tr>\n",
       "      <th>3</th>\n",
       "      <td>libest</td>\n",
       "      <td>req</td>\n",
       "      <td>src</td>\n",
       "      <td>RQ26.txt</td>\n",
       "      <td>est_server_http.h</td>\n",
       "      <td>requir server author client must check est ser...</td>\n",
       "      <td>mingw typedef pid int use defin static int pth...</td>\n",
       "    </tr>\n",
       "    <tr>\n",
       "      <th>4</th>\n",
       "      <td>libest</td>\n",
       "      <td>req</td>\n",
       "      <td>src</td>\n",
       "      <td>RQ57.txt</td>\n",
       "      <td>est_proxy.c</td>\n",
       "      <td>requir enrol enrol follow exampl valid simplee...</td>\n",
       "      <td>sinc hijack open ssl buf mem data util functio...</td>\n",
       "    </tr>\n",
       "  </tbody>\n",
       "</table>\n",
       "</div>"
      ],
      "text/plain": [
       "      sys src_type trgt_type  src_file          trgt_file  \\\n",
       "0  libest      req       src  RQ48.txt       est_server.c   \n",
       "1  libest      req       src  RQ48.txt        est_proxy.c   \n",
       "2  libest      req       src  RQ34.txt       est_server.h   \n",
       "3  libest      req       src  RQ26.txt  est_server_http.h   \n",
       "4  libest      req       src  RQ57.txt        est_proxy.c   \n",
       "\n",
       "                                             src_doc  \\\n",
       "0  requir csr attribut request est client request...   \n",
       "1  requir csr attribut request est client request...   \n",
       "2  requir certif respons success server respons m...   \n",
       "3  requir server author client must check est ser...   \n",
       "4  requir enrol enrol follow exampl valid simplee...   \n",
       "\n",
       "                                            trgt_doc  \n",
       "0  function send est specif http error respons vo...  \n",
       "1  sinc hijack open ssl buf mem data util functio...  \n",
       "2  prototyp privat est server part public api voi...  \n",
       "3  mingw typedef pid int use defin static int pth...  \n",
       "4  sinc hijack open ssl buf mem data util functio...  "
      ]
     },
     "execution_count": null,
     "metadata": {},
     "output_type": "execute_result"
    }
   ],
   "source": [
    "libest_links['src_doc'] = src_docs\n",
    "libest_links['trgt_doc'] = trgt_docs\n",
    "libest_links.head()"
   ]
  },
  {
   "cell_type": "code",
   "execution_count": null,
   "metadata": {},
   "outputs": [],
   "source": []
  },
  {
   "cell_type": "code",
   "execution_count": null,
   "metadata": {},
   "outputs": [
    {
     "name": "stdout",
     "output_type": "stream",
     "text": [
      "Converted 00_mgmnt.prep.i.ipynb.\n",
      "Converted 01_exp.i.ipynb.\n",
      "Converted 02_mgmnt.db.mongo.ipynb.\n",
      "Converted 03_repr.i.ipynb.\n",
      "Converted 04_mining.ir.model.ipynb.\n",
      "Converted 05_mining.ir.i.ipynb.\n",
      "Converted 06_benchmark.traceability.ipynb.\n",
      "Converted 07_repr.roberta.train.ipynb.\n",
      "Converted 08_exp.info.ipynb.\n",
      "Converted 09_desc.stats.ipynb.\n",
      "Converted 10_vis.ipynb.\n",
      "Converted 11_mgmnt.prep.conv.ipynb.\n",
      "Converted 12_repr.roberta.eval.ipynb.\n",
      "Converted 14_mgmnt.prep.bpe.ipynb.\n",
      "Converted 15_desc.metrics.se.ipynb.\n",
      "Converted 16_repr.word2vec.train.ipynb.\n",
      "Converted 17_repr.doc2vec.train.ipynb.\n",
      "Converted 18_repr.doc2vec.eval.ipynb.\n",
      "Converted 19_repr.word2vec.eval.ipynb.\n",
      "Converted 20_benchmark.codegen.ipynb.\n",
      "Converted 21_inf.i.ipynb.\n",
      "Converted 22_inf.bayesian.ipynb.\n",
      "Converted 23_inf.causal.ipynb.\n",
      "Converted 24_mgmnt.corpus.ipynb.\n",
      "Converted 25_mgmnt.prep.traceability.ipynb.\n",
      "Converted 26_mgmnt.prep.nltk.ipynb.\n",
      "Converted aa_blog.example.ipynb.\n",
      "Converted ab_templates.example.ipynb.\n",
      "Converted ac_emp.eval.pp1.rq1.ipynb.\n",
      "Converted ad_emp.eval.pp1.rq2.ipynb.\n",
      "Converted ae_emp.eval.pp1.rq3.ipynb.\n",
      "Converted af_emp.eval.pp1.rq4.ipynb.\n",
      "Converted index.ipynb.\n"
     ]
    }
   ],
   "source": [
    "from nbdev.export import notebook2script\n",
    "notebook2script()"
   ]
  },
  {
   "cell_type": "code",
   "execution_count": null,
   "metadata": {},
   "outputs": [],
   "source": []
  }
 ],
 "metadata": {
  "kernelspec": {
   "display_name": "Python 3",
   "language": "python",
   "name": "python3"
  }
 },
 "nbformat": 4,
 "nbformat_minor": 2
}
