{
 "cells": [
  {
   "cell_type": "code",
   "execution_count": null,
   "metadata": {},
   "outputs": [],
   "source": [
    "#hide\n",
    "import ds4se.facade as facade\n",
    "import pandas as pd"
   ]
  },
  {
   "cell_type": "markdown",
   "metadata": {},
   "source": [
    "# ds4se\n",
    "\n",
    "> Data Science for Software Engieering (ds4se) is an academic initiative to perform exploratory analysis on software engineering artifacts (e.g., requirements, issues, source code, or test cases) and metadata (e.g., repository logs, databases logs, or binaries). This EDA involves the following components:\n",
    "\n",
    " - 1. Data Management {mgmnt}\n",
    "     - Pandas (by default): all our data must be handled using pandas dataframes\n",
    "         - DF_REQ\n",
    "         - DF_CODE\n",
    "         - DF_TC\n",
    "     - Data Processing:\n",
    "         - Transformations (e.g, data cleaning)\n",
    "         - Tokenizers (e.g, nltk or BPEs)\n",
    " - 2. Data Representation {repr}\n",
    "     - 2.1 Canonical Representation\n",
    "         - Bag-of-words (e.g., TF-IDF)\n",
    "         - LDAs\n",
    "         - LSI\n",
    "     - 2.2 Neural Representation\n",
    "         - Text Based Representation\n",
    "             - Language Models\n",
    "                 - Doc2vec\n",
    "                 - Word2vec\n",
    "                 - Transformer-Based\n",
    "                     - CodeBert\n",
    "                 - RNN-Based\n",
    "             - Structured Models\n",
    "                 - Code2vec\n",
    "                 - Athena\n",
    "        - Video Based Representation (?) \n",
    " - 3. Data Analysis {eda}\n",
    "     - 3.1 Descriptive Statistics\n",
    "         - Software Metrics (e.g, coupling, cyclo, lcom5, etc)\n",
    "     - 3.2 Information Science \n",
    "         - Information Metrics (e.g, joint entropy, self-information, or mutual information)\n",
    "     - 3.3 Inference Data Analysis: Finding patterns or using them in evaluations\n",
    "         - Bayesian Inference\n",
    "         - Causal Inference\n",
    " - 4. Data Mining and Information Retrieval {mining}\n",
    "     - 4.1 Data Mining\n",
    "     - 4.2 Information Retrieval {mining.ir}\n",
    "         \n",
    "Related Libraries:\n",
    "     - [DVC-](https://dvc.org/doc/start)\n",
    "     - [CML-](https://cml.dev/) Continuous Machine Learning \n",
    "     - mlprog_templante"
   ]
  },
  {
   "cell_type": "markdown",
   "metadata": {},
   "source": [
    "This file will become your README and also the index of your documentation."
   ]
  },
  {
   "cell_type": "markdown",
   "metadata": {},
   "source": [
    "## Install"
   ]
  },
  {
   "cell_type": "markdown",
   "metadata": {},
   "source": [
    "`pip install ds4se`"
   ]
  },
  {
   "cell_type": "markdown",
   "metadata": {},
   "source": [
    "## How to use"
   ]
  },
  {
   "cell_type": "code",
   "execution_count": null,
   "metadata": {},
   "outputs": [],
   "source": [
    "import ds4se.facade as facade"
   ]
  },
  {
   "cell_type": "markdown",
   "metadata": {},
   "source": [
    "## Traceability"
   ]
  },
  {
   "cell_type": "markdown",
   "metadata": {},
   "source": [
    "To use the ds4se library to calculate trace link value of proposed trace link with given."
   ]
  },
  {
   "cell_type": "markdown",
   "metadata": {},
   "source": [
    "    Supported technique model:\n",
    "        VSM\n",
    "        LDA\n",
    "        orthogonal \n",
    "        LSA\n",
    "        JS\n",
    "        word2vec\n",
    "        doc2vec"
   ]
  },
  {
   "cell_type": "markdown",
   "metadata": {},
   "source": [
    "The function returns a tuple of two integers, with the first element as distance between two artifacts and the second element be the similarity between two artifacts, which is the traceability value."
   ]
  },
  {
   "cell_type": "code",
   "execution_count": null,
   "metadata": {},
   "outputs": [
    {
     "data": {
      "text/plain": [
       "0.01"
      ]
     },
     "execution_count": null,
     "metadata": {},
     "output_type": "execute_result"
    }
   ],
   "source": [
    "facade.TraceLinkValue(\"source_string\",\"target_string\",\"LDA\")"
   ]
  },
  {
   "cell_type": "markdown",
   "metadata": {},
   "source": [
    "word2vec_metric is an optional parameter when using word2vec as technique, available metrics are: \n",
    "   <br> WMD\n",
    "  <br>  SCM"
   ]
  },
  {
   "cell_type": "markdown",
   "metadata": {},
   "source": [
    "## Analysis"
   ]
  },
  {
   "cell_type": "markdown",
   "metadata": {},
   "source": [
    "### Usage of ds4se model to calculate the number of documents of either source or target class"
   ]
  },
  {
   "cell_type": "markdown",
   "metadata": {},
   "source": [
    "    The method takes in two parameters, a pandas dataframe for source artifacts and a pandas data frame for target artifacts, and it will do calculation for both classes.\n",
    "    \n",
    "    The method returns a list of 4 integers:\n",
    "    1: number of documents for source artifacts;\n",
    "    2: number of documents for target artifacts;\n",
    "    3: source difference (difference between previous two results);\n",
    "    4: target difference (same as above, but opposite)."
   ]
  },
  {
   "cell_type": "markdown",
   "metadata": {},
   "source": []
  },
  {
   "cell_type": "code",
   "execution_count": null,
   "metadata": {},
   "outputs": [
    {
     "name": "stdout",
     "output_type": "stream",
     "text": [
      "The number of documents for source is 160 , with 32 source difference\n",
      "The number of documents for target is 128 , with -32 target difference\n"
     ]
    }
   ],
   "source": [
    "result = facade.NumDoc(\"source\",\"target\")\n",
    "source_doc = result[0]\n",
    "target_doc = result[1]\n",
    "difference_source = result[2]\n",
    "difference_target = result[3]\n",
    "print(\"The number of documents for source is {} , with {} source difference\".format(source_doc, difference_source))\n",
    "print(\"The number of documents for target is {} , with {} target difference\".format(target_doc, difference_target))"
   ]
  },
  {
   "cell_type": "markdown",
   "metadata": {},
   "source": [
    "For all functions in analysis part, input should be pandas dataframe with following structure"
   ]
  },
  {
   "cell_type": "code",
   "execution_count": null,
   "metadata": {},
   "outputs": [
    {
     "data": {
      "text/html": [
       "<div>\n",
       "<style scoped>\n",
       "    .dataframe tbody tr th:only-of-type {\n",
       "        vertical-align: middle;\n",
       "    }\n",
       "\n",
       "    .dataframe tbody tr th {\n",
       "        vertical-align: top;\n",
       "    }\n",
       "\n",
       "    .dataframe thead th {\n",
       "        text-align: right;\n",
       "    }\n",
       "</style>\n",
       "<table border=\"1\" class=\"dataframe\">\n",
       "  <thead>\n",
       "    <tr style=\"text-align: right;\">\n",
       "      <th></th>\n",
       "      <th>contents</th>\n",
       "    </tr>\n",
       "  </thead>\n",
       "  <tbody>\n",
       "    <tr>\n",
       "      <th>0</th>\n",
       "      <td>hello world</td>\n",
       "    </tr>\n",
       "    <tr>\n",
       "      <th>1</th>\n",
       "      <td>this is a content of another file</td>\n",
       "    </tr>\n",
       "  </tbody>\n",
       "</table>\n",
       "</div>"
      ],
      "text/plain": [
       "                            contents\n",
       "0                        hello world\n",
       "1  this is a content of another file"
      ]
     },
     "execution_count": null,
     "metadata": {},
     "output_type": "execute_result"
    }
   ],
   "source": [
    "d = {'contents': [\"hello world\", \"this is a content of another file\"]}\n",
    "df = pd.DataFrame(data=d)\n",
    "df"
   ]
  },
  {
   "cell_type": "markdown",
   "metadata": {},
   "source": [
    "### Usage of ds4se model to calculate the vocabulary size of either source or target class"
   ]
  },
  {
   "cell_type": "markdown",
   "metadata": {},
   "source": [
    "    The method takes in two parameters, source artifacts and target artifacts, and it will do calculation for both classes.\n",
    "    \n",
    "    The method returns a list of 4 integers:\n",
    "    1: vocabulary size for source artifacts;\n",
    "    2: vocabulary size for target artifacts;\n",
    "    3: source difference;\n",
    "    4: target difference."
   ]
  },
  {
   "cell_type": "code",
   "execution_count": null,
   "metadata": {},
   "outputs": [
    {
     "name": "stdout",
     "output_type": "stream",
     "text": [
      "The vocabulary size for source is 179 , with 35 target difference\n",
      "The vocabulary size for target is 144 , with -35 target difference\n"
     ]
    }
   ],
   "source": [
    "vocab_result = facade.VocabSize(source_df, target_df)\n",
    "source = vocab_result[0]\n",
    "target = vocab_result[1]\n",
    "difference_source = vocab_result[2]\n",
    "difference_target = vocab_result[3]\n",
    "print(\"The vocabulary size for source is {} , with {} target difference\".format(source, difference_source))\n",
    "print(\"The vocabulary size for target is {} , with {} target difference\".format(target, difference_target))"
   ]
  },
  {
   "cell_type": "markdown",
   "metadata": {},
   "source": [
    "### Usage of ds4se model to calculate the average number of token of either source or target class"
   ]
  },
  {
   "cell_type": "markdown",
   "metadata": {},
   "source": [
    "    The method takes in two parameters, source artifacts and target artifacts, and it will do calculation for both classes.\n",
    "    \n",
    "    The method returns a list of 4 integers:\n",
    "    1: average number of token for source artifacts;\n",
    "    2: average number of token for target artifacts;\n",
    "    3: source difference;\n",
    "    4: target difference."
   ]
  },
  {
   "cell_type": "code",
   "execution_count": null,
   "metadata": {},
   "outputs": [
    {
     "name": "stdout",
     "output_type": "stream",
     "text": [
      "The number of average token for source is 107 , with 35 source difference\n",
      "The number of average token for target is 143 , with -35 target difference\n"
     ]
    }
   ],
   "source": [
    "token_result = facade.AverageToken(source_df, target_df)\n",
    "source = token_result[0]\n",
    "target = token_result[1]\n",
    "difference_source = vocab_result[2]\n",
    "difference_target = vocab_result[3]\n",
    "print(\"The number of average token for source is {} , with {} source difference\".format(source, difference_source))\n",
    "print(\"The number of average token for target is {} , with {} target difference\".format(target, difference_target))"
   ]
  },
  {
   "cell_type": "markdown",
   "metadata": {},
   "source": [
    "### Usage of ds4se model to retriev term frequency"
   ]
  },
  {
   "cell_type": "markdown",
   "metadata": {},
   "source": [
    "    The method takes in two parameters, \n",
    "    1: source artifacts,\n",
    "    2: target artifacts, \n",
    "    and it will do calculation for both classes.\n",
    "    \n",
    "    The method returns a dictonary with \n",
    "    key: token\n",
    "    value: a list of count and frequency"
   ]
  },
  {
   "cell_type": "code",
   "execution_count": null,
   "metadata": {},
   "outputs": [
    {
     "data": {
      "text/plain": [
       "{'est': [160, 0.16], 'http': [136, 0.136], 'frequnecy': [124, 0.124]}"
      ]
     },
     "execution_count": null,
     "metadata": {},
     "output_type": "execute_result"
    }
   ],
   "source": [
    "facade.VocabShared(source_df,target_df)"
   ]
  },
  {
   "cell_type": "markdown",
   "metadata": {},
   "source": [
    "If we only need the term frequency of one of two classes, we can use Vocab() function\n",
    "\n",
    "**The filename should be the path to the file**"
   ]
  },
  {
   "cell_type": "code",
   "execution_count": null,
   "metadata": {},
   "outputs": [
    {
     "data": {
      "text/plain": [
       "{'est': [141, 0.141], 'http': [136, 0.136], 'frequnecy': [156, 0.156]}"
      ]
     },
     "execution_count": null,
     "metadata": {},
     "output_type": "execute_result"
    }
   ],
   "source": [
    "facade.Vocab(artifacts_df)"
   ]
  },
  {
   "cell_type": "markdown",
   "metadata": {},
   "source": [
    "### For Shared Metrics"
   ]
  },
  {
   "cell_type": "markdown",
   "metadata": {},
   "source": [
    "Using the following metrics to compute using both source and target artifacts, use the following funtions. \n",
    "\n",
    "They all require two parameters: source and target artifacts. \n",
    "\n",
    "And return one int value"
   ]
  },
  {
   "cell_type": "markdown",
   "metadata": {},
   "source": [
    "Shared vocabulary size"
   ]
  },
  {
   "cell_type": "code",
   "execution_count": null,
   "metadata": {},
   "outputs": [
    {
     "data": {
      "text/plain": [
       "112"
      ]
     },
     "execution_count": null,
     "metadata": {},
     "output_type": "execute_result"
    }
   ],
   "source": [
    "facade.SharedVocabSize(source_df, target_df)"
   ]
  },
  {
   "cell_type": "markdown",
   "metadata": {},
   "source": [
    "Mutual information"
   ]
  },
  {
   "cell_type": "code",
   "execution_count": null,
   "metadata": {},
   "outputs": [
    {
     "data": {
      "text/plain": [
       "127"
      ]
     },
     "execution_count": null,
     "metadata": {},
     "output_type": "execute_result"
    }
   ],
   "source": [
    "facade.MutualInformation(source_df, target_df)"
   ]
  },
  {
   "cell_type": "markdown",
   "metadata": {},
   "source": [
    "Corss Entropy"
   ]
  },
  {
   "cell_type": "code",
   "execution_count": null,
   "metadata": {},
   "outputs": [
    {
     "data": {
      "text/plain": [
       "171"
      ]
     },
     "execution_count": null,
     "metadata": {},
     "output_type": "execute_result"
    }
   ],
   "source": [
    "facade.CrossEntropy(source_df, target_df)"
   ]
  },
  {
   "cell_type": "markdown",
   "metadata": {},
   "source": [
    "KL Divergence"
   ]
  },
  {
   "cell_type": "code",
   "execution_count": null,
   "metadata": {},
   "outputs": [
    {
     "data": {
      "text/plain": [
       "152"
      ]
     },
     "execution_count": null,
     "metadata": {},
     "output_type": "execute_result"
    }
   ],
   "source": [
    "facade.KLDivergence(source_df, target_df)"
   ]
  }
 ],
 "metadata": {
  "kernelspec": {
   "display_name": "Python 3",
   "language": "python",
   "name": "python3"
  },
  "language_info": {
   "codemirror_mode": {
    "name": "ipython",
    "version": 3
   },
   "file_extension": ".py",
   "mimetype": "text/x-python",
   "name": "python",
   "nbconvert_exporter": "python",
   "pygments_lexer": "ipython3",
   "version": "3.7.6"
  }
 },
 "nbformat": 4,
 "nbformat_minor": 4
}
